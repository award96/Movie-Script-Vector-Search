{
 "cells": [
  {
   "cell_type": "code",
   "execution_count": 143,
   "metadata": {},
   "outputs": [],
   "source": [
    "import torch\n",
    "import polars as pl\n",
    "import pandas as pd\n",
    "import matplotlib.pyplot as plt\n",
    "import seaborn as sns\n",
    "from IPython.display import display"
   ]
  },
  {
   "cell_type": "code",
   "execution_count": 163,
   "metadata": {},
   "outputs": [],
   "source": [
    "from pypdf import PdfReader\n",
    "\n",
    "reader = PdfReader(\"data/in/Harry Potter and the Half-Blood Prince.pdf\")"
   ]
  },
  {
   "cell_type": "code",
   "execution_count": 164,
   "metadata": {},
   "outputs": [
    {
     "data": {
      "text/plain": [
       "162"
      ]
     },
     "execution_count": 164,
     "metadata": {},
     "output_type": "execute_result"
    }
   ],
   "source": [
    "len(reader.pages)"
   ]
  },
  {
   "cell_type": "code",
   "execution_count": 171,
   "metadata": {},
   "outputs": [
    {
     "name": "stdout",
     "output_type": "stream",
     "text": [
      "192985\n",
      "{'6', 't', 'X', '7', 'a', ':', '.', '©', 'o', '-', 'f', 'B', 'l', ')', 'g', 'L', '*', '5', 'N', '4', '(', '?', 'P', 'Q', 'm', 'c', 'x', 'y', 'j', 'W', 'u', 'F', 'i', 'k', 'A', 'v', '‘', 'T', '\\n', 'V', 'r', ';', '9', 'H', 'z', 'e', 'E', 'J', '!', '“', '2', 'M', '+', '0', 'Y', '1', 'h', 'q', \"'\", 'd', 'D', 's', '&', ',', 'n', 'G', '’', 'K', 'w', 'I', 'b', 'S', 'R', ' ', 'C', 'O', 'U', '/', 'p', '8', '3', 'Z', '”'}\n",
      "\n",
      "Rev. 09/13/07 (Blue)\n",
      "Rev. 10/02/07 (Pink)\n",
      "Rev. 11/06/07 (Yellow)\n",
      "HARRY POTTER AND THE HALF-BLOOD PRINCE\n",
      "screenplay by\n",
      "Steve Kloves\n",
      " based on the novel by J.K. Rowling\n",
      "This script is the confidential and proprietary \n",
      "property of Warner Bros. Pictures and no portion of \n",
      "it may be performed, distributed, reproduced, used, \n",
      "quoted or published without prior written permission.\n",
      "August 28, 2007\n",
      "WARNER BROS. PICTURES INC. © 2007\n",
      "4000 Warner Boulevard WARNER BROS. ENT.\n",
      "Burbank, California  91522 All Rights Reserved\n",
      "DARKNESS.\n",
      "THUNDER -- or something like it -- sounds in the \n",
      "distance.\n",
      "BOOM.  Then again.  BOOM.\n",
      "We GLIDE THROUGH the inky blackness.  Ambient flashes \n",
      "illuminate the silhouette of the WB LOGO.  We PASS \n",
      "THROUGH.\n",
      "INTO more darkness.  Lost.  More FLASHES.  And we --\n",
      "CUT TO:\n",
      "A SINGLE EYE\n",
      "Blank behind glasses.  FLASH!  The PUPIL CONTRACTS and  \n",
      "we --\n",
      "CUT TO:\n",
      "INT. MINISTRY OF MAGIC - ATRIUM - WIDER ANGLE - DAY1 1\n",
      "To find... HARRY POTTER, standing numbly beside ALBUS \n",
      "DUMBLEDORE amidst a \n"
     ]
    }
   ],
   "source": [
    "script = \"\\n\".join(\n",
    "    [page.extract_text() for page in reader.pages]\n",
    ")\n",
    "print(len(script))\n",
    "print(set(script))\n",
    "print()\n",
    "print(script[:1000])"
   ]
  },
  {
   "cell_type": "code",
   "execution_count": 170,
   "metadata": {},
   "outputs": [
    {
     "name": "stdout",
     "output_type": "stream",
     "text": [
      "Rev. 09/13/07 (Blue)\n",
      "Rev. 10/02/07 (Pink)\n",
      "Rev. 11/06/07 (Yellow)\n",
      "HARRY POTTER AND THE HALF-BLOOD PRINCE\n",
      "screenplay by\n",
      "Steve Kloves\n",
      " based on the novel by J.K. Rowling\n",
      "This script is the confidential and proprietary \n",
      "property of Warner Bros. Pictures and no portion of \n",
      "it may be performed, distributed, reproduced, used, \n",
      "quoted or published without prior written permission.\n",
      "August 28, 2007\n",
      "WARNER BROS. PICTURES INC. © 2007\n",
      "4000 Warner Boulevard WARNER BROS. ENT.\n",
      "Burbank, California  91522 All Rights ReservedDARKNESS.\n",
      "THUNDER -- or something like it -- sounds in the \n",
      "distance.\n",
      "BOOM.  Then again.  BOOM.\n",
      "We GLIDE THROUGH the inky blackness.  Ambient flashes \n",
      "illuminate the silhouette of the WB LOGO.  We PASS \n",
      "THROUGH.\n",
      "INTO more darkness.  Lost.  More FLASHES.  And we --\n",
      "CUT TO:\n",
      "A SINGLE EYE\n",
      "Blank behind glasses.  FLASH!  The PUPIL CONTRACTS and  \n",
      "we --\n",
      "CUT TO:\n",
      "INT. MINISTRY OF MAGIC - ATRIUM - WIDER ANGLE - DAY1 1\n",
      "To find... HARRY POTTER, standing numbly beside ALBUS \n",
      "DUMBLEDORE amidst a MOB of REPORTERS.  CAMERAS FLASH.  \n",
      "Dumbledore’s hand finds his shoulder and Harry is moving, \n",
      "drifting through the chaos, Dumbledore protective, \n",
      "graceful, dignified.\n",
      "CLOSEUP - HARRY’S GLASSES\n",
      "His eyes dart from side to side.  The lenses glimmer with \n",
      "abstraction.  We --\n",
      "DISSOLVE INTO:\n",
      "EXT. LONDON OFFICE BUILDING - CONFERENCE ROOM - DAY2 2\n",
      "... glass, a window, its surface prickling with another \n",
      "kind of ambient light.  We are looking INTO a conference \n",
      "room where office workers sit around a table.  But the \n",
      "light has caught one worker’s eye, then another, and soon \n",
      "they are all rising, stepping to the window, mesmerized \n",
      "by what lies beyond.\n",
      "HARRY POTTER... HALF-BLOOD PRINCE - Rev. 11/6/07       1.\n",
      "(CONTINUED)\n"
     ]
    }
   ],
   "source": [
    "print(reader.pages[0].extract_text() + reader.pages[1].extract_text())"
   ]
  },
  {
   "cell_type": "code",
   "execution_count": 146,
   "metadata": {},
   "outputs": [
    {
     "name": "stdout",
     "output_type": "stream",
     "text": [
      "(59, 13)\n",
      "torch.Size([59, 1024])\n",
      "torch.float32\n"
     ]
    }
   ],
   "source": [
    "df = pl.read_parquet(\"data/out/internet-movie-script.parquet\").with_row_index()\n",
    "embeddings = torch.load(\"data/out/scripts-embedded.pt\", weights_only=True)\n",
    "print(df.shape)\n",
    "print(embeddings.shape)\n",
    "print(embeddings.dtype)"
   ]
  },
  {
   "cell_type": "code",
   "execution_count": 147,
   "metadata": {},
   "outputs": [
    {
     "name": "stdout",
     "output_type": "stream",
     "text": [
      "torch.Size([59, 59, 1024])\n",
      "torch.Size([59, 59, 1024])\n",
      "tensor(True)\n",
      "tensor(True)\n"
     ]
    }
   ],
   "source": [
    "embeddings_duplicated_over_0 = embeddings.unsqueeze(1).expand(-1, embeddings.shape[0], -1)\n",
    "embeddings_duplicated_over_1 = embeddings.unsqueeze(0).expand(embeddings.shape[0], -1, -1)\n",
    "print(embeddings_duplicated_over_0.shape)\n",
    "print(embeddings_duplicated_over_1.shape)\n",
    "\n",
    "print(\n",
    "    (embeddings_duplicated_over_0[1, 13, :] == embeddings[1, :]).all()\n",
    ")\n",
    "\n",
    "print(\n",
    "    (embeddings_duplicated_over_1[13, 1, :] == embeddings[1, :]).all()\n",
    ")"
   ]
  },
  {
   "cell_type": "code",
   "execution_count": 148,
   "metadata": {},
   "outputs": [
    {
     "name": "stdout",
     "output_type": "stream",
     "text": [
      "torch.Size([59, 59])\n",
      "torch.Size([59, 59])\n"
     ]
    }
   ],
   "source": [
    "cos_sim_layer = torch.nn.CosineSimilarity(dim=2)\n",
    "\n",
    "cos_sim = cos_sim_layer(embeddings_duplicated_over_0, embeddings_duplicated_over_1)\n",
    "\n",
    "print(cos_sim.shape)\n",
    "\n",
    "dotprod = torch.tensordot(embeddings, embeddings, dims=([1], [1]))\n",
    "\n",
    "print(dotprod.shape)"
   ]
  },
  {
   "cell_type": "code",
   "execution_count": 149,
   "metadata": {},
   "outputs": [
    {
     "name": "stdout",
     "output_type": "stream",
     "text": [
      "(3481, 3)\n"
     ]
    },
    {
     "data": {
      "text/html": [
       "<div><style>\n",
       ".dataframe > thead > tr,\n",
       ".dataframe > tbody > tr {\n",
       "  text-align: right;\n",
       "  white-space: pre-wrap;\n",
       "}\n",
       "</style>\n",
       "<small>shape: (2, 2)</small><table border=\"1\" class=\"dataframe\"><thead><tr><th>cos</th><th>dot</th></tr><tr><td>f64</td><td>f64</td></tr></thead><tbody><tr><td>1.0</td><td>0.68423</td></tr><tr><td>0.68423</td><td>1.0</td></tr></tbody></table></div>"
      ],
      "text/plain": [
       "shape: (2, 2)\n",
       "┌─────────┬─────────┐\n",
       "│ cos     ┆ dot     │\n",
       "│ ---     ┆ ---     │\n",
       "│ f64     ┆ f64     │\n",
       "╞═════════╪═════════╡\n",
       "│ 1.0     ┆ 0.68423 │\n",
       "│ 0.68423 ┆ 1.0     │\n",
       "└─────────┴─────────┘"
      ]
     },
     "execution_count": 149,
     "metadata": {},
     "output_type": "execute_result"
    }
   ],
   "source": [
    "np_cos_sim = cos_sim.flatten().numpy()\n",
    "np_dotprod = dotprod.flatten().numpy()\n",
    "\n",
    "csdf = pl.DataFrame(np_cos_sim)\n",
    "dtdf = pl.DataFrame(np_dotprod)\n",
    "\n",
    "csdf.columns = [\"cos\"]\n",
    "dtdf.columns = [\"dot\"]\n",
    "\n",
    "simdf = csdf.with_row_index().join(\n",
    "    dtdf.with_row_index(),\n",
    "    on=pl.col(\"index\"),\n",
    "    how=\"inner\"\n",
    ")\n",
    "print(simdf.shape)\n",
    "simdf.select(pl.col(\"cos\", \"dot\")).corr()\n"
   ]
  },
  {
   "cell_type": "code",
   "execution_count": 154,
   "metadata": {},
   "outputs": [],
   "source": [
    "def rank_similarity(\n",
    "    movie_title: str,\n",
    "    rank_expr: str | pl.Expr,\n",
    "    print_similarity_correlation: bool = True\n",
    ") -> pl.DataFrame:\n",
    "    \n",
    "    idx = get_index_in_df_from_title(movie_title)\n",
    "    \n",
    "\n",
    "    simdf = pl.DataFrame(\n",
    "        {\"dotprod\": dotprod[idx].numpy(), \"cos_sim\": cos_sim[idx].numpy()}\n",
    "    ).with_row_index()\\\n",
    "        .join(\n",
    "            df.select(pl.col(\"index\", \"movie_title\")),\n",
    "            on = pl.col(\"index\"),\n",
    "            how = \"inner\"\n",
    "        )\\\n",
    "        .filter(pl.col(\"index\") != idx) # filter out exact match\n",
    "    \n",
    "    if print_similarity_correlation is True:\n",
    "        print_similarity_correlation_helper(simdf)\n",
    "\n",
    "    return simdf.sort(rank_expr, descending=True)\n",
    "\n",
    "def get_index_in_df_from_title(movie_title: str) -> int:\n",
    "    idx = df.filter(pl.col(\"movie_title\").str.to_lowercase() == movie_title.lower()).select(pl.col(\"index\"))\n",
    "    if len(idx) < 1:\n",
    "        raise ValueError(f\"Could not find movie {movie_title}\")\n",
    "    elif len(idx) > 1:\n",
    "        raise ValueError(f\"Found multiple matches for movie {movie_title}\\n{idx}\")\n",
    "    else:\n",
    "        idx = idx[0, \"index\"]\n",
    "        return idx\n",
    "    \n",
    "def print_similarity_correlation_helper(\n",
    "    data: pl.DataFrame,\n",
    "    col1: str = \"dotprod\",\n",
    "    col2: str = \"cos_sim\"\n",
    ") -> None:\n",
    "    corr_dotprod_cos = data.select(pl.col(col1, col2)).corr()\\\n",
    "            [0, col2]\n",
    "    msg = \"Correlation between dot product and cosine similarity \"\n",
    "    msg += f\"across all movies: {corr_dotprod_cos:.3f}\"\n",
    "    print(msg)\n",
    "    "
   ]
  },
  {
   "cell_type": "code",
   "execution_count": 162,
   "metadata": {},
   "outputs": [
    {
     "name": "stdout",
     "output_type": "stream",
     "text": [
      "Correlation between dot product and cosine similarity across all movies: 0.750\n"
     ]
    },
    {
     "data": {
      "text/html": [
       "<div><style>\n",
       ".dataframe > thead > tr,\n",
       ".dataframe > tbody > tr {\n",
       "  text-align: right;\n",
       "  white-space: pre-wrap;\n",
       "}\n",
       "</style>\n",
       "<small>shape: (58, 4)</small><table border=\"1\" class=\"dataframe\"><thead><tr><th>index</th><th>dotprod</th><th>cos_sim</th><th>movie_title</th></tr><tr><td>u32</td><td>f32</td><td>f32</td><td>str</td></tr></thead><tbody><tr><td>34</td><td>192.016571</td><td>0.839823</td><td>&quot;South Park&quot;</td></tr><tr><td>43</td><td>191.851791</td><td>0.847036</td><td>&quot;30 Minutes or Less&quot;</td></tr><tr><td>25</td><td>190.767944</td><td>0.883323</td><td>&quot;Monkeybone&quot;</td></tr><tr><td>36</td><td>186.909409</td><td>0.833314</td><td>&quot;Toy Story&quot;</td></tr><tr><td>32</td><td>185.124084</td><td>0.807942</td><td>&quot;Shrek&quot;</td></tr><tr><td>13</td><td>184.71225</td><td>0.805794</td><td>&quot;Finding Nemo&quot;</td></tr><tr><td>41</td><td>184.484756</td><td>0.830212</td><td>&quot;15 Minutes&quot;</td></tr><tr><td>48</td><td>184.111008</td><td>0.808486</td><td>&quot;Air Force One&quot;</td></tr><tr><td>30</td><td>183.412445</td><td>0.841352</td><td>&quot;The Rescuers Down Under&quot;</td></tr><tr><td>44</td><td>181.815918</td><td>0.838162</td><td>&quot;48 Hrs&quot;</td></tr><tr><td>19</td><td>180.105942</td><td>0.82906</td><td>&quot;The Incredibles&quot;</td></tr><tr><td>40</td><td>179.405273</td><td>0.825274</td><td>&quot;Zootopia&quot;</td></tr><tr><td>35</td><td>179.115219</td><td>0.836484</td><td>&quot;TMNT&quot;</td></tr><tr><td>55</td><td>178.985336</td><td>0.795921</td><td>&quot;The Bourne Supremacy&quot;</td></tr><tr><td>12</td><td>178.760483</td><td>0.807276</td><td>&quot;Fantastic Mr Fox&quot;</td></tr><tr><td>1</td><td>178.717636</td><td>0.849014</td><td>&quot;A Scanner Darkly&quot;</td></tr><tr><td>49</td><td>178.137817</td><td>0.787372</td><td>&quot;Alien&quot;</td></tr><tr><td>53</td><td>177.765411</td><td>0.8038</td><td>&quot;Basic Instinct&quot;</td></tr><tr><td>24</td><td>177.742233</td><td>0.811533</td><td>&quot;Megamind&quot;</td></tr><tr><td>7</td><td>177.429565</td><td>0.813084</td><td>&quot;Cars 2&quot;</td></tr><tr><td>58</td><td>177.248825</td><td>0.863278</td><td>&quot;Eagle Eye&quot;</td></tr><tr><td>51</td><td>176.636978</td><td>0.780144</td><td>&quot;Avengers: Endgame&quot;</td></tr><tr><td>10</td><td>176.467926</td><td>0.776587</td><td>&quot;The Croods&quot;</td></tr><tr><td>27</td><td>176.418732</td><td>0.787608</td><td>&quot;The Nightmare Before Christmas&quot;</td></tr><tr><td>28</td><td>175.87384</td><td>0.807958</td><td>&quot;ParaNorman&quot;</td></tr><tr><td>39</td><td>175.658386</td><td>0.772704</td><td>&quot;Wall-E&quot;</td></tr><tr><td>4</td><td>175.516281</td><td>0.777721</td><td>&quot;Antz&quot;</td></tr><tr><td>11</td><td>175.128662</td><td>0.829498</td><td>&quot;Despicable Me 2&quot;</td></tr><tr><td>15</td><td>174.741913</td><td>0.769222</td><td>&quot;Happy Feet&quot;</td></tr><tr><td>16</td><td>174.359024</td><td>0.823746</td><td>&quot;Heavy Metal&quot;</td></tr><tr><td>20</td><td>174.328674</td><td>0.750167</td><td>&quot;Kung Fu Panda&quot;</td></tr><tr><td>50</td><td>174.075119</td><td>0.773852</td><td>&quot;Alien 3&quot;</td></tr><tr><td>46</td><td>173.76857</td><td>0.807976</td><td>&quot;Above the Law&quot;</td></tr><tr><td>52</td><td>173.682175</td><td>0.772806</td><td>&quot;A Few Good Men Script&quot;</td></tr><tr><td>47</td><td>173.329208</td><td>0.795645</td><td>&quot;The Abyss&quot;</td></tr><tr><td>45</td><td>173.110291</td><td>0.791068</td><td>&quot;A Most Violent Year&quot;</td></tr><tr><td>2</td><td>171.723434</td><td>0.752016</td><td>&quot;Aladdin&quot;</td></tr><tr><td>21</td><td>171.456604</td><td>0.822366</td><td>&quot;The LEGO Movie&quot;</td></tr><tr><td>3</td><td>170.756592</td><td>0.766929</td><td>&quot;Anastasia&quot;</td></tr><tr><td>33</td><td>170.656372</td><td>0.743979</td><td>&quot;Shrek the Third&quot;</td></tr><tr><td>6</td><td>170.426239</td><td>0.779995</td><td>&quot;The Boxtrolls&quot;</td></tr><tr><td>22</td><td>170.208084</td><td>0.746305</td><td>&quot;The Little Mermaid&quot;</td></tr><tr><td>56</td><td>169.898926</td><td>0.75293</td><td>&quot;The Bourne Ultimatum&quot;</td></tr><tr><td>23</td><td>169.724838</td><td>0.766393</td><td>&quot;Mary Poppins&quot;</td></tr><tr><td>37</td><td>169.177231</td><td>0.767772</td><td>&quot;Transformers: The Movie&quot;</td></tr><tr><td>54</td><td>168.593491</td><td>0.796383</td><td>&quot;The Bourne Identity&quot;</td></tr><tr><td>17</td><td>168.355469</td><td>0.753685</td><td>&quot;How to Train Your Dragon&quot;</td></tr><tr><td>9</td><td>167.629395</td><td>0.759953</td><td>&quot;Coraline&quot;</td></tr><tr><td>29</td><td>166.377472</td><td>0.715219</td><td>&quot;Pokemon: Mewtwo Returns&quot;</td></tr><tr><td>26</td><td>166.298431</td><td>0.728047</td><td>&quot;Mulan&quot;</td></tr><tr><td>42</td><td>165.720551</td><td>0.812709</td><td>&quot;2012&quot;</td></tr><tr><td>0</td><td>165.402008</td><td>0.783022</td><td>&quot;9&quot;</td></tr><tr><td>38</td><td>165.29248</td><td>0.784225</td><td>&quot;Up&quot;</td></tr><tr><td>18</td><td>164.796402</td><td>0.774573</td><td>&quot;How to Train Your Dragon 2&quot;</td></tr><tr><td>14</td><td>162.586731</td><td>0.736308</td><td>&quot;Frozen (Disney)&quot;</td></tr><tr><td>8</td><td>161.62706</td><td>0.723954</td><td>&quot;Coco&quot;</td></tr><tr><td>31</td><td>159.506134</td><td>0.739662</td><td>&quot;Rise of the Guardians&quot;</td></tr><tr><td>57</td><td>157.916122</td><td>0.764778</td><td>&quot;The Curious Case of Benjamin B…</td></tr></tbody></table></div>"
      ],
      "text/plain": [
       "shape: (58, 4)\n",
       "┌───────┬────────────┬──────────┬─────────────────────────────────┐\n",
       "│ index ┆ dotprod    ┆ cos_sim  ┆ movie_title                     │\n",
       "│ ---   ┆ ---        ┆ ---      ┆ ---                             │\n",
       "│ u32   ┆ f32        ┆ f32      ┆ str                             │\n",
       "╞═══════╪════════════╪══════════╪═════════════════════════════════╡\n",
       "│ 34    ┆ 192.016571 ┆ 0.839823 ┆ South Park                      │\n",
       "│ 43    ┆ 191.851791 ┆ 0.847036 ┆ 30 Minutes or Less              │\n",
       "│ 25    ┆ 190.767944 ┆ 0.883323 ┆ Monkeybone                      │\n",
       "│ 36    ┆ 186.909409 ┆ 0.833314 ┆ Toy Story                       │\n",
       "│ 32    ┆ 185.124084 ┆ 0.807942 ┆ Shrek                           │\n",
       "│ 13    ┆ 184.71225  ┆ 0.805794 ┆ Finding Nemo                    │\n",
       "│ 41    ┆ 184.484756 ┆ 0.830212 ┆ 15 Minutes                      │\n",
       "│ 48    ┆ 184.111008 ┆ 0.808486 ┆ Air Force One                   │\n",
       "│ 30    ┆ 183.412445 ┆ 0.841352 ┆ The Rescuers Down Under         │\n",
       "│ 44    ┆ 181.815918 ┆ 0.838162 ┆ 48 Hrs                          │\n",
       "│ 19    ┆ 180.105942 ┆ 0.82906  ┆ The Incredibles                 │\n",
       "│ 40    ┆ 179.405273 ┆ 0.825274 ┆ Zootopia                        │\n",
       "│ 35    ┆ 179.115219 ┆ 0.836484 ┆ TMNT                            │\n",
       "│ 55    ┆ 178.985336 ┆ 0.795921 ┆ The Bourne Supremacy            │\n",
       "│ 12    ┆ 178.760483 ┆ 0.807276 ┆ Fantastic Mr Fox                │\n",
       "│ 1     ┆ 178.717636 ┆ 0.849014 ┆ A Scanner Darkly                │\n",
       "│ 49    ┆ 178.137817 ┆ 0.787372 ┆ Alien                           │\n",
       "│ 53    ┆ 177.765411 ┆ 0.8038   ┆ Basic Instinct                  │\n",
       "│ 24    ┆ 177.742233 ┆ 0.811533 ┆ Megamind                        │\n",
       "│ 7     ┆ 177.429565 ┆ 0.813084 ┆ Cars 2                          │\n",
       "│ 58    ┆ 177.248825 ┆ 0.863278 ┆ Eagle Eye                       │\n",
       "│ 51    ┆ 176.636978 ┆ 0.780144 ┆ Avengers: Endgame               │\n",
       "│ 10    ┆ 176.467926 ┆ 0.776587 ┆ The Croods                      │\n",
       "│ 27    ┆ 176.418732 ┆ 0.787608 ┆ The Nightmare Before Christmas  │\n",
       "│ 28    ┆ 175.87384  ┆ 0.807958 ┆ ParaNorman                      │\n",
       "│ 39    ┆ 175.658386 ┆ 0.772704 ┆ Wall-E                          │\n",
       "│ 4     ┆ 175.516281 ┆ 0.777721 ┆ Antz                            │\n",
       "│ 11    ┆ 175.128662 ┆ 0.829498 ┆ Despicable Me 2                 │\n",
       "│ 15    ┆ 174.741913 ┆ 0.769222 ┆ Happy Feet                      │\n",
       "│ 16    ┆ 174.359024 ┆ 0.823746 ┆ Heavy Metal                     │\n",
       "│ 20    ┆ 174.328674 ┆ 0.750167 ┆ Kung Fu Panda                   │\n",
       "│ 50    ┆ 174.075119 ┆ 0.773852 ┆ Alien 3                         │\n",
       "│ 46    ┆ 173.76857  ┆ 0.807976 ┆ Above the Law                   │\n",
       "│ 52    ┆ 173.682175 ┆ 0.772806 ┆ A Few Good Men Script           │\n",
       "│ 47    ┆ 173.329208 ┆ 0.795645 ┆ The Abyss                       │\n",
       "│ 45    ┆ 173.110291 ┆ 0.791068 ┆ A Most Violent Year             │\n",
       "│ 2     ┆ 171.723434 ┆ 0.752016 ┆ Aladdin                         │\n",
       "│ 21    ┆ 171.456604 ┆ 0.822366 ┆ The LEGO Movie                  │\n",
       "│ 3     ┆ 170.756592 ┆ 0.766929 ┆ Anastasia                       │\n",
       "│ 33    ┆ 170.656372 ┆ 0.743979 ┆ Shrek the Third                 │\n",
       "│ 6     ┆ 170.426239 ┆ 0.779995 ┆ The Boxtrolls                   │\n",
       "│ 22    ┆ 170.208084 ┆ 0.746305 ┆ The Little Mermaid              │\n",
       "│ 56    ┆ 169.898926 ┆ 0.75293  ┆ The Bourne Ultimatum            │\n",
       "│ 23    ┆ 169.724838 ┆ 0.766393 ┆ Mary Poppins                    │\n",
       "│ 37    ┆ 169.177231 ┆ 0.767772 ┆ Transformers: The Movie         │\n",
       "│ 54    ┆ 168.593491 ┆ 0.796383 ┆ The Bourne Identity             │\n",
       "│ 17    ┆ 168.355469 ┆ 0.753685 ┆ How to Train Your Dragon        │\n",
       "│ 9     ┆ 167.629395 ┆ 0.759953 ┆ Coraline                        │\n",
       "│ 29    ┆ 166.377472 ┆ 0.715219 ┆ Pokemon: Mewtwo Returns         │\n",
       "│ 26    ┆ 166.298431 ┆ 0.728047 ┆ Mulan                           │\n",
       "│ 42    ┆ 165.720551 ┆ 0.812709 ┆ 2012                            │\n",
       "│ 0     ┆ 165.402008 ┆ 0.783022 ┆ 9                               │\n",
       "│ 38    ┆ 165.29248  ┆ 0.784225 ┆ Up                              │\n",
       "│ 18    ┆ 164.796402 ┆ 0.774573 ┆ How to Train Your Dragon 2      │\n",
       "│ 14    ┆ 162.586731 ┆ 0.736308 ┆ Frozen (Disney)                 │\n",
       "│ 8     ┆ 161.62706  ┆ 0.723954 ┆ Coco                            │\n",
       "│ 31    ┆ 159.506134 ┆ 0.739662 ┆ Rise of the Guardians           │\n",
       "│ 57    ┆ 157.916122 ┆ 0.764778 ┆ The Curious Case of Benjamin B… │\n",
       "└───────┴────────────┴──────────┴─────────────────────────────────┘"
      ]
     },
     "execution_count": 162,
     "metadata": {},
     "output_type": "execute_result"
    }
   ],
   "source": [
    "cfg = pl.Config()\n",
    "cfg.set_tbl_rows(2000)\n",
    "rank_similarity(\"Beavis and Butt-head Do America\", \"dotprod\")"
   ]
  }
 ],
 "metadata": {
  "kernelspec": {
   "display_name": "venv",
   "language": "python",
   "name": "python3"
  },
  "language_info": {
   "codemirror_mode": {
    "name": "ipython",
    "version": 3
   },
   "file_extension": ".py",
   "mimetype": "text/x-python",
   "name": "python",
   "nbconvert_exporter": "python",
   "pygments_lexer": "ipython3",
   "version": "3.12.8"
  }
 },
 "nbformat": 4,
 "nbformat_minor": 2
}
