{
 "cells": [
  {
   "cell_type": "code",
   "execution_count": 2,
   "metadata": {},
   "outputs": [],
   "source": [
    "import torch\n",
    "import polars as pl\n",
    "import pandas as pd\n",
    "import matplotlib.pyplot as plt\n",
    "import seaborn as sns\n",
    "from IPython.display import display"
   ]
  },
  {
   "cell_type": "code",
   "execution_count": null,
   "metadata": {},
   "outputs": [
    {
     "data": {
      "text/html": [
       "<div><style>\n",
       ".dataframe > thead > tr,\n",
       ".dataframe > tbody > tr {\n",
       "  text-align: right;\n",
       "  white-space: pre-wrap;\n",
       "}\n",
       "</style>\n",
       "<small>shape: (9, 13)</small><table border=\"1\" class=\"dataframe\"><thead><tr><th>statistic</th><th>sr.no</th><th>movie_title_alphabetical</th><th>writers</th><th>genre</th><th>date_original</th><th>script_original</th><th>comma_count</th><th>script_length</th><th>fraction_commas</th><th>script</th><th>date</th><th>movie_title</th></tr><tr><td>str</td><td>f64</td><td>str</td><td>str</td><td>str</td><td>str</td><td>str</td><td>f64</td><td>f64</td><td>f64</td><td>str</td><td>str</td><td>str</td></tr></thead><tbody><tr><td>&quot;count&quot;</td><td>59.0</td><td>&quot;59&quot;</td><td>&quot;59&quot;</td><td>&quot;59&quot;</td><td>&quot;52&quot;</td><td>&quot;59&quot;</td><td>59.0</td><td>59.0</td><td>59.0</td><td>&quot;59&quot;</td><td>&quot;52&quot;</td><td>&quot;59&quot;</td></tr><tr><td>&quot;null_count&quot;</td><td>0.0</td><td>&quot;0&quot;</td><td>&quot;0&quot;</td><td>&quot;0&quot;</td><td>&quot;7&quot;</td><td>&quot;0&quot;</td><td>0.0</td><td>0.0</td><td>0.0</td><td>&quot;0&quot;</td><td>&quot;7&quot;</td><td>&quot;0&quot;</td></tr><tr><td>&quot;mean&quot;</td><td>30.525424</td><td>null</td><td>null</td><td>null</td><td>null</td><td>null</td><td>770.067797</td><td>33212.762712</td><td>0.025504</td><td>null</td><td>&quot;2003-08-03 07:50:46.153000&quot;</td><td>null</td></tr><tr><td>&quot;std&quot;</td><td>17.61304</td><td>null</td><td>null</td><td>null</td><td>null</td><td>null</td><td>1393.423381</td><td>1989.515262</td><td>0.04755</td><td>null</td><td>null</td><td>null</td></tr><tr><td>&quot;min&quot;</td><td>1.0</td><td>&quot;15 Minutes&quot;</td><td>&quot; Aaron Sorkin&quot;</td><td>&quot;Action&quot;</td><td>&quot; January_1991&quot;</td><td>&quot;\r\n",
       "&nbsp;&nbsp;&nbsp;&nbsp;&nbsp;&nbsp;&nbsp;&nbsp;&nbsp;&nbsp;&nbsp;&nbsp;&nbsp;&nbsp;&nbsp;FADE IN:\r\n",
       "\r\n",
       " …</td><td>71.0</td><td>26466.0</td><td>0.002115</td><td>&quot;\r\n",
       "&nbsp;&nbsp;&nbsp;&nbsp;&nbsp;&nbsp;&nbsp;&nbsp;&nbsp;&nbsp;&nbsp;&nbsp;&nbsp;&nbsp;&nbsp;FADE IN:\r\n",
       "\r\n",
       " …</td><td>&quot;1964-12-01&quot;</td><td>&quot;15 Minutes&quot;</td></tr><tr><td>&quot;25%&quot;</td><td>16.0</td><td>null</td><td>null</td><td>null</td><td>null</td><td>null</td><td>146.0</td><td>33596.0</td><td>0.004271</td><td>null</td><td>&quot;1998-12-01&quot;</td><td>null</td></tr><tr><td>&quot;50%&quot;</td><td>31.0</td><td>null</td><td>null</td><td>null</td><td>null</td><td>null</td><td>193.0</td><td>33705.0</td><td>0.005704</td><td>null</td><td>&quot;2007-05-01&quot;</td><td>null</td></tr><tr><td>&quot;75%&quot;</td><td>46.0</td><td>null</td><td>null</td><td>null</td><td>null</td><td>null</td><td>301.0</td><td>33942.0</td><td>0.008563</td><td>null</td><td>&quot;2010-11-01&quot;</td><td>null</td></tr><tr><td>&quot;max&quot;</td><td>60.0</td><td>&quot;Zootopia&quot;</td><td>&quot;William Steig,Ted Elliott&quot;</td><td>&quot;Family,Comedy,Musical,Fantasy,…</td><td>&quot;September_2014&quot;</td><td>&quot;[Chinese guard is seen walking…</td><td>5014.0</td><td>37233.0</td><td>0.159554</td><td>&quot;[Chinese guard is seen walking…</td><td>&quot;2019-04-01&quot;</td><td>&quot;Zootopia&quot;</td></tr></tbody></table></div>"
      ],
      "text/plain": [
       "shape: (9, 13)\n",
       "┌───────────┬───────────┬───────────┬───────────┬───┬───────────┬───────────┬───────────┬──────────┐\n",
       "│ statistic ┆ sr.no     ┆ movie_tit ┆ writers   ┆ … ┆ fraction_ ┆ script    ┆ date      ┆ movie_ti │\n",
       "│ ---       ┆ ---       ┆ le_alphab ┆ ---       ┆   ┆ commas    ┆ ---       ┆ ---       ┆ tle      │\n",
       "│ str       ┆ f64       ┆ etical    ┆ str       ┆   ┆ ---       ┆ str       ┆ str       ┆ ---      │\n",
       "│           ┆           ┆ ---       ┆           ┆   ┆ f64       ┆           ┆           ┆ str      │\n",
       "│           ┆           ┆ str       ┆           ┆   ┆           ┆           ┆           ┆          │\n",
       "╞═══════════╪═══════════╪═══════════╪═══════════╪═══╪═══════════╪═══════════╪═══════════╪══════════╡\n",
       "│ count     ┆ 59.0      ┆ 59        ┆ 59        ┆ … ┆ 59.0      ┆ 59        ┆ 52        ┆ 59       │\n",
       "│ null_coun ┆ 0.0       ┆ 0         ┆ 0         ┆ … ┆ 0.0       ┆ 0         ┆ 7         ┆ 0        │\n",
       "│ t         ┆           ┆           ┆           ┆   ┆           ┆           ┆           ┆          │\n",
       "│ mean      ┆ 30.525424 ┆ null      ┆ null      ┆ … ┆ 0.025504  ┆ null      ┆ 2003-08-0 ┆ null     │\n",
       "│           ┆           ┆           ┆           ┆   ┆           ┆           ┆ 3 07:50:4 ┆          │\n",
       "│           ┆           ┆           ┆           ┆   ┆           ┆           ┆ 6.153000  ┆          │\n",
       "│ std       ┆ 17.61304  ┆ null      ┆ null      ┆ … ┆ 0.04755   ┆ null      ┆ null      ┆ null     │\n",
       "│ min       ┆ 1.0       ┆ 15        ┆ Aaron     ┆ … ┆ 0.002115  ┆ \n",
       "         ┆ 1964-12-0 ┆ 15       │\n",
       "│           ┆           ┆ Minutes   ┆ Sorkin    ┆   ┆           ┆ FADE IN:\n",
       " ┆ 1         ┆ Minutes  │\n",
       "│           ┆           ┆           ┆           ┆   ┆           ┆ \n",
       "         ┆           ┆          │\n",
       "│           ┆           ┆           ┆           ┆   ┆           ┆  …        ┆           ┆          │\n",
       "│ 25%       ┆ 16.0      ┆ null      ┆ null      ┆ … ┆ 0.004271  ┆ null      ┆ 1998-12-0 ┆ null     │\n",
       "│           ┆           ┆           ┆           ┆   ┆           ┆           ┆ 1         ┆          │\n",
       "│ 50%       ┆ 31.0      ┆ null      ┆ null      ┆ … ┆ 0.005704  ┆ null      ┆ 2007-05-0 ┆ null     │\n",
       "│           ┆           ┆           ┆           ┆   ┆           ┆           ┆ 1         ┆          │\n",
       "│ 75%       ┆ 46.0      ┆ null      ┆ null      ┆ … ┆ 0.008563  ┆ null      ┆ 2010-11-0 ┆ null     │\n",
       "│           ┆           ┆           ┆           ┆   ┆           ┆           ┆ 1         ┆          │\n",
       "│ max       ┆ 60.0      ┆ Zootopia  ┆ William   ┆ … ┆ 0.159554  ┆ [Chinese  ┆ 2019-04-0 ┆ Zootopia │\n",
       "│           ┆           ┆           ┆ Steig,Ted ┆   ┆           ┆ guard is  ┆ 1         ┆          │\n",
       "│           ┆           ┆           ┆ Elliott   ┆   ┆           ┆ seen      ┆           ┆          │\n",
       "│           ┆           ┆           ┆           ┆   ┆           ┆ walking…  ┆           ┆          │\n",
       "└───────────┴───────────┴───────────┴───────────┴───┴───────────┴───────────┴───────────┴──────────┘"
      ]
     },
     "metadata": {},
     "output_type": "display_data"
    },
    {
     "name": "stdout",
     "output_type": "stream",
     "text": [
      "torch.Size([59, 1024])\n",
      "torch.float32\n"
     ]
    }
   ],
   "source": [
    "df = pl.scan_parquet(\"data/out/internet-movie-script.parquet\").with_row_index()\n",
    "embeddings = torch.load(\"data/out/scripts-embedded.pt\", weights_only=True)\n",
    "print(df.shape)\n",
    "print(embeddings.shape)\n",
    "print(embeddings.dtype)"
   ]
  },
  {
   "cell_type": "code",
   "execution_count": 87,
   "metadata": {},
   "outputs": [
    {
     "name": "stdout",
     "output_type": "stream",
     "text": [
      "torch.Size([59, 59, 1024])\n",
      "torch.Size([59, 59, 1024])\n",
      "tensor(True)\n",
      "tensor(True)\n"
     ]
    }
   ],
   "source": [
    "square_copied_over_0 = embeddings.unsqueeze(1).expand(-1, embeddings.shape[0], -1)\n",
    "square_copied_over_1 = embeddings.unsqueeze(0).expand(embeddings.shape[0], -1, -1)\n",
    "print(square_copied_over_0.shape)\n",
    "print(square_copied_over_1.shape)\n",
    "\n",
    "print(\n",
    "    (square_copied_over_0[1, 13, :] == embeddings[1, :]).all()\n",
    ")\n",
    "\n",
    "print(\n",
    "    (square_copied_over_1[13, 1, :] == embeddings[1, :]).all()\n",
    ")"
   ]
  },
  {
   "cell_type": "code",
   "execution_count": 94,
   "metadata": {},
   "outputs": [
    {
     "name": "stdout",
     "output_type": "stream",
     "text": [
      "torch.Size([59, 59])\n",
      "torch.Size([59, 59])\n"
     ]
    }
   ],
   "source": [
    "cos_sim_layer = torch.nn.CosineSimilarity(dim=2)\n",
    "\n",
    "cos_sim = cos_sim_layer(square_copied_over_0, square_copied_over_1)\n",
    "\n",
    "print(cos_sim.shape)\n",
    "\n",
    "dotprod = torch.tensordot(embeddings, embeddings, dims=([1], [1]))\n",
    "\n",
    "print(dotprod.shape)"
   ]
  },
  {
   "cell_type": "code",
   "execution_count": 108,
   "metadata": {},
   "outputs": [
    {
     "name": "stdout",
     "output_type": "stream",
     "text": [
      "(3481, 3)\n"
     ]
    },
    {
     "data": {
      "text/html": [
       "<div><style>\n",
       ".dataframe > thead > tr,\n",
       ".dataframe > tbody > tr {\n",
       "  text-align: right;\n",
       "  white-space: pre-wrap;\n",
       "}\n",
       "</style>\n",
       "<small>shape: (2, 2)</small><table border=\"1\" class=\"dataframe\"><thead><tr><th>cos</th><th>dot</th></tr><tr><td>f64</td><td>f64</td></tr></thead><tbody><tr><td>1.0</td><td>0.68423</td></tr><tr><td>0.68423</td><td>1.0</td></tr></tbody></table></div>"
      ],
      "text/plain": [
       "shape: (2, 2)\n",
       "┌─────────┬─────────┐\n",
       "│ cos     ┆ dot     │\n",
       "│ ---     ┆ ---     │\n",
       "│ f64     ┆ f64     │\n",
       "╞═════════╪═════════╡\n",
       "│ 1.0     ┆ 0.68423 │\n",
       "│ 0.68423 ┆ 1.0     │\n",
       "└─────────┴─────────┘"
      ]
     },
     "execution_count": 108,
     "metadata": {},
     "output_type": "execute_result"
    }
   ],
   "source": [
    "np_cos_sim = cos_sim.flatten().numpy()\n",
    "np_dotprod = dotprod.flatten().numpy()\n",
    "\n",
    "csdf = pl.DataFrame(np_cos_sim)\n",
    "dtdf = pl.DataFrame(np_dotprod)\n",
    "\n",
    "csdf.columns = [\"cos\"]\n",
    "dtdf.columns = [\"dot\"]\n",
    "\n",
    "simdf = csdf.with_row_index().join(\n",
    "    dtdf.with_row_index(),\n",
    "    on=pl.col(\"index\"),\n",
    "    how=\"inner\"\n",
    ")\n",
    "print(simdf.shape)\n",
    "simdf.select(pl.col(\"cos\", \"dot\")).corr()\n"
   ]
  },
  {
   "cell_type": "code",
   "execution_count": 141,
   "metadata": {},
   "outputs": [],
   "source": [
    "def rank_similarity(\n",
    "    movie_title: str,\n",
    "    rank_function: str | pl.Expr,\n",
    "    print_similarity_correlation: bool = True\n",
    ") -> pl.DataFrame:\n",
    "    \n",
    "    idx = get_index_in_df_from_title(movie_title)\n",
    "    \n",
    "\n",
    "    simdf = pl.DataFrame(\n",
    "        {\"dotprod\": dotprod[idx].numpy(), \"cos_sim\": cos_sim[idx].numpy()}\n",
    "    ).with_row_index()\\\n",
    "        .join(\n",
    "            df.select(pl.col(\"movie_title\")).with_row_index().collect(),\n",
    "            on = pl.col(\"index\"),\n",
    "            how = \"inner\"\n",
    "        )\n",
    "    if print_similarity_correlation is True:\n",
    "        print_similarity_correlation_helper(simdf)\n",
    "\n",
    "    return simdf.sort(rank_function, descending=True)\n",
    "\n",
    "def get_index_in_df_from_title(movie_title: str) -> int:\n",
    "    idx = df.filter(pl.col(\"movie_title\").str.to_lowercase() == movie_title.lower()).select(pl.col(\"index\")).collect()\n",
    "    if len(idx) < 1:\n",
    "        raise ValueError(f\"Could not find movie {movie_title}\")\n",
    "    elif len(idx) > 1:\n",
    "        raise ValueError(f\"Found multiple matches for movie {movie_title}\\n{idx}\")\n",
    "    else:\n",
    "        idx = idx[0, \"index\"]\n",
    "        return idx\n",
    "    \n",
    "def print_similarity_correlation_helper(\n",
    "    data: pl.DataFrame,\n",
    "    col1: str = \"dotprod\",\n",
    "    col2: str = \"cos_sim\"\n",
    ") -> None:\n",
    "    corr_dotprod_cos = data.select(pl.col(col1, col2)).corr()\\\n",
    "            [0, col2]\n",
    "    msg = \"Correlation between dot product and cosine similarity \"\n",
    "    msg += f\"across all movies: {corr_dotprod_cos:.3f}\"\n",
    "    print(msg)\n",
    "    "
   ]
  },
  {
   "cell_type": "code",
   "execution_count": 142,
   "metadata": {},
   "outputs": [
    {
     "name": "stdout",
     "output_type": "stream",
     "text": [
      "Correlation between dot product and cosine similarity across all movies: 0.838\n"
     ]
    },
    {
     "data": {
      "text/html": [
       "<div><style>\n",
       ".dataframe > thead > tr,\n",
       ".dataframe > tbody > tr {\n",
       "  text-align: right;\n",
       "  white-space: pre-wrap;\n",
       "}\n",
       "</style>\n",
       "<small>shape: (59, 4)</small><table border=\"1\" class=\"dataframe\"><thead><tr><th>index</th><th>dotprod</th><th>cos_sim</th><th>movie_title</th></tr><tr><td>u32</td><td>f32</td><td>f32</td><td>str</td></tr></thead><tbody><tr><td>2</td><td>226.992661</td><td>1.0</td><td>&quot;Aladdin&quot;</td></tr><tr><td>32</td><td>197.151505</td><td>0.865582</td><td>&quot;Shrek&quot;</td></tr><tr><td>22</td><td>191.269958</td><td>0.843673</td><td>&quot;The Little Mermaid&quot;</td></tr><tr><td>26</td><td>190.806</td><td>0.840338</td><td>&quot;Mulan&quot;</td></tr><tr><td>23</td><td>182.342819</td><td>0.828296</td><td>&quot;Mary Poppins&quot;</td></tr><tr><td>&hellip;</td><td>&hellip;</td><td>&hellip;</td><td>&hellip;</td></tr><tr><td>37</td><td>164.426224</td><td>0.750677</td><td>&quot;Transformers: The Movie&quot;</td></tr><tr><td>56</td><td>167.198135</td><td>0.745395</td><td>&quot;The Bourne Ultimatum&quot;</td></tr><tr><td>39</td><td>167.321442</td><td>0.740435</td><td>&quot;Wall-E&quot;</td></tr><tr><td>47</td><td>159.412521</td><td>0.736141</td><td>&quot;The Abyss&quot;</td></tr><tr><td>49</td><td>164.620087</td><td>0.731977</td><td>&quot;Alien&quot;</td></tr></tbody></table></div>"
      ],
      "text/plain": [
       "shape: (59, 4)\n",
       "┌───────┬────────────┬──────────┬─────────────────────────┐\n",
       "│ index ┆ dotprod    ┆ cos_sim  ┆ movie_title             │\n",
       "│ ---   ┆ ---        ┆ ---      ┆ ---                     │\n",
       "│ u32   ┆ f32        ┆ f32      ┆ str                     │\n",
       "╞═══════╪════════════╪══════════╪═════════════════════════╡\n",
       "│ 2     ┆ 226.992661 ┆ 1.0      ┆ Aladdin                 │\n",
       "│ 32    ┆ 197.151505 ┆ 0.865582 ┆ Shrek                   │\n",
       "│ 22    ┆ 191.269958 ┆ 0.843673 ┆ The Little Mermaid      │\n",
       "│ 26    ┆ 190.806    ┆ 0.840338 ┆ Mulan                   │\n",
       "│ 23    ┆ 182.342819 ┆ 0.828296 ┆ Mary Poppins            │\n",
       "│ …     ┆ …          ┆ …        ┆ …                       │\n",
       "│ 37    ┆ 164.426224 ┆ 0.750677 ┆ Transformers: The Movie │\n",
       "│ 56    ┆ 167.198135 ┆ 0.745395 ┆ The Bourne Ultimatum    │\n",
       "│ 39    ┆ 167.321442 ┆ 0.740435 ┆ Wall-E                  │\n",
       "│ 47    ┆ 159.412521 ┆ 0.736141 ┆ The Abyss               │\n",
       "│ 49    ┆ 164.620087 ┆ 0.731977 ┆ Alien                   │\n",
       "└───────┴────────────┴──────────┴─────────────────────────┘"
      ]
     },
     "execution_count": 142,
     "metadata": {},
     "output_type": "execute_result"
    }
   ],
   "source": [
    "rank_similarity(\"aladdin\", \"cos_sim\")"
   ]
  }
 ],
 "metadata": {
  "kernelspec": {
   "display_name": "venv",
   "language": "python",
   "name": "python3"
  },
  "language_info": {
   "codemirror_mode": {
    "name": "ipython",
    "version": 3
   },
   "file_extension": ".py",
   "mimetype": "text/x-python",
   "name": "python",
   "nbconvert_exporter": "python",
   "pygments_lexer": "ipython3",
   "version": "3.12.8"
  }
 },
 "nbformat": 4,
 "nbformat_minor": 2
}
