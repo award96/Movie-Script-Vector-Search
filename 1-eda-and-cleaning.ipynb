{
 "cells": [
  {
   "cell_type": "code",
   "execution_count": 1,
   "metadata": {},
   "outputs": [
    {
     "name": "stderr",
     "output_type": "stream",
     "text": [
      "/Users/anders/Desktop/learning/internet-movie-script-dataset/venv/lib/python3.12/site-packages/tqdm/auto.py:21: TqdmWarning: IProgress not found. Please update jupyter and ipywidgets. See https://ipywidgets.readthedocs.io/en/stable/user_install.html\n",
      "  from .autonotebook import tqdm as notebook_tqdm\n"
     ]
    },
    {
     "data": {
      "text/plain": [
       "polars.config.Config"
      ]
     },
     "execution_count": 1,
     "metadata": {},
     "output_type": "execute_result"
    }
   ],
   "source": [
    "import os\n",
    "import polars as pl\n",
    "import matplotlib.pyplot as plt\n",
    "import seaborn as sns\n",
    "from transformers import AutoTokenizer, AutoModel\n",
    "import torch\n",
    "\n",
    "# Configure Polars \n",
    "cfg = pl.Config()\n",
    "cfg.set_tbl_rows(2000)"
   ]
  },
  {
   "cell_type": "code",
   "execution_count": 2,
   "metadata": {},
   "outputs": [
    {
     "data": {
      "text/html": [
       "<div><style>\n",
       ".dataframe > thead > tr,\n",
       ".dataframe > tbody > tr {\n",
       "  text-align: right;\n",
       "  white-space: pre-wrap;\n",
       "}\n",
       "</style>\n",
       "<small>shape: (5, 6)</small><table border=\"1\" class=\"dataframe\"><thead><tr><th>Sr.No</th><th>Movie</th><th>Writers</th><th>Genre</th><th>Date</th><th>Sript</th></tr><tr><td>i64</td><td>str</td><td>str</td><td>str</td><td>str</td><td>str</td></tr></thead><tbody><tr><td>1</td><td>&quot;9&quot;</td><td>&quot;Pamela Pettler,Shane Acker&quot;</td><td>&quot;Animation,Adventure,Drama,Fant…</td><td>&quot;September_2009&quot;</td><td>&quot;,SEQ.,05,-,PROLOGUE\r\n",
       ",,,,,\r\n",
       ",,…</td></tr><tr><td>2</td><td>&quot;A Scanner Darkly&quot;</td><td>&quot;Charlie Kaufman&quot;</td><td>&quot;Animation,Crime,Drama&quot;</td><td>&quot;July_2006&quot;</td><td>&quot;SHOT,OF,NOTEBOOK,PAGE,DAPPLED,…</td></tr><tr><td>3</td><td>&quot;Aladdin&quot;</td><td>&quot;Roger Allers,Ron Clements&quot;</td><td>&quot;Animation,Family,Musical,Fanta…</td><td>&quot;December_1992&quot;</td><td>&quot;PEDDLER:,,Oh,I,come,from,a,lan…</td></tr><tr><td>4</td><td>&quot;Anastasia &quot;</td><td>&quot;Susan Gauthier,Bruce Graham&quot;</td><td>&quot;Family,Animation,Musical&quot;</td><td>&quot;December_1997&quot;</td><td>&quot;FADE,IN:\r\n",
       "\r\n",
       "on,a,well-worn,PHO…</td></tr><tr><td>5</td><td>&quot;Antz &quot;</td><td>&quot;Todd Alcott,Chris Weitz,Paul W…</td><td>&quot;Adventure,Animation,Comedy,Fan…</td><td>null</td><td>&quot;Z,(O.S.)\r\n",
       ",,,,,,,,,,,(over,a,d…</td></tr></tbody></table></div>"
      ],
      "text/plain": [
       "shape: (5, 6)\n",
       "┌───────┬────────────┬────────────────────┬───────────────────┬────────────────┬───────────────────┐\n",
       "│ Sr.No ┆ Movie      ┆ Writers            ┆ Genre             ┆ Date           ┆ Sript             │\n",
       "│ ---   ┆ ---        ┆ ---                ┆ ---               ┆ ---            ┆ ---               │\n",
       "│ i64   ┆ str        ┆ str                ┆ str               ┆ str            ┆ str               │\n",
       "╞═══════╪════════════╪════════════════════╪═══════════════════╪════════════════╪═══════════════════╡\n",
       "│ 1     ┆ 9          ┆ Pamela             ┆ Animation,Adventu ┆ September_2009 ┆ ,SEQ.,05,-,PROLOG │\n",
       "│       ┆            ┆ Pettler,Shane      ┆ re,Drama,Fant…    ┆                ┆ UE\n",
       "               │\n",
       "│       ┆            ┆ Acker              ┆                   ┆                ┆ ,,,,,\n",
       "            │\n",
       "│       ┆            ┆                    ┆                   ┆                ┆ ,,…               │\n",
       "│ 2     ┆ A Scanner  ┆ Charlie Kaufman    ┆ Animation,Crime,D ┆ July_2006      ┆ SHOT,OF,NOTEBOOK, │\n",
       "│       ┆ Darkly     ┆                    ┆ rama              ┆                ┆ PAGE,DAPPLED,…    │\n",
       "│ 3     ┆ Aladdin    ┆ Roger Allers,Ron   ┆ Animation,Family, ┆ December_1992  ┆ PEDDLER:,,Oh,I,co │\n",
       "│       ┆            ┆ Clements           ┆ Musical,Fanta…    ┆                ┆ me,from,a,lan…    │\n",
       "│ 4     ┆ Anastasia  ┆ Susan              ┆ Family,Animation, ┆ December_1997  ┆ FADE,IN:\n",
       "         │\n",
       "│       ┆            ┆ Gauthier,Bruce     ┆ Musical           ┆                ┆ \n",
       "                 │\n",
       "│       ┆            ┆ Graham             ┆                   ┆                ┆ on,a,well-worn,PH │\n",
       "│       ┆            ┆                    ┆                   ┆                ┆ O…                │\n",
       "│ 5     ┆ Antz       ┆ Todd Alcott,Chris  ┆ Adventure,Animati ┆ null           ┆ Z,(O.S.)\n",
       "         │\n",
       "│       ┆            ┆ Weitz,Paul W…      ┆ on,Comedy,Fan…    ┆                ┆ ,,,,,,,,,,,(over, │\n",
       "│       ┆            ┆                    ┆                   ┆                ┆ a,d…              │\n",
       "└───────┴────────────┴────────────────────┴───────────────────┴────────────────┴───────────────────┘"
      ]
     },
     "execution_count": 2,
     "metadata": {},
     "output_type": "execute_result"
    }
   ],
   "source": [
    "# pandas would also work\n",
    "# polars has more strict data types\n",
    "df = pl.read_excel('data/in/The Internet Movie Script Dataset .xlsx')\n",
    "df.head()"
   ]
  },
  {
   "cell_type": "markdown",
   "metadata": {},
   "source": [
    "# Cleaning the Data\n",
    "\n",
    "There were a few issues with the data that needed remedying\n",
    "\n",
    "1. The comma character is used in lieu of a space character for some scripts\n",
    "2. There is one near duplicate that needs to be consolidated\n",
    "3. Mispelled column name\n",
    "4. Dates are written out in odd format"
   ]
  },
  {
   "cell_type": "markdown",
   "metadata": {},
   "source": [
    "Fix mispelled column name. Notice there is one more row than unique movie title, is it the same movie?"
   ]
  },
  {
   "cell_type": "code",
   "execution_count": 3,
   "metadata": {},
   "outputs": [
    {
     "name": "stdout",
     "output_type": "stream",
     "text": [
      "(60, 6)\n",
      "59\n"
     ]
    }
   ],
   "source": [
    "df = df.rename({\"Sript\": \"script\"})\n",
    "print(df.shape)\n",
    "print(df[\"Movie\"].n_unique())"
   ]
  },
  {
   "cell_type": "markdown",
   "metadata": {},
   "source": [
    "Looks like it's definitely the same movie"
   ]
  },
  {
   "cell_type": "code",
   "execution_count": 4,
   "metadata": {},
   "outputs": [
    {
     "data": {
      "text/html": [
       "<div><style>\n",
       ".dataframe > thead > tr,\n",
       ".dataframe > tbody > tr {\n",
       "  text-align: right;\n",
       "  white-space: pre-wrap;\n",
       "}\n",
       "</style>\n",
       "<small>shape: (2, 7)</small><table border=\"1\" class=\"dataframe\"><thead><tr><th>index</th><th>Sr.No</th><th>Movie</th><th>Writers</th><th>Genre</th><th>Date</th><th>script</th></tr><tr><td>u32</td><td>i64</td><td>str</td><td>str</td><td>str</td><td>str</td><td>str</td></tr></thead><tbody><tr><td>27</td><td>28</td><td>&quot;Nightmare Before Christmas The&quot;</td><td>&quot;Tim Burton,Michael McDowell&quot;</td><td>&quot;Animation,Comedy,Fantasy,Horro…</td><td>&quot;August_1991&quot;</td><td>&quot;NARRATOR\r\n",
       "&#x27;Twas a long time ag…</td></tr><tr><td>28</td><td>29</td><td>&quot;Nightmare Before Christmas The&quot;</td><td>&quot;Caroline Thompson&quot;</td><td>&quot;Animation,Comedy,Fantasy,Horro…</td><td>&quot;August_1991&quot;</td><td>&quot;NARRATOR\r\n",
       "&#x27;Twas a long time ag…</td></tr></tbody></table></div>"
      ],
      "text/plain": [
       "shape: (2, 7)\n",
       "┌───────┬───────┬─────────────────┬────────────────┬────────────────┬─────────────┬────────────────┐\n",
       "│ index ┆ Sr.No ┆ Movie           ┆ Writers        ┆ Genre          ┆ Date        ┆ script         │\n",
       "│ ---   ┆ ---   ┆ ---             ┆ ---            ┆ ---            ┆ ---         ┆ ---            │\n",
       "│ u32   ┆ i64   ┆ str             ┆ str            ┆ str            ┆ str         ┆ str            │\n",
       "╞═══════╪═══════╪═════════════════╪════════════════╪════════════════╪═════════════╪════════════════╡\n",
       "│ 27    ┆ 28    ┆ Nightmare       ┆ Tim            ┆ Animation,Come ┆ August_1991 ┆ NARRATOR\n",
       "      │\n",
       "│       ┆       ┆ Before          ┆ Burton,Michael ┆ dy,Fantasy,Hor ┆             ┆ 'Twas a long   │\n",
       "│       ┆       ┆ Christmas The   ┆ McDowell       ┆ ro…            ┆             ┆ time ag…       │\n",
       "│ 28    ┆ 29    ┆ Nightmare       ┆ Caroline       ┆ Animation,Come ┆ August_1991 ┆ NARRATOR\n",
       "      │\n",
       "│       ┆       ┆ Before          ┆ Thompson       ┆ dy,Fantasy,Hor ┆             ┆ 'Twas a long   │\n",
       "│       ┆       ┆ Christmas The   ┆                ┆ ro…            ┆             ┆ time ag…       │\n",
       "└───────┴───────┴─────────────────┴────────────────┴────────────────┴─────────────┴────────────────┘"
      ]
     },
     "execution_count": 4,
     "metadata": {},
     "output_type": "execute_result"
    }
   ],
   "source": [
    "dupd = df.with_row_index().filter(df[\"Movie\"].is_duplicated())\n",
    "dupd"
   ]
  },
  {
   "cell_type": "markdown",
   "metadata": {},
   "source": [
    "Same script & genre"
   ]
  },
  {
   "cell_type": "code",
   "execution_count": 5,
   "metadata": {},
   "outputs": [
    {
     "name": "stdout",
     "output_type": "stream",
     "text": [
      "The duplicate scripts are the same:  True\n"
     ]
    }
   ],
   "source": [
    "print(\n",
    "    \"The duplicate scripts are the same: \", \n",
    "    dupd[0, \"script\"] == dupd[1, \"script\"]\n",
    ")"
   ]
  },
  {
   "cell_type": "markdown",
   "metadata": {},
   "source": [
    "Add the writers together to preserve information, as that is the only difference"
   ]
  },
  {
   "cell_type": "code",
   "execution_count": 6,
   "metadata": {},
   "outputs": [
    {
     "name": "stdout",
     "output_type": "stream",
     "text": [
      "(59, 6)\n",
      "59\n"
     ]
    }
   ],
   "source": [
    "idx_dupd_0, idx_dupd_1 = dupd[\"index\"].to_list()\n",
    "# edit the writers field for this record\n",
    "df[idx_dupd_0, \"Writers\"] = df[idx_dupd_0, \"Writers\"] + ',' + df[idx_dupd_1, \"Writers\"]\n",
    "# drop the record\n",
    "df = df.filter(\n",
    "    pl.col(\"Sr.No\")!=29\n",
    ")\n",
    "# ensure uniqueness\n",
    "print(df.shape)\n",
    "print(df[\"Movie\"].n_unique())"
   ]
  },
  {
   "cell_type": "markdown",
   "metadata": {},
   "source": [
    "**Commas instead of space characters**"
   ]
  },
  {
   "cell_type": "code",
   "execution_count": 7,
   "metadata": {},
   "outputs": [
    {
     "name": "stdout",
     "output_type": "stream",
     "text": [
      ",SEQ.,05,-,PROLOGUE\n",
      ",,,,,\n",
      ",,,,,,The,Focus,Features,logo,appears,on,screen,and,we,slide,INTO\n",
      ",,,,,the,\"O\",in,Focus.\n",
      ",,,,,\n",
      ",,,,,Stock,dissolves,from,35mm,to,16mm.,,,,BLACK,&,WHITE.,,GRAINY,\n",
      ",,,,,like,OLD,DOCUMENTARY,FOOTAGE.\n",
      ",,,,,\n",
      ",,,,,,,,,,,,,,,,,SCIENTIST'S,VOICE\n",
      ",,,,,,,,,,,,Experiment,208,day,20...\n",
      ",,,,,\n",
      ",,,,,\n",
      ",,,,,INT.,SCIENTIST'S,LAB\n"
     ]
    }
   ],
   "source": [
    "print(df[0, \"script\"][:350])"
   ]
  },
  {
   "cell_type": "code",
   "execution_count": 8,
   "metadata": {},
   "outputs": [
    {
     "data": {
      "text/plain": [
       "<Axes: xlabel='fraction_commas', ylabel='Count'>"
      ]
     },
     "execution_count": 8,
     "metadata": {},
     "output_type": "execute_result"
    },
    {
     "data": {
      "image/png": "[encoded data removed]",
      "text/plain": [
       "<Figure size 640x480 with 1 Axes>"
      ]
     },
     "metadata": {},
     "output_type": "display_data"
    }
   ],
   "source": [
    "df = df.with_columns(\n",
    "    comma_count = pl.col(\"script\").str.count_matches(r'[,]+'), # count the number of commas\n",
    "    script_length = pl.col(\"script\").str.len_chars() # count the length of the script\n",
    ").with_columns(\n",
    "    fraction_commas = pl.col(\"comma_count\")/pl.col(\"script_length\") # what % of the script is commas?\n",
    ")\n",
    "\n",
    "sns.histplot(\n",
    "    df,\n",
    "    x=\"fraction_commas\"\n",
    ")"
   ]
  },
  {
   "cell_type": "markdown",
   "metadata": {},
   "source": [
    "So it looks like the outliers on the right must be all scripts with commas instead of space characters. For those scripts only, let's replace the commas with a space"
   ]
  },
  {
   "cell_type": "code",
   "execution_count": 16,
   "metadata": {},
   "outputs": [
    {
     "name": "stdout",
     "output_type": "stream",
     "text": [
      "CPU times: user 6.95 ms, sys: 3.32 ms, total: 10.3 ms\n",
      "Wall time: 6.3 ms\n"
     ]
    }
   ],
   "source": [
    "df = df.lazy().with_columns(\n",
    "    script_clean = pl.when( # when the fraction of commas is too high\n",
    "        pl.col(\"fraction_commas\") > 0.1\n",
    "    ).then( # replace all instances of a comma with a space\n",
    "        pl.col(\"script\").str.replace_all(r'[,]+', \" \")\n",
    "    ).otherwise(pl.col(\"script\")) # otherwise keep original script\n",
    ").collect()"
   ]
  },
  {
   "cell_type": "code",
   "execution_count": 10,
   "metadata": {},
   "outputs": [
    {
     "name": "stdout",
     "output_type": "stream",
     "text": [
      "\n",
      "      looks better to me!\n",
      "\n",
      "\n",
      " SEQ. 05 - PROLOGUE\n",
      " \n",
      " The Focus Features logo appears on screen and we slide INTO\n",
      " the \"O\" in Focus.\n",
      " \n",
      " Stock dissolves from 35mm to 16mm. BLACK & WHITE. GRAINY \n",
      " like OLD DOCUMENTARY FOOTAGE.\n",
      " \n",
      " SCIENTIST'S VOICE\n",
      " Experiment 208 day 20...\n",
      " \n",
      " \n",
      " INT. SCIENTIST'S LAB - DAY\n",
      "\n",
      " We see an early incarnation of a MACHINE (this will be the\n",
      " \n"
     ]
    }
   ],
   "source": [
    "print(\"\"\"\n",
    "      looks better to me!\n",
    "\\n\"\"\")\n",
    "print(df[0, \"script_clean\"][:350])"
   ]
  },
  {
   "cell_type": "markdown",
   "metadata": {},
   "source": [
    "**Cleaning Dates**"
   ]
  },
  {
   "cell_type": "code",
   "execution_count": 11,
   "metadata": {},
   "outputs": [
    {
     "data": {
      "text/html": [
       "<div><style>\n",
       ".dataframe > thead > tr,\n",
       ".dataframe > tbody > tr {\n",
       "  text-align: right;\n",
       "  white-space: pre-wrap;\n",
       "}\n",
       "</style>\n",
       "<small>shape: (5,)</small><table border=\"1\" class=\"dataframe\"><thead><tr><th>Date</th></tr><tr><td>str</td></tr></thead><tbody><tr><td>&quot;June_2008&quot;</td></tr><tr><td>&quot;December_1992&quot;</td></tr><tr><td>&quot;December_2012&quot;</td></tr><tr><td>&quot;August_1991&quot;</td></tr><tr><td>&quot;2007-08-01 00:00:00&quot;</td></tr></tbody></table></div>"
      ],
      "text/plain": [
       "shape: (5,)\n",
       "Series: 'Date' [str]\n",
       "[\n",
       "\t\"June_2008\"\n",
       "\t\"December_1992\"\n",
       "\t\"December_2012\"\n",
       "\t\"August_1991\"\n",
       "\t\"2007-08-01 00:00:00\"\n",
       "]"
      ]
     },
     "execution_count": 11,
     "metadata": {},
     "output_type": "execute_result"
    }
   ],
   "source": [
    "df['Date'].sample(5, seed=1)"
   ]
  },
  {
   "cell_type": "markdown",
   "metadata": {},
   "source": [
    "**There are two date formats**\n",
    "\n",
    "1. `%B_%Y` for month name underscore year number\n",
    "2. `%Y-%m-%d %H:%M:%S` for year number dash month number dash day number dash time\n",
    "\n",
    "There are also null values\n",
    "\n",
    "There is a leading space for the date of one movie (Alien 3)\n",
    "\n",
    "*We can differentiate the date format by the presence of an underscore, and use different logic to parse the two types of dates*"
   ]
  },
  {
   "cell_type": "code",
   "execution_count": 19,
   "metadata": {},
   "outputs": [],
   "source": [
    "df = (\n",
    "    df.lazy() # lazy execution, faster on large datasets\n",
    "    .with_columns(\n",
    "        pl.when(\n",
    "            pl.col(\"Date\").str.contains('_', literal=True)\n",
    "        ) # when there is an underscore\n",
    "        .then( # it is the first format\n",
    "            (\n",
    "                # Alien 3 date had a leading space\n",
    "                pl.col(\"Date\").str.replace_all(\"\\\\s\", \"\") + \n",
    "                pl.lit(\"_01\")\n",
    "            ) # add the day number (required for date datatype in polars)\n",
    "            .str.to_date( # convert to date\n",
    "                \"%B_%Y_%d\",\n",
    "                strict=False,\n",
    "                exact=True\n",
    "        ))\n",
    "        .otherwise( # second format\n",
    "            pl.col(\"Date\").str.to_datetime(\n",
    "                \"%Y-%m-%d %H:%M:%S\", # convert to datetime\n",
    "                strict=False,\n",
    "            exact=True\n",
    "        )\n",
    "        .cast(pl.Date) # then back to date\n",
    "        )\n",
    "        .alias(\"date_clean\") # name the new column\n",
    "    )\n",
    ").collect()\n"
   ]
  },
  {
   "cell_type": "code",
   "execution_count": 20,
   "metadata": {},
   "outputs": [
    {
     "name": "stdout",
     "output_type": "stream",
     "text": [
      "Check if we accidentally nullified any dates\n"
     ]
    },
    {
     "data": {
      "text/html": [
       "<div><style>\n",
       ".dataframe > thead > tr,\n",
       ".dataframe > tbody > tr {\n",
       "  text-align: right;\n",
       "  white-space: pre-wrap;\n",
       "}\n",
       "</style>\n",
       "<small>shape: (0, 3)</small><table border=\"1\" class=\"dataframe\"><thead><tr><th>Movie</th><th>Date</th><th>date_clean</th></tr><tr><td>str</td><td>str</td><td>date</td></tr></thead><tbody></tbody></table></div>"
      ],
      "text/plain": [
       "shape: (0, 3)\n",
       "┌───────┬──────┬────────────┐\n",
       "│ Movie ┆ Date ┆ date_clean │\n",
       "│ ---   ┆ ---  ┆ ---        │\n",
       "│ str   ┆ str  ┆ date       │\n",
       "╞═══════╪══════╪════════════╡\n",
       "└───────┴──────┴────────────┘"
      ]
     },
     "execution_count": 20,
     "metadata": {},
     "output_type": "execute_result"
    }
   ],
   "source": [
    "print(\"Check if we accidentally nullified any dates\")\n",
    "df.filter(\n",
    "    pl.col(\"Date\").is_not_null() & pl.col(\"date_clean\").is_null()\n",
    ").select(pl.col(\"Movie\", \"Date\", \"date_clean\"))"
   ]
  },
  {
   "cell_type": "markdown",
   "metadata": {},
   "source": [
    "**Un-Alphabetizing Titles**\n",
    "\n",
    "\"Abyss, The\" -> \"The Abyss\"\n",
    "\n",
    "The movie titles in this dataset are rearranged to preserve alphabetical order. For example \"The Incredibles\" is written as \"Incredibles The\". In the next cell we create a new column that has the actual movie title, as well as removing unecessary whitespace."
   ]
  },
  {
   "cell_type": "code",
   "execution_count": 32,
   "metadata": {},
   "outputs": [
    {
     "name": "stdout",
     "output_type": "stream",
     "text": [
      "let's visualize what we just did\n"
     ]
    },
    {
     "data": {
      "text/html": [
       "<div><style>\n",
       ".dataframe > thead > tr,\n",
       ".dataframe > tbody > tr {\n",
       "  text-align: right;\n",
       "  white-space: pre-wrap;\n",
       "}\n",
       "</style>\n",
       "<small>shape: (12, 2)</small><table border=\"1\" class=\"dataframe\"><thead><tr><th>Movie</th><th>movie_clean</th></tr><tr><td>str</td><td>str</td></tr></thead><tbody><tr><td>&quot;Boxtrolls The&quot;</td><td>&quot;The Boxtrolls&quot;</td></tr><tr><td>&quot;Croods The&quot;</td><td>&quot;The Croods&quot;</td></tr><tr><td>&quot;Incredibles The&quot;</td><td>&quot;The Incredibles&quot;</td></tr><tr><td>&quot;LEGO Movie The&quot;</td><td>&quot;The LEGO Movie&quot;</td></tr><tr><td>&quot;Little Mermaid The&quot;</td><td>&quot;The Little Mermaid&quot;</td></tr><tr><td>&quot;Nightmare Before Christmas The&quot;</td><td>&quot;The Nightmare Before Christmas&quot;</td></tr><tr><td>&quot;Rescuers Down Under The&quot;</td><td>&quot;The Rescuers Down Under&quot;</td></tr><tr><td>&quot;Abyss, The&quot;</td><td>&quot;The Abyss&quot;</td></tr><tr><td>&quot;Bourne Identity, The&quot;</td><td>&quot;The Bourne Identity&quot;</td></tr><tr><td>&quot;Bourne Supremacy, The&quot;</td><td>&quot;The Bourne Supremacy&quot;</td></tr><tr><td>&quot;Bourne Ultimatum, The&quot;</td><td>&quot;The Bourne Ultimatum&quot;</td></tr><tr><td>&quot;Curious Case of Benjamin Butto…</td><td>&quot;The Curious Case of Benjamin B…</td></tr></tbody></table></div>"
      ],
      "text/plain": [
       "shape: (12, 2)\n",
       "┌─────────────────────────────────┬─────────────────────────────────┐\n",
       "│ Movie                           ┆ movie_clean                     │\n",
       "│ ---                             ┆ ---                             │\n",
       "│ str                             ┆ str                             │\n",
       "╞═════════════════════════════════╪═════════════════════════════════╡\n",
       "│ Boxtrolls The                   ┆ The Boxtrolls                   │\n",
       "│ Croods The                      ┆ The Croods                      │\n",
       "│ Incredibles The                 ┆ The Incredibles                 │\n",
       "│ LEGO Movie The                  ┆ The LEGO Movie                  │\n",
       "│ Little Mermaid The              ┆ The Little Mermaid              │\n",
       "│ Nightmare Before Christmas The  ┆ The Nightmare Before Christmas  │\n",
       "│ Rescuers Down Under The         ┆ The Rescuers Down Under         │\n",
       "│ Abyss, The                      ┆ The Abyss                       │\n",
       "│ Bourne Identity, The            ┆ The Bourne Identity             │\n",
       "│ Bourne Supremacy, The           ┆ The Bourne Supremacy            │\n",
       "│ Bourne Ultimatum, The           ┆ The Bourne Ultimatum            │\n",
       "│ Curious Case of Benjamin Butto… ┆ The Curious Case of Benjamin B… │\n",
       "└─────────────────────────────────┴─────────────────────────────────┘"
      ]
     },
     "execution_count": 32,
     "metadata": {},
     "output_type": "execute_result"
    }
   ],
   "source": [
    "df = (\n",
    "    df.lazy()\n",
    "    .with_columns(\n",
    "        # remove trailing and leading whitespace\n",
    "        pl.col(\"Movie\").str.replace_all(r'^\\s+|\\s+$', \"\")\n",
    "    ).with_columns(\n",
    "        # If the title ends with The\n",
    "        pl.when(pl.col(\"Movie\").str.contains(r'The$'))\n",
    "        .then(\n",
    "            # move it back to the beggining\n",
    "            pl.lit(\"The \") + \n",
    "            pl.col(\"Movie\").str.replace(\"The$\", \"\") # delete it from the end\n",
    "            .str.replace(r'[\\s]+$|,[\\s]*$', \"\") # remove trailing commas and whitespace\n",
    "        )\n",
    "        # otherwise keep the original title\n",
    "        .otherwise(pl.col(\"Movie\"))\n",
    "        .alias(\"movie_clean\")\n",
    "    )\n",
    ").collect()\n",
    "print( \"let's visualize what we just did\" )\n",
    "df.filter(pl.col(\"Movie\").str.contains(\"The$\")).select(pl.col(\"Movie\", \"movie_clean\"))"
   ]
  },
  {
   "cell_type": "markdown",
   "metadata": {},
   "source": [
    "### Rename columns and send to parquet"
   ]
  },
  {
   "cell_type": "code",
   "execution_count": 15,
   "metadata": {},
   "outputs": [],
   "source": [
    "df = df.rename(\n",
    "    {\n",
    "        \"Date\": \"date_original\",\n",
    "        \"script\": \"script_original\",\n",
    "        \"Movie\": \"movie_title_alphabetical\"\n",
    "    },\n",
    "    strict=False\n",
    ").rename(\n",
    "    {\n",
    "        \"script_clean\": \"script\",\n",
    "        \"date_clean\": \"date\",\n",
    "        \"movie_clean\": \"movie_title\"\n",
    "    },\n",
    "    strict=False\n",
    ")\n",
    "df.columns = pl.Series(df.columns).str.to_lowercase()\n",
    "df.write_parquet(\n",
    "    \"data/in/cleaned-kaggle-internet-movie-script.parquet\"\n",
    ")"
   ]
  },
  {
   "cell_type": "markdown",
   "metadata": {},
   "source": [
    "# Genre Counts"
   ]
  },
  {
   "cell_type": "code",
   "execution_count": 18,
   "metadata": {},
   "outputs": [
    {
     "data": {
      "text/html": [
       "<div><style>\n",
       ".dataframe > thead > tr,\n",
       ".dataframe > tbody > tr {\n",
       "  text-align: right;\n",
       "  white-space: pre-wrap;\n",
       "}\n",
       "</style>\n",
       "<small>shape: (14, 2)</small><table border=\"1\" class=\"dataframe\"><thead><tr><th>genre</th><th>count</th></tr><tr><td>str</td><td>u32</td></tr></thead><tbody><tr><td>&quot;Animation&quot;</td><td>41</td></tr><tr><td>&quot;Adventure&quot;</td><td>35</td></tr><tr><td>&quot;Comedy&quot;</td><td>31</td></tr><tr><td>&quot;Action&quot;</td><td>24</td></tr><tr><td>&quot;Family&quot;</td><td>20</td></tr><tr><td>&quot;Drama&quot;</td><td>15</td></tr><tr><td>&quot;Fantasy&quot;</td><td>14</td></tr><tr><td>&quot;Thriller&quot;</td><td>13</td></tr><tr><td>&quot;Sci-Fi&quot;</td><td>10</td></tr><tr><td>&quot;Mystery&quot;</td><td>7</td></tr><tr><td>&quot;Musical&quot;</td><td>7</td></tr><tr><td>&quot;Crime&quot;</td><td>5</td></tr><tr><td>&quot;Romance&quot;</td><td>4</td></tr><tr><td>&quot;Horror&quot;</td><td>4</td></tr></tbody></table></div>"
      ],
      "text/plain": [
       "shape: (14, 2)\n",
       "┌───────────┬───────┐\n",
       "│ genre     ┆ count │\n",
       "│ ---       ┆ ---   │\n",
       "│ str       ┆ u32   │\n",
       "╞═══════════╪═══════╡\n",
       "│ Animation ┆ 41    │\n",
       "│ Adventure ┆ 35    │\n",
       "│ Comedy    ┆ 31    │\n",
       "│ Action    ┆ 24    │\n",
       "│ Family    ┆ 20    │\n",
       "│ Drama     ┆ 15    │\n",
       "│ Fantasy   ┆ 14    │\n",
       "│ Thriller  ┆ 13    │\n",
       "│ Sci-Fi    ┆ 10    │\n",
       "│ Mystery   ┆ 7     │\n",
       "│ Musical   ┆ 7     │\n",
       "│ Crime     ┆ 5     │\n",
       "│ Romance   ┆ 4     │\n",
       "│ Horror    ┆ 4     │\n",
       "└───────────┴───────┘"
      ]
     },
     "execution_count": 18,
     "metadata": {},
     "output_type": "execute_result"
    }
   ],
   "source": [
    "df[\"genre\"].str.replace_all(r'[\\s]', '')\\\n",
    "    .str.replace_all(r'[,]+', ',')\\\n",
    "    .str.split(\",\").explode().value_counts()\\\n",
    "    .sort(pl.col(\"count\"), descending=True)"
   ]
  }
 ],
 "metadata": {
  "kernelspec": {
   "display_name": "venv",
   "language": "python",
   "name": "python3"
  },
  "language_info": {
   "codemirror_mode": {
    "name": "ipython",
    "version": 3
   },
   "file_extension": ".py",
   "mimetype": "text/x-python",
   "name": "python",
   "nbconvert_exporter": "python",
   "pygments_lexer": "ipython3",
   "version": "3.12.8"
  }
 },
 "nbformat": 4,
 "nbformat_minor": 2
}
