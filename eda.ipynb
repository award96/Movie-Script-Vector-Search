{
 "cells": [
  {
   "cell_type": "code",
   "execution_count": 1,
   "metadata": {},
   "outputs": [
    {
     "data": {
      "text/plain": [
       "polars.config.Config"
      ]
     },
     "execution_count": 1,
     "metadata": {},
     "output_type": "execute_result"
    }
   ],
   "source": [
    "import os\n",
    "import polars as pl\n",
    "import matplotlib.pyplot as plt\n",
    "import seaborn as sns\n",
    "\n",
    "# Configure Polars \n",
    "cfg = pl.Config()\n",
    "cfg.set_tbl_rows(2000)"
   ]
  },
  {
   "cell_type": "code",
   "execution_count": 2,
   "metadata": {},
   "outputs": [
    {
     "data": {
      "text/html": [
       "<div><style>\n",
       ".dataframe > thead > tr,\n",
       ".dataframe > tbody > tr {\n",
       "  text-align: right;\n",
       "  white-space: pre-wrap;\n",
       "}\n",
       "</style>\n",
       "<small>shape: (5, 6)</small><table border=\"1\" class=\"dataframe\"><thead><tr><th>Sr.No</th><th>Movie</th><th>Writers</th><th>Genre</th><th>Date</th><th>Sript</th></tr><tr><td>i64</td><td>str</td><td>str</td><td>str</td><td>str</td><td>str</td></tr></thead><tbody><tr><td>1</td><td>&quot;9&quot;</td><td>&quot;Pamela Pettler,Shane Acker&quot;</td><td>&quot;Animation,Adventure,Drama,Fant…</td><td>&quot;September_2009&quot;</td><td>&quot;,SEQ.,05,-,PROLOGUE\r\n",
       ",,,,,\r\n",
       ",,…</td></tr><tr><td>2</td><td>&quot;A Scanner Darkly&quot;</td><td>&quot;Charlie Kaufman&quot;</td><td>&quot;Animation,Crime,Drama&quot;</td><td>&quot;July_2006&quot;</td><td>&quot;SHOT,OF,NOTEBOOK,PAGE,DAPPLED,…</td></tr><tr><td>3</td><td>&quot;Aladdin&quot;</td><td>&quot;Roger Allers,Ron Clements&quot;</td><td>&quot;Animation,Family,Musical,Fanta…</td><td>&quot;December_1992&quot;</td><td>&quot;PEDDLER:,,Oh,I,come,from,a,lan…</td></tr><tr><td>4</td><td>&quot;Anastasia &quot;</td><td>&quot;Susan Gauthier,Bruce Graham&quot;</td><td>&quot;Family,Animation,Musical&quot;</td><td>&quot;December_1997&quot;</td><td>&quot;FADE,IN:\r\n",
       "\r\n",
       "on,a,well-worn,PHO…</td></tr><tr><td>5</td><td>&quot;Antz &quot;</td><td>&quot;Todd Alcott,Chris Weitz,Paul W…</td><td>&quot;Adventure,Animation,Comedy,Fan…</td><td>null</td><td>&quot;Z,(O.S.)\r\n",
       ",,,,,,,,,,,(over,a,d…</td></tr></tbody></table></div>"
      ],
      "text/plain": [
       "shape: (5, 6)\n",
       "┌───────┬────────────┬────────────────────┬───────────────────┬────────────────┬───────────────────┐\n",
       "│ Sr.No ┆ Movie      ┆ Writers            ┆ Genre             ┆ Date           ┆ Sript             │\n",
       "│ ---   ┆ ---        ┆ ---                ┆ ---               ┆ ---            ┆ ---               │\n",
       "│ i64   ┆ str        ┆ str                ┆ str               ┆ str            ┆ str               │\n",
       "╞═══════╪════════════╪════════════════════╪═══════════════════╪════════════════╪═══════════════════╡\n",
       "│ 1     ┆ 9          ┆ Pamela             ┆ Animation,Adventu ┆ September_2009 ┆ ,SEQ.,05,-,PROLOG │\n",
       "│       ┆            ┆ Pettler,Shane      ┆ re,Drama,Fant…    ┆                ┆ UE\n",
       "               │\n",
       "│       ┆            ┆ Acker              ┆                   ┆                ┆ ,,,,,\n",
       "            │\n",
       "│       ┆            ┆                    ┆                   ┆                ┆ ,,…               │\n",
       "│ 2     ┆ A Scanner  ┆ Charlie Kaufman    ┆ Animation,Crime,D ┆ July_2006      ┆ SHOT,OF,NOTEBOOK, │\n",
       "│       ┆ Darkly     ┆                    ┆ rama              ┆                ┆ PAGE,DAPPLED,…    │\n",
       "│ 3     ┆ Aladdin    ┆ Roger Allers,Ron   ┆ Animation,Family, ┆ December_1992  ┆ PEDDLER:,,Oh,I,co │\n",
       "│       ┆            ┆ Clements           ┆ Musical,Fanta…    ┆                ┆ me,from,a,lan…    │\n",
       "│ 4     ┆ Anastasia  ┆ Susan              ┆ Family,Animation, ┆ December_1997  ┆ FADE,IN:\n",
       "         │\n",
       "│       ┆            ┆ Gauthier,Bruce     ┆ Musical           ┆                ┆ \n",
       "                 │\n",
       "│       ┆            ┆ Graham             ┆                   ┆                ┆ on,a,well-worn,PH │\n",
       "│       ┆            ┆                    ┆                   ┆                ┆ O…                │\n",
       "│ 5     ┆ Antz       ┆ Todd Alcott,Chris  ┆ Adventure,Animati ┆ null           ┆ Z,(O.S.)\n",
       "         │\n",
       "│       ┆            ┆ Weitz,Paul W…      ┆ on,Comedy,Fan…    ┆                ┆ ,,,,,,,,,,,(over, │\n",
       "│       ┆            ┆                    ┆                   ┆                ┆ a,d…              │\n",
       "└───────┴────────────┴────────────────────┴───────────────────┴────────────────┴───────────────────┘"
      ]
     },
     "execution_count": 2,
     "metadata": {},
     "output_type": "execute_result"
    }
   ],
   "source": [
    "df = pl.read_excel('data/in/The Internet Movie Script Dataset .xlsx')\n",
    "df.head()"
   ]
  },
  {
   "cell_type": "code",
   "execution_count": 3,
   "metadata": {},
   "outputs": [
    {
     "name": "stdout",
     "output_type": "stream",
     "text": [
      "(60, 6)\n",
      "59\n"
     ]
    }
   ],
   "source": [
    "df = df.rename({\"Sript\": \"script\"})\n",
    "print(df.shape)\n",
    "print(df[\"Movie\"].n_unique())"
   ]
  },
  {
   "cell_type": "code",
   "execution_count": 4,
   "metadata": {},
   "outputs": [
    {
     "data": {
      "text/html": [
       "<div><style>\n",
       ".dataframe > thead > tr,\n",
       ".dataframe > tbody > tr {\n",
       "  text-align: right;\n",
       "  white-space: pre-wrap;\n",
       "}\n",
       "</style>\n",
       "<small>shape: (2, 6)</small><table border=\"1\" class=\"dataframe\"><thead><tr><th>Sr.No</th><th>Movie</th><th>Writers</th><th>Genre</th><th>Date</th><th>script</th></tr><tr><td>i64</td><td>str</td><td>str</td><td>str</td><td>str</td><td>str</td></tr></thead><tbody><tr><td>28</td><td>&quot;Nightmare Before Christmas The&quot;</td><td>&quot;Tim Burton,Michael McDowell&quot;</td><td>&quot;Animation,Comedy,Fantasy,Horro…</td><td>&quot;August_1991&quot;</td><td>&quot;NARRATOR\r\n",
       "&#x27;Twas a long time ag…</td></tr><tr><td>29</td><td>&quot;Nightmare Before Christmas The&quot;</td><td>&quot;Caroline Thompson&quot;</td><td>&quot;Animation,Comedy,Fantasy,Horro…</td><td>&quot;August_1991&quot;</td><td>&quot;NARRATOR\r\n",
       "&#x27;Twas a long time ag…</td></tr></tbody></table></div>"
      ],
      "text/plain": [
       "shape: (2, 6)\n",
       "┌───────┬────────────────────┬────────────────────┬───────────────────┬─────────────┬──────────────┐\n",
       "│ Sr.No ┆ Movie              ┆ Writers            ┆ Genre             ┆ Date        ┆ script       │\n",
       "│ ---   ┆ ---                ┆ ---                ┆ ---               ┆ ---         ┆ ---          │\n",
       "│ i64   ┆ str                ┆ str                ┆ str               ┆ str         ┆ str          │\n",
       "╞═══════╪════════════════════╪════════════════════╪═══════════════════╪═════════════╪══════════════╡\n",
       "│ 28    ┆ Nightmare Before   ┆ Tim Burton,Michael ┆ Animation,Comedy, ┆ August_1991 ┆ NARRATOR\n",
       "    │\n",
       "│       ┆ Christmas The      ┆ McDowell           ┆ Fantasy,Horro…    ┆             ┆ 'Twas a long │\n",
       "│       ┆                    ┆                    ┆                   ┆             ┆ time ag…     │\n",
       "│ 29    ┆ Nightmare Before   ┆ Caroline Thompson  ┆ Animation,Comedy, ┆ August_1991 ┆ NARRATOR\n",
       "    │\n",
       "│       ┆ Christmas The      ┆                    ┆ Fantasy,Horro…    ┆             ┆ 'Twas a long │\n",
       "│       ┆                    ┆                    ┆                   ┆             ┆ time ag…     │\n",
       "└───────┴────────────────────┴────────────────────┴───────────────────┴─────────────┴──────────────┘"
      ]
     },
     "execution_count": 4,
     "metadata": {},
     "output_type": "execute_result"
    }
   ],
   "source": [
    "dupd = df.filter(df[\"Movie\"].is_duplicated())\n",
    "dupd"
   ]
  },
  {
   "cell_type": "code",
   "execution_count": 5,
   "metadata": {},
   "outputs": [
    {
     "data": {
      "text/plain": [
       "True"
      ]
     },
     "execution_count": 5,
     "metadata": {},
     "output_type": "execute_result"
    }
   ],
   "source": [
    "dupd[\"script\"][0] == dupd[\"script\"][1]"
   ]
  },
  {
   "cell_type": "code",
   "execution_count": 6,
   "metadata": {},
   "outputs": [
    {
     "data": {
      "text/plain": [
       "True"
      ]
     },
     "execution_count": 6,
     "metadata": {},
     "output_type": "execute_result"
    }
   ],
   "source": [
    "dupd[\"Genre\"][0] == dupd[\"Genre\"][1]"
   ]
  },
  {
   "cell_type": "code",
   "execution_count": 7,
   "metadata": {},
   "outputs": [
    {
     "name": "stdout",
     "output_type": "stream",
     "text": [
      "(59, 6)\n",
      "59\n"
     ]
    }
   ],
   "source": [
    "df[27, \"Writers\"] = df[27, \"Writers\"] + ',' + df[28, \"Writers\"]\n",
    "\n",
    "df = df.filter(\n",
    "    pl.col(\"Sr.No\")!=29\n",
    ")\n",
    "\n",
    "print(df.shape)\n",
    "print(df[\"Movie\"].n_unique())"
   ]
  },
  {
   "cell_type": "code",
   "execution_count": 8,
   "metadata": {},
   "outputs": [
    {
     "name": "stdout",
     "output_type": "stream",
     "text": [
      ",SEQ.,05,-,PROLOGUE\n",
      ",,,,,\n",
      ",,,,,,The,Focus,Features,logo,appears,on,screen,and,we,slide,INTO\n",
      ",,,,,the,\"O\",in,Focus.\n",
      ",,,,,\n",
      ",,,,,Stock,dissolves,from,35mm,to,16mm.,,,,BLACK,&,WHITE.,,GRAINY,\n",
      ",,,,,like,OLD,DOCUMENTARY,FOOTAGE.\n",
      ",,,,,\n",
      ",,,,,,,,,,,,,,,,,SCIENTIST'S,VOICE\n",
      ",,,,,,,,,,,,Experiment,208,day,20...\n",
      ",,,,,\n",
      ",,,,,\n",
      ",,,,,INT.,SCIENTIST'S,LAB\n"
     ]
    }
   ],
   "source": [
    "print(df[0, \"script\"][:350])"
   ]
  },
  {
   "cell_type": "code",
   "execution_count": 9,
   "metadata": {},
   "outputs": [
    {
     "data": {
      "text/plain": [
       "<Axes: xlabel='fraction_commas', ylabel='Count'>"
      ]
     },
     "execution_count": 9,
     "metadata": {},
     "output_type": "execute_result"
    },
    {
     "data": {
      "image/png": "[encoded data removed]",
      "text/plain": [
       "<Figure size 640x480 with 1 Axes>"
      ]
     },
     "metadata": {},
     "output_type": "display_data"
    }
   ],
   "source": [
    "df = df.with_columns(\n",
    "    comma_count = pl.col(\"script\").str.count_matches(r'[,]+'),\n",
    "    script_length = pl.col(\"script\").str.len_chars()\n",
    ").with_columns(\n",
    "    fraction_commas = pl.col(\"comma_count\")/pl.col(\"script_length\")\n",
    ")\n",
    "\n",
    "sns.histplot(\n",
    "    df,\n",
    "    x=\"fraction_commas\"\n",
    ")"
   ]
  },
  {
   "cell_type": "code",
   "execution_count": 10,
   "metadata": {},
   "outputs": [],
   "source": [
    "\n",
    "df = df.with_columns(\n",
    "    script_clean = pl.when(\n",
    "        pl.col(\"fraction_commas\") > 0.1\n",
    "    ).then(\n",
    "        pl.col(\"script\").str.replace_all(r'[,]+', \" \")\n",
    "    ).otherwise(pl.col(\"script\"))\n",
    ")"
   ]
  },
  {
   "cell_type": "code",
   "execution_count": 11,
   "metadata": {},
   "outputs": [
    {
     "name": "stdout",
     "output_type": "stream",
     "text": [
      " SEQ. 05 - PROLOGUE\n",
      " \n",
      " The Focus Features logo appears on screen and we slide INTO\n",
      " the \"O\" in Focus.\n",
      " \n",
      " Stock dissolves from 35mm to 16mm. BLACK & WHITE. GRAINY \n",
      " like OLD DOCUMENTARY FOOTAGE.\n",
      " \n",
      " SCIENTIST'S VOICE\n",
      " Experiment 208 day 20...\n",
      " \n",
      " \n",
      " INT. SCIENTIST'S LAB - DAY\n",
      "\n",
      " We see an early incarnation of a MACHINE (this will be the\n",
      " \n"
     ]
    }
   ],
   "source": [
    "print(df[0, \"script_clean\"][:350])"
   ]
  },
  {
   "cell_type": "code",
   "execution_count": 12,
   "metadata": {},
   "outputs": [
    {
     "data": {
      "text/html": [
       "<div><style>\n",
       ".dataframe > thead > tr,\n",
       ".dataframe > tbody > tr {\n",
       "  text-align: right;\n",
       "  white-space: pre-wrap;\n",
       "}\n",
       "</style>\n",
       "<small>shape: (14, 2)</small><table border=\"1\" class=\"dataframe\"><thead><tr><th>Genre</th><th>count</th></tr><tr><td>str</td><td>u32</td></tr></thead><tbody><tr><td>&quot;Animation&quot;</td><td>41</td></tr><tr><td>&quot;Adventure&quot;</td><td>35</td></tr><tr><td>&quot;Comedy&quot;</td><td>31</td></tr><tr><td>&quot;Action&quot;</td><td>24</td></tr><tr><td>&quot;Family&quot;</td><td>20</td></tr><tr><td>&quot;Drama&quot;</td><td>15</td></tr><tr><td>&quot;Fantasy&quot;</td><td>14</td></tr><tr><td>&quot;Thriller&quot;</td><td>13</td></tr><tr><td>&quot;Sci-Fi&quot;</td><td>10</td></tr><tr><td>&quot;Musical&quot;</td><td>7</td></tr><tr><td>&quot;Mystery&quot;</td><td>7</td></tr><tr><td>&quot;Crime&quot;</td><td>5</td></tr><tr><td>&quot;Romance&quot;</td><td>4</td></tr><tr><td>&quot;Horror&quot;</td><td>4</td></tr></tbody></table></div>"
      ],
      "text/plain": [
       "shape: (14, 2)\n",
       "┌───────────┬───────┐\n",
       "│ Genre     ┆ count │\n",
       "│ ---       ┆ ---   │\n",
       "│ str       ┆ u32   │\n",
       "╞═══════════╪═══════╡\n",
       "│ Animation ┆ 41    │\n",
       "│ Adventure ┆ 35    │\n",
       "│ Comedy    ┆ 31    │\n",
       "│ Action    ┆ 24    │\n",
       "│ Family    ┆ 20    │\n",
       "│ Drama     ┆ 15    │\n",
       "│ Fantasy   ┆ 14    │\n",
       "│ Thriller  ┆ 13    │\n",
       "│ Sci-Fi    ┆ 10    │\n",
       "│ Musical   ┆ 7     │\n",
       "│ Mystery   ┆ 7     │\n",
       "│ Crime     ┆ 5     │\n",
       "│ Romance   ┆ 4     │\n",
       "│ Horror    ┆ 4     │\n",
       "└───────────┴───────┘"
      ]
     },
     "execution_count": 12,
     "metadata": {},
     "output_type": "execute_result"
    }
   ],
   "source": [
    "df[\"Genre\"].str.replace_all(r'[\\s]', '')\\\n",
    "    .str.replace_all(r'[,]+', ',')\\\n",
    "    .str.split(\",\").explode().value_counts()\\\n",
    "    .sort(pl.col(\"count\"), descending=True)"
   ]
  },
  {
   "cell_type": "code",
   "execution_count": 13,
   "metadata": {},
   "outputs": [
    {
     "name": "stderr",
     "output_type": "stream",
     "text": [
      "/Users/anders/Desktop/learning/internet-movie-script-dataset/venv/lib/python3.12/site-packages/tqdm/auto.py:21: TqdmWarning: IProgress not found. Please update jupyter and ipywidgets. See https://ipywidgets.readthedocs.io/en/stable/user_install.html\n",
      "  from .autonotebook import tqdm as notebook_tqdm\n"
     ]
    },
    {
     "data": {
      "text/plain": [
       "1"
      ]
     },
     "execution_count": 13,
     "metadata": {},
     "output_type": "execute_result"
    }
   ],
   "source": [
    "# Starting from this code\n",
    "from transformers import AutoTokenizer, AutoModel\n",
    "import torch\n",
    "tokenizer = AutoTokenizer.from_pretrained(\"BAAI/bge-large-en-v1.5\")\n",
    "model = AutoModel.from_pretrained(\"BAAI/bge-large-en-v1.5\")\n",
    "\n",
    "device = torch.device(\"cuda\" if torch.cuda.is_available() else \"cpu\")\n",
    "model.to(device)\n",
    "model.eval()\n",
    "1"
   ]
  },
  {
   "cell_type": "code",
   "execution_count": 88,
   "metadata": {},
   "outputs": [],
   "source": [
    "def script_to_embedding(\n",
    "        script: str,\n",
    "        tokenizer: AutoTokenizer,\n",
    "        model: AutoModel,\n",
    "        device: torch.device\n",
    "    ) -> torch.Tensor:\n",
    "    \"\"\"\n",
    "    String to mean pooled embedding using model.\n",
    "\n",
    "    Args:\n",
    "        script (str): The entire script as a string.\n",
    "        tokenizer (AutoTokenizer): A tokenizer from Transformers.\n",
    "        model (AutoModel): A model from Transformers.\n",
    "        device (torch.device): CPU or GPU.\n",
    "\n",
    "    Returns:\n",
    "        torch.Tensor: A mean pooled (hidden_size,) vector representation of the script.\n",
    "    \"\"\"\n",
    "    # tokenized into chunks\n",
    "    # tokenized_script.input_ids has shape \n",
    "    # (n_chunks, model_max_length, model_hidden_size)\n",
    "    tokenized_script = tokenizer(\n",
    "        script,\n",
    "        max_length=tokenizer.model_max_length,\n",
    "        truncation=True,\n",
    "        padding=True,\n",
    "        add_special_tokens=True,\n",
    "        return_overflowing_tokens=True,\n",
    "        return_tensors='pt'\n",
    "    )\n",
    "\n",
    "    # put these 3 in input dictionary\n",
    "    # and to device\n",
    "    inputs = {\n",
    "        key: tokenized_script[key].to(device) for key in [\n",
    "            \"input_ids\",\n",
    "            \"attention_mask\",\n",
    "            \"token_type_ids\"\n",
    "        ]\n",
    "    }\n",
    "\n",
    "    with torch.no_grad():\n",
    "        # shape (n_batches, model_max_length, model_hidden_size)\n",
    "        outputs = model(**inputs)\n",
    "        \n",
    "    # average over the batches, then over the tokens\n",
    "    mean_pool_hidden_state = outputs.last_hidden_state.mean(dim=(0, 1))\n",
    "    return mean_pool_hidden_state\n"
   ]
  },
  {
   "cell_type": "code",
   "execution_count": 93,
   "metadata": {},
   "outputs": [
    {
     "name": "stderr",
     "output_type": "stream",
     "text": [
      "/var/folders/lp/cgkjbm6d28q33c7wy798m6h00000gn/T/ipykernel_7672/855992826.py:1: MapWithoutReturnDtypeWarning: Calling `map_elements` without specifying `return_dtype` can lead to unpredictable results. Specify `return_dtype` to silence this warning.\n",
      "  xqc = df.head(3).with_columns(\n"
     ]
    },
    {
     "name": "stdout",
     "output_type": "stream",
     "text": [
      "time processing: 0.02\n",
      "time model: 3.97\n",
      "time processing: 0.02\n",
      "time model: 4.26\n",
      "time processing: 0.02\n",
      "time model: 5.21\n"
     ]
    },
    {
     "data": {
      "text/html": [
       "<div><style>\n",
       ".dataframe > thead > tr,\n",
       ".dataframe > tbody > tr {\n",
       "  text-align: right;\n",
       "  white-space: pre-wrap;\n",
       "}\n",
       "</style>\n",
       "<small>shape: (3, 11)</small><table border=\"1\" class=\"dataframe\"><thead><tr><th>Sr.No</th><th>Movie</th><th>Writers</th><th>Genre</th><th>Date</th><th>script</th><th>comma_count</th><th>script_length</th><th>fraction_commas</th><th>script_clean</th><th>embedding</th></tr><tr><td>i64</td><td>str</td><td>str</td><td>str</td><td>str</td><td>str</td><td>u32</td><td>u32</td><td>f64</td><td>str</td><td>object</td></tr></thead><tbody><tr><td>1</td><td>&quot;9&quot;</td><td>&quot;Pamela Pettler,Shane Acker&quot;</td><td>&quot;Animation,Adventure,Drama,Fant…</td><td>&quot;September_2009&quot;</td><td>&quot;,SEQ.,05,-,PROLOGUE\r\n",
       ",,,,,\r\n",
       ",,…</td><td>3667</td><td>26466</td><td>0.138555</td><td>&quot; SEQ. 05 - PROLOGUE\r\n",
       " \r\n",
       " The F…</td><td>tensor([ 0.5553, -0.0191,&nbsp;&nbsp;0.0372,&nbsp;&nbsp;..., -0.0291, -0.2175, -0.0369])</td></tr><tr><td>2</td><td>&quot;A Scanner Darkly&quot;</td><td>&quot;Charlie Kaufman&quot;</td><td>&quot;Animation,Crime,Drama&quot;</td><td>&quot;July_2006&quot;</td><td>&quot;SHOT,OF,NOTEBOOK,PAGE,DAPPLED,…</td><td>3883</td><td>29258</td><td>0.132716</td><td>&quot;SHOT OF NOTEBOOK PAGE DAPPLED …</td><td>tensor([ 0.6608, -0.1483,&nbsp;&nbsp;0.4532,&nbsp;&nbsp;..., -0.2398, -0.0192, -0.1672])</td></tr><tr><td>3</td><td>&quot;Aladdin&quot;</td><td>&quot;Roger Allers,Ron Clements&quot;</td><td>&quot;Animation,Family,Musical,Fanta…</td><td>&quot;December_1992&quot;</td><td>&quot;PEDDLER:,,Oh,I,come,from,a,lan…</td><td>5014</td><td>31425</td><td>0.159554</td><td>&quot;PEDDLER: Oh I come from a land…</td><td>tensor([ 0.4939, -0.0372, -0.0497,&nbsp;&nbsp;..., -0.0532,&nbsp;&nbsp;0.1911, -0.0142])</td></tr></tbody></table></div>"
      ],
      "text/plain": [
       "shape: (3, 11)\n",
       "┌───────┬────────────┬────────────┬────────────┬───┬───────────┬───────────┬───────────┬───────────┐\n",
       "│ Sr.No ┆ Movie      ┆ Writers    ┆ Genre      ┆ … ┆ script_le ┆ fraction_ ┆ script_cl ┆ embedding │\n",
       "│ ---   ┆ ---        ┆ ---        ┆ ---        ┆   ┆ ngth      ┆ commas    ┆ ean       ┆ ---       │\n",
       "│ i64   ┆ str        ┆ str        ┆ str        ┆   ┆ ---       ┆ ---       ┆ ---       ┆ object    │\n",
       "│       ┆            ┆            ┆            ┆   ┆ u32       ┆ f64       ┆ str       ┆           │\n",
       "╞═══════╪════════════╪════════════╪════════════╪═══╪═══════════╪═══════════╪═══════════╪═══════════╡\n",
       "│ 1     ┆ 9          ┆ Pamela Pet ┆ Animation, ┆ … ┆ 26466     ┆ 0.138555  ┆ SEQ. 05 - ┆ tensor([  │\n",
       "│       ┆            ┆ tler,Shane ┆ Adventure, ┆   ┆           ┆           ┆ PROLOGUE\n",
       " ┆ 0.5553,   │\n",
       "│       ┆            ┆ Acker      ┆ Drama,Fant ┆   ┆           ┆           ┆  \n",
       "        ┆ -0.0191,  │\n",
       "│       ┆            ┆            ┆ …          ┆   ┆           ┆           ┆  The F…   ┆ 0.0…      │\n",
       "│ 2     ┆ A Scanner  ┆ Charlie    ┆ Animation, ┆ … ┆ 29258     ┆ 0.132716  ┆ SHOT OF   ┆ tensor([  │\n",
       "│       ┆ Darkly     ┆ Kaufman    ┆ Crime,Dram ┆   ┆           ┆           ┆ NOTEBOOK  ┆ 0.6608,   │\n",
       "│       ┆            ┆            ┆ a          ┆   ┆           ┆           ┆ PAGE      ┆ -0.1483,  │\n",
       "│       ┆            ┆            ┆            ┆   ┆           ┆           ┆ DAPPLED … ┆ 0.4…      │\n",
       "│ 3     ┆ Aladdin    ┆ Roger      ┆ Animation, ┆ … ┆ 31425     ┆ 0.159554  ┆ PEDDLER:  ┆ tensor([  │\n",
       "│       ┆            ┆ Allers,Ron ┆ Family,Mus ┆   ┆           ┆           ┆ Oh I come ┆ 0.4939,   │\n",
       "│       ┆            ┆ Clements   ┆ ical,Fanta ┆   ┆           ┆           ┆ from a    ┆ -0.0372,  │\n",
       "│       ┆            ┆            ┆ …          ┆   ┆           ┆           ┆ land…     ┆ -0.0…     │\n",
       "└───────┴────────────┴────────────┴────────────┴───┴───────────┴───────────┴───────────┴───────────┘"
      ]
     },
     "execution_count": 93,
     "metadata": {},
     "output_type": "execute_result"
    }
   ],
   "source": [
    "xqc = df.head(3).with_columns(\n",
    "        embedding = pl.col(\"script_clean\").map_elements(\n",
    "        lambda x: script_to_embedding(x, tokenizer, model, device)# ,\n",
    "        # return_dtype=pl.Array(shape=1024, inner=pl.Int64)\n",
    "    )\n",
    ")\n",
    "xqc"
   ]
  }
 ],
 "metadata": {
  "kernelspec": {
   "display_name": "venv",
   "language": "python",
   "name": "python3"
  },
  "language_info": {
   "codemirror_mode": {
    "name": "ipython",
    "version": 3
   },
   "file_extension": ".py",
   "mimetype": "text/x-python",
   "name": "python",
   "nbconvert_exporter": "python",
   "pygments_lexer": "ipython3",
   "version": "3.12.8"
  }
 },
 "nbformat": 4,
 "nbformat_minor": 2
}
