{
 "cells": [
  {
   "cell_type": "code",
   "execution_count": 1,
   "metadata": {},
   "outputs": [],
   "source": [
    "import os\n",
    "import polars as pl\n",
    "import matplotlib.pyplot as plt\n",
    "import seaborn as sns"
   ]
  },
  {
   "cell_type": "code",
   "execution_count": 27,
   "metadata": {},
   "outputs": [
    {
     "data": {
      "text/html": [
       "<div><style>\n",
       ".dataframe > thead > tr,\n",
       ".dataframe > tbody > tr {\n",
       "  text-align: right;\n",
       "  white-space: pre-wrap;\n",
       "}\n",
       "</style>\n",
       "<small>shape: (5, 6)</small><table border=\"1\" class=\"dataframe\"><thead><tr><th>Sr.No</th><th>Movie</th><th>Writers</th><th>Genre</th><th>Date</th><th>Sript</th></tr><tr><td>i64</td><td>str</td><td>str</td><td>str</td><td>str</td><td>str</td></tr></thead><tbody><tr><td>1</td><td>&quot;9&quot;</td><td>&quot;Pamela Pettler,Shane Acker&quot;</td><td>&quot;Animation,Adventure,Drama,Fant…</td><td>&quot;September_2009&quot;</td><td>&quot;,SEQ.,05,-,PROLOGUE\r\n",
       ",,,,,\r\n",
       ",,…</td></tr><tr><td>2</td><td>&quot;A Scanner Darkly&quot;</td><td>&quot;Charlie Kaufman&quot;</td><td>&quot;Animation,Crime,Drama&quot;</td><td>&quot;July_2006&quot;</td><td>&quot;SHOT,OF,NOTEBOOK,PAGE,DAPPLED,…</td></tr><tr><td>3</td><td>&quot;Aladdin&quot;</td><td>&quot;Roger Allers,Ron Clements&quot;</td><td>&quot;Animation,Family,Musical,Fanta…</td><td>&quot;December_1992&quot;</td><td>&quot;PEDDLER:,,Oh,I,come,from,a,lan…</td></tr><tr><td>4</td><td>&quot;Anastasia &quot;</td><td>&quot;Susan Gauthier,Bruce Graham&quot;</td><td>&quot;Family,Animation,Musical&quot;</td><td>&quot;December_1997&quot;</td><td>&quot;FADE,IN:\r\n",
       "\r\n",
       "on,a,well-worn,PHO…</td></tr><tr><td>5</td><td>&quot;Antz &quot;</td><td>&quot;Todd Alcott,Chris Weitz,Paul W…</td><td>&quot;Adventure,Animation,Comedy,Fan…</td><td>null</td><td>&quot;Z,(O.S.)\r\n",
       ",,,,,,,,,,,(over,a,d…</td></tr></tbody></table></div>"
      ],
      "text/plain": [
       "shape: (5, 6)\n",
       "┌───────┬────────────┬────────────────────┬───────────────────┬────────────────┬───────────────────┐\n",
       "│ Sr.No ┆ Movie      ┆ Writers            ┆ Genre             ┆ Date           ┆ Sript             │\n",
       "│ ---   ┆ ---        ┆ ---                ┆ ---               ┆ ---            ┆ ---               │\n",
       "│ i64   ┆ str        ┆ str                ┆ str               ┆ str            ┆ str               │\n",
       "╞═══════╪════════════╪════════════════════╪═══════════════════╪════════════════╪═══════════════════╡\n",
       "│ 1     ┆ 9          ┆ Pamela             ┆ Animation,Adventu ┆ September_2009 ┆ ,SEQ.,05,-,PROLOG │\n",
       "│       ┆            ┆ Pettler,Shane      ┆ re,Drama,Fant…    ┆                ┆ UE\n",
       "               │\n",
       "│       ┆            ┆ Acker              ┆                   ┆                ┆ ,,,,,\n",
       "            │\n",
       "│       ┆            ┆                    ┆                   ┆                ┆ ,,…               │\n",
       "│ 2     ┆ A Scanner  ┆ Charlie Kaufman    ┆ Animation,Crime,D ┆ July_2006      ┆ SHOT,OF,NOTEBOOK, │\n",
       "│       ┆ Darkly     ┆                    ┆ rama              ┆                ┆ PAGE,DAPPLED,…    │\n",
       "│ 3     ┆ Aladdin    ┆ Roger Allers,Ron   ┆ Animation,Family, ┆ December_1992  ┆ PEDDLER:,,Oh,I,co │\n",
       "│       ┆            ┆ Clements           ┆ Musical,Fanta…    ┆                ┆ me,from,a,lan…    │\n",
       "│ 4     ┆ Anastasia  ┆ Susan              ┆ Family,Animation, ┆ December_1997  ┆ FADE,IN:\n",
       "         │\n",
       "│       ┆            ┆ Gauthier,Bruce     ┆ Musical           ┆                ┆ \n",
       "                 │\n",
       "│       ┆            ┆ Graham             ┆                   ┆                ┆ on,a,well-worn,PH │\n",
       "│       ┆            ┆                    ┆                   ┆                ┆ O…                │\n",
       "│ 5     ┆ Antz       ┆ Todd Alcott,Chris  ┆ Adventure,Animati ┆ null           ┆ Z,(O.S.)\n",
       "         │\n",
       "│       ┆            ┆ Weitz,Paul W…      ┆ on,Comedy,Fan…    ┆                ┆ ,,,,,,,,,,,(over, │\n",
       "│       ┆            ┆                    ┆                   ┆                ┆ a,d…              │\n",
       "└───────┴────────────┴────────────────────┴───────────────────┴────────────────┴───────────────────┘"
      ]
     },
     "execution_count": 27,
     "metadata": {},
     "output_type": "execute_result"
    }
   ],
   "source": [
    "df = pl.read_excel('data/in/The Internet Movie Script Dataset .xlsx')\n",
    "df.head()"
   ]
  },
  {
   "cell_type": "code",
   "execution_count": 28,
   "metadata": {},
   "outputs": [
    {
     "name": "stdout",
     "output_type": "stream",
     "text": [
      "(60, 6)\n",
      "59\n"
     ]
    }
   ],
   "source": [
    "df = df.rename({\"Sript\": \"script\"})\n",
    "print(df.shape)\n",
    "print(df[\"Movie\"].n_unique())"
   ]
  },
  {
   "cell_type": "code",
   "execution_count": 29,
   "metadata": {},
   "outputs": [
    {
     "data": {
      "text/html": [
       "<div><style>\n",
       ".dataframe > thead > tr,\n",
       ".dataframe > tbody > tr {\n",
       "  text-align: right;\n",
       "  white-space: pre-wrap;\n",
       "}\n",
       "</style>\n",
       "<small>shape: (2, 6)</small><table border=\"1\" class=\"dataframe\"><thead><tr><th>Sr.No</th><th>Movie</th><th>Writers</th><th>Genre</th><th>Date</th><th>script</th></tr><tr><td>i64</td><td>str</td><td>str</td><td>str</td><td>str</td><td>str</td></tr></thead><tbody><tr><td>28</td><td>&quot;Nightmare Before Christmas The&quot;</td><td>&quot;Tim Burton,Michael McDowell&quot;</td><td>&quot;Animation,Comedy,Fantasy,Horro…</td><td>&quot;August_1991&quot;</td><td>&quot;NARRATOR\r\n",
       "&#x27;Twas a long time ag…</td></tr><tr><td>29</td><td>&quot;Nightmare Before Christmas The&quot;</td><td>&quot;Caroline Thompson&quot;</td><td>&quot;Animation,Comedy,Fantasy,Horro…</td><td>&quot;August_1991&quot;</td><td>&quot;NARRATOR\r\n",
       "&#x27;Twas a long time ag…</td></tr></tbody></table></div>"
      ],
      "text/plain": [
       "shape: (2, 6)\n",
       "┌───────┬────────────────────┬────────────────────┬───────────────────┬─────────────┬──────────────┐\n",
       "│ Sr.No ┆ Movie              ┆ Writers            ┆ Genre             ┆ Date        ┆ script       │\n",
       "│ ---   ┆ ---                ┆ ---                ┆ ---               ┆ ---         ┆ ---          │\n",
       "│ i64   ┆ str                ┆ str                ┆ str               ┆ str         ┆ str          │\n",
       "╞═══════╪════════════════════╪════════════════════╪═══════════════════╪═════════════╪══════════════╡\n",
       "│ 28    ┆ Nightmare Before   ┆ Tim Burton,Michael ┆ Animation,Comedy, ┆ August_1991 ┆ NARRATOR\n",
       "    │\n",
       "│       ┆ Christmas The      ┆ McDowell           ┆ Fantasy,Horro…    ┆             ┆ 'Twas a long │\n",
       "│       ┆                    ┆                    ┆                   ┆             ┆ time ag…     │\n",
       "│ 29    ┆ Nightmare Before   ┆ Caroline Thompson  ┆ Animation,Comedy, ┆ August_1991 ┆ NARRATOR\n",
       "    │\n",
       "│       ┆ Christmas The      ┆                    ┆ Fantasy,Horro…    ┆             ┆ 'Twas a long │\n",
       "│       ┆                    ┆                    ┆                   ┆             ┆ time ag…     │\n",
       "└───────┴────────────────────┴────────────────────┴───────────────────┴─────────────┴──────────────┘"
      ]
     },
     "execution_count": 29,
     "metadata": {},
     "output_type": "execute_result"
    }
   ],
   "source": [
    "dupd = df.filter(df[\"Movie\"].is_duplicated())\n",
    "dupd"
   ]
  },
  {
   "cell_type": "code",
   "execution_count": 30,
   "metadata": {},
   "outputs": [
    {
     "data": {
      "text/plain": [
       "True"
      ]
     },
     "execution_count": 30,
     "metadata": {},
     "output_type": "execute_result"
    }
   ],
   "source": [
    "dupd[\"script\"][0] == dupd[\"script\"][1]"
   ]
  },
  {
   "cell_type": "code",
   "execution_count": 32,
   "metadata": {},
   "outputs": [
    {
     "data": {
      "text/plain": [
       "True"
      ]
     },
     "execution_count": 32,
     "metadata": {},
     "output_type": "execute_result"
    }
   ],
   "source": [
    "dupd[\"Genre\"][0] == dupd[\"Genre\"][1]"
   ]
  },
  {
   "cell_type": "code",
   "execution_count": null,
   "metadata": {},
   "outputs": [
    {
     "data": {
      "text/html": [
       "<div><style>\n",
       ".dataframe > thead > tr,\n",
       ".dataframe > tbody > tr {\n",
       "  text-align: right;\n",
       "  white-space: pre-wrap;\n",
       "}\n",
       "</style>\n",
       "<small>shape: (2, 6)</small><table border=\"1\" class=\"dataframe\"><thead><tr><th>Sr.No</th><th>Movie</th><th>Writers</th><th>Genre</th><th>Date</th><th>script</th></tr><tr><td>i64</td><td>str</td><td>str</td><td>str</td><td>str</td><td>str</td></tr></thead><tbody><tr><td>28</td><td>&quot;Nightmare Before Christmas The&quot;</td><td>&quot;Tim Burton,Michael McDowell,Ca…</td><td>&quot;Animation,Comedy,Fantasy,Horro…</td><td>&quot;August_1991&quot;</td><td>&quot;NARRATOR\r\n",
       "&#x27;Twas a long time ag…</td></tr><tr><td>29</td><td>&quot;Nightmare Before Christmas The&quot;</td><td>&quot;Caroline Thompson&quot;</td><td>&quot;Animation,Comedy,Fantasy,Horro…</td><td>&quot;August_1991&quot;</td><td>&quot;NARRATOR\r\n",
       "&#x27;Twas a long time ag…</td></tr></tbody></table></div>"
      ],
      "text/plain": [
       "shape: (2, 6)\n",
       "┌───────┬────────────────────┬────────────────────┬───────────────────┬─────────────┬──────────────┐\n",
       "│ Sr.No ┆ Movie              ┆ Writers            ┆ Genre             ┆ Date        ┆ script       │\n",
       "│ ---   ┆ ---                ┆ ---                ┆ ---               ┆ ---         ┆ ---          │\n",
       "│ i64   ┆ str                ┆ str                ┆ str               ┆ str         ┆ str          │\n",
       "╞═══════╪════════════════════╪════════════════════╪═══════════════════╪═════════════╪══════════════╡\n",
       "│ 28    ┆ Nightmare Before   ┆ Tim Burton,Michael ┆ Animation,Comedy, ┆ August_1991 ┆ NARRATOR\n",
       "    │\n",
       "│       ┆ Christmas The      ┆ McDowell,Ca…       ┆ Fantasy,Horro…    ┆             ┆ 'Twas a long │\n",
       "│       ┆                    ┆                    ┆                   ┆             ┆ time ag…     │\n",
       "│ 29    ┆ Nightmare Before   ┆ Caroline Thompson  ┆ Animation,Comedy, ┆ August_1991 ┆ NARRATOR\n",
       "    │\n",
       "│       ┆ Christmas The      ┆                    ┆ Fantasy,Horro…    ┆             ┆ 'Twas a long │\n",
       "│       ┆                    ┆                    ┆                   ┆             ┆ time ag…     │\n",
       "└───────┴────────────────────┴────────────────────┴───────────────────┴─────────────┴──────────────┘"
      ]
     },
     "execution_count": 31,
     "metadata": {},
     "output_type": "execute_result"
    }
   ],
   "source": [
    "df[27, \"Writers\"] = df[27, \"Writers\"] + ',' + df[28, \"Writers\"]\n",
    "\n",
    "df = df.filter(\n",
    "    pl.col(\"Sr.No\")!=29\n",
    ")\n",
    "\n",
    "print(df.shape)\n",
    "print(df[\"Movie\"].n_unique())"
   ]
  },
  {
   "cell_type": "code",
   "execution_count": 64,
   "metadata": {},
   "outputs": [
    {
     "name": "stdout",
     "output_type": "stream",
     "text": [
      ",SEQ.,05,-,PROLOGUE\n",
      ",,,,,\n",
      ",,,,,,The,Focus,Features,logo,appears,on,screen,and,we,slide,INTO\n",
      ",,,,,the,\"O\",in,Focus.\n",
      ",,,,,\n",
      ",,,,,Stock,dissolves,from,35mm,to,16mm.,,,,BLACK,&,WHITE.,,GRAINY,\n",
      ",,,,,like,OLD,DOCUMENTARY,FOOTAGE.\n",
      ",,,,,\n",
      ",,,,,,,,,,,,,,,,,SCIENTIST'S,VOICE\n",
      ",,,,,,,,,,,,Experiment,208,day,20...\n",
      ",,,,,\n",
      ",,,,,\n",
      ",,,,,INT.,SCIENTIST'S,LAB\n"
     ]
    }
   ],
   "source": [
    "print(df[0, \"script\"][:350])"
   ]
  },
  {
   "cell_type": "code",
   "execution_count": 69,
   "metadata": {},
   "outputs": [
    {
     "data": {
      "text/plain": [
       "<Axes: xlabel='fraction_commas', ylabel='Count'>"
      ]
     },
     "execution_count": 69,
     "metadata": {},
     "output_type": "execute_result"
    },
    {
     "data": {
      "image/png": "[encoded data removed]",
      "text/plain": [
       "<Figure size 640x480 with 1 Axes>"
      ]
     },
     "metadata": {},
     "output_type": "display_data"
    }
   ],
   "source": [
    "df = df.with_columns(\n",
    "    comma_count = pl.col(\"script\").str.count_matches(r'[,]+'),\n",
    "    script_length = pl.col(\"script\").str.len_chars()\n",
    ").with_columns(\n",
    "    fraction_commas = pl.col(\"comma_count\")/pl.col(\"script_length\")\n",
    ")\n",
    "\n",
    "sns.histplot(\n",
    "    df,\n",
    "    x=\"fraction_commas\"\n",
    ")"
   ]
  },
  {
   "cell_type": "code",
   "execution_count": 71,
   "metadata": {},
   "outputs": [],
   "source": [
    "\n",
    "df = df.with_columns(\n",
    "    script_clean = pl.when(\n",
    "        pl.col(\"fraction_commas\") > 0.1\n",
    "    ).then(\n",
    "        pl.col(\"script\").str.replace_all(r'[,]+', \" \")\n",
    "    ).otherwise(pl.col(\"script\"))\n",
    ")"
   ]
  },
  {
   "cell_type": "code",
   "execution_count": 73,
   "metadata": {},
   "outputs": [
    {
     "name": "stdout",
     "output_type": "stream",
     "text": [
      " SEQ. 05 - PROLOGUE\n",
      " \n",
      " The Focus Features logo appears on screen and we slide INTO\n",
      " the \"O\" in Focus.\n",
      " \n",
      " Stock dissolves from 35mm to 16mm. BLACK & WHITE. GRAINY \n",
      " like OLD DOCUMENTARY FOOTAGE.\n",
      " \n",
      " SCIENTIST'S VOICE\n",
      " Experiment 208 day 20...\n",
      " \n",
      " \n",
      " INT. SCIENTIST'S LAB - DAY\n",
      "\n",
      " We see an early incarnation of a MACHINE (this will be the\n",
      " \n"
     ]
    }
   ],
   "source": [
    "print(df[0, \"script_clean\"][:350])"
   ]
  }
 ],
 "metadata": {
  "kernelspec": {
   "display_name": "venv",
   "language": "python",
   "name": "python3"
  },
  "language_info": {
   "codemirror_mode": {
    "name": "ipython",
    "version": 3
   },
   "file_extension": ".py",
   "mimetype": "text/x-python",
   "name": "python",
   "nbconvert_exporter": "python",
   "pygments_lexer": "ipython3",
   "version": "3.12.8"
  }
 },
 "nbformat": 4,
 "nbformat_minor": 2
}
