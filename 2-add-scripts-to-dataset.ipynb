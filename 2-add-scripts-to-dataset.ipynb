{
 "cells": [
  {
   "cell_type": "code",
   "execution_count": 8,
   "metadata": {},
   "outputs": [],
   "source": [
    "from pathlib import Path\n",
    "from collections import Counter\n",
    "import re\n",
    "from pypdf import PdfReader\n",
    "import polars as pl\n",
    "import matplotlib.pyplot as plt\n",
    "import seaborn as sns\n",
    "\n",
    "pl_cfg = pl.Config()"
   ]
  },
  {
   "cell_type": "markdown",
   "metadata": {},
   "source": [
    "# Adding Data to the Kaggle Dataset\n",
    "### 1. Read in additional scripts from PDF (manually downloaded from Google searches)\n",
    "### 2. Join to the Kaggle Internet Movie Script Dataset\n",
    "### 3. Join the result to the Kaggle IMDB dataset containing the year and genre of each film\n",
    "### 4. Clean and Save\n",
    "\n",
    "The final dataset is 110 scripts with their year and genre from\n",
    "- https://www.kaggle.com/datasets/prasad22/the-internet-movie-script-dataset\n",
    "- Downloading PDFs from Google Searches\n",
    "- https://www.kaggle.com/datasets/ashirwadsangwan/imdb-dataset?select=title.basics.tsv"
   ]
  },
  {
   "cell_type": "code",
   "execution_count": 9,
   "metadata": {},
   "outputs": [],
   "source": [
    "# data I already have from the kaggle internet-movie-script dataset\n",
    "df = pl.read_parquet(\"data/in/cleaned-kaggle-internet-movie-script.parquet\")"
   ]
  },
  {
   "cell_type": "markdown",
   "metadata": {},
   "source": [
    "### Load Data In"
   ]
  },
  {
   "cell_type": "code",
   "execution_count": 10,
   "metadata": {},
   "outputs": [
    {
     "name": "stdout",
     "output_type": "stream",
     "text": [
      "52  new scripts.\n",
      "\n",
      "It's a Wonderful Life.pdf\n",
      "Oppenheimer.pdf\n",
      "All Quiet On The Western Front.pdf\n",
      "Seven Samurai.pdf\n",
      "Gladiator 2.pdf\n",
      "The Northman.pdf\n",
      "The-Batman.pdf\n",
      "Wonka.pdf\n",
      "Moana 2.pdf\n",
      "The Silence of the Lambs.pdf\n",
      "Twisters.pdf\n",
      "12 Angry Men.pdf\n",
      "The Shawshank Redemption.pdf\n",
      "Avengers Endgame.pdf\n",
      "The Matrix.pdf\n",
      "Inside Out 2.pdf\n",
      "The Godfather Part II.pdf\n",
      "Deadpool & Wolverine.pdf\n",
      "Star Wars- Episode V - The Empire Strikes Back.pdf\n",
      "The Godfather.pdf\n",
      "Goodfellas.pdf\n",
      "Harry Potter and the Half-Blood Prince.pdf\n",
      "Encanto.pdf\n",
      "The Lord of the Rings- The Return of the King.pdf\n",
      "Saving Private Ryan.pdf\n",
      "Inside Out.pdf\n",
      "Top Gun Maverick.pdf\n",
      "Fight Club.pdf\n",
      "Avatar.pdf\n",
      "Amsterdam.pdf\n",
      "Pulp Fiction.pdf\n",
      "Luca.pdf\n",
      "Schindler's List.pdf\n",
      "Nope.pdf\n",
      "Barbie.pdf\n",
      "Elvis.pdf\n",
      "Se7en.pdf\n",
      "The Holdovers.pdf\n",
      "Bros.pdf\n",
      "The Dark Knight.pdf\n",
      "Forrest Gump.pdf\n",
      "Pinocchio.pdf\n",
      "Elemental.pdf\n",
      "The Lord of the Rings- The Fellowship of the Ring.pdf\n",
      "Cidade de Deus (City of God).pdf\n",
      "Spider-Man No Way Home.pdf\n",
      "One Flew Over the Cuckoo's Nest.pdf\n",
      "Black-Panther-Wakanda-Forever.pdf\n",
      "Interstellar.pdf\n",
      "Glass Onion.pdf\n",
      "Top Gun.pdf\n",
      "Inception.pdf\n"
     ]
    }
   ],
   "source": [
    "additional_script_pdfs = list(Path(\"data/in/\").glob(\"*.pdf\"))\n",
    "print(len(additional_script_pdfs), \" new scripts.\\n\")\n",
    "print(\"\\n\".join([p.name for p in additional_script_pdfs]))"
   ]
  },
  {
   "cell_type": "markdown",
   "metadata": {},
   "source": [
    "Open PDF and extract text"
   ]
  },
  {
   "cell_type": "code",
   "execution_count": 11,
   "metadata": {},
   "outputs": [],
   "source": [
    "def read_script_from_pdf(pdf_filepath: str | Path) -> str:\n",
    "    reader = PdfReader(pdf_filepath)\n",
    "    return \"\\n\".join( [page.extract_text() for page in reader.pages] )"
   ]
  },
  {
   "cell_type": "code",
   "execution_count": 12,
   "metadata": {},
   "outputs": [],
   "source": [
    "\"\"\"\n",
    "Create DF of added scripts\n",
    "by reading from filepath\n",
    "\"\"\"\n",
    "add = pl.DataFrame({\"filepath\": additional_script_pdfs})\\\n",
    "    .with_columns(\n",
    "        # get movie title from filename\n",
    "        movie_title = pl.col(\"filepath\").map_elements(lambda x: x.stem, return_dtype=pl.String)\\\n",
    "            # remove dashes and underscores\n",
    "            # replace multiple whitespace with singular\n",
    "            .str.replace_all(r'[-_\\s]+', \" \",) \\\n",
    "            # remove trailing and leading whitespace\n",
    "            .str.replace_all(r'^\\s+|\\s+$', \"\"),\n",
    "        # open PDF and read extract the text\n",
    "        script = pl.col(\"filepath\").map_elements(read_script_from_pdf, return_dtype=pl.String)\n",
    "    )"
   ]
  },
  {
   "cell_type": "markdown",
   "metadata": {},
   "source": [
    "# Combining the Two Datasets\n",
    "\n",
    "1. Add alphabetized movie title"
   ]
  },
  {
   "cell_type": "code",
   "execution_count": 13,
   "metadata": {},
   "outputs": [
    {
     "data": {
      "text/html": [
       "<div><style>\n",
       ".dataframe > thead > tr,\n",
       ".dataframe > tbody > tr {\n",
       "  text-align: right;\n",
       "  white-space: pre-wrap;\n",
       "}\n",
       "</style>\n",
       "<small>shape: (5, 2)</small><table border=\"1\" class=\"dataframe\"><thead><tr><th>movie_title</th><th>movie_title_alphabetical</th></tr><tr><td>str</td><td>str</td></tr></thead><tbody><tr><td>&quot;All Quiet On The Western Front&quot;</td><td>&quot;All Quiet On The Western Front&quot;</td></tr><tr><td>&quot;The Northman&quot;</td><td>&quot;Northman The&quot;</td></tr><tr><td>&quot;The Batman&quot;</td><td>&quot;Batman The&quot;</td></tr><tr><td>&quot;The Silence of the Lambs&quot;</td><td>&quot;Silence of the Lambs The&quot;</td></tr><tr><td>&quot;The Shawshank Redemption&quot;</td><td>&quot;Shawshank Redemption The&quot;</td></tr></tbody></table></div>"
      ],
      "text/plain": [
       "shape: (5, 2)\n",
       "┌────────────────────────────────┬────────────────────────────────┐\n",
       "│ movie_title                    ┆ movie_title_alphabetical       │\n",
       "│ ---                            ┆ ---                            │\n",
       "│ str                            ┆ str                            │\n",
       "╞════════════════════════════════╪════════════════════════════════╡\n",
       "│ All Quiet On The Western Front ┆ All Quiet On The Western Front │\n",
       "│ The Northman                   ┆ Northman The                   │\n",
       "│ The Batman                     ┆ Batman The                     │\n",
       "│ The Silence of the Lambs       ┆ Silence of the Lambs The       │\n",
       "│ The Shawshank Redemption       ┆ Shawshank Redemption The       │\n",
       "└────────────────────────────────┴────────────────────────────────┘"
      ]
     },
     "execution_count": 13,
     "metadata": {},
     "output_type": "execute_result"
    }
   ],
   "source": [
    "# create alphabetized movie title\n",
    "add = add.with_columns(\n",
    "    movie_title_alphabetical = pl.when(\n",
    "        # when the movie title starts with 'The'\n",
    "        pl.col(\"movie_title\").str.contains(r'(?i)^the')\n",
    "    )\n",
    "    # move 'The' to the end\n",
    "    # (remove whitespace in the interim)\n",
    "    .then(pl.col(\"movie_title\").str.replace(r'(?i)^the', '').str.replace_all(r'^\\s+|\\s+$', \"\") + pl.lit(\" The\"))\n",
    "    .otherwise(pl.col(\"movie_title\"))\n",
    ")\n",
    "\n",
    "add.filter(pl.col(\"movie_title\").str.contains(\"The\", literal=True))\\\n",
    "    .select(pl.col(\"movie_title\", \"movie_title_alphabetical\")).head()"
   ]
  },
  {
   "cell_type": "markdown",
   "metadata": {},
   "source": [
    "2. Align columns and join"
   ]
  },
  {
   "cell_type": "code",
   "execution_count": 15,
   "metadata": {},
   "outputs": [
    {
     "data": {
      "text/html": [
       "<div><style>\n",
       ".dataframe > thead > tr,\n",
       ".dataframe > tbody > tr {\n",
       "  text-align: right;\n",
       "  white-space: pre-wrap;\n",
       "}\n",
       "</style>\n",
       "<small>shape: (5, 8)</small><table border=\"1\" class=\"dataframe\"><thead><tr><th>index</th><th>movie_title</th><th>date</th><th>script</th><th>genre</th><th>writers</th><th>movie_title_alphabetical</th><th>dataset</th></tr><tr><td>u32</td><td>str</td><td>date</td><td>str</td><td>str</td><td>str</td><td>str</td><td>str</td></tr></thead><tbody><tr><td>0</td><td>&quot;12 Angry Men&quot;</td><td>null</td><td>&quot;1.\n",
       "NOTE: The notes on characte…</td><td>null</td><td>null</td><td>&quot;12 Angry Men&quot;</td><td>&quot;Google Search&quot;</td></tr><tr><td>1</td><td>&quot;15 Minutes&quot;</td><td>null</td><td>&quot;FADE IN\r\n",
       "\r\n",
       "\ton the words CZECH…</td><td>&quot;Action,Crime,Thriller&quot;</td><td>&quot;John Hertzfield&quot;</td><td>&quot;15 Minutes&quot;</td><td>&quot;https://www.kaggle.com/dataset…</td></tr><tr><td>2</td><td>&quot;2012&quot;</td><td>2008-02-01</td><td>&quot;OVER BLACK\r\n",
       "&nbsp;&nbsp;&nbsp;&nbsp;&nbsp;&nbsp;&nbsp;&nbsp;&nbsp;&nbsp;\r\n",
       "&nbsp;&nbsp;&nbsp;&nbsp;&nbsp;&nbsp;…</td><td>&quot;Action,Adventure,Drama,Sci-Fi,…</td><td>&quot;Roland Emmerich,Harald Kloser&quot;</td><td>&quot;2012&quot;</td><td>&quot;https://www.kaggle.com/dataset…</td></tr><tr><td>3</td><td>&quot;30 Minutes or Less&quot;</td><td>2009-12-01</td><td>&quot;The following is very loosely …</td><td>&quot;Action,Adventure,Comedy&quot;</td><td>&quot;Michael Diliberti,Matthew Sull…</td><td>&quot;30 Minutes or Less&quot;</td><td>&quot;https://www.kaggle.com/dataset…</td></tr><tr><td>4</td><td>&quot;48 Hrs&quot;</td><td>null</td><td>&quot;FADE IN:\r\n",
       "\r\n",
       "&nbsp;&nbsp;&nbsp;&nbsp;&nbsp;&nbsp;&nbsp;&nbsp;&nbsp;&nbsp;&nbsp;&nbsp;&nbsp;&nbsp;OPEN…</td><td>&quot;Action,Comedy,Thriller&quot;</td><td>&quot;Steven E. De Souza,Walter Hill…</td><td>&quot;48 Hrs&quot;</td><td>&quot;https://www.kaggle.com/dataset…</td></tr></tbody></table></div>"
      ],
      "text/plain": [
       "shape: (5, 8)\n",
       "┌───────┬────────────┬────────────┬────────────┬────────────┬────────────┬────────────┬────────────┐\n",
       "│ index ┆ movie_titl ┆ date       ┆ script     ┆ genre      ┆ writers    ┆ movie_titl ┆ dataset    │\n",
       "│ ---   ┆ e          ┆ ---        ┆ ---        ┆ ---        ┆ ---        ┆ e_alphabet ┆ ---        │\n",
       "│ u32   ┆ ---        ┆ date       ┆ str        ┆ str        ┆ str        ┆ ical       ┆ str        │\n",
       "│       ┆ str        ┆            ┆            ┆            ┆            ┆ ---        ┆            │\n",
       "│       ┆            ┆            ┆            ┆            ┆            ┆ str        ┆            │\n",
       "╞═══════╪════════════╪════════════╪════════════╪════════════╪════════════╪════════════╪════════════╡\n",
       "│ 0     ┆ 12 Angry   ┆ null       ┆ 1.         ┆ null       ┆ null       ┆ 12 Angry   ┆ Google     │\n",
       "│       ┆ Men        ┆            ┆ NOTE: The  ┆            ┆            ┆ Men        ┆ Search     │\n",
       "│       ┆            ┆            ┆ notes on   ┆            ┆            ┆            ┆            │\n",
       "│       ┆            ┆            ┆ characte…  ┆            ┆            ┆            ┆            │\n",
       "│ 1     ┆ 15 Minutes ┆ null       ┆ FADE IN\n",
       "   ┆ Action,Cri ┆ John       ┆ 15 Minutes ┆ https://ww │\n",
       "│       ┆            ┆            ┆ \n",
       "          ┆ me,Thrille ┆ Hertzfield ┆            ┆ w.kaggle.c │\n",
       "│       ┆            ┆            ┆ \ton the    ┆ r          ┆            ┆            ┆ om/dataset │\n",
       "│       ┆            ┆            ┆ words      ┆            ┆            ┆            ┆ …          │\n",
       "│       ┆            ┆            ┆ CZECH…     ┆            ┆            ┆            ┆            │\n",
       "│ 2     ┆ 2012       ┆ 2008-02-01 ┆ OVER       ┆ Action,Adv ┆ Roland Emm ┆ 2012       ┆ https://ww │\n",
       "│       ┆            ┆            ┆ BLACK\n",
       "     ┆ enture,Dra ┆ erich,Hara ┆            ┆ w.kaggle.c │\n",
       "│       ┆            ┆            ┆ \n",
       "          ┆ ma,Sci-Fi, ┆ ld Kloser  ┆            ┆ om/dataset │\n",
       "│       ┆            ┆            ┆       …    ┆ …          ┆            ┆            ┆ …          │\n",
       "│ 3     ┆ 30 Minutes ┆ 2009-12-01 ┆ The        ┆ Action,Adv ┆ Michael    ┆ 30 Minutes ┆ https://ww │\n",
       "│       ┆ or Less    ┆            ┆ following  ┆ enture,Com ┆ Diliberti, ┆ or Less    ┆ w.kaggle.c │\n",
       "│       ┆            ┆            ┆ is very    ┆ edy        ┆ Matthew    ┆            ┆ om/dataset │\n",
       "│       ┆            ┆            ┆ loosely …  ┆            ┆ Sull…      ┆            ┆ …          │\n",
       "│ 4     ┆ 48 Hrs     ┆ null       ┆ FADE IN:\n",
       "  ┆ Action,Com ┆ Steven E.  ┆ 48 Hrs     ┆ https://ww │\n",
       "│       ┆            ┆            ┆ \n",
       "          ┆ edy,Thrill ┆ De Souza,W ┆            ┆ w.kaggle.c │\n",
       "│       ┆            ┆            ┆ OPEN…      ┆ er         ┆ alter      ┆            ┆ om/dataset │\n",
       "│       ┆            ┆            ┆            ┆            ┆ Hill…      ┆            ┆ …          │\n",
       "└───────┴────────────┴────────────┴────────────┴────────────┴────────────┴────────────┴────────────┘"
      ]
     },
     "execution_count": 15,
     "metadata": {},
     "output_type": "execute_result"
    }
   ],
   "source": [
    "df_dropped = df.drop(pl.col(\n",
    "    \"sr.no\", \n",
    "    \"comma_count\", \n",
    "    \"script_length\", \n",
    "    \"fraction_commas\",\n",
    "    \"script_original\",\n",
    "    \"date_original\"\n",
    ")).with_columns(\n",
    "    dataset = pl.lit(\"https://www.kaggle.com/datasets/prasad22/the-internet-movie-script-dataset\")\n",
    ")\n",
    "add_out = add.drop(pl.col(\n",
    "    \"filepath\"\n",
    ")).with_columns(\n",
    "    writers = pl.lit(None).cast(pl.String),\n",
    "    genre = pl.lit(None).cast(pl.String),\n",
    "    date = pl.lit(None).cast(pl.Date),\n",
    "    dataset = pl.lit(\"Google Search\")\n",
    ").select(pl.col(df_dropped.columns))\n",
    "\n",
    "dfout = pl.concat([df_dropped, add_out])\\\n",
    "    .select(pl.col(\"movie_title\", \"date\", \"script\", \"genre\", \"writers\", \"movie_title_alphabetical\", \"dataset\"))\\\n",
    "    .sort(pl.col(\"movie_title_alphabetical\"))\\\n",
    "    .with_row_index()\n",
    "dfout.head()"
   ]
  },
  {
   "cell_type": "markdown",
   "metadata": {},
   "source": [
    "Check for duplicates\n",
    "\n",
    "**1 duplicate!**"
   ]
  },
  {
   "cell_type": "code",
   "execution_count": 16,
   "metadata": {},
   "outputs": [
    {
     "data": {
      "text/html": [
       "<div><style>\n",
       ".dataframe > thead > tr,\n",
       ".dataframe > tbody > tr {\n",
       "  text-align: right;\n",
       "  white-space: pre-wrap;\n",
       "}\n",
       "</style>\n",
       "<small>shape: (2, 9)</small><table border=\"1\" class=\"dataframe\"><thead><tr><th>index</th><th>movie_title</th><th>date</th><th>script</th><th>genre</th><th>writers</th><th>movie_title_alphabetical</th><th>dataset</th><th>collapsed_movie_title</th></tr><tr><td>u32</td><td>str</td><td>date</td><td>str</td><td>str</td><td>str</td><td>str</td><td>str</td><td>str</td></tr></thead><tbody><tr><td>20</td><td>&quot;Avengers Endgame&quot;</td><td>null</td><td>&quot;FOR YOUR CONSIDERATION\n",
       "BEST AD…</td><td>null</td><td>null</td><td>&quot;Avengers Endgame&quot;</td><td>&quot;Google Search&quot;</td><td>&quot;avengersendgame&quot;</td></tr><tr><td>21</td><td>&quot;Avengers: Endgame&quot;</td><td>2019-04-01</td><td>&quot;AVENGERS: ENDGAME\r\n",
       "\r\n",
       "\r\n",
       "\r\n",
       "\r\n",
       "&nbsp;&nbsp;&nbsp;…</td><td>&quot;Action,Adventure,Drama&quot;</td><td>&quot;Christopher Markus,Stephen McF…</td><td>&quot;Avengers: Endgame&quot;</td><td>&quot;https://www.kaggle.com/dataset…</td><td>&quot;avengersendgame&quot;</td></tr></tbody></table></div>"
      ],
      "text/plain": [
       "shape: (2, 9)\n",
       "┌───────┬────────────┬────────────┬────────────┬───┬───────────┬───────────┬───────────┬───────────┐\n",
       "│ index ┆ movie_titl ┆ date       ┆ script     ┆ … ┆ writers   ┆ movie_tit ┆ dataset   ┆ collapsed │\n",
       "│ ---   ┆ e          ┆ ---        ┆ ---        ┆   ┆ ---       ┆ le_alphab ┆ ---       ┆ _movie_ti │\n",
       "│ u32   ┆ ---        ┆ date       ┆ str        ┆   ┆ str       ┆ etical    ┆ str       ┆ tle       │\n",
       "│       ┆ str        ┆            ┆            ┆   ┆           ┆ ---       ┆           ┆ ---       │\n",
       "│       ┆            ┆            ┆            ┆   ┆           ┆ str       ┆           ┆ str       │\n",
       "╞═══════╪════════════╪════════════╪════════════╪═══╪═══════════╪═══════════╪═══════════╪═══════════╡\n",
       "│ 20    ┆ Avengers   ┆ null       ┆ FOR YOUR   ┆ … ┆ null      ┆ Avengers  ┆ Google    ┆ avengerse │\n",
       "│       ┆ Endgame    ┆            ┆ CONSIDERAT ┆   ┆           ┆ Endgame   ┆ Search    ┆ ndgame    │\n",
       "│       ┆            ┆            ┆ ION        ┆   ┆           ┆           ┆           ┆           │\n",
       "│       ┆            ┆            ┆ BEST AD…   ┆   ┆           ┆           ┆           ┆           │\n",
       "│ 21    ┆ Avengers:  ┆ 2019-04-01 ┆ AVENGERS:  ┆ … ┆ Christoph ┆ Avengers: ┆ https://w ┆ avengerse │\n",
       "│       ┆ Endgame    ┆            ┆ ENDGAME\n",
       "   ┆   ┆ er Markus ┆ Endgame   ┆ ww.kaggle ┆ ndgame    │\n",
       "│       ┆            ┆            ┆ \n",
       "          ┆   ┆ ,Stephen  ┆           ┆ .com/data ┆           │\n",
       "│       ┆            ┆            ┆ \n",
       "          ┆   ┆ McF…      ┆           ┆ set…      ┆           │\n",
       "│       ┆            ┆            ┆ \n",
       "          ┆   ┆           ┆           ┆           ┆           │\n",
       "│       ┆            ┆            ┆ \n",
       "          ┆   ┆           ┆           ┆           ┆           │\n",
       "│       ┆            ┆            ┆    …       ┆   ┆           ┆           ┆           ┆           │\n",
       "└───────┴────────────┴────────────┴────────────┴───┴───────────┴───────────┴───────────┴───────────┘"
      ]
     },
     "execution_count": 16,
     "metadata": {},
     "output_type": "execute_result"
    }
   ],
   "source": [
    "dfout = dfout.with_columns(\n",
    "    pl.col(\"movie_title\").str.to_lowercase().str.replace_all(r'[^a-z0-9]', \"\")\\\n",
    "        .alias(\"collapsed_movie_title\")\n",
    ")\n",
    "dfout.filter(pl.col(\"collapsed_movie_title\").is_duplicated())"
   ]
  },
  {
   "cell_type": "markdown",
   "metadata": {},
   "source": [
    "Let's keep the script from the google search, but the metadata of the kaggle dataset"
   ]
  },
  {
   "cell_type": "code",
   "execution_count": 17,
   "metadata": {},
   "outputs": [
    {
     "name": "stdout",
     "output_type": "stream",
     "text": [
      "153381\n",
      "34014\n"
     ]
    }
   ],
   "source": [
    "print(len(dfout[20, \"script\"]))\n",
    "print(len(dfout[21, \"script\"]))"
   ]
  },
  {
   "cell_type": "code",
   "execution_count": 18,
   "metadata": {},
   "outputs": [],
   "source": [
    "for column in [\"movie_title\", \"date\", \"genre\", \"writers\"]:\n",
    "    # copy over data\n",
    "    dfout[20, column] = dfout[21, column]\n",
    "\n",
    "# filter out the duplicate then reset row index\n",
    "dfout = dfout.filter(pl.col(\"index\") != 21).drop(pl.col(\"index\")).with_row_index()"
   ]
  },
  {
   "cell_type": "markdown",
   "metadata": {},
   "source": [
    "# Data Validation\n",
    "\n",
    "In this section we check for issues loading text from PDF by looking for outliers in script length, special characters, and punctuation.\n",
    "\n",
    "## 1. Script Length"
   ]
  },
  {
   "cell_type": "code",
   "execution_count": 31,
   "metadata": {},
   "outputs": [
    {
     "data": {
      "image/png": "[encoded data removed]",
      "text/plain": [
       "<Figure size 640x480 with 1 Axes>"
      ]
     },
     "metadata": {},
     "output_type": "display_data"
    },
    {
     "data": {
      "text/html": [
       "<div><style>\n",
       ".dataframe > thead > tr,\n",
       ".dataframe > tbody > tr {\n",
       "  text-align: right;\n",
       "  white-space: pre-wrap;\n",
       "}\n",
       "</style>\n",
       "<small>shape: (3, 10)</small><table border=\"1\" class=\"dataframe\"><thead><tr><th>index</th><th>movie_title</th><th>date</th><th>script</th><th>genre</th><th>writers</th><th>movie_title_alphabetical</th><th>dataset</th><th>collapsed_movie_title</th><th>script_length</th></tr><tr><td>u32</td><td>str</td><td>date</td><td>str</td><td>str</td><td>str</td><td>str</td><td>str</td><td>str</td><td>u32</td></tr></thead><tbody><tr><td>5</td><td>&quot;9&quot;</td><td>2009-09-01</td><td>&quot; SEQ. 05 - PROLOGUE\r\n",
       " \r\n",
       " The F…</td><td>&quot;Animation,Adventure,Drama,Fant…</td><td>&quot;Pamela Pettler,Shane Acker&quot;</td><td>&quot;9&quot;</td><td>&quot;https://www.kaggle.com/dataset…</td><td>&quot;9&quot;</td><td>20240</td></tr><tr><td>107</td><td>&quot;Wall-E&quot;</td><td>2008-06-01</td><td>&quot;EXT. SPACE\r\n",
       " \r\n",
       " FADE IN:\r\n",
       " \r\n",
       " …</td><td>&quot;Animation,Adventure,Comedy,Dra…</td><td>&quot;Andrew Stanton,Pete Docter&quot;</td><td>&quot;Wall-E&quot;</td><td>&quot;https://www.kaggle.com/dataset…</td><td>&quot;walle&quot;</td><td>21479</td></tr><tr><td>106</td><td>&quot;Up&quot;</td><td>2009-05-01</td><td>&quot; 1.\r\n",
       "\r\n",
       " \r\n",
       " A 1930&#x27;s NEWSREEL.\r…</td><td>&quot;Animation,,Adventure,Comedy,Dr…</td><td>&quot;Pete Docter,Bob Peterson,Thoma…</td><td>&quot;Up&quot;</td><td>&quot;https://www.kaggle.com/dataset…</td><td>&quot;up&quot;</td><td>21500</td></tr></tbody></table></div>"
      ],
      "text/plain": [
       "shape: (3, 10)\n",
       "┌───────┬────────────┬────────────┬────────────┬───┬───────────┬───────────┬───────────┬───────────┐\n",
       "│ index ┆ movie_titl ┆ date       ┆ script     ┆ … ┆ movie_tit ┆ dataset   ┆ collapsed ┆ script_le │\n",
       "│ ---   ┆ e          ┆ ---        ┆ ---        ┆   ┆ le_alphab ┆ ---       ┆ _movie_ti ┆ ngth      │\n",
       "│ u32   ┆ ---        ┆ date       ┆ str        ┆   ┆ etical    ┆ str       ┆ tle       ┆ ---       │\n",
       "│       ┆ str        ┆            ┆            ┆   ┆ ---       ┆           ┆ ---       ┆ u32       │\n",
       "│       ┆            ┆            ┆            ┆   ┆ str       ┆           ┆ str       ┆           │\n",
       "╞═══════╪════════════╪════════════╪════════════╪═══╪═══════════╪═══════════╪═══════════╪═══════════╡\n",
       "│ 5     ┆ 9          ┆ 2009-09-01 ┆ SEQ. 05 -  ┆ … ┆ 9         ┆ https://w ┆ 9         ┆ 20240     │\n",
       "│       ┆            ┆            ┆ PROLOGUE\n",
       "  ┆   ┆           ┆ ww.kaggle ┆           ┆           │\n",
       "│       ┆            ┆            ┆  \n",
       "         ┆   ┆           ┆ .com/data ┆           ┆           │\n",
       "│       ┆            ┆            ┆  The F…    ┆   ┆           ┆ set…      ┆           ┆           │\n",
       "│ 107   ┆ Wall-E     ┆ 2008-06-01 ┆ EXT.       ┆ … ┆ Wall-E    ┆ https://w ┆ walle     ┆ 21479     │\n",
       "│       ┆            ┆            ┆ SPACE\n",
       "     ┆   ┆           ┆ ww.kaggle ┆           ┆           │\n",
       "│       ┆            ┆            ┆  \n",
       "         ┆   ┆           ┆ .com/data ┆           ┆           │\n",
       "│       ┆            ┆            ┆  FADE IN:\n",
       " ┆   ┆           ┆ set…      ┆           ┆           │\n",
       "│       ┆            ┆            ┆  \n",
       "         ┆   ┆           ┆           ┆           ┆           │\n",
       "│       ┆            ┆            ┆  …         ┆   ┆           ┆           ┆           ┆           │\n",
       "│ 106   ┆ Up         ┆ 2009-05-01 ┆  1.\n",
       "       ┆ … ┆ Up        ┆ https://w ┆ up        ┆ 21500     │\n",
       "│       ┆            ┆            ┆ \n",
       "          ┆   ┆           ┆ ww.kaggle ┆           ┆           │\n",
       "│       ┆            ┆            ┆  \n",
       "         ┆   ┆           ┆ .com/data ┆           ┆           │\n",
       "│       ┆            ┆            ┆ A 1930's   ┆   ┆           ┆ set…      ┆           ┆           │\n",
       "│       ┆            ┆            ┆ NEWSREEL.\n",
       " ┆   ┆           ┆           ┆           ┆           │\n",
       "│       ┆            ┆            ┆ …          ┆   ┆           ┆           ┆           ┆           │\n",
       "└───────┴────────────┴────────────┴────────────┴───┴───────────┴───────────┴───────────┴───────────┘"
      ]
     },
     "metadata": {},
     "output_type": "display_data"
    },
    {
     "name": "stdout",
     "output_type": "stream",
     "text": [
      "...\n"
     ]
    },
    {
     "data": {
      "text/html": [
       "<div><style>\n",
       ".dataframe > thead > tr,\n",
       ".dataframe > tbody > tr {\n",
       "  text-align: right;\n",
       "  white-space: pre-wrap;\n",
       "}\n",
       "</style>\n",
       "<small>shape: (3, 10)</small><table border=\"1\" class=\"dataframe\"><thead><tr><th>index</th><th>movie_title</th><th>date</th><th>script</th><th>genre</th><th>writers</th><th>movie_title_alphabetical</th><th>dataset</th><th>collapsed_movie_title</th><th>script_length</th></tr><tr><td>u32</td><td>str</td><td>date</td><td>str</td><td>str</td><td>str</td><td>str</td><td>str</td><td>str</td><td>u32</td></tr></thead><tbody><tr><td>47</td><td>&quot;Forrest Gump&quot;</td><td>null</td><td>&quot;&nbsp;&nbsp;&nbsp;&nbsp;&nbsp;&nbsp;&nbsp;&nbsp;&nbsp;&nbsp;&nbsp;&nbsp;&nbsp;&nbsp;&nbsp;&nbsp;&nbsp;&nbsp;&nbsp;&nbsp;&nbsp;&nbsp;&nbsp;&nbsp;&nbsp;&nbsp;&nbsp;&nbsp;&nbsp;&nbsp;…</td><td>null</td><td>null</td><td>&quot;Forrest Gump&quot;</td><td>&quot;Google Search&quot;</td><td>&quot;forrestgump&quot;</td><td>283204</td></tr><tr><td>92</td><td>&quot;Seven Samurai&quot;</td><td>null</td><td>&quot;SEVEN SAMURAI\n",
       "Written by\n",
       "Akira…</td><td>null</td><td>null</td><td>&quot;Seven Samurai&quot;</td><td>&quot;Google Search&quot;</td><td>&quot;sevensamurai&quot;</td><td>329726</td></tr><tr><td>96</td><td>&quot;The Silence of the Lambs&quot;</td><td>null</td><td>&quot;THE SILENCE OF THE LAMBS\n",
       "by\n",
       "Te…</td><td>null</td><td>null</td><td>&quot;Silence of the Lambs The&quot;</td><td>&quot;Google Search&quot;</td><td>&quot;thesilenceofthelambs&quot;</td><td>352653</td></tr></tbody></table></div>"
      ],
      "text/plain": [
       "shape: (3, 10)\n",
       "┌───────┬─────────────┬──────┬─────────────┬───┬─────────────┬─────────┬─────────────┬─────────────┐\n",
       "│ index ┆ movie_title ┆ date ┆ script      ┆ … ┆ movie_title ┆ dataset ┆ collapsed_m ┆ script_leng │\n",
       "│ ---   ┆ ---         ┆ ---  ┆ ---         ┆   ┆ _alphabetic ┆ ---     ┆ ovie_title  ┆ th          │\n",
       "│ u32   ┆ str         ┆ date ┆ str         ┆   ┆ al          ┆ str     ┆ ---         ┆ ---         │\n",
       "│       ┆             ┆      ┆             ┆   ┆ ---         ┆         ┆ str         ┆ u32         │\n",
       "│       ┆             ┆      ┆             ┆   ┆ str         ┆         ┆             ┆             │\n",
       "╞═══════╪═════════════╪══════╪═════════════╪═══╪═════════════╪═════════╪═════════════╪═════════════╡\n",
       "│ 47    ┆ Forrest     ┆ null ┆ …           ┆ … ┆ Forrest     ┆ Google  ┆ forrestgump ┆ 283204      │\n",
       "│       ┆ Gump        ┆      ┆             ┆   ┆ Gump        ┆ Search  ┆             ┆             │\n",
       "│ 92    ┆ Seven       ┆ null ┆ SEVEN       ┆ … ┆ Seven       ┆ Google  ┆ sevensamura ┆ 329726      │\n",
       "│       ┆ Samurai     ┆      ┆ SAMURAI     ┆   ┆ Samurai     ┆ Search  ┆ i           ┆             │\n",
       "│       ┆             ┆      ┆ Written by  ┆   ┆             ┆         ┆             ┆             │\n",
       "│       ┆             ┆      ┆ Akira…      ┆   ┆             ┆         ┆             ┆             │\n",
       "│ 96    ┆ The Silence ┆ null ┆ THE SILENCE ┆ … ┆ Silence of  ┆ Google  ┆ thesilenceo ┆ 352653      │\n",
       "│       ┆ of the      ┆      ┆ OF THE      ┆   ┆ the Lambs   ┆ Search  ┆ fthelambs   ┆             │\n",
       "│       ┆ Lambs       ┆      ┆ LAMBS       ┆   ┆ The         ┆         ┆             ┆             │\n",
       "│       ┆             ┆      ┆ by          ┆   ┆             ┆         ┆             ┆             │\n",
       "│       ┆             ┆      ┆ Te…         ┆   ┆             ┆         ┆             ┆             │\n",
       "└───────┴─────────────┴──────┴─────────────┴───┴─────────────┴─────────┴─────────────┴─────────────┘"
      ]
     },
     "metadata": {},
     "output_type": "display_data"
    }
   ],
   "source": [
    "# is the script a strange length?\n",
    "dfout = dfout.with_columns(\n",
    "    pl.col(\"script\").str.len_chars().alias(\"script_length\")\n",
    ")\n",
    "sns.boxplot(\n",
    "    x = dfout[\"script_length\"]\n",
    ")\n",
    "plt.show()\n",
    "\n",
    "display(\n",
    "    dfout.sort(\"script_length\").head(3)\n",
    ")\n",
    "print(\"...\")\n",
    "display(\n",
    "    dfout.sort(\"script_length\").tail(3)\n",
    ")"
   ]
  },
  {
   "cell_type": "markdown",
   "metadata": {},
   "source": [
    "Let's check the shortest script in the dataset\n",
    "\n",
    "Looks fine to me"
   ]
  },
  {
   "cell_type": "code",
   "execution_count": 32,
   "metadata": {},
   "outputs": [
    {
     "name": "stdout",
     "output_type": "stream",
     "text": [
      " SEQ. 05 - PROLOGUE\n",
      " \n",
      " The Focus Features logo appears on screen and we slide INTO\n",
      " the \"O\" in Focus.\n",
      " \n",
      " Stock dissolves from 35mm to 16mm. BLACK & WHITE. GRAINY \n",
      " like OLD DOCUMENTARY FOOTAGE.\n",
      " \n",
      " SCIENTIST'S VOICE\n",
      " Experiment 208 day 20...\n",
      " \n",
      " \n",
      " INT. SCIENTIST'S LAB - DAY\n",
      "\n",
      " We see an e\n",
      "...\n",
      "ther of pearl and wire hat bound together as an\n",
      " almost papal-like headpiece and carries a staff made from an\n",
      " old gear with a bell attached.\n",
      " \n",
      " pulls at 9 with his staff displaying the number on his\n",
      " back.\n",
      " \n",
      " 1\n",
      " hat's this?\n",
      " \n",
      " turns and glares at 5 like a general glaring at a new\n",
      " privat\n"
     ]
    }
   ],
   "source": [
    "shortest_script = dfout.filter(pl.col(\"script_length\") == dfout[\"script_length\"].min())[0, \"script\"]\n",
    "print(shortest_script[:300])\n",
    "print(\"...\")\n",
    "print(shortest_script[-300:])"
   ]
  },
  {
   "cell_type": "markdown",
   "metadata": {},
   "source": [
    "Now the longest\n",
    "\n",
    "Looks normal"
   ]
  },
  {
   "cell_type": "code",
   "execution_count": 34,
   "metadata": {},
   "outputs": [
    {
     "name": "stdout",
     "output_type": "stream",
     "text": [
      "THE SILENCE OF THE LAMBS\n",
      "by\n",
      "Ted Tally\n",
      "Based on the novel by\n",
      "Thomas Harris\n",
      "This screenplay has been converted to a PDF file by ScreenTalk™\n",
      "http://www.screentalk.org\n",
      "FADE IN:FADE IN:\n",
      "INT. GRUBBY HOTEL CORRIDOR - DAY (DIMLY LIT)INT. GRUBBY HOTEL CORRIDOR - DAY (DIMLY LIT)\n",
      "A woman's face BACKS INTO SHOT\n",
      "...\n",
      "ders him for a genial moment, then raises the littleConsiders him for a genial moment, then raises the little\n",
      "pen-knife. His eyes are twinkling.pen-knife. His eyes are twinkling.\n",
      "DR. LECTERDR. LECTER\n",
      "Well, Dr. Chilton. Shall we begin?Well, Dr. Chilton. Shall we begin?\n",
      "FADE OUTFADE OUT\n",
      "THE ENDTHE END\n"
     ]
    }
   ],
   "source": [
    "longest_script = dfout.filter(pl.col(\"script_length\") == dfout[\"script_length\"].max())[0, \"script\"]\n",
    "print(longest_script[:300])\n",
    "print(\"...\")\n",
    "print(longest_script[-300:])"
   ]
  },
  {
   "cell_type": "markdown",
   "metadata": {},
   "source": [
    "## 2. Non Alphanumeric Characters\n",
    "\n",
    "Let's make sure none of the scripts are filled with pdf relics"
   ]
  },
  {
   "cell_type": "code",
   "execution_count": null,
   "metadata": {},
   "outputs": [
    {
     "data": {
      "image/png": "[encoded data removed]",
      "text/plain": [
       "<Figure size 640x480 with 1 Axes>"
      ]
     },
     "metadata": {},
     "output_type": "display_data"
    },
    {
     "data": {
      "text/html": [
       "<div><style>\n",
       ".dataframe > thead > tr,\n",
       ".dataframe > tbody > tr {\n",
       "  text-align: right;\n",
       "  white-space: pre-wrap;\n",
       "}\n",
       "</style>\n",
       "<small>shape: (5, 11)</small><table border=\"1\" class=\"dataframe\"><thead><tr><th>index</th><th>movie_title</th><th>date</th><th>script</th><th>genre</th><th>writers</th><th>movie_title_alphabetical</th><th>dataset</th><th>collapsed_movie_title</th><th>script_length</th><th>number_non_alphanumeric_chars</th></tr><tr><td>u32</td><td>str</td><td>date</td><td>str</td><td>str</td><td>str</td><td>str</td><td>str</td><td>str</td><td>u32</td><td>u32</td></tr></thead><tbody><tr><td>96</td><td>&quot;The Silence of the Lambs&quot;</td><td>null</td><td>&quot;THE SILENCE OF THE LAMBS\n",
       "by\n",
       "Te…</td><td>null</td><td>null</td><td>&quot;Silence of the Lambs The&quot;</td><td>&quot;Google Search&quot;</td><td>&quot;thesilenceofthelambs&quot;</td><td>352653</td><td>21078</td></tr><tr><td>23</td><td>&quot;The Batman&quot;</td><td>null</td><td>&quot;Rev. 12/17/20 (Blue) \n",
       "THE BATM…</td><td>null</td><td>null</td><td>&quot;Batman The&quot;</td><td>&quot;Google Search&quot;</td><td>&quot;thebatman&quot;</td><td>195691</td><td>14096</td></tr><tr><td>98</td><td>&quot;Spider Man No Way Home&quot;</td><td>null</td><td>&quot;Written as\n",
       "Written by\n",
       "Chris Mc…</td><td>null</td><td>null</td><td>&quot;Spider Man No Way Home&quot;</td><td>&quot;Google Search&quot;</td><td>&quot;spidermannowayhome&quot;</td><td>205954</td><td>13349</td></tr><tr><td>25</td><td>&quot;Black Panther Wakanda Forever&quot;</td><td>null</td><td>&quot;SUMMER BREAK\n",
       "Written by\n",
       "Ryan C…</td><td>null</td><td>null</td><td>&quot;Black Panther Wakanda Forever&quot;</td><td>&quot;Google Search&quot;</td><td>&quot;blackpantherwakandaforever&quot;</td><td>236468</td><td>13250</td></tr><tr><td>42</td><td>&quot;Elvis&quot;</td><td>null</td><td>&quot;ELVIS\n",
       "Screenplay by\n",
       "BAZ LUHRMA…</td><td>null</td><td>null</td><td>&quot;Elvis&quot;</td><td>&quot;Google Search&quot;</td><td>&quot;elvis&quot;</td><td>218351</td><td>12944</td></tr></tbody></table></div>"
      ],
      "text/plain": [
       "shape: (5, 11)\n",
       "┌───────┬─────────────┬──────┬─────────────┬───┬─────────┬─────────────┬─────────────┬─────────────┐\n",
       "│ index ┆ movie_title ┆ date ┆ script      ┆ … ┆ dataset ┆ collapsed_m ┆ script_leng ┆ number_non_ │\n",
       "│ ---   ┆ ---         ┆ ---  ┆ ---         ┆   ┆ ---     ┆ ovie_title  ┆ th          ┆ alphanumeri │\n",
       "│ u32   ┆ str         ┆ date ┆ str         ┆   ┆ str     ┆ ---         ┆ ---         ┆ c_chars     │\n",
       "│       ┆             ┆      ┆             ┆   ┆         ┆ str         ┆ u32         ┆ ---         │\n",
       "│       ┆             ┆      ┆             ┆   ┆         ┆             ┆             ┆ u32         │\n",
       "╞═══════╪═════════════╪══════╪═════════════╪═══╪═════════╪═════════════╪═════════════╪═════════════╡\n",
       "│ 96    ┆ The Silence ┆ null ┆ THE SILENCE ┆ … ┆ Google  ┆ thesilenceo ┆ 352653      ┆ 21078       │\n",
       "│       ┆ of the      ┆      ┆ OF THE      ┆   ┆ Search  ┆ fthelambs   ┆             ┆             │\n",
       "│       ┆ Lambs       ┆      ┆ LAMBS       ┆   ┆         ┆             ┆             ┆             │\n",
       "│       ┆             ┆      ┆ by          ┆   ┆         ┆             ┆             ┆             │\n",
       "│       ┆             ┆      ┆ Te…         ┆   ┆         ┆             ┆             ┆             │\n",
       "│ 23    ┆ The Batman  ┆ null ┆ Rev.        ┆ … ┆ Google  ┆ thebatman   ┆ 195691      ┆ 14096       │\n",
       "│       ┆             ┆      ┆ 12/17/20    ┆   ┆ Search  ┆             ┆             ┆             │\n",
       "│       ┆             ┆      ┆ (Blue)      ┆   ┆         ┆             ┆             ┆             │\n",
       "│       ┆             ┆      ┆ THE BATM…   ┆   ┆         ┆             ┆             ┆             │\n",
       "│ 98    ┆ Spider Man  ┆ null ┆ Written as  ┆ … ┆ Google  ┆ spidermanno ┆ 205954      ┆ 13349       │\n",
       "│       ┆ No Way Home ┆      ┆ Written by  ┆   ┆ Search  ┆ wayhome     ┆             ┆             │\n",
       "│       ┆             ┆      ┆ Chris Mc…   ┆   ┆         ┆             ┆             ┆             │\n",
       "│ 25    ┆ Black       ┆ null ┆ SUMMER      ┆ … ┆ Google  ┆ blackpanthe ┆ 236468      ┆ 13250       │\n",
       "│       ┆ Panther     ┆      ┆ BREAK       ┆   ┆ Search  ┆ rwakandafor ┆             ┆             │\n",
       "│       ┆ Wakanda     ┆      ┆ Written by  ┆   ┆         ┆ ever        ┆             ┆             │\n",
       "│       ┆ Forever     ┆      ┆ Ryan C…     ┆   ┆         ┆             ┆             ┆             │\n",
       "│ 42    ┆ Elvis       ┆ null ┆ ELVIS       ┆ … ┆ Google  ┆ elvis       ┆ 218351      ┆ 12944       │\n",
       "│       ┆             ┆      ┆ Screenplay  ┆   ┆ Search  ┆             ┆             ┆             │\n",
       "│       ┆             ┆      ┆ by          ┆   ┆         ┆             ┆             ┆             │\n",
       "│       ┆             ┆      ┆ BAZ LUHRMA… ┆   ┆         ┆             ┆             ┆             │\n",
       "└───────┴─────────────┴──────┴─────────────┴───┴─────────┴─────────────┴─────────────┴─────────────┘"
      ]
     },
     "execution_count": 36,
     "metadata": {},
     "output_type": "execute_result"
    }
   ],
   "source": [
    "dfout = dfout.with_columns(\n",
    "    pl.col(\"script\").str.count_matches(r'[^A-z0-9\\s]')\n",
    "    .alias(\"number_non_alphanumeric_chars\")\n",
    ")\n",
    "\n",
    "sns.boxplot(\n",
    "    x = dfout[\"number_non_alphanumeric_chars\"]\n",
    ")\n",
    "plt.show()\n",
    "\n",
    "dfout.sort(\"number_non_alphanumeric_chars\", descending=True)\\\n",
    "    .head()"
   ]
  },
  {
   "cell_type": "markdown",
   "metadata": {},
   "source": [
    "The script doesn't look damaged to me"
   ]
  },
  {
   "cell_type": "code",
   "execution_count": 37,
   "metadata": {},
   "outputs": [
    {
     "name": "stdout",
     "output_type": "stream",
     "text": [
      "THE SILENCE OF THE LAMBS\n",
      "by\n",
      "Ted Tally\n",
      "Based on the novel by\n",
      "Thomas Harris\n",
      "This screenplay has been converted to a PDF file by ScreenTalk™\n",
      "http://www.screentalk.org\n",
      "FADE IN:FADE IN:\n",
      "INT. GRUBBY HOTEL CORRIDOR - DAY (DIMLY LIT)INT. GRUBBY HOTEL CORRIDOR - DAY (DIMLY LIT)\n",
      "A woman's face BACKS INTO SHOT\n",
      "...\n",
      "ders him for a genial moment, then raises the littleConsiders him for a genial moment, then raises the little\n",
      "pen-knife. His eyes are twinkling.pen-knife. His eyes are twinkling.\n",
      "DR. LECTERDR. LECTER\n",
      "Well, Dr. Chilton. Shall we begin?Well, Dr. Chilton. Shall we begin?\n",
      "FADE OUTFADE OUT\n",
      "THE ENDTHE END\n"
     ]
    }
   ],
   "source": [
    "most_punctuation_chars = dfout.filter(pl.col(\"number_non_alphanumeric_chars\") == dfout[\"number_non_alphanumeric_chars\"].max())[0, \"script\"]\n",
    "print(most_punctuation_chars[:300])\n",
    "print(\"...\")\n",
    "print(most_punctuation_chars[-300:])"
   ]
  },
  {
   "cell_type": "markdown",
   "metadata": {},
   "source": [
    "Very reasonable punctuation characters"
   ]
  },
  {
   "cell_type": "code",
   "execution_count": 38,
   "metadata": {},
   "outputs": [
    {
     "data": {
      "text/plain": [
       "Counter({'.': 9322,\n",
       "         ',': 5326,\n",
       "         \"'\": 1910,\n",
       "         '-': 1514,\n",
       "         '(': 730,\n",
       "         ')': 730,\n",
       "         '?': 662,\n",
       "         ':': 309,\n",
       "         '\"': 224,\n",
       "         '!': 206,\n",
       "         ';': 128,\n",
       "         '/': 8,\n",
       "         '&': 6,\n",
       "         '$': 2,\n",
       "         '™': 1})"
      ]
     },
     "execution_count": 38,
     "metadata": {},
     "output_type": "execute_result"
    }
   ],
   "source": [
    "matches = re.findall(r'[^A-z0-9\\s]', most_punctuation_chars)\n",
    "\n",
    "non_alphanumeric_counts_sotl = Counter(matches)\n",
    "\n",
    "non_alphanumeric_counts_sotl"
   ]
  },
  {
   "cell_type": "markdown",
   "metadata": {},
   "source": [
    "## 3. Diacritics\n",
    "\n",
    "Let's make sure the only films including foreign languages have a large amount of diacritics"
   ]
  },
  {
   "cell_type": "code",
   "execution_count": 46,
   "metadata": {},
   "outputs": [
    {
     "data": {
      "image/png": "[encoded data removed]",
      "text/plain": [
       "<Figure size 640x480 with 1 Axes>"
      ]
     },
     "metadata": {},
     "output_type": "display_data"
    },
    {
     "data": {
      "text/html": [
       "<div><style>\n",
       ".dataframe > thead > tr,\n",
       ".dataframe > tbody > tr {\n",
       "  text-align: right;\n",
       "  white-space: pre-wrap;\n",
       "}\n",
       "</style>\n",
       "<small>shape: (5, 2)</small><table border=\"1\" class=\"dataframe\"><thead><tr><th>movie_title</th><th>number_diacritic_chars</th></tr><tr><td>str</td><td>u32</td></tr></thead><tbody><tr><td>&quot;Cidade de Deus (City of God)&quot;</td><td>4778</td></tr><tr><td>&quot;The Northman&quot;</td><td>990</td></tr><tr><td>&quot;The Lord of the Rings The Retu…</td><td>357</td></tr><tr><td>&quot;Schindler&#x27;s List&quot;</td><td>357</td></tr><tr><td>&quot;Encanto&quot;</td><td>128</td></tr></tbody></table></div>"
      ],
      "text/plain": [
       "shape: (5, 2)\n",
       "┌─────────────────────────────────┬────────────────────────┐\n",
       "│ movie_title                     ┆ number_diacritic_chars │\n",
       "│ ---                             ┆ ---                    │\n",
       "│ str                             ┆ u32                    │\n",
       "╞═════════════════════════════════╪════════════════════════╡\n",
       "│ Cidade de Deus (City of God)    ┆ 4778                   │\n",
       "│ The Northman                    ┆ 990                    │\n",
       "│ The Lord of the Rings The Retu… ┆ 357                    │\n",
       "│ Schindler's List                ┆ 357                    │\n",
       "│ Encanto                         ┆ 128                    │\n",
       "└─────────────────────────────────┴────────────────────────┘"
      ]
     },
     "execution_count": 46,
     "metadata": {},
     "output_type": "execute_result"
    }
   ],
   "source": [
    "diacritics_regex = r'[À-ž]'\n",
    "\n",
    "dfout = dfout.with_columns(\n",
    "    pl.col(\"script\").str.count_matches(diacritics_regex)\n",
    "    .alias(\"number_diacritic_chars\")\n",
    ")\n",
    "\n",
    "sns.boxplot(\n",
    "    x = dfout[\"number_diacritic_chars\"]\n",
    ")\n",
    "plt.show()\n",
    "\n",
    "dfout.sort(\"number_diacritic_chars\", descending=True)\\\n",
    "    .select(pl.col(\"movie_title\", \"number_diacritic_chars\")).head()"
   ]
  },
  {
   "cell_type": "markdown",
   "metadata": {},
   "source": [
    "All of these make sense"
   ]
  },
  {
   "cell_type": "markdown",
   "metadata": {},
   "source": [
    "## 4. Special Characters (Excluding Diacritics)\n",
    "\n",
    "Let's make sure none of the scripts are filled with pdf relics"
   ]
  },
  {
   "cell_type": "code",
   "execution_count": 67,
   "metadata": {},
   "outputs": [
    {
     "data": {
      "text/plain": [
       "['ˆ', '†', '˙', '$', '@', '#', '^', '&', '*']"
      ]
     },
     "execution_count": 67,
     "metadata": {},
     "output_type": "execute_result"
    }
   ],
   "source": [
    "rare_chars_regex = r'[^A-Za-zÀ-ÖØ-öø-ÿ0-9\\s\\.\\,\\;\\'\\\"\\-\\_\\(\\)\\!\\?’]'\n",
    "\n",
    "test_regex = re.findall(rare_chars_regex, \"don't match! døñ't ˆmå†ç˙  $@#yes^&match*\")\n",
    "[match for match in test_regex]"
   ]
  },
  {
   "cell_type": "code",
   "execution_count": 68,
   "metadata": {},
   "outputs": [
    {
     "data": {
      "image/png": "[encoded data removed]",
      "text/plain": [
       "<Figure size 640x480 with 1 Axes>"
      ]
     },
     "metadata": {},
     "output_type": "display_data"
    },
    {
     "data": {
      "text/html": [
       "<div><style>\n",
       ".dataframe > thead > tr,\n",
       ".dataframe > tbody > tr {\n",
       "  text-align: right;\n",
       "  white-space: pre-wrap;\n",
       "}\n",
       "</style>\n",
       "<small>shape: (5, 2)</small><table border=\"1\" class=\"dataframe\"><thead><tr><th>movie_title</th><th>number_rare_chars</th></tr><tr><td>str</td><td>u32</td></tr></thead><tbody><tr><td>&quot;12 Angry Men&quot;</td><td>2148</td></tr><tr><td>&quot;Black Panther Wakanda Forever&quot;</td><td>1948</td></tr><tr><td>&quot;Deadpool &amp; Wolverine&quot;</td><td>1565</td></tr><tr><td>&quot;Goodfellas&quot;</td><td>1177</td></tr><tr><td>&quot;Luca&quot;</td><td>1088</td></tr></tbody></table></div>"
      ],
      "text/plain": [
       "shape: (5, 2)\n",
       "┌───────────────────────────────┬───────────────────┐\n",
       "│ movie_title                   ┆ number_rare_chars │\n",
       "│ ---                           ┆ ---               │\n",
       "│ str                           ┆ u32               │\n",
       "╞═══════════════════════════════╪═══════════════════╡\n",
       "│ 12 Angry Men                  ┆ 2148              │\n",
       "│ Black Panther Wakanda Forever ┆ 1948              │\n",
       "│ Deadpool & Wolverine          ┆ 1565              │\n",
       "│ Goodfellas                    ┆ 1177              │\n",
       "│ Luca                          ┆ 1088              │\n",
       "└───────────────────────────────┴───────────────────┘"
      ]
     },
     "execution_count": 68,
     "metadata": {},
     "output_type": "execute_result"
    }
   ],
   "source": [
    "dfout = dfout.with_columns(\n",
    "    pl.col(\"script\").str.count_matches(rare_chars_regex)\n",
    "    .alias(\"number_rare_chars\")\n",
    ")\n",
    "\n",
    "sns.boxplot(\n",
    "    x = dfout[\"number_rare_chars\"]\n",
    ")\n",
    "plt.show()\n",
    "\n",
    "dfout.sort(\"number_rare_chars\", descending=True)\\\n",
    "    .select(pl.col(\"movie_title\", \"number_rare_chars\")).head()"
   ]
  },
  {
   "cell_type": "markdown",
   "metadata": {},
   "source": [
    "No issues here, looks like 12 Angry Men just uses the # character\n",
    "\n",
    "(The script was titled \"Summer Break\" by the author for secrecy)"
   ]
  },
  {
   "cell_type": "code",
   "execution_count": 73,
   "metadata": {},
   "outputs": [
    {
     "data": {
      "text/plain": [
       "Counter({'#': 2109, ':': 36, '‘': 2, '”': 1})"
      ]
     },
     "metadata": {},
     "output_type": "display_data"
    },
    {
     "name": "stdout",
     "output_type": "stream",
     "text": [
      "1.\n",
      "NOTE: The notes on characters are extremely brief, since it is felt that what they are and who they are will he revealed in their dialogue and actions during the course of the film.\n",
      "FOREMAN: 35 years old. Assistant high school football coach.\n",
      "A small, petty man who is at first vary of, and then i\n",
      "...\n",
      "round him, but a man who will honestly seek Justice because he has suffered through so much injustice.\n",
      "Juror #12: 30 years old. Advertising man. A sli\n",
      "...\n",
      "ft, some right, same going straight ahead.\n",
      "Camera moves back and up, ending with a long shot, through the pelting rain, of the steps and the jurors spreading out silently in all directions, never to see each other again.\n",
      "And finally they are gone, and the rain beats down on the empty steps.\n",
      "FADE OUT\n"
     ]
    }
   ],
   "source": [
    "most_rare_chars = dfout.filter(pl.col(\"number_rare_chars\") == dfout[\"number_rare_chars\"].max())[0, \"script\"]\n",
    "\n",
    "matches = re.findall(rare_chars_regex, most_rare_chars)\n",
    "\n",
    "rare_counts = Counter(matches)\n",
    "\n",
    "display(rare_counts)\n",
    "\n",
    "print(most_rare_chars[:300])\n",
    "print(\"...\")\n",
    "print(most_rare_chars[3150:3300])\n",
    "print(\"...\")\n",
    "print(most_rare_chars[-300:])"
   ]
  },
  {
   "cell_type": "code",
   "execution_count": 76,
   "metadata": {},
   "outputs": [
    {
     "name": "stdout",
     "output_type": "stream",
     "text": [
      "1\n",
      "Black Panther Wakanda Forever\n"
     ]
    },
    {
     "data": {
      "text/plain": [
       "Counter({'/': 1055,\n",
       "         '*': 810,\n",
       "         '“': 22,\n",
       "         '”': 21,\n",
       "         ':': 19,\n",
       "         '#': 10,\n",
       "         '%': 4,\n",
       "         '$': 4,\n",
       "         '–': 2,\n",
       "         '…': 1})"
      ]
     },
     "metadata": {},
     "output_type": "display_data"
    },
    {
     "name": "stdout",
     "output_type": "stream",
     "text": [
      "------------------------------------------------------------\n",
      "2\n",
      "Deadpool & Wolverine\n"
     ]
    },
    {
     "data": {
      "text/plain": [
       "Counter({'*': 748,\n",
       "         '/': 569,\n",
       "         ':': 131,\n",
       "         '”': 40,\n",
       "         '“': 39,\n",
       "         '‘': 35,\n",
       "         '&': 2,\n",
       "         '©': 1})"
      ]
     },
     "metadata": {},
     "output_type": "display_data"
    },
    {
     "name": "stdout",
     "output_type": "stream",
     "text": [
      "------------------------------------------------------------\n",
      "3\n",
      "Goodfellas\n"
     ]
    },
    {
     "data": {
      "text/plain": [
       "Counter({':': 392,\n",
       "         '~': 241,\n",
       "         '·': 208,\n",
       "         '•': 89,\n",
       "         '/': 37,\n",
       "         '>': 32,\n",
       "         '\\xad': 25,\n",
       "         '*': 22,\n",
       "         '#': 19,\n",
       "         '<': 18,\n",
       "         '\\\\': 18,\n",
       "         '$': 17,\n",
       "         '{': 15,\n",
       "         '}': 15,\n",
       "         '£': 8,\n",
       "         'µ': 6,\n",
       "         '¥': 4,\n",
       "         '»': 2,\n",
       "         '§': 2,\n",
       "         '©': 1,\n",
       "         '[': 1,\n",
       "         '¢': 1,\n",
       "         '«': 1,\n",
       "         '=': 1,\n",
       "         '&': 1,\n",
       "         '¼': 1})"
      ]
     },
     "metadata": {},
     "output_type": "display_data"
    },
    {
     "name": "stdout",
     "output_type": "stream",
     "text": [
      "------------------------------------------------------------\n",
      "4\n",
      "Luca\n"
     ]
    },
    {
     "data": {
      "text/plain": [
       "Counter({'/': 480,\n",
       "         '©': 238,\n",
       "         '•': 238,\n",
       "         ':': 75,\n",
       "         '“': 21,\n",
       "         '”': 21,\n",
       "         '%': 3,\n",
       "         '[': 3,\n",
       "         ']': 3,\n",
       "         '#': 3,\n",
       "         '&': 3})"
      ]
     },
     "metadata": {},
     "output_type": "display_data"
    },
    {
     "name": "stdout",
     "output_type": "stream",
     "text": [
      "------------------------------------------------------------\n"
     ]
    }
   ],
   "source": [
    "for i in range(1, 5):\n",
    "    check = dfout.sort(pl.col(\"number_rare_chars\"), descending=True)[i]\n",
    "    print(i)\n",
    "    print(check[0, \"movie_title\"])\n",
    "\n",
    "    matches = re.findall(rare_chars_regex, check[0, \"script\"])\n",
    "\n",
    "    rare_counts = Counter(matches)\n",
    "\n",
    "    display(rare_counts)\n",
    "    print(\"-\"*60)"
   ]
  },
  {
   "cell_type": "markdown",
   "metadata": {},
   "source": [
    "I ended up reading a good portion of the goodfellas script since I was worried about some of the characters from the printout above. It definitely has some parsing issues as indicated in the below printout, but it is overall in fine quality and does not need to be excluded or replaced."
   ]
  },
  {
   "cell_type": "code",
   "execution_count": 79,
   "metadata": {},
   "outputs": [
    {
     "name": "stdout",
     "output_type": "stream",
     "text": [
      "GOOD FELLAS \n",
      "Written by \n",
      "Nicholas Pileggi \n",
      "and \n",
      "Martin Scorsese \n",
      "Rev. 06/28/89 (Blue) \n",
      "Rev. 09/08/89 (Pink) \n",
      "Based on the book by Nicholas Pileggi \n",
      "WA? .. HER BROS. INC. \n",
      "~000 ~arner Boulevard \n",
      "Berl:><J,,k, C11i£ornia 91522 \n",
      "REVISED DRAFT \n",
      "January 12, 1989 \n",
      "© 1989 \n",
      "WARNER BROS. INC. \n",
      "All Rights Reserved \n",
      "1 \n",
      "JUNE 11, 1970: QUEENS, NEW YORK. \n",
      "INT. SUITE - NIGHT \n",
      "A smoky, overdecorated cocktail lounge and nightclub on \n",
      "Queens Boulevard. Sergio Franchi is in full voice on the \n",
      "JUKEBOX. It is after m\n"
     ]
    }
   ],
   "source": [
    "goodfellas_script = dfout.filter(pl.col(\"movie_title\") == pl.lit(\"Goodfellas\"))[0, \"script\"]\n",
    "\n",
    "print(goodfellas_script[:500])"
   ]
  },
  {
   "cell_type": "code",
   "execution_count": 80,
   "metadata": {},
   "outputs": [
    {
     "data": {
      "text/html": [
       "<div><style>\n",
       ".dataframe > thead > tr,\n",
       ".dataframe > tbody > tr {\n",
       "  text-align: right;\n",
       "  white-space: pre-wrap;\n",
       "}\n",
       "</style>\n",
       "<small>shape: (5, 13)</small><table border=\"1\" class=\"dataframe\"><thead><tr><th>index</th><th>movie_title</th><th>date</th><th>script</th><th>genre</th><th>writers</th><th>movie_title_alphabetical</th><th>dataset</th><th>collapsed_movie_title</th><th>script_length</th><th>number_non_alphanumeric_chars</th><th>number_diacritic_chars</th><th>number_rare_chars</th></tr><tr><td>u32</td><td>str</td><td>date</td><td>str</td><td>str</td><td>str</td><td>str</td><td>str</td><td>str</td><td>u32</td><td>u32</td><td>u32</td><td>u32</td></tr></thead><tbody><tr><td>0</td><td>&quot;12 Angry Men&quot;</td><td>null</td><td>&quot;1.\n",
       "NOTE: The notes on characte…</td><td>null</td><td>null</td><td>&quot;12 Angry Men&quot;</td><td>&quot;Google Search&quot;</td><td>&quot;12angrymen&quot;</td><td>157913</td><td>10495</td><td>0</td><td>2148</td></tr><tr><td>1</td><td>&quot;15 Minutes&quot;</td><td>null</td><td>&quot;FADE IN\r\n",
       "\r\n",
       "\ton the words CZECH…</td><td>&quot;Action,Crime,Thriller&quot;</td><td>&quot;John Hertzfield&quot;</td><td>&quot;15 Minutes&quot;</td><td>&quot;https://www.kaggle.com/dataset…</td><td>&quot;15minutes&quot;</td><td>34160</td><td>1503</td><td>0</td><td>5</td></tr><tr><td>2</td><td>&quot;2012&quot;</td><td>2008-02-01</td><td>&quot;OVER BLACK\r\n",
       "&nbsp;&nbsp;&nbsp;&nbsp;&nbsp;&nbsp;&nbsp;&nbsp;&nbsp;&nbsp;\r\n",
       "&nbsp;&nbsp;&nbsp;&nbsp;&nbsp;&nbsp;…</td><td>&quot;Action,Adventure,Drama,Sci-Fi,…</td><td>&quot;Roland Emmerich,Harald Kloser&quot;</td><td>&quot;2012&quot;</td><td>&quot;https://www.kaggle.com/dataset…</td><td>&quot;2012&quot;</td><td>33612</td><td>856</td><td>0</td><td>48</td></tr><tr><td>3</td><td>&quot;30 Minutes or Less&quot;</td><td>2009-12-01</td><td>&quot;The following is very loosely …</td><td>&quot;Action,Adventure,Comedy&quot;</td><td>&quot;Michael Diliberti,Matthew Sull…</td><td>&quot;30 Minutes or Less&quot;</td><td>&quot;https://www.kaggle.com/dataset…</td><td>&quot;30minutesorless&quot;</td><td>33603</td><td>917</td><td>0</td><td>7</td></tr><tr><td>4</td><td>&quot;48 Hrs&quot;</td><td>null</td><td>&quot;FADE IN:\r\n",
       "\r\n",
       "&nbsp;&nbsp;&nbsp;&nbsp;&nbsp;&nbsp;&nbsp;&nbsp;&nbsp;&nbsp;&nbsp;&nbsp;&nbsp;&nbsp;OPEN…</td><td>&quot;Action,Comedy,Thriller&quot;</td><td>&quot;Steven E. De Souza,Walter Hill…</td><td>&quot;48 Hrs&quot;</td><td>&quot;https://www.kaggle.com/dataset…</td><td>&quot;48hrs&quot;</td><td>33794</td><td>965</td><td>0</td><td>1</td></tr></tbody></table></div>"
      ],
      "text/plain": [
       "shape: (5, 13)\n",
       "┌───────┬────────────┬────────────┬────────────┬───┬───────────┬───────────┬───────────┬───────────┐\n",
       "│ index ┆ movie_titl ┆ date       ┆ script     ┆ … ┆ script_le ┆ number_no ┆ number_di ┆ number_ra │\n",
       "│ ---   ┆ e          ┆ ---        ┆ ---        ┆   ┆ ngth      ┆ n_alphanu ┆ acritic_c ┆ re_chars  │\n",
       "│ u32   ┆ ---        ┆ date       ┆ str        ┆   ┆ ---       ┆ meric_cha ┆ hars      ┆ ---       │\n",
       "│       ┆ str        ┆            ┆            ┆   ┆ u32       ┆ rs        ┆ ---       ┆ u32       │\n",
       "│       ┆            ┆            ┆            ┆   ┆           ┆ ---       ┆ u32       ┆           │\n",
       "│       ┆            ┆            ┆            ┆   ┆           ┆ u32       ┆           ┆           │\n",
       "╞═══════╪════════════╪════════════╪════════════╪═══╪═══════════╪═══════════╪═══════════╪═══════════╡\n",
       "│ 0     ┆ 12 Angry   ┆ null       ┆ 1.         ┆ … ┆ 157913    ┆ 10495     ┆ 0         ┆ 2148      │\n",
       "│       ┆ Men        ┆            ┆ NOTE: The  ┆   ┆           ┆           ┆           ┆           │\n",
       "│       ┆            ┆            ┆ notes on   ┆   ┆           ┆           ┆           ┆           │\n",
       "│       ┆            ┆            ┆ characte…  ┆   ┆           ┆           ┆           ┆           │\n",
       "│ 1     ┆ 15 Minutes ┆ null       ┆ FADE IN\n",
       "   ┆ … ┆ 34160     ┆ 1503      ┆ 0         ┆ 5         │\n",
       "│       ┆            ┆            ┆ \n",
       "          ┆   ┆           ┆           ┆           ┆           │\n",
       "│       ┆            ┆            ┆ \ton the    ┆   ┆           ┆           ┆           ┆           │\n",
       "│       ┆            ┆            ┆ words      ┆   ┆           ┆           ┆           ┆           │\n",
       "│       ┆            ┆            ┆ CZECH…     ┆   ┆           ┆           ┆           ┆           │\n",
       "│ 2     ┆ 2012       ┆ 2008-02-01 ┆ OVER       ┆ … ┆ 33612     ┆ 856       ┆ 0         ┆ 48        │\n",
       "│       ┆            ┆            ┆ BLACK\n",
       "     ┆   ┆           ┆           ┆           ┆           │\n",
       "│       ┆            ┆            ┆ \n",
       "          ┆   ┆           ┆           ┆           ┆           │\n",
       "│       ┆            ┆            ┆       …    ┆   ┆           ┆           ┆           ┆           │\n",
       "│ 3     ┆ 30 Minutes ┆ 2009-12-01 ┆ The        ┆ … ┆ 33603     ┆ 917       ┆ 0         ┆ 7         │\n",
       "│       ┆ or Less    ┆            ┆ following  ┆   ┆           ┆           ┆           ┆           │\n",
       "│       ┆            ┆            ┆ is very    ┆   ┆           ┆           ┆           ┆           │\n",
       "│       ┆            ┆            ┆ loosely …  ┆   ┆           ┆           ┆           ┆           │\n",
       "│ 4     ┆ 48 Hrs     ┆ null       ┆ FADE IN:\n",
       "  ┆ … ┆ 33794     ┆ 965       ┆ 0         ┆ 1         │\n",
       "│       ┆            ┆            ┆ \n",
       "          ┆   ┆           ┆           ┆           ┆           │\n",
       "│       ┆            ┆            ┆ OPEN…      ┆   ┆           ┆           ┆           ┆           │\n",
       "└───────┴────────────┴────────────┴────────────┴───┴───────────┴───────────┴───────────┴───────────┘"
      ]
     },
     "execution_count": 80,
     "metadata": {},
     "output_type": "execute_result"
    }
   ],
   "source": [
    "dfout.head()"
   ]
  },
  {
   "cell_type": "code",
   "execution_count": 81,
   "metadata": {},
   "outputs": [],
   "source": [
    "dfout = dfout.drop(pl.col(\"collapsed_movie_title\", \"script_length\", \n",
    "    \"number_non_alphanumeric_chars\", \"number_diacritic_chars\", \"number_rare_chars\"))"
   ]
  },
  {
   "cell_type": "markdown",
   "metadata": {},
   "source": [
    "# Add Release Year\n",
    "\n",
    "We bring in an alternate data source to add the release year and genres to the rows where we are missing those values."
   ]
  },
  {
   "cell_type": "code",
   "execution_count": 93,
   "metadata": {},
   "outputs": [
    {
     "name": "stdout",
     "output_type": "stream",
     "text": [
      "4 movies still missing release year\n"
     ]
    }
   ],
   "source": [
    "# IMDB Movie Dataset (title-basics.tsv)\n",
    "# https://www.kaggle.com/datasets/ashirwadsangwan/imdb-dataset?select=title.basics.tsv\n",
    "imdb = pl.scan_csv(\"data/in/imdb-movie-dataset-title-basics.tsv\", \n",
    "    separator='\\t',\n",
    "    null_values = {\"startYear\": '\\\\N', \"endYear\": '\\\\N'},\n",
    "    quote_char=None,\n",
    "    schema_overrides={\n",
    "        \"titleType\": pl.String,\n",
    "        \"primaryTitle\": pl.String,\n",
    "        \"originalTitle\": pl.String,\n",
    "        \"startYear\": pl.Int16,\n",
    "        \"endYear\": pl.Int16,\n",
    "        \"genres\": pl.String,\n",
    "        \"runtimeMinutes\": pl.Int32\n",
    "    },\n",
    "    ignore_errors=True\n",
    ")\n",
    "\n",
    "imdb_filtered_joinable = imdb.filter(\n",
    "    # include only movies\n",
    "    (pl.col(\"titleType\").str.to_lowercase() == pl.lit(\"movie\")) & \\\n",
    "    # with a year\n",
    "    (pl.col(\"startYear\").is_not_null())\n",
    ").with_columns(\n",
    "    # create more joinable title\n",
    "    # by sending to lowercase\n",
    "    # removing punctuation and excess whitespace\n",
    "    pl.col(\"primaryTitle\").cast(pl.String, strict=False).str.to_lowercase()\n",
    "    .str.replace_all(r'[\\.\\:\\-\\_\\(\\)]', ' ').str.replace_all(r'\\s+', ' ')\n",
    "    .alias(\"join_movie_title\")\n",
    ").collect()\n",
    "\n",
    "dfx = dfout.filter(pl.col(\"date\").is_null() | pl.col(\"genre\").is_null())\\\n",
    "    .with_columns(\n",
    "        # create more joinable title\n",
    "        # by sending to lowercase\n",
    "        # removing punctuation and excess whitespace\n",
    "        pl.col(\"movie_title\").str.to_lowercase()\n",
    "        .str.replace_all(r'[\\.\\:\\-\\_\\(\\)]', ' ').str.replace_all(r'\\s+', ' ')\n",
    "        .alias(\"join_movie_title\")\n",
    "    ).join(\n",
    "        imdb_filtered_joinable,\n",
    "        on = \"join_movie_title\",\n",
    "        how=\"left\"\n",
    "    )\n",
    "\n",
    "print(\n",
    "    dfx[\"startYear\"].is_null().sum(),\n",
    "    \"movies still missing release year\"\n",
    ")"
   ]
  },
  {
   "cell_type": "markdown",
   "metadata": {},
   "source": [
    "We have a one-to-many join, but we need to filter down to the correct match between the movie titles."
   ]
  },
  {
   "cell_type": "code",
   "execution_count": 83,
   "metadata": {},
   "outputs": [
    {
     "name": "stdout",
     "output_type": "stream",
     "text": [
      "18  individual movies with duplicate joins\n",
      "67  total duplicates\n"
     ]
    },
    {
     "data": {
      "text/html": [
       "<div><style>\n",
       ".dataframe > thead > tr,\n",
       ".dataframe > tbody > tr {\n",
       "  text-align: right;\n",
       "  white-space: pre-wrap;\n",
       "}\n",
       "</style>\n",
       "<small>shape: (5, 7)</small><table border=\"1\" class=\"dataframe\"><thead><tr><th>movie_title</th><th>primaryTitle</th><th>startYear</th><th>date</th><th>titleType</th><th>genres</th><th>dataset</th></tr><tr><td>str</td><td>str</td><td>i16</td><td>date</td><td>str</td><td>str</td><td>str</td></tr></thead><tbody><tr><td>&quot;15 Minutes&quot;</td><td>&quot;15 Minutes&quot;</td><td>1997</td><td>null</td><td>&quot;movie&quot;</td><td>&quot;\\N&quot;</td><td>&quot;https://www.kaggle.com/dataset…</td></tr><tr><td>&quot;15 Minutes&quot;</td><td>&quot;15 Minutes&quot;</td><td>2001</td><td>null</td><td>&quot;movie&quot;</td><td>&quot;Action,Crime,Drama&quot;</td><td>&quot;https://www.kaggle.com/dataset…</td></tr><tr><td>&quot;All Quiet On The Western Front&quot;</td><td>&quot;All Quiet on the Western Front&quot;</td><td>1930</td><td>null</td><td>&quot;movie&quot;</td><td>&quot;Drama,War&quot;</td><td>&quot;Google Search&quot;</td></tr><tr><td>&quot;All Quiet On The Western Front&quot;</td><td>&quot;All Quiet on the Western Front&quot;</td><td>2022</td><td>null</td><td>&quot;movie&quot;</td><td>&quot;Drama,History,War&quot;</td><td>&quot;Google Search&quot;</td></tr><tr><td>&quot;Amsterdam&quot;</td><td>&quot;Amsterdam&quot;</td><td>2013</td><td>null</td><td>&quot;movie&quot;</td><td>&quot;Thriller&quot;</td><td>&quot;Google Search&quot;</td></tr></tbody></table></div>"
      ],
      "text/plain": [
       "shape: (5, 7)\n",
       "┌────────────────┬────────────────┬───────────┬──────┬───────────┬────────────────┬────────────────┐\n",
       "│ movie_title    ┆ primaryTitle   ┆ startYear ┆ date ┆ titleType ┆ genres         ┆ dataset        │\n",
       "│ ---            ┆ ---            ┆ ---       ┆ ---  ┆ ---       ┆ ---            ┆ ---            │\n",
       "│ str            ┆ str            ┆ i16       ┆ date ┆ str       ┆ str            ┆ str            │\n",
       "╞════════════════╪════════════════╪═══════════╪══════╪═══════════╪════════════════╪════════════════╡\n",
       "│ 15 Minutes     ┆ 15 Minutes     ┆ 1997      ┆ null ┆ movie     ┆ \\N             ┆ https://www.ka │\n",
       "│                ┆                ┆           ┆      ┆           ┆                ┆ ggle.com/datas │\n",
       "│                ┆                ┆           ┆      ┆           ┆                ┆ et…            │\n",
       "│ 15 Minutes     ┆ 15 Minutes     ┆ 2001      ┆ null ┆ movie     ┆ Action,Crime,D ┆ https://www.ka │\n",
       "│                ┆                ┆           ┆      ┆           ┆ rama           ┆ ggle.com/datas │\n",
       "│                ┆                ┆           ┆      ┆           ┆                ┆ et…            │\n",
       "│ All Quiet On   ┆ All Quiet on   ┆ 1930      ┆ null ┆ movie     ┆ Drama,War      ┆ Google Search  │\n",
       "│ The Western    ┆ the Western    ┆           ┆      ┆           ┆                ┆                │\n",
       "│ Front          ┆ Front          ┆           ┆      ┆           ┆                ┆                │\n",
       "│ All Quiet On   ┆ All Quiet on   ┆ 2022      ┆ null ┆ movie     ┆ Drama,History, ┆ Google Search  │\n",
       "│ The Western    ┆ the Western    ┆           ┆      ┆           ┆ War            ┆                │\n",
       "│ Front          ┆ Front          ┆           ┆      ┆           ┆                ┆                │\n",
       "│ Amsterdam      ┆ Amsterdam      ┆ 2013      ┆ null ┆ movie     ┆ Thriller       ┆ Google Search  │\n",
       "└────────────────┴────────────────┴───────────┴──────┴───────────┴────────────────┴────────────────┘"
      ]
     },
     "metadata": {},
     "output_type": "display_data"
    }
   ],
   "source": [
    "dupd = dfx.filter(pl.col(\"index\").is_duplicated()).sort(pl.col(\"index\", \"startYear\"))\n",
    "\n",
    "print(len(set(dupd[\"index\"])), \" individual movies with duplicate joins\")\n",
    "\n",
    "print(dupd.shape[0], \" total duplicates\")\n",
    "\n",
    "display(\n",
    "    dupd.select(pl.col(\"movie_title\", \"primaryTitle\", \"startYear\", \"date\", \"titleType\", \"genres\", \"dataset\")).head()\n",
    ")"
   ]
  },
  {
   "cell_type": "markdown",
   "metadata": {},
   "source": [
    "So we map the title to the correct release year, then filter to rows that match that condition"
   ]
  },
  {
   "cell_type": "code",
   "execution_count": 84,
   "metadata": {},
   "outputs": [
    {
     "data": {
      "text/plain": [
       "(57, 19)"
      ]
     },
     "execution_count": 84,
     "metadata": {},
     "output_type": "execute_result"
    }
   ],
   "source": [
    "correct = {\n",
    "    \"All Quiet On The Western Front\": 2022,\n",
    "    \"Amsterdam\": 2022,\n",
    "    \"15 Minutes\": 2001,\n",
    "    \"Avatar\": 2009,\n",
    "    \"Barbie\": 2023,\n",
    "    \"Elemental\": 2023,\n",
    "    \"Elvis\": 2022,\n",
    "    \"Fight Club\": 1999,\n",
    "    \"Harry Potter and the Half Blood Prince\": 2009,\n",
    "    \"Inception\": 2010,\n",
    "    \"Inside Out\": 2015,\n",
    "    \"It's a Wonderful Life\": 1946,\n",
    "    \"The Lord of the Rings The Fellowship of the Ring\": 2001,\n",
    "    \"Luca\": 2021,\n",
    "    \"Pinocchio\": 2022,\n",
    "    \"Star Wars Episode V The Empire Strikes Back\": 1980,\n",
    "    \"Top Gun\": 1986\n",
    "}\n",
    "\n",
    "dfxc = dfx.with_columns(\n",
    "    # map movie title to release year,\n",
    "    # then select rows where startYear is equivalent\n",
    "    correct = pl.col(\"movie_title\").replace_strict(correct, default=-1) \\\n",
    "        == pl.col(\"startYear\")\n",
    ").filter(\n",
    "    # keep rows that are non duplicated\n",
    "    # or have the correct release year\n",
    "    ~pl.col(\"index\").is_duplicated() | pl.col(\"correct\")\n",
    ")\n",
    "dfxc.shape"
   ]
  },
  {
   "cell_type": "markdown",
   "metadata": {},
   "source": [
    "Now we join this back to the original data"
   ]
  },
  {
   "cell_type": "code",
   "execution_count": null,
   "metadata": {},
   "outputs": [],
   "source": [
    "dfout = dfout.join(\n",
    "    # only need the new columns\n",
    "    dfxc.select(\"index\", \"startYear\", \"genres\"),\n",
    "    how=\"left\",\n",
    "    on=\"index\"\n",
    ").with_columns(\n",
    "    # consolidate the two different date columns\n",
    "    # into one year column\n",
    "    year_from_date = pl.col(\"date\").dt.year()\n",
    ").with_columns(\n",
    "    year = pl.coalesce([\"year_from_date\", \"startYear\"])\n",
    ").drop(pl.col(\"year_from_date\", \"startYear\"))"
   ]
  },
  {
   "cell_type": "code",
   "execution_count": 87,
   "metadata": {},
   "outputs": [
    {
     "data": {
      "text/html": [
       "<div><style>\n",
       ".dataframe > thead > tr,\n",
       ".dataframe > tbody > tr {\n",
       "  text-align: right;\n",
       "  white-space: pre-wrap;\n",
       "}\n",
       "</style>\n",
       "<small>shape: (5, 2)</small><table border=\"1\" class=\"dataframe\"><thead><tr><th>index</th><th>movie_title</th></tr><tr><td>u32</td><td>str</td></tr></thead><tbody><tr><td>4</td><td>&quot;48 Hrs&quot;</td></tr><tr><td>32</td><td>&quot;Cidade de Deus (City of God)&quot;</td></tr><tr><td>49</td><td>&quot;Gladiator 2&quot;</td></tr><tr><td>70</td><td>&quot;The Lord of the Rings The Retu…</td></tr><tr><td>104</td><td>&quot;Transformers: The Movie&quot;</td></tr></tbody></table></div>"
      ],
      "text/plain": [
       "shape: (5, 2)\n",
       "┌───────┬─────────────────────────────────┐\n",
       "│ index ┆ movie_title                     │\n",
       "│ ---   ┆ ---                             │\n",
       "│ u32   ┆ str                             │\n",
       "╞═══════╪═════════════════════════════════╡\n",
       "│ 4     ┆ 48 Hrs                          │\n",
       "│ 32    ┆ Cidade de Deus (City of God)    │\n",
       "│ 49    ┆ Gladiator 2                     │\n",
       "│ 70    ┆ The Lord of the Rings The Retu… │\n",
       "│ 104   ┆ Transformers: The Movie         │\n",
       "└───────┴─────────────────────────────────┘"
      ]
     },
     "metadata": {},
     "output_type": "display_data"
    }
   ],
   "source": [
    "display(\n",
    "    dfout.filter(pl.col(\"year\").is_null()).select(pl.col(\"index\", \"movie_title\"))\n",
    ")\n",
    "# manually add the year for movies where it is missing\n",
    "manual_additions = [\n",
    "    (4, 1982),\n",
    "    (32, 2002),\n",
    "    (49, 2024),\n",
    "    (70, 2003),\n",
    "    (104, 1986),\n",
    "]\n",
    "\n",
    "for idx, year in manual_additions:\n",
    "    dfout[idx, \"year\"] = year"
   ]
  },
  {
   "cell_type": "markdown",
   "metadata": {},
   "source": [
    "**Now we consolidate the two genre columns**\n",
    "\n",
    "To do so, we concatenate the two string columns together, repair any damage to the string, then split the elements into a set, then rejoin them to string in alphabetical order"
   ]
  },
  {
   "cell_type": "code",
   "execution_count": 88,
   "metadata": {},
   "outputs": [
    {
     "name": "stderr",
     "output_type": "stream",
     "text": [
      "sys:1: MapWithoutReturnDtypeWarning: Calling `map_elements` without specifying `return_dtype` can lead to unpredictable results. Specify `return_dtype` to silence this warning.\n"
     ]
    }
   ],
   "source": [
    "dfout = dfout.with_columns(\n",
    "    # concat the two genre columns with a , separator\n",
    "    pl.concat_str([pl.col(\"genre\"), pl.lit(\",\"), pl.col(\"genres\")], ignore_nulls=True)\n",
    "    # replace any characters that are not\n",
    "    # letters or a comma\n",
    "    .str.replace_all(r'[^A-z\\,]', \"\")\n",
    "    # remove trailing and leading commas\n",
    "    .str.replace_all(r'^,|,$', \"\")\n",
    "    # split the concatenated string into elements\n",
    "    .str.split(\",\").map_elements(lambda x: list(set(x)))\n",
    "    # sort those elements\n",
    "    .list.sort()\n",
    "    # then join back together as a string\n",
    "    .list.join(\",\")\n",
    "    # Null values\n",
    "    .replace(\"\", None)\n",
    "    .alias(\"genre\")\n",
    ")\\\n",
    "    .drop(\"genres\")"
   ]
  },
  {
   "cell_type": "markdown",
   "metadata": {},
   "source": [
    "Done!"
   ]
  },
  {
   "cell_type": "code",
   "execution_count": 89,
   "metadata": {},
   "outputs": [],
   "source": [
    "dfout.write_parquet(\"data/out/movie-script-dataset.parquet\")"
   ]
  }
 ],
 "metadata": {
  "kernelspec": {
   "display_name": "venv",
   "language": "python",
   "name": "python3"
  },
  "language_info": {
   "codemirror_mode": {
    "name": "ipython",
    "version": 3
   },
   "file_extension": ".py",
   "mimetype": "text/x-python",
   "name": "python",
   "nbconvert_exporter": "python",
   "pygments_lexer": "ipython3",
   "version": "3.12.8"
  }
 },
 "nbformat": 4,
 "nbformat_minor": 2
}
