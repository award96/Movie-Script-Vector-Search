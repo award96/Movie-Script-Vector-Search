{
 "cells": [
  {
   "cell_type": "code",
   "execution_count": 1,
   "metadata": {},
   "outputs": [
    {
     "name": "stderr",
     "output_type": "stream",
     "text": [
      "/Users/anders/Desktop/learning/internet-movie-script-dataset/venv/lib/python3.12/site-packages/tqdm/auto.py:21: TqdmWarning: IProgress not found. Please update jupyter and ipywidgets. See https://ipywidgets.readthedocs.io/en/stable/user_install.html\n",
      "  from .autonotebook import tqdm as notebook_tqdm\n"
     ]
    },
    {
     "data": {
      "text/plain": [
       "polars.config.Config"
      ]
     },
     "execution_count": 1,
     "metadata": {},
     "output_type": "execute_result"
    }
   ],
   "source": [
    "import torch\n",
    "import polars as pl\n",
    "import pandas as pd\n",
    "import random\n",
    "import matplotlib.pyplot as plt\n",
    "import seaborn as sns\n",
    "import plotly.express as px\n",
    "from IPython.display import display\n",
    "import umap\n",
    "from sklearn.preprocessing import StandardScaler\n",
    "import vector_similarity as vector_similarity\n",
    "import joblib\n",
    "pl_cfg = pl.Config()\n",
    "pl_cfg.set_tbl_rows(2000)"
   ]
  },
  {
   "cell_type": "code",
   "execution_count": 2,
   "metadata": {},
   "outputs": [
    {
     "name": "stdout",
     "output_type": "stream",
     "text": [
      "(110, 9)\n",
      "torch.Size([110, 1024])\n",
      "torch.float32\n"
     ]
    }
   ],
   "source": [
    "df = pl.read_parquet(\"data/out/movie-script-dataset.parquet\")\n",
    "embeddings = torch.load(\"data/out/scripts-embedded.pt\", weights_only=True)\n",
    "print(df.shape)\n",
    "print(embeddings.shape)\n",
    "print(embeddings.dtype)"
   ]
  },
  {
   "cell_type": "code",
   "execution_count": 3,
   "metadata": {},
   "outputs": [],
   "source": [
    "unique_genres = (\n",
    "        df.lazy()\n",
    "        .select(pl.col(\"genre\").str.split(\",\").flatten())\n",
    "        .unique()\n",
    "        .collect()\n",
    "        [\"genre\"]\n",
    "        .to_list()\n",
    "    )"
   ]
  },
  {
   "cell_type": "code",
   "execution_count": 16,
   "metadata": {},
   "outputs": [
    {
     "name": "stdout",
     "output_type": "stream",
     "text": [
      "Dotproduct: torch.Size([110, 110])\n",
      "Cosine: torch.Size([110, 110])\n",
      "Distance: torch.Size([110, 110])\n"
     ]
    }
   ],
   "source": [
    "simpairs = vector_similarity.calculate_all_similarity_pairs(embeddings)\n",
    "for k, v in simpairs.items():\n",
    "    print(f\"{k}: {v.shape}\")"
   ]
  },
  {
   "cell_type": "markdown",
   "metadata": {},
   "source": [
    "### Get correlation between similarity measures"
   ]
  },
  {
   "cell_type": "code",
   "execution_count": 17,
   "metadata": {},
   "outputs": [
    {
     "data": {
      "application/vnd.plotly.v1+json": {
       "config": {
        "plotlyServerURL": "https://plot.ly"
       },
       "data": [
        {
         "coloraxis": "coloraxis",
         "hovertemplate": "Metric: %{x}<br>Metric: %{y}<br>Correlation: %{z}<extra></extra>",
         "name": "0",
         "type": "heatmap",
         "x": [
          "Dotproduct",
          "Cosine",
          "Distance"
         ],
         "xaxis": "x",
         "y": [
          "Dotproduct",
          "Cosine",
          "Distance"
         ],
         "yaxis": "y",
         "z": [
          [
           1,
           0.7517843159332236,
           -0.6700154738834806
          ],
          [
           0.7517843159332235,
           0.9999999999999999,
           -0.9567601578262208
          ],
          [
           -0.6700154738834806,
           -0.9567601578262208,
           1
          ]
         ]
        }
       ],
       "layout": {
        "coloraxis": {
         "colorbar": {
          "title": {
           "text": "Correlation"
          }
         },
         "colorscale": [
          [
           0,
           "rgb(12,51,131)"
          ],
          [
           0.25,
           "rgb(10,136,186)"
          ],
          [
           0.5,
           "rgb(242,211,56)"
          ],
          [
           0.75,
           "rgb(242,143,56)"
          ],
          [
           1,
           "rgb(217,30,30)"
          ]
         ]
        },
        "margin": {
         "t": 60
        },
        "template": {
         "data": {
          "bar": [
           {
            "error_x": {
             "color": "#2a3f5f"
            },
            "error_y": {
             "color": "#2a3f5f"
            },
            "marker": {
             "line": {
              "color": "#E5ECF6",
              "width": 0.5
             },
             "pattern": {
              "fillmode": "overlay",
              "size": 10,
              "solidity": 0.2
             }
            },
            "type": "bar"
           }
          ],
          "barpolar": [
           {
            "marker": {
             "line": {
              "color": "#E5ECF6",
              "width": 0.5
             },
             "pattern": {
              "fillmode": "overlay",
              "size": 10,
              "solidity": 0.2
             }
            },
            "type": "barpolar"
           }
          ],
          "carpet": [
           {
            "aaxis": {
             "endlinecolor": "#2a3f5f",
             "gridcolor": "white",
             "linecolor": "white",
             "minorgridcolor": "white",
             "startlinecolor": "#2a3f5f"
            },
            "baxis": {
             "endlinecolor": "#2a3f5f",
             "gridcolor": "white",
             "linecolor": "white",
             "minorgridcolor": "white",
             "startlinecolor": "#2a3f5f"
            },
            "type": "carpet"
           }
          ],
          "choropleth": [
           {
            "colorbar": {
             "outlinewidth": 0,
             "ticks": ""
            },
            "type": "choropleth"
           }
          ],
          "contour": [
           {
            "colorbar": {
             "outlinewidth": 0,
             "ticks": ""
            },
            "colorscale": [
             [
              0,
              "#0d0887"
             ],
             [
              0.1111111111111111,
              "#46039f"
             ],
             [
              0.2222222222222222,
              "#7201a8"
             ],
             [
              0.3333333333333333,
              "#9c179e"
             ],
             [
              0.4444444444444444,
              "#bd3786"
             ],
             [
              0.5555555555555556,
              "#d8576b"
             ],
             [
              0.6666666666666666,
              "#ed7953"
             ],
             [
              0.7777777777777778,
              "#fb9f3a"
             ],
             [
              0.8888888888888888,
              "#fdca26"
             ],
             [
              1,
              "#f0f921"
             ]
            ],
            "type": "contour"
           }
          ],
          "contourcarpet": [
           {
            "colorbar": {
             "outlinewidth": 0,
             "ticks": ""
            },
            "type": "contourcarpet"
           }
          ],
          "heatmap": [
           {
            "colorbar": {
             "outlinewidth": 0,
             "ticks": ""
            },
            "colorscale": [
             [
              0,
              "#0d0887"
             ],
             [
              0.1111111111111111,
              "#46039f"
             ],
             [
              0.2222222222222222,
              "#7201a8"
             ],
             [
              0.3333333333333333,
              "#9c179e"
             ],
             [
              0.4444444444444444,
              "#bd3786"
             ],
             [
              0.5555555555555556,
              "#d8576b"
             ],
             [
              0.6666666666666666,
              "#ed7953"
             ],
             [
              0.7777777777777778,
              "#fb9f3a"
             ],
             [
              0.8888888888888888,
              "#fdca26"
             ],
             [
              1,
              "#f0f921"
             ]
            ],
            "type": "heatmap"
           }
          ],
          "heatmapgl": [
           {
            "colorbar": {
             "outlinewidth": 0,
             "ticks": ""
            },
            "colorscale": [
             [
              0,
              "#0d0887"
             ],
             [
              0.1111111111111111,
              "#46039f"
             ],
             [
              0.2222222222222222,
              "#7201a8"
             ],
             [
              0.3333333333333333,
              "#9c179e"
             ],
             [
              0.4444444444444444,
              "#bd3786"
             ],
             [
              0.5555555555555556,
              "#d8576b"
             ],
             [
              0.6666666666666666,
              "#ed7953"
             ],
             [
              0.7777777777777778,
              "#fb9f3a"
             ],
             [
              0.8888888888888888,
              "#fdca26"
             ],
             [
              1,
              "#f0f921"
             ]
            ],
            "type": "heatmapgl"
           }
          ],
          "histogram": [
           {
            "marker": {
             "pattern": {
              "fillmode": "overlay",
              "size": 10,
              "solidity": 0.2
             }
            },
            "type": "histogram"
           }
          ],
          "histogram2d": [
           {
            "colorbar": {
             "outlinewidth": 0,
             "ticks": ""
            },
            "colorscale": [
             [
              0,
              "#0d0887"
             ],
             [
              0.1111111111111111,
              "#46039f"
             ],
             [
              0.2222222222222222,
              "#7201a8"
             ],
             [
              0.3333333333333333,
              "#9c179e"
             ],
             [
              0.4444444444444444,
              "#bd3786"
             ],
             [
              0.5555555555555556,
              "#d8576b"
             ],
             [
              0.6666666666666666,
              "#ed7953"
             ],
             [
              0.7777777777777778,
              "#fb9f3a"
             ],
             [
              0.8888888888888888,
              "#fdca26"
             ],
             [
              1,
              "#f0f921"
             ]
            ],
            "type": "histogram2d"
           }
          ],
          "histogram2dcontour": [
           {
            "colorbar": {
             "outlinewidth": 0,
             "ticks": ""
            },
            "colorscale": [
             [
              0,
              "#0d0887"
             ],
             [
              0.1111111111111111,
              "#46039f"
             ],
             [
              0.2222222222222222,
              "#7201a8"
             ],
             [
              0.3333333333333333,
              "#9c179e"
             ],
             [
              0.4444444444444444,
              "#bd3786"
             ],
             [
              0.5555555555555556,
              "#d8576b"
             ],
             [
              0.6666666666666666,
              "#ed7953"
             ],
             [
              0.7777777777777778,
              "#fb9f3a"
             ],
             [
              0.8888888888888888,
              "#fdca26"
             ],
             [
              1,
              "#f0f921"
             ]
            ],
            "type": "histogram2dcontour"
           }
          ],
          "mesh3d": [
           {
            "colorbar": {
             "outlinewidth": 0,
             "ticks": ""
            },
            "type": "mesh3d"
           }
          ],
          "parcoords": [
           {
            "line": {
             "colorbar": {
              "outlinewidth": 0,
              "ticks": ""
             }
            },
            "type": "parcoords"
           }
          ],
          "pie": [
           {
            "automargin": true,
            "type": "pie"
           }
          ],
          "scatter": [
           {
            "fillpattern": {
             "fillmode": "overlay",
             "size": 10,
             "solidity": 0.2
            },
            "type": "scatter"
           }
          ],
          "scatter3d": [
           {
            "line": {
             "colorbar": {
              "outlinewidth": 0,
              "ticks": ""
             }
            },
            "marker": {
             "colorbar": {
              "outlinewidth": 0,
              "ticks": ""
             }
            },
            "type": "scatter3d"
           }
          ],
          "scattercarpet": [
           {
            "marker": {
             "colorbar": {
              "outlinewidth": 0,
              "ticks": ""
             }
            },
            "type": "scattercarpet"
           }
          ],
          "scattergeo": [
           {
            "marker": {
             "colorbar": {
              "outlinewidth": 0,
              "ticks": ""
             }
            },
            "type": "scattergeo"
           }
          ],
          "scattergl": [
           {
            "marker": {
             "colorbar": {
              "outlinewidth": 0,
              "ticks": ""
             }
            },
            "type": "scattergl"
           }
          ],
          "scattermapbox": [
           {
            "marker": {
             "colorbar": {
              "outlinewidth": 0,
              "ticks": ""
             }
            },
            "type": "scattermapbox"
           }
          ],
          "scatterpolar": [
           {
            "marker": {
             "colorbar": {
              "outlinewidth": 0,
              "ticks": ""
             }
            },
            "type": "scatterpolar"
           }
          ],
          "scatterpolargl": [
           {
            "marker": {
             "colorbar": {
              "outlinewidth": 0,
              "ticks": ""
             }
            },
            "type": "scatterpolargl"
           }
          ],
          "scatterternary": [
           {
            "marker": {
             "colorbar": {
              "outlinewidth": 0,
              "ticks": ""
             }
            },
            "type": "scatterternary"
           }
          ],
          "surface": [
           {
            "colorbar": {
             "outlinewidth": 0,
             "ticks": ""
            },
            "colorscale": [
             [
              0,
              "#0d0887"
             ],
             [
              0.1111111111111111,
              "#46039f"
             ],
             [
              0.2222222222222222,
              "#7201a8"
             ],
             [
              0.3333333333333333,
              "#9c179e"
             ],
             [
              0.4444444444444444,
              "#bd3786"
             ],
             [
              0.5555555555555556,
              "#d8576b"
             ],
             [
              0.6666666666666666,
              "#ed7953"
             ],
             [
              0.7777777777777778,
              "#fb9f3a"
             ],
             [
              0.8888888888888888,
              "#fdca26"
             ],
             [
              1,
              "#f0f921"
             ]
            ],
            "type": "surface"
           }
          ],
          "table": [
           {
            "cells": {
             "fill": {
              "color": "#EBF0F8"
             },
             "line": {
              "color": "white"
             }
            },
            "header": {
             "fill": {
              "color": "#C8D4E3"
             },
             "line": {
              "color": "white"
             }
            },
            "type": "table"
           }
          ]
         },
         "layout": {
          "annotationdefaults": {
           "arrowcolor": "#2a3f5f",
           "arrowhead": 0,
           "arrowwidth": 1
          },
          "autotypenumbers": "strict",
          "coloraxis": {
           "colorbar": {
            "outlinewidth": 0,
            "ticks": ""
           }
          },
          "colorscale": {
           "diverging": [
            [
             0,
             "#8e0152"
            ],
            [
             0.1,
             "#c51b7d"
            ],
            [
             0.2,
             "#de77ae"
            ],
            [
             0.3,
             "#f1b6da"
            ],
            [
             0.4,
             "#fde0ef"
            ],
            [
             0.5,
             "#f7f7f7"
            ],
            [
             0.6,
             "#e6f5d0"
            ],
            [
             0.7,
             "#b8e186"
            ],
            [
             0.8,
             "#7fbc41"
            ],
            [
             0.9,
             "#4d9221"
            ],
            [
             1,
             "#276419"
            ]
           ],
           "sequential": [
            [
             0,
             "#0d0887"
            ],
            [
             0.1111111111111111,
             "#46039f"
            ],
            [
             0.2222222222222222,
             "#7201a8"
            ],
            [
             0.3333333333333333,
             "#9c179e"
            ],
            [
             0.4444444444444444,
             "#bd3786"
            ],
            [
             0.5555555555555556,
             "#d8576b"
            ],
            [
             0.6666666666666666,
             "#ed7953"
            ],
            [
             0.7777777777777778,
             "#fb9f3a"
            ],
            [
             0.8888888888888888,
             "#fdca26"
            ],
            [
             1,
             "#f0f921"
            ]
           ],
           "sequentialminus": [
            [
             0,
             "#0d0887"
            ],
            [
             0.1111111111111111,
             "#46039f"
            ],
            [
             0.2222222222222222,
             "#7201a8"
            ],
            [
             0.3333333333333333,
             "#9c179e"
            ],
            [
             0.4444444444444444,
             "#bd3786"
            ],
            [
             0.5555555555555556,
             "#d8576b"
            ],
            [
             0.6666666666666666,
             "#ed7953"
            ],
            [
             0.7777777777777778,
             "#fb9f3a"
            ],
            [
             0.8888888888888888,
             "#fdca26"
            ],
            [
             1,
             "#f0f921"
            ]
           ]
          },
          "colorway": [
           "#636efa",
           "#EF553B",
           "#00cc96",
           "#ab63fa",
           "#FFA15A",
           "#19d3f3",
           "#FF6692",
           "#B6E880",
           "#FF97FF",
           "#FECB52"
          ],
          "font": {
           "color": "#2a3f5f"
          },
          "geo": {
           "bgcolor": "white",
           "lakecolor": "white",
           "landcolor": "#E5ECF6",
           "showlakes": true,
           "showland": true,
           "subunitcolor": "white"
          },
          "hoverlabel": {
           "align": "left"
          },
          "hovermode": "closest",
          "mapbox": {
           "style": "light"
          },
          "paper_bgcolor": "white",
          "plot_bgcolor": "#E5ECF6",
          "polar": {
           "angularaxis": {
            "gridcolor": "white",
            "linecolor": "white",
            "ticks": ""
           },
           "bgcolor": "#E5ECF6",
           "radialaxis": {
            "gridcolor": "white",
            "linecolor": "white",
            "ticks": ""
           }
          },
          "scene": {
           "xaxis": {
            "backgroundcolor": "#E5ECF6",
            "gridcolor": "white",
            "gridwidth": 2,
            "linecolor": "white",
            "showbackground": true,
            "ticks": "",
            "zerolinecolor": "white"
           },
           "yaxis": {
            "backgroundcolor": "#E5ECF6",
            "gridcolor": "white",
            "gridwidth": 2,
            "linecolor": "white",
            "showbackground": true,
            "ticks": "",
            "zerolinecolor": "white"
           },
           "zaxis": {
            "backgroundcolor": "#E5ECF6",
            "gridcolor": "white",
            "gridwidth": 2,
            "linecolor": "white",
            "showbackground": true,
            "ticks": "",
            "zerolinecolor": "white"
           }
          },
          "shapedefaults": {
           "line": {
            "color": "#2a3f5f"
           }
          },
          "ternary": {
           "aaxis": {
            "gridcolor": "white",
            "linecolor": "white",
            "ticks": ""
           },
           "baxis": {
            "gridcolor": "white",
            "linecolor": "white",
            "ticks": ""
           },
           "bgcolor": "#E5ECF6",
           "caxis": {
            "gridcolor": "white",
            "linecolor": "white",
            "ticks": ""
           }
          },
          "title": {
           "x": 0.05
          },
          "xaxis": {
           "automargin": true,
           "gridcolor": "white",
           "linecolor": "white",
           "ticks": "",
           "title": {
            "standoff": 15
           },
           "zerolinecolor": "white",
           "zerolinewidth": 2
          },
          "yaxis": {
           "automargin": true,
           "gridcolor": "white",
           "linecolor": "white",
           "ticks": "",
           "title": {
            "standoff": 15
           },
           "zerolinecolor": "white",
           "zerolinewidth": 2
          }
         }
        },
        "title": {
         "text": "Similarity Metrics Correlation Heatmap"
        },
        "xaxis": {
         "anchor": "y",
         "constrain": "domain",
         "domain": [
          0,
          1
         ],
         "scaleanchor": "y",
         "title": {
          "text": "Metric"
         }
        },
        "yaxis": {
         "anchor": "x",
         "autorange": "reversed",
         "constrain": "domain",
         "domain": [
          0,
          1
         ],
         "title": {
          "text": "Metric"
         }
        }
       }
      }
     },
     "metadata": {},
     "output_type": "display_data"
    }
   ],
   "source": [
    "simdf = pl.DataFrame(\n",
    "    {\n",
    "        k: v.flatten().numpy() for k, v in simpairs.items()\n",
    "    }\n",
    ")\n",
    "\n",
    "corrdf = simdf.select(pl.col(pl.Float32, pl.Float64)).corr()\n",
    "\n",
    "fig_corr = px.imshow(\n",
    "    corrdf,\n",
    "    labels=dict(x=\"Metric\", y=\"Metric\", color=\"Correlation\"),\n",
    "    x=[\"Dotproduct\", \"Cosine\", \"Distance\"],\n",
    "    y=[\"Dotproduct\", \"Cosine\", \"Distance\"],\n",
    "    color_continuous_scale=\"Portland\"\n",
    ")\n",
    "fig_corr.update_layout(title=\"Similarity Metrics Correlation Heatmap\")\n"
   ]
  },
  {
   "cell_type": "markdown",
   "metadata": {},
   "source": [
    "## Reduce Embeddings to 2-D Space with UMAP"
   ]
  },
  {
   "cell_type": "code",
   "execution_count": 18,
   "metadata": {},
   "outputs": [
    {
     "name": "stderr",
     "output_type": "stream",
     "text": [
      "/Users/anders/Desktop/learning/internet-movie-script-dataset/venv/lib/python3.12/site-packages/sklearn/utils/deprecation.py:151: FutureWarning:\n",
      "\n",
      "'force_all_finite' was renamed to 'ensure_all_finite' in 1.6 and will be removed in 1.8.\n",
      "\n",
      "/Users/anders/Desktop/learning/internet-movie-script-dataset/venv/lib/python3.12/site-packages/umap/umap_.py:1952: UserWarning:\n",
      "\n",
      "n_jobs value 1 overridden to 1 by setting random_state. Use no seed for parallelism.\n",
      "\n",
      "OMP: Info #276: omp_set_nested routine deprecated, please use omp_set_max_active_levels instead.\n"
     ]
    },
    {
     "data": {
      "text/plain": [
       "(110, 2)"
      ]
     },
     "execution_count": 18,
     "metadata": {},
     "output_type": "execute_result"
    }
   ],
   "source": [
    "reducer = umap.UMAP(n_components=2, random_state=42)\n",
    "\n",
    "embeddings_lowdim = reducer.fit_transform(embeddings)\n",
    "embeddings_lowdim.shape"
   ]
  },
  {
   "cell_type": "code",
   "execution_count": 19,
   "metadata": {},
   "outputs": [
    {
     "data": {
      "text/plain": [
       "['data/out/UMAP-reducer.joblib']"
      ]
     },
     "execution_count": 19,
     "metadata": {},
     "output_type": "execute_result"
    }
   ],
   "source": [
    "import joblib\n",
    "\n",
    "joblib.dump(reducer, \"data/out/UMAP-reducer.joblib\")"
   ]
  },
  {
   "cell_type": "markdown",
   "metadata": {},
   "source": [
    "**DataFrame of 2D embeddings**"
   ]
  },
  {
   "cell_type": "code",
   "execution_count": 20,
   "metadata": {},
   "outputs": [],
   "source": [
    "emblow = pd.DataFrame(embeddings_lowdim, columns = ['x', 'y'])\n",
    "\n",
    "emblow = pl.from_pandas(emblow).with_row_index().join(\n",
    "    # join 2D embeddings to movie data\n",
    "    df.with_columns(\n",
    "        # add script length column\n",
    "        script_length = pl.col(\"script\").str.len_chars()\n",
    "    ).select(pl.col(\"index\", \"movie_title\", \"year\", \"genre\", \"script_length\")),\n",
    "    on = 'index',\n",
    "    how = 'inner'\n",
    ")"
   ]
  },
  {
   "cell_type": "markdown",
   "metadata": {},
   "source": [
    "Label specific movies for plotting. Labelling them all is too hard to read on the plot"
   ]
  },
  {
   "cell_type": "code",
   "execution_count": 21,
   "metadata": {},
   "outputs": [
    {
     "name": "stdout",
     "output_type": "stream",
     "text": [
      "29\n"
     ]
    }
   ],
   "source": [
    "label_movies = [\n",
    "    '12 Angry Men',\n",
    " 'Aladdin',\n",
    " 'Avatar',\n",
    " 'Avengers: Endgame',\n",
    " 'Barbie',\n",
    " 'Black Panther Wakanda Forever',\n",
    " 'Cidade de Deus (City of God)',\n",
    " 'The Dark Knight',\n",
    " 'Fight Club',\n",
    " 'Forrest Gump',\n",
    " \"The Bourne Identity\",\n",
    " 'Frozen (Disney)',\n",
    " 'The Godfather',\n",
    " 'Nope',\n",
    " 'The LEGO Movie',\n",
    " 'Coraline',\n",
    " 'Harry Potter and the Half Blood Prince',\n",
    " 'Inception',\n",
    " 'The Shawshank Redemption',\n",
    " 'Interstellar',\n",
    " \"It's a Wonderful Life\",\n",
    " 'The Lord of the Rings The Fellowship of the Ring',\n",
    " 'The Matrix',\n",
    " 'Star Wars Episode V The Empire Strikes Back',\n",
    " 'The Nightmare Before Christmas',\n",
    " 'Pulp Fiction',\n",
    " 'Saving Private Ryan',\n",
    " 'Wall-E',\n",
    " 'Up'\n",
    "]\n",
    "\n",
    "print(len(label_movies))\n",
    "emblow = emblow.with_columns(\n",
    "        selected_labels = pl.when(pl.col(\"movie_title\").is_in(label_movies))\n",
    "        .then(pl.col(\"movie_title\"))\n",
    "        .otherwise(pl.lit(None))\n",
    ")"
   ]
  },
  {
   "cell_type": "markdown",
   "metadata": {},
   "source": [
    "Label all franchises we have at least 2 movies of in the data"
   ]
  },
  {
   "cell_type": "code",
   "execution_count": 25,
   "metadata": {},
   "outputs": [],
   "source": [
    "franchises = [\n",
    "    \"Bourne\",\n",
    "    \"Alien\",\n",
    "    \"Batman\",\n",
    "    \"Lord of the Rings\",\n",
    "    \"Godfather\",\n",
    "    \"Inside Out\",\n",
    "    \"Shrek\",\n",
    "    \"Top Gun\"\n",
    "]\n",
    "# assign franchise\n",
    "emblow = emblow.with_columns(\n",
    "    pl.col(\"movie_title\").str.replace(\"The Dark Knight\", \"Batman\")\n",
    "    .map_elements(lambda x: max([f if (f in x) else \".No sequels included\" for f in franchises]), return_dtype=pl.String)\n",
    "    .alias(\"Franchise\")\n",
    ")\n",
    "\n",
    "# for plotting\n",
    "# only display one\n",
    "# label per franchise\n",
    "indexed_unique_labels = (\n",
    "    emblow.with_columns(\n",
    "        # label the franchise as text\n",
    "        franchise_label = pl.when(pl.col(\"Franchise\") != \".No sequels included\")\n",
    "            .then(pl.col(\"Franchise\"))\n",
    "            .otherwise(pl.lit(None))\n",
    "    )\n",
    "    # remove duplicates (too messy for plotting since they are close together)\n",
    "    .unique(pl.col(\"franchise_label\"), keep='any', maintain_order=False)\n",
    "    .filter(pl.col(\"franchise_label\").is_not_null())\n",
    "    .select(pl.col(\"index\", \"franchise_label\"))\n",
    ")\n",
    "# join back just the first label for each franchise\n",
    "emblow = (\n",
    "    emblow.join(\n",
    "        indexed_unique_labels,\n",
    "        on = \"index\",\n",
    "        how = \"left\",\n",
    "        validate=\"1:1\"\n",
    "    )\n",
    "    .with_columns(\n",
    "        # make the franchise points bigger on the plot\n",
    "        point_size =  pl.when(pl.col(\"Franchise\") != \".No sequels included\")\n",
    "            .then(pl.lit(3))\n",
    "            .otherwise(pl.lit(1))\n",
    "    )\n",
    "    .with_columns(\n",
    "            pl.col(\"genre\").str.to_lowercase().str.contains(focus.lower(), literal=True)\n",
    "                    .alias(focus)\n",
    "            for focus in emblow.select(pl.col(\"genre\").str.split(\",\").flatten()).unique()[\"genre\"]\n",
    "            if len(focus or \"\") > 0\n",
    "        )\n",
    ")"
   ]
  },
  {
   "cell_type": "code",
   "execution_count": 26,
   "metadata": {},
   "outputs": [
    {
     "data": {
      "application/vnd.plotly.v1+json": {
       "config": {
        "plotlyServerURL": "https://plot.ly"
       },
       "data": [
        {
         "customdata": [
          [
           1957,
           "Crime,Drama",
           157913
          ],
          [
           2001,
           "Action,Crime,Drama,Thriller",
           34160
          ],
          [
           2008,
           "Action,Adventure,Drama,SciFi,Thriller",
           33612
          ],
          [
           2009,
           "Action,Adventure,Comedy",
           33603
          ],
          [
           1982,
           "Action,Comedy,Thriller",
           33794
          ],
          [
           2009,
           "Adventure,Animation,Drama,Fantasy,SciFi",
           20240
          ],
          [
           1992,
           "Crime,Drama,Mystery,Thriller",
           33608
          ],
          [
           2015,
           "Action,Crime,Drama",
           33605
          ],
          [
           2006,
           "Animation,Crime,Drama",
           25220
          ],
          [
           1987,
           "Action",
           33596
          ],
          [
           1988,
           "Action,Adventure,SciFi,Thriller",
           33578
          ],
          [
           1997,
           "Action,Adventure,Crime,Drama,Thriller",
           33582
          ],
          [
           1992,
           "Animation,Comedy,Family,Fantasy,Musical",
           30363
          ],
          [
           1978,
           "Action,Horror,SciFi,Thriller",
           33831
          ],
          [
           1991,
           "Action,Drama,Horror,SciFi,Thriller",
           34186
          ],
          [
           2022,
           "Drama,History,War",
           151688
          ],
          [
           2022,
           "Comedy,Drama,History",
           158209
          ],
          [
           1997,
           "Animation,Family,Musical",
           28342
          ],
          [
           1998,
           "Adventure,Animation,Comedy,Fantasy",
           22702
          ],
          [
           2009,
           "Action,Adventure,Fantasy",
           208270
          ],
          [
           2019,
           "Action,Adventure,Drama",
           153381
          ],
          [
           2023,
           "Adventure,Comedy,Fantasy",
           132534
          ],
          [
           1992,
           "Crime,Drama,Mystery,Thriller",
           33669
          ],
          [
           2022,
           "Action,Crime,Drama",
           195691
          ],
          [
           1996,
           "Adventure,Animation,Comedy",
           33894
          ],
          [
           2022,
           "Action,Adventure,Drama",
           236468
          ],
          [
           2002,
           "Action,Adventure,Drama,Mystery,Thriller",
           33575
          ],
          [
           2004,
           "Action,Adventure,Drama,Mystery,Thriller",
           34348
          ],
          [
           2007,
           "Action,Adventure,Mystery,Thriller",
           33946
          ],
          [
           2014,
           "Adventure,Animation,Comedy",
           33463
          ],
          [
           2022,
           "Comedy,Romance",
           155965
          ],
          [
           2011,
           "Action,Adventure,Animation",
           33642
          ],
          [
           2002,
           null,
           156241
          ],
          [
           2017,
           "Adventure,Animation,Comedy",
           33886
          ],
          [
           2009,
           "Adventure,Animation,Family,Fantasy",
           34001
          ],
          [
           2012,
           "Adventure,Animation,Comedy",
           33634
          ],
          [
           2008,
           "Drama,Fantasy,Mystery,Romance",
           33705
          ],
          [
           2008,
           "Action,Crime,Drama",
           174351
          ],
          [
           2024,
           "Action,Adventure,Comedy",
           174684
          ],
          [
           2013,
           "Adventure,Animation,Comedy",
           33947
          ],
          [
           2008,
           "Action,Mystery,Thriller",
           33831
          ],
          [
           2023,
           "Adventure,Animation,Comedy",
           147584
          ],
          [
           2022,
           "Biography,Drama,Music",
           218351
          ],
          [
           2021,
           "Animation,Comedy,Family",
           127249
          ],
          [
           2007,
           "Adventure,Animation,Comedy,Family",
           33754
          ],
          [
           1999,
           "Drama",
           261575
          ],
          [
           2003,
           "Adventure,Animation,Comedy,Family",
           34747
          ],
          [
           1994,
           "Drama,Romance",
           283204
          ],
          [
           2013,
           "Adventure,Animation,Comedy",
           33814
          ],
          [
           2024,
           null,
           112925
          ],
          [
           2022,
           "Comedy,Crime,Drama",
           146059
          ],
          [
           1974,
           "Crime,Drama",
           255596
          ],
          [
           1972,
           "Crime,Drama",
           125470
          ],
          [
           1990,
           "Biography,Crime,Drama",
           144512
          ],
          [
           2006,
           "Animation,Comedy,Family",
           33942
          ],
          [
           2009,
           "Action,Adventure,Family",
           192985
          ],
          [
           1980,
           "Action,Adventure,Animation,Fantasy,Horror,SciFi",
           34197
          ],
          [
           2023,
           "Comedy,Drama",
           119528
          ],
          [
           2010,
           "Adventure,Animation,Comedy",
           33836
          ],
          [
           2014,
           "Action,Adventure,Animation",
           33810
          ],
          [
           2010,
           "Action,Adventure,SciFi",
           172802
          ],
          [
           2004,
           "Action,Adventure,Animation,Comedy,Family,SciFi",
           35851
          ],
          [
           2015,
           "Adventure,Animation,Comedy",
           112584
          ],
          [
           2024,
           "Adventure,Animation,Comedy",
           138010
          ],
          [
           2014,
           "Adventure,Drama,SciFi",
           147075
          ],
          [
           1946,
           "Drama,Family,Fantasy",
           184415
          ],
          [
           2008,
           "Action,Animation,Comedy,Family",
           33721
          ],
          [
           2014,
           "Action,Adventure,Animation",
           33668
          ],
          [
           1989,
           "Animation,Comedy,Family,Fantasy,Musical,Romance",
           33542
          ],
          [
           2001,
           "Adventure,Drama,Fantasy",
           211223
          ],
          [
           2003,
           null,
           175476
          ],
          [
           2021,
           "Adventure,Animation,Comedy",
           132094
          ],
          [
           1964,
           "Animation,Comedy,Drama,Family,Fantasy,Musical",
           37233
          ],
          [
           1999,
           "Action,SciFi",
           140509
          ],
          [
           2010,
           "Action,Animation,Comedy,Family,SciFi",
           33762
          ],
          [
           2024,
           "Adventure,Animation,Comedy",
           141718
          ],
          [
           1999,
           "Animation,Comedy,Fantasy",
           33690
          ],
          [
           1998,
           "Adventure,Animation,Comedy,Family,Musical",
           33616
          ],
          [
           1991,
           "Animation,Comedy,Fantasy,Horror,Musical",
           34569
          ],
          [
           2022,
           "Horror,Mystery,SciFi",
           132822
          ],
          [
           2022,
           "Action,Adventure,Drama",
           186850
          ],
          [
           1975,
           "Drama",
           148041
          ],
          [
           2023,
           "Biography,Drama,History",
           222865
          ],
          [
           2012,
           "Adventure,Animation,Comedy",
           33695
          ],
          [
           2022,
           "Adventure,Comedy,Drama",
           122111
          ],
          [
           2000,
           "Adventure,Animation,Family,Fantasy",
           33990
          ],
          [
           1994,
           "Crime,Drama",
           152338
          ],
          [
           1990,
           "Adventure,Animation,Family",
           33649
          ],
          [
           2012,
           "Adventure,Animation,Family",
           33559
          ],
          [
           1998,
           "Drama,War",
           253657
          ],
          [
           1993,
           "Biography,Drama,History",
           175476
          ],
          [
           1995,
           "Crime,Drama,Mystery",
           204431
          ],
          [
           1954,
           "Action,Drama",
           329726
          ],
          [
           1994,
           "Drama",
           187179
          ],
          [
           2001,
           "Adventure,Animation,Comedy,Family,Fantasy,Romance",
           33552
          ],
          [
           2007,
           "Adventure,Animation,Comedy",
           33628
          ],
          [
           1991,
           "Crime,Drama,Thriller",
           352653
          ],
          [
           1999,
           "Animation,Comedy,Musical",
           33814
          ],
          [
           2021,
           "Action,Adventure,Fantasy",
           205954
          ],
          [
           1980,
           "Action,Adventure,Fantasy",
           160391
          ],
          [
           2005,
           "Action,Adventure,Animation,Comedy,Drama,Fantasy",
           33744
          ],
          [
           1986,
           "Action,Drama",
           125827
          ],
          [
           2022,
           "Action,Drama",
           182516
          ],
          [
           1995,
           "Animation,Comedy,Family,Fantasy",
           33956
          ],
          [
           1986,
           "Action,Animation,Family,SciFi",
           33915
          ],
          [
           2024,
           "Action,Adventure,Thriller",
           28388
          ],
          [
           2009,
           ",Adventure,Animation,Comedy,Drama,Family",
           21500
          ],
          [
           2008,
           "Adventure,Animation,Comedy,Drama,Family,Romance,SciFi",
           21479
          ],
          [
           2023,
           "Adventure,Comedy,Family",
           140616
          ],
          [
           2016,
           "Adventure,Animation,Comedy",
           25044
          ]
         ],
         "hovertemplate": "<b>%{hovertext}</b><br><br>x=%{x}<br>y=%{y}<br>selected_labels=%{text}<br>year=%{customdata[0]}<br>genre=%{customdata[1]}<br>script_length=%{customdata[2]}<extra></extra>",
         "hovertext": [
          "12 Angry Men",
          "15 Minutes",
          "2012",
          "30 Minutes or Less",
          "48 Hrs",
          "9",
          "A Few Good Men Script",
          "A Most Violent Year",
          "A Scanner Darkly",
          "Above the Law",
          "The Abyss",
          "Air Force One",
          "Aladdin",
          "Alien",
          "Alien 3",
          "All Quiet On The Western Front",
          "Amsterdam",
          "Anastasia",
          "Antz",
          "Avatar",
          "Avengers: Endgame",
          "Barbie",
          "Basic Instinct",
          "The Batman",
          "Beavis and Butt-head Do America",
          "Black Panther Wakanda Forever",
          "The Bourne Identity",
          "The Bourne Supremacy",
          "The Bourne Ultimatum",
          "The Boxtrolls",
          "Bros",
          "Cars 2",
          "Cidade de Deus (City of God)",
          "Coco",
          "Coraline",
          "The Croods",
          "The Curious Case of Benjamin Button",
          "The Dark Knight",
          "Deadpool & Wolverine",
          "Despicable Me 2",
          "Eagle Eye",
          "Elemental",
          "Elvis",
          "Encanto",
          "Fantastic Mr Fox",
          "Fight Club",
          "Finding Nemo",
          "Forrest Gump",
          "Frozen (Disney)",
          "Gladiator 2",
          "Glass Onion",
          "The Godfather Part II",
          "The Godfather",
          "Goodfellas",
          "Happy Feet",
          "Harry Potter and the Half Blood Prince",
          "Heavy Metal",
          "The Holdovers",
          "How to Train Your Dragon",
          "How to Train Your Dragon 2",
          "Inception",
          "The Incredibles",
          "Inside Out",
          "Inside Out 2",
          "Interstellar",
          "It's a Wonderful Life",
          "Kung Fu Panda",
          "The LEGO Movie",
          "The Little Mermaid",
          "The Lord of the Rings The Fellowship of the Ring",
          "The Lord of the Rings The Return of the King",
          "Luca",
          "Mary Poppins",
          "The Matrix",
          "Megamind",
          "Moana 2",
          "Monkeybone",
          "Mulan",
          "The Nightmare Before Christmas",
          "Nope",
          "The Northman",
          "One Flew Over the Cuckoo's Nest",
          "Oppenheimer",
          "ParaNorman",
          "Pinocchio",
          "Pokemon: Mewtwo Returns",
          "Pulp Fiction",
          "The Rescuers Down Under",
          "Rise of the Guardians",
          "Saving Private Ryan",
          "Schindler's List",
          "Se7en",
          "Seven Samurai",
          "The Shawshank Redemption",
          "Shrek",
          "Shrek the Third",
          "The Silence of the Lambs",
          "South Park",
          "Spider Man No Way Home",
          "Star Wars Episode V The Empire Strikes Back",
          "TMNT",
          "Top Gun",
          "Top Gun Maverick",
          "Toy Story",
          "Transformers: The Movie",
          "Twisters",
          "Up",
          "Wall-E",
          "Wonka",
          "Zootopia"
         ],
         "legendgroup": "",
         "marker": {
          "color": "#636efa",
          "symbol": "circle"
         },
         "mode": "markers+text",
         "name": "",
         "orientation": "v",
         "showlegend": false,
         "text": [
          "12 Angry Men",
          null,
          null,
          null,
          null,
          null,
          null,
          null,
          null,
          null,
          null,
          null,
          "Aladdin",
          null,
          null,
          null,
          null,
          null,
          null,
          "Avatar",
          "Avengers: Endgame",
          "Barbie",
          null,
          null,
          null,
          "Black Panther Wakanda Forever",
          "The Bourne Identity",
          null,
          null,
          null,
          null,
          null,
          "Cidade de Deus (City of God)",
          null,
          "Coraline",
          null,
          null,
          "The Dark Knight",
          null,
          null,
          null,
          null,
          null,
          null,
          null,
          "Fight Club",
          null,
          "Forrest Gump",
          "Frozen (Disney)",
          null,
          null,
          null,
          "The Godfather",
          null,
          null,
          "Harry Potter and the Half Blood Prince",
          null,
          null,
          null,
          null,
          "Inception",
          null,
          null,
          null,
          "Interstellar",
          "It's a Wonderful Life",
          null,
          "The LEGO Movie",
          null,
          "The Lord of the Rings The Fellowship of the Ring",
          null,
          null,
          null,
          "The Matrix",
          null,
          null,
          null,
          null,
          "The Nightmare Before Christmas",
          "Nope",
          null,
          null,
          null,
          null,
          null,
          null,
          "Pulp Fiction",
          null,
          null,
          "Saving Private Ryan",
          null,
          null,
          null,
          "The Shawshank Redemption",
          null,
          null,
          null,
          null,
          null,
          "Star Wars Episode V The Empire Strikes Back",
          null,
          null,
          null,
          null,
          null,
          null,
          "Up",
          "Wall-E",
          null,
          null
         ],
         "type": "scatter",
         "x": [
          -15.260607719421387,
          -15.828104972839355,
          -13.551736831665039,
          -15.699487686157227,
          -15.869125366210938,
          -13.843493461608887,
          -14.73410415649414,
          -15.97871208190918,
          -15.451286315917969,
          -15.409931182861328,
          -12.627243041992188,
          -14.443305969238281,
          -14.936163902282715,
          -12.699140548706055,
          -12.953664779663086,
          -14.242429733276367,
          -14.878098487854004,
          -15.069559097290039,
          -14.201415061950684,
          -12.769669532775879,
          -12.77080249786377,
          -14.679468154907227,
          -16.08670425415039,
          -15.07606315612793,
          -15.605222702026367,
          -12.68778133392334,
          -14.516276359558105,
          -14.300790786743164,
          -14.551375389099121,
          -14.716485977172852,
          -15.318350791931152,
          -13.527673721313477,
          -16.367076873779297,
          -16.450143814086914,
          -14.600915908813477,
          -12.955879211425781,
          -15.949158668518066,
          -15.22149658203125,
          -12.937178611755371,
          -14.494641304016113,
          -14.397465705871582,
          -14.202881813049316,
          -16.13966178894043,
          -16.440431594848633,
          -15.132596015930176,
          -14.84238052368164,
          -13.777441024780273,
          -16.202062606811523,
          -14.0540132522583,
          -15.13592529296875,
          -14.444795608520508,
          -15.226385116577148,
          -15.602836608886719,
          -16.13612174987793,
          -13.437929153442383,
          -15.792186737060547,
          -12.437583923339844,
          -15.56311321258545,
          -12.91556167602539,
          -13.104528427124023,
          -13.862975120544434,
          -14.465165138244629,
          -14.458280563354492,
          -14.609700202941895,
          -13.094018936157227,
          -16.148218154907227,
          -14.672871589660645,
          -13.933062553405762,
          -13.9109468460083,
          -12.38392448425293,
          -12.330732345581055,
          -14.173064231872559,
          -15.901936531066895,
          -13.609975814819336,
          -13.722127914428711,
          -13.615739822387695,
          -15.065096855163574,
          -14.762486457824707,
          -15.320147514343262,
          -15.091761589050293,
          -12.41926383972168,
          -15.388814926147461,
          -13.972798347473145,
          -15.260421752929688,
          -15.290204048156738,
          -13.58427619934082,
          -15.88263988494873,
          -13.204751014709473,
          -13.4732666015625,
          -14.164673805236816,
          -12.182393074035645,
          -15.847594261169434,
          -14.273225784301758,
          -16.256032943725586,
          -15.030633926391602,
          -14.874650955200195,
          -14.663045883178711,
          -15.411700248718262,
          -13.097244262695312,
          -12.32160472869873,
          -14.901466369628906,
          -12.033132553100586,
          -12.083893775939941,
          -14.905989646911621,
          -13.376849174499512,
          -15.489928245544434,
          -14.086064338684082,
          -13.557847023010254,
          -15.549232482910156,
          -14.85650634765625
         ],
         "xaxis": "x",
         "y": [
          10.266021728515625,
          10.937040328979492,
          9.829718589782715,
          10.514915466308594,
          10.543070793151855,
          9.51608657836914,
          10.794137001037598,
          10.876559257507324,
          10.097387313842773,
          10.830350875854492,
          9.131282806396484,
          10.740693092346191,
          7.612820148468018,
          9.305514335632324,
          9.15329360961914,
          10.707768440246582,
          10.273910522460938,
          9.278124809265137,
          9.539505958557129,
          8.792983055114746,
          10.128278732299805,
          9.023250579833984,
          10.993477821350098,
          11.403482437133789,
          9.820772171020508,
          9.747659683227539,
          11.212602615356445,
          11.02058219909668,
          11.141373634338379,
          8.12282943725586,
          9.715733528137207,
          8.955886840820312,
          9.028970718383789,
          9.131133079528809,
          8.6845064163208,
          8.534666061401367,
          9.48115062713623,
          11.388779640197754,
          10.384408950805664,
          8.464475631713867,
          9.854084968566895,
          8.130206108093262,
          9.784256935119629,
          9.13402271270752,
          8.395068168640137,
          10.02974796295166,
          7.8066487312316895,
          9.91814136505127,
          8.485915184020996,
          10.692780494689941,
          10.159164428710938,
          11.062382698059082,
          11.031532287597656,
          10.54879093170166,
          7.906649589538574,
          8.681831359863281,
          8.93235969543457,
          9.653883934020996,
          7.923015117645264,
          8.054367065429688,
          10.388006210327148,
          9.501590728759766,
          9.079556465148926,
          9.2901611328125,
          9.511560440063477,
          9.403051376342773,
          7.275931358337402,
          8.928228378295898,
          7.459828853607178,
          7.788363456726074,
          7.809981346130371,
          7.828321933746338,
          9.202873229980469,
          10.576494216918945,
          9.95108699798584,
          7.591963768005371,
          8.70429515838623,
          7.185436248779297,
          8.464438438415527,
          10.017921447753906,
          7.736727237701416,
          10.005836486816406,
          10.236166000366211,
          9.391400337219238,
          7.872339725494385,
          8.29988956451416,
          10.193432807922363,
          8.16724967956543,
          8.497992515563965,
          10.820481300354004,
          7.6085686683654785,
          11.225851058959961,
          10.493727684020996,
          10.21319580078125,
          7.576600551605225,
          7.6049628257751465,
          9.851099967956543,
          8.92959213256836,
          10.521371841430664,
          9.220135688781738,
          9.505668640136719,
          9.431357383728027,
          9.242786407470703,
          8.744131088256836,
          9.062960624694824,
          9.386969566345215,
          9.135019302368164,
          9.605016708374023,
          8.052265167236328,
          8.257500648498535
         ],
         "yaxis": "y"
        }
       ],
       "layout": {
        "font": {
         "family": "Arial Black",
         "size": 12
        },
        "height": 650,
        "legend": {
         "tracegroupgap": 0
        },
        "template": {
         "data": {
          "bar": [
           {
            "error_x": {
             "color": "#2a3f5f"
            },
            "error_y": {
             "color": "#2a3f5f"
            },
            "marker": {
             "line": {
              "color": "#E5ECF6",
              "width": 0.5
             },
             "pattern": {
              "fillmode": "overlay",
              "size": 10,
              "solidity": 0.2
             }
            },
            "type": "bar"
           }
          ],
          "barpolar": [
           {
            "marker": {
             "line": {
              "color": "#E5ECF6",
              "width": 0.5
             },
             "pattern": {
              "fillmode": "overlay",
              "size": 10,
              "solidity": 0.2
             }
            },
            "type": "barpolar"
           }
          ],
          "carpet": [
           {
            "aaxis": {
             "endlinecolor": "#2a3f5f",
             "gridcolor": "white",
             "linecolor": "white",
             "minorgridcolor": "white",
             "startlinecolor": "#2a3f5f"
            },
            "baxis": {
             "endlinecolor": "#2a3f5f",
             "gridcolor": "white",
             "linecolor": "white",
             "minorgridcolor": "white",
             "startlinecolor": "#2a3f5f"
            },
            "type": "carpet"
           }
          ],
          "choropleth": [
           {
            "colorbar": {
             "outlinewidth": 0,
             "ticks": ""
            },
            "type": "choropleth"
           }
          ],
          "contour": [
           {
            "colorbar": {
             "outlinewidth": 0,
             "ticks": ""
            },
            "colorscale": [
             [
              0,
              "#0d0887"
             ],
             [
              0.1111111111111111,
              "#46039f"
             ],
             [
              0.2222222222222222,
              "#7201a8"
             ],
             [
              0.3333333333333333,
              "#9c179e"
             ],
             [
              0.4444444444444444,
              "#bd3786"
             ],
             [
              0.5555555555555556,
              "#d8576b"
             ],
             [
              0.6666666666666666,
              "#ed7953"
             ],
             [
              0.7777777777777778,
              "#fb9f3a"
             ],
             [
              0.8888888888888888,
              "#fdca26"
             ],
             [
              1,
              "#f0f921"
             ]
            ],
            "type": "contour"
           }
          ],
          "contourcarpet": [
           {
            "colorbar": {
             "outlinewidth": 0,
             "ticks": ""
            },
            "type": "contourcarpet"
           }
          ],
          "heatmap": [
           {
            "colorbar": {
             "outlinewidth": 0,
             "ticks": ""
            },
            "colorscale": [
             [
              0,
              "#0d0887"
             ],
             [
              0.1111111111111111,
              "#46039f"
             ],
             [
              0.2222222222222222,
              "#7201a8"
             ],
             [
              0.3333333333333333,
              "#9c179e"
             ],
             [
              0.4444444444444444,
              "#bd3786"
             ],
             [
              0.5555555555555556,
              "#d8576b"
             ],
             [
              0.6666666666666666,
              "#ed7953"
             ],
             [
              0.7777777777777778,
              "#fb9f3a"
             ],
             [
              0.8888888888888888,
              "#fdca26"
             ],
             [
              1,
              "#f0f921"
             ]
            ],
            "type": "heatmap"
           }
          ],
          "heatmapgl": [
           {
            "colorbar": {
             "outlinewidth": 0,
             "ticks": ""
            },
            "colorscale": [
             [
              0,
              "#0d0887"
             ],
             [
              0.1111111111111111,
              "#46039f"
             ],
             [
              0.2222222222222222,
              "#7201a8"
             ],
             [
              0.3333333333333333,
              "#9c179e"
             ],
             [
              0.4444444444444444,
              "#bd3786"
             ],
             [
              0.5555555555555556,
              "#d8576b"
             ],
             [
              0.6666666666666666,
              "#ed7953"
             ],
             [
              0.7777777777777778,
              "#fb9f3a"
             ],
             [
              0.8888888888888888,
              "#fdca26"
             ],
             [
              1,
              "#f0f921"
             ]
            ],
            "type": "heatmapgl"
           }
          ],
          "histogram": [
           {
            "marker": {
             "pattern": {
              "fillmode": "overlay",
              "size": 10,
              "solidity": 0.2
             }
            },
            "type": "histogram"
           }
          ],
          "histogram2d": [
           {
            "colorbar": {
             "outlinewidth": 0,
             "ticks": ""
            },
            "colorscale": [
             [
              0,
              "#0d0887"
             ],
             [
              0.1111111111111111,
              "#46039f"
             ],
             [
              0.2222222222222222,
              "#7201a8"
             ],
             [
              0.3333333333333333,
              "#9c179e"
             ],
             [
              0.4444444444444444,
              "#bd3786"
             ],
             [
              0.5555555555555556,
              "#d8576b"
             ],
             [
              0.6666666666666666,
              "#ed7953"
             ],
             [
              0.7777777777777778,
              "#fb9f3a"
             ],
             [
              0.8888888888888888,
              "#fdca26"
             ],
             [
              1,
              "#f0f921"
             ]
            ],
            "type": "histogram2d"
           }
          ],
          "histogram2dcontour": [
           {
            "colorbar": {
             "outlinewidth": 0,
             "ticks": ""
            },
            "colorscale": [
             [
              0,
              "#0d0887"
             ],
             [
              0.1111111111111111,
              "#46039f"
             ],
             [
              0.2222222222222222,
              "#7201a8"
             ],
             [
              0.3333333333333333,
              "#9c179e"
             ],
             [
              0.4444444444444444,
              "#bd3786"
             ],
             [
              0.5555555555555556,
              "#d8576b"
             ],
             [
              0.6666666666666666,
              "#ed7953"
             ],
             [
              0.7777777777777778,
              "#fb9f3a"
             ],
             [
              0.8888888888888888,
              "#fdca26"
             ],
             [
              1,
              "#f0f921"
             ]
            ],
            "type": "histogram2dcontour"
           }
          ],
          "mesh3d": [
           {
            "colorbar": {
             "outlinewidth": 0,
             "ticks": ""
            },
            "type": "mesh3d"
           }
          ],
          "parcoords": [
           {
            "line": {
             "colorbar": {
              "outlinewidth": 0,
              "ticks": ""
             }
            },
            "type": "parcoords"
           }
          ],
          "pie": [
           {
            "automargin": true,
            "type": "pie"
           }
          ],
          "scatter": [
           {
            "fillpattern": {
             "fillmode": "overlay",
             "size": 10,
             "solidity": 0.2
            },
            "type": "scatter"
           }
          ],
          "scatter3d": [
           {
            "line": {
             "colorbar": {
              "outlinewidth": 0,
              "ticks": ""
             }
            },
            "marker": {
             "colorbar": {
              "outlinewidth": 0,
              "ticks": ""
             }
            },
            "type": "scatter3d"
           }
          ],
          "scattercarpet": [
           {
            "marker": {
             "colorbar": {
              "outlinewidth": 0,
              "ticks": ""
             }
            },
            "type": "scattercarpet"
           }
          ],
          "scattergeo": [
           {
            "marker": {
             "colorbar": {
              "outlinewidth": 0,
              "ticks": ""
             }
            },
            "type": "scattergeo"
           }
          ],
          "scattergl": [
           {
            "marker": {
             "colorbar": {
              "outlinewidth": 0,
              "ticks": ""
             }
            },
            "type": "scattergl"
           }
          ],
          "scattermapbox": [
           {
            "marker": {
             "colorbar": {
              "outlinewidth": 0,
              "ticks": ""
             }
            },
            "type": "scattermapbox"
           }
          ],
          "scatterpolar": [
           {
            "marker": {
             "colorbar": {
              "outlinewidth": 0,
              "ticks": ""
             }
            },
            "type": "scatterpolar"
           }
          ],
          "scatterpolargl": [
           {
            "marker": {
             "colorbar": {
              "outlinewidth": 0,
              "ticks": ""
             }
            },
            "type": "scatterpolargl"
           }
          ],
          "scatterternary": [
           {
            "marker": {
             "colorbar": {
              "outlinewidth": 0,
              "ticks": ""
             }
            },
            "type": "scatterternary"
           }
          ],
          "surface": [
           {
            "colorbar": {
             "outlinewidth": 0,
             "ticks": ""
            },
            "colorscale": [
             [
              0,
              "#0d0887"
             ],
             [
              0.1111111111111111,
              "#46039f"
             ],
             [
              0.2222222222222222,
              "#7201a8"
             ],
             [
              0.3333333333333333,
              "#9c179e"
             ],
             [
              0.4444444444444444,
              "#bd3786"
             ],
             [
              0.5555555555555556,
              "#d8576b"
             ],
             [
              0.6666666666666666,
              "#ed7953"
             ],
             [
              0.7777777777777778,
              "#fb9f3a"
             ],
             [
              0.8888888888888888,
              "#fdca26"
             ],
             [
              1,
              "#f0f921"
             ]
            ],
            "type": "surface"
           }
          ],
          "table": [
           {
            "cells": {
             "fill": {
              "color": "#EBF0F8"
             },
             "line": {
              "color": "white"
             }
            },
            "header": {
             "fill": {
              "color": "#C8D4E3"
             },
             "line": {
              "color": "white"
             }
            },
            "type": "table"
           }
          ]
         },
         "layout": {
          "annotationdefaults": {
           "arrowcolor": "#2a3f5f",
           "arrowhead": 0,
           "arrowwidth": 1
          },
          "autotypenumbers": "strict",
          "coloraxis": {
           "colorbar": {
            "outlinewidth": 0,
            "ticks": ""
           }
          },
          "colorscale": {
           "diverging": [
            [
             0,
             "#8e0152"
            ],
            [
             0.1,
             "#c51b7d"
            ],
            [
             0.2,
             "#de77ae"
            ],
            [
             0.3,
             "#f1b6da"
            ],
            [
             0.4,
             "#fde0ef"
            ],
            [
             0.5,
             "#f7f7f7"
            ],
            [
             0.6,
             "#e6f5d0"
            ],
            [
             0.7,
             "#b8e186"
            ],
            [
             0.8,
             "#7fbc41"
            ],
            [
             0.9,
             "#4d9221"
            ],
            [
             1,
             "#276419"
            ]
           ],
           "sequential": [
            [
             0,
             "#0d0887"
            ],
            [
             0.1111111111111111,
             "#46039f"
            ],
            [
             0.2222222222222222,
             "#7201a8"
            ],
            [
             0.3333333333333333,
             "#9c179e"
            ],
            [
             0.4444444444444444,
             "#bd3786"
            ],
            [
             0.5555555555555556,
             "#d8576b"
            ],
            [
             0.6666666666666666,
             "#ed7953"
            ],
            [
             0.7777777777777778,
             "#fb9f3a"
            ],
            [
             0.8888888888888888,
             "#fdca26"
            ],
            [
             1,
             "#f0f921"
            ]
           ],
           "sequentialminus": [
            [
             0,
             "#0d0887"
            ],
            [
             0.1111111111111111,
             "#46039f"
            ],
            [
             0.2222222222222222,
             "#7201a8"
            ],
            [
             0.3333333333333333,
             "#9c179e"
            ],
            [
             0.4444444444444444,
             "#bd3786"
            ],
            [
             0.5555555555555556,
             "#d8576b"
            ],
            [
             0.6666666666666666,
             "#ed7953"
            ],
            [
             0.7777777777777778,
             "#fb9f3a"
            ],
            [
             0.8888888888888888,
             "#fdca26"
            ],
            [
             1,
             "#f0f921"
            ]
           ]
          },
          "colorway": [
           "#636efa",
           "#EF553B",
           "#00cc96",
           "#ab63fa",
           "#FFA15A",
           "#19d3f3",
           "#FF6692",
           "#B6E880",
           "#FF97FF",
           "#FECB52"
          ],
          "font": {
           "color": "#2a3f5f"
          },
          "geo": {
           "bgcolor": "white",
           "lakecolor": "white",
           "landcolor": "#E5ECF6",
           "showlakes": true,
           "showland": true,
           "subunitcolor": "white"
          },
          "hoverlabel": {
           "align": "left"
          },
          "hovermode": "closest",
          "mapbox": {
           "style": "light"
          },
          "paper_bgcolor": "white",
          "plot_bgcolor": "#E5ECF6",
          "polar": {
           "angularaxis": {
            "gridcolor": "white",
            "linecolor": "white",
            "ticks": ""
           },
           "bgcolor": "#E5ECF6",
           "radialaxis": {
            "gridcolor": "white",
            "linecolor": "white",
            "ticks": ""
           }
          },
          "scene": {
           "xaxis": {
            "backgroundcolor": "#E5ECF6",
            "gridcolor": "white",
            "gridwidth": 2,
            "linecolor": "white",
            "showbackground": true,
            "ticks": "",
            "zerolinecolor": "white"
           },
           "yaxis": {
            "backgroundcolor": "#E5ECF6",
            "gridcolor": "white",
            "gridwidth": 2,
            "linecolor": "white",
            "showbackground": true,
            "ticks": "",
            "zerolinecolor": "white"
           },
           "zaxis": {
            "backgroundcolor": "#E5ECF6",
            "gridcolor": "white",
            "gridwidth": 2,
            "linecolor": "white",
            "showbackground": true,
            "ticks": "",
            "zerolinecolor": "white"
           }
          },
          "shapedefaults": {
           "line": {
            "color": "#2a3f5f"
           }
          },
          "ternary": {
           "aaxis": {
            "gridcolor": "white",
            "linecolor": "white",
            "ticks": ""
           },
           "baxis": {
            "gridcolor": "white",
            "linecolor": "white",
            "ticks": ""
           },
           "bgcolor": "#E5ECF6",
           "caxis": {
            "gridcolor": "white",
            "linecolor": "white",
            "ticks": ""
           }
          },
          "title": {
           "x": 0.05
          },
          "xaxis": {
           "automargin": true,
           "gridcolor": "white",
           "linecolor": "white",
           "ticks": "",
           "title": {
            "standoff": 15
           },
           "zerolinecolor": "white",
           "zerolinewidth": 2
          },
          "yaxis": {
           "automargin": true,
           "gridcolor": "white",
           "linecolor": "white",
           "ticks": "",
           "title": {
            "standoff": 15
           },
           "zerolinecolor": "white",
           "zerolinewidth": 2
          }
         }
        },
        "title": {
         "font": {
          "family": "Arial Black",
          "size": 24
         },
         "text": "Low Dimensional Visualization of Movie Script Embeddings"
        },
        "width": 1250,
        "xaxis": {
         "anchor": "y",
         "domain": [
          0,
          1
         ],
         "range": [
          -17,
          -11.5
         ],
         "title": {
          "text": "x"
         }
        },
        "yaxis": {
         "anchor": "x",
         "domain": [
          0,
          1
         ],
         "title": {
          "text": "y"
         }
        }
       }
      }
     },
     "metadata": {},
     "output_type": "display_data"
    }
   ],
   "source": [
    "fig = px.scatter(\n",
    "    emblow,\n",
    "    x=\"x\", \n",
    "    y=\"y\",\n",
    "    text = \"selected_labels\",\n",
    "    hover_name = \"movie_title\",\n",
    "    hover_data =[\"year\", \"genre\", \"script_length\"],\n",
    "    title = \"Low Dimensional Visualization of Movie Script Embeddings\",\n",
    "    width = int(1.25e3),\n",
    "    height = int(0.65e3)\n",
    ")\n",
    "fig.update_xaxes(\n",
    "    range=[-17,-11.5]\n",
    ")\n",
    "\n",
    "fig.update_layout(\n",
    "    font=dict(\n",
    "        #family=\"Courier New, monospace\",\n",
    "        size=14,  # Set the font size here\n",
    "        #color=\"RebeccaPurple\"\n",
    "    )\n",
    ")\n",
    "fig.update_layout(\n",
    "    font=dict(\n",
    "        family='Arial Black', \n",
    "        size=12\n",
    "    ),\n",
    "    title_font = dict(\n",
    "        family='Arial Black', \n",
    "        size=24\n",
    "    )\n",
    ")\n",
    "fig.show()"
   ]
  },
  {
   "cell_type": "code",
   "execution_count": 27,
   "metadata": {},
   "outputs": [
    {
     "data": {
      "application/vnd.plotly.v1+json": {
       "config": {
        "plotlyServerURL": "https://plot.ly"
       },
       "data": [
        {
         "customdata": [
          [
           1957,
           "Crime,Drama",
           157913
          ],
          [
           2001,
           "Action,Crime,Drama,Thriller",
           34160
          ],
          [
           2008,
           "Action,Adventure,Drama,SciFi,Thriller",
           33612
          ],
          [
           2009,
           "Action,Adventure,Comedy",
           33603
          ],
          [
           1982,
           "Action,Comedy,Thriller",
           33794
          ],
          [
           2009,
           "Adventure,Animation,Drama,Fantasy,SciFi",
           20240
          ],
          [
           1992,
           "Crime,Drama,Mystery,Thriller",
           33608
          ],
          [
           2015,
           "Action,Crime,Drama",
           33605
          ],
          [
           2006,
           "Animation,Crime,Drama",
           25220
          ],
          [
           1987,
           "Action",
           33596
          ],
          [
           1988,
           "Action,Adventure,SciFi,Thriller",
           33578
          ],
          [
           1997,
           "Action,Adventure,Crime,Drama,Thriller",
           33582
          ],
          [
           1992,
           "Animation,Comedy,Family,Fantasy,Musical",
           30363
          ],
          [
           2022,
           "Drama,History,War",
           151688
          ],
          [
           2022,
           "Comedy,Drama,History",
           158209
          ],
          [
           1997,
           "Animation,Family,Musical",
           28342
          ],
          [
           1998,
           "Adventure,Animation,Comedy,Fantasy",
           22702
          ],
          [
           2009,
           "Action,Adventure,Fantasy",
           208270
          ],
          [
           2019,
           "Action,Adventure,Drama",
           153381
          ],
          [
           2023,
           "Adventure,Comedy,Fantasy",
           132534
          ],
          [
           1992,
           "Crime,Drama,Mystery,Thriller",
           33669
          ],
          [
           1996,
           "Adventure,Animation,Comedy",
           33894
          ],
          [
           2022,
           "Action,Adventure,Drama",
           236468
          ],
          [
           2014,
           "Adventure,Animation,Comedy",
           33463
          ],
          [
           2022,
           "Comedy,Romance",
           155965
          ],
          [
           2011,
           "Action,Adventure,Animation",
           33642
          ],
          [
           2002,
           null,
           156241
          ],
          [
           2017,
           "Adventure,Animation,Comedy",
           33886
          ],
          [
           2009,
           "Adventure,Animation,Family,Fantasy",
           34001
          ],
          [
           2012,
           "Adventure,Animation,Comedy",
           33634
          ],
          [
           2008,
           "Drama,Fantasy,Mystery,Romance",
           33705
          ],
          [
           2024,
           "Action,Adventure,Comedy",
           174684
          ],
          [
           2013,
           "Adventure,Animation,Comedy",
           33947
          ],
          [
           2008,
           "Action,Mystery,Thriller",
           33831
          ],
          [
           2023,
           "Adventure,Animation,Comedy",
           147584
          ],
          [
           2022,
           "Biography,Drama,Music",
           218351
          ],
          [
           2021,
           "Animation,Comedy,Family",
           127249
          ],
          [
           2007,
           "Adventure,Animation,Comedy,Family",
           33754
          ],
          [
           1999,
           "Drama",
           261575
          ],
          [
           2003,
           "Adventure,Animation,Comedy,Family",
           34747
          ],
          [
           1994,
           "Drama,Romance",
           283204
          ],
          [
           2013,
           "Adventure,Animation,Comedy",
           33814
          ],
          [
           2024,
           null,
           112925
          ],
          [
           2022,
           "Comedy,Crime,Drama",
           146059
          ],
          [
           1990,
           "Biography,Crime,Drama",
           144512
          ],
          [
           2006,
           "Animation,Comedy,Family",
           33942
          ],
          [
           2009,
           "Action,Adventure,Family",
           192985
          ],
          [
           1980,
           "Action,Adventure,Animation,Fantasy,Horror,SciFi",
           34197
          ],
          [
           2023,
           "Comedy,Drama",
           119528
          ],
          [
           2010,
           "Adventure,Animation,Comedy",
           33836
          ],
          [
           2014,
           "Action,Adventure,Animation",
           33810
          ],
          [
           2010,
           "Action,Adventure,SciFi",
           172802
          ],
          [
           2004,
           "Action,Adventure,Animation,Comedy,Family,SciFi",
           35851
          ],
          [
           2014,
           "Adventure,Drama,SciFi",
           147075
          ],
          [
           1946,
           "Drama,Family,Fantasy",
           184415
          ],
          [
           2008,
           "Action,Animation,Comedy,Family",
           33721
          ],
          [
           2014,
           "Action,Adventure,Animation",
           33668
          ],
          [
           1989,
           "Animation,Comedy,Family,Fantasy,Musical,Romance",
           33542
          ],
          [
           2021,
           "Adventure,Animation,Comedy",
           132094
          ],
          [
           1964,
           "Animation,Comedy,Drama,Family,Fantasy,Musical",
           37233
          ],
          [
           1999,
           "Action,SciFi",
           140509
          ],
          [
           2010,
           "Action,Animation,Comedy,Family,SciFi",
           33762
          ],
          [
           2024,
           "Adventure,Animation,Comedy",
           141718
          ],
          [
           1999,
           "Animation,Comedy,Fantasy",
           33690
          ],
          [
           1998,
           "Adventure,Animation,Comedy,Family,Musical",
           33616
          ],
          [
           1991,
           "Animation,Comedy,Fantasy,Horror,Musical",
           34569
          ],
          [
           2022,
           "Horror,Mystery,SciFi",
           132822
          ],
          [
           2022,
           "Action,Adventure,Drama",
           186850
          ],
          [
           1975,
           "Drama",
           148041
          ],
          [
           2023,
           "Biography,Drama,History",
           222865
          ],
          [
           2012,
           "Adventure,Animation,Comedy",
           33695
          ],
          [
           2022,
           "Adventure,Comedy,Drama",
           122111
          ],
          [
           2000,
           "Adventure,Animation,Family,Fantasy",
           33990
          ],
          [
           1994,
           "Crime,Drama",
           152338
          ],
          [
           1990,
           "Adventure,Animation,Family",
           33649
          ],
          [
           2012,
           "Adventure,Animation,Family",
           33559
          ],
          [
           1998,
           "Drama,War",
           253657
          ],
          [
           1993,
           "Biography,Drama,History",
           175476
          ],
          [
           1995,
           "Crime,Drama,Mystery",
           204431
          ],
          [
           1954,
           "Action,Drama",
           329726
          ],
          [
           1994,
           "Drama",
           187179
          ],
          [
           1991,
           "Crime,Drama,Thriller",
           352653
          ],
          [
           1999,
           "Animation,Comedy,Musical",
           33814
          ],
          [
           2021,
           "Action,Adventure,Fantasy",
           205954
          ],
          [
           1980,
           "Action,Adventure,Fantasy",
           160391
          ],
          [
           2005,
           "Action,Adventure,Animation,Comedy,Drama,Fantasy",
           33744
          ],
          [
           1995,
           "Animation,Comedy,Family,Fantasy",
           33956
          ],
          [
           1986,
           "Action,Animation,Family,SciFi",
           33915
          ],
          [
           2024,
           "Action,Adventure,Thriller",
           28388
          ],
          [
           2009,
           ",Adventure,Animation,Comedy,Drama,Family",
           21500
          ],
          [
           2008,
           "Adventure,Animation,Comedy,Drama,Family,Romance,SciFi",
           21479
          ],
          [
           2023,
           "Adventure,Comedy,Family",
           140616
          ],
          [
           2016,
           "Adventure,Animation,Comedy",
           25044
          ]
         ],
         "hovertemplate": "<b>%{hovertext}</b><br><br>Franchise=.No sequels included<br>x=%{x}<br>y=%{y}<br>point_size=%{marker.size}<br>franchise_label=%{text}<br>year=%{customdata[0]}<br>genre=%{customdata[1]}<br>script_length=%{customdata[2]}<extra></extra>",
         "hovertext": [
          "12 Angry Men",
          "15 Minutes",
          "2012",
          "30 Minutes or Less",
          "48 Hrs",
          "9",
          "A Few Good Men Script",
          "A Most Violent Year",
          "A Scanner Darkly",
          "Above the Law",
          "The Abyss",
          "Air Force One",
          "Aladdin",
          "All Quiet On The Western Front",
          "Amsterdam",
          "Anastasia",
          "Antz",
          "Avatar",
          "Avengers: Endgame",
          "Barbie",
          "Basic Instinct",
          "Beavis and Butt-head Do America",
          "Black Panther Wakanda Forever",
          "The Boxtrolls",
          "Bros",
          "Cars 2",
          "Cidade de Deus (City of God)",
          "Coco",
          "Coraline",
          "The Croods",
          "The Curious Case of Benjamin Button",
          "Deadpool & Wolverine",
          "Despicable Me 2",
          "Eagle Eye",
          "Elemental",
          "Elvis",
          "Encanto",
          "Fantastic Mr Fox",
          "Fight Club",
          "Finding Nemo",
          "Forrest Gump",
          "Frozen (Disney)",
          "Gladiator 2",
          "Glass Onion",
          "Goodfellas",
          "Happy Feet",
          "Harry Potter and the Half Blood Prince",
          "Heavy Metal",
          "The Holdovers",
          "How to Train Your Dragon",
          "How to Train Your Dragon 2",
          "Inception",
          "The Incredibles",
          "Interstellar",
          "It's a Wonderful Life",
          "Kung Fu Panda",
          "The LEGO Movie",
          "The Little Mermaid",
          "Luca",
          "Mary Poppins",
          "The Matrix",
          "Megamind",
          "Moana 2",
          "Monkeybone",
          "Mulan",
          "The Nightmare Before Christmas",
          "Nope",
          "The Northman",
          "One Flew Over the Cuckoo's Nest",
          "Oppenheimer",
          "ParaNorman",
          "Pinocchio",
          "Pokemon: Mewtwo Returns",
          "Pulp Fiction",
          "The Rescuers Down Under",
          "Rise of the Guardians",
          "Saving Private Ryan",
          "Schindler's List",
          "Se7en",
          "Seven Samurai",
          "The Shawshank Redemption",
          "The Silence of the Lambs",
          "South Park",
          "Spider Man No Way Home",
          "Star Wars Episode V The Empire Strikes Back",
          "TMNT",
          "Toy Story",
          "Transformers: The Movie",
          "Twisters",
          "Up",
          "Wall-E",
          "Wonka",
          "Zootopia"
         ],
         "legendgroup": ".No sequels included",
         "marker": {
          "color": "#636efa",
          "size": [
           1,
           1,
           1,
           1,
           1,
           1,
           1,
           1,
           1,
           1,
           1,
           1,
           1,
           1,
           1,
           1,
           1,
           1,
           1,
           1,
           1,
           1,
           1,
           1,
           1,
           1,
           1,
           1,
           1,
           1,
           1,
           1,
           1,
           1,
           1,
           1,
           1,
           1,
           1,
           1,
           1,
           1,
           1,
           1,
           1,
           1,
           1,
           1,
           1,
           1,
           1,
           1,
           1,
           1,
           1,
           1,
           1,
           1,
           1,
           1,
           1,
           1,
           1,
           1,
           1,
           1,
           1,
           1,
           1,
           1,
           1,
           1,
           1,
           1,
           1,
           1,
           1,
           1,
           1,
           1,
           1,
           1,
           1,
           1,
           1,
           1,
           1,
           1,
           1,
           1,
           1,
           1,
           1
          ],
          "sizemode": "area",
          "sizeref": 0.0075,
          "symbol": "circle"
         },
         "mode": "markers+text",
         "name": ".No sequels included",
         "orientation": "v",
         "showlegend": true,
         "text": [
          null,
          null,
          null,
          null,
          null,
          null,
          null,
          null,
          null,
          null,
          null,
          null,
          null,
          null,
          null,
          null,
          null,
          null,
          null,
          null,
          null,
          null,
          null,
          null,
          null,
          null,
          null,
          null,
          null,
          null,
          null,
          null,
          null,
          null,
          null,
          null,
          null,
          null,
          null,
          null,
          null,
          null,
          null,
          null,
          null,
          null,
          null,
          null,
          null,
          null,
          null,
          null,
          null,
          null,
          null,
          null,
          null,
          null,
          null,
          null,
          null,
          null,
          null,
          null,
          null,
          null,
          null,
          null,
          null,
          null,
          null,
          null,
          null,
          null,
          null,
          null,
          null,
          null,
          null,
          null,
          null,
          null,
          null,
          null,
          null,
          null,
          null,
          null,
          null,
          null,
          null,
          null,
          null
         ],
         "type": "scatter",
         "x": [
          -15.260607719421387,
          -15.828104972839355,
          -13.551736831665039,
          -15.699487686157227,
          -15.869125366210938,
          -13.843493461608887,
          -14.73410415649414,
          -15.97871208190918,
          -15.451286315917969,
          -15.409931182861328,
          -12.627243041992188,
          -14.443305969238281,
          -14.936163902282715,
          -14.242429733276367,
          -14.878098487854004,
          -15.069559097290039,
          -14.201415061950684,
          -12.769669532775879,
          -12.77080249786377,
          -14.679468154907227,
          -16.08670425415039,
          -15.605222702026367,
          -12.68778133392334,
          -14.716485977172852,
          -15.318350791931152,
          -13.527673721313477,
          -16.367076873779297,
          -16.450143814086914,
          -14.600915908813477,
          -12.955879211425781,
          -15.949158668518066,
          -12.937178611755371,
          -14.494641304016113,
          -14.397465705871582,
          -14.202881813049316,
          -16.13966178894043,
          -16.440431594848633,
          -15.132596015930176,
          -14.84238052368164,
          -13.777441024780273,
          -16.202062606811523,
          -14.0540132522583,
          -15.13592529296875,
          -14.444795608520508,
          -16.13612174987793,
          -13.437929153442383,
          -15.792186737060547,
          -12.437583923339844,
          -15.56311321258545,
          -12.91556167602539,
          -13.104528427124023,
          -13.862975120544434,
          -14.465165138244629,
          -13.094018936157227,
          -16.148218154907227,
          -14.672871589660645,
          -13.933062553405762,
          -13.9109468460083,
          -14.173064231872559,
          -15.901936531066895,
          -13.609975814819336,
          -13.722127914428711,
          -13.615739822387695,
          -15.065096855163574,
          -14.762486457824707,
          -15.320147514343262,
          -15.091761589050293,
          -12.41926383972168,
          -15.388814926147461,
          -13.972798347473145,
          -15.260421752929688,
          -15.290204048156738,
          -13.58427619934082,
          -15.88263988494873,
          -13.204751014709473,
          -13.4732666015625,
          -14.164673805236816,
          -12.182393074035645,
          -15.847594261169434,
          -14.273225784301758,
          -16.256032943725586,
          -14.663045883178711,
          -15.411700248718262,
          -13.097244262695312,
          -12.32160472869873,
          -14.901466369628906,
          -14.905989646911621,
          -13.376849174499512,
          -15.489928245544434,
          -14.086064338684082,
          -13.557847023010254,
          -15.549232482910156,
          -14.85650634765625
         ],
         "xaxis": "x",
         "y": [
          10.266021728515625,
          10.937040328979492,
          9.829718589782715,
          10.514915466308594,
          10.543070793151855,
          9.51608657836914,
          10.794137001037598,
          10.876559257507324,
          10.097387313842773,
          10.830350875854492,
          9.131282806396484,
          10.740693092346191,
          7.612820148468018,
          10.707768440246582,
          10.273910522460938,
          9.278124809265137,
          9.539505958557129,
          8.792983055114746,
          10.128278732299805,
          9.023250579833984,
          10.993477821350098,
          9.820772171020508,
          9.747659683227539,
          8.12282943725586,
          9.715733528137207,
          8.955886840820312,
          9.028970718383789,
          9.131133079528809,
          8.6845064163208,
          8.534666061401367,
          9.48115062713623,
          10.384408950805664,
          8.464475631713867,
          9.854084968566895,
          8.130206108093262,
          9.784256935119629,
          9.13402271270752,
          8.395068168640137,
          10.02974796295166,
          7.8066487312316895,
          9.91814136505127,
          8.485915184020996,
          10.692780494689941,
          10.159164428710938,
          10.54879093170166,
          7.906649589538574,
          8.681831359863281,
          8.93235969543457,
          9.653883934020996,
          7.923015117645264,
          8.054367065429688,
          10.388006210327148,
          9.501590728759766,
          9.511560440063477,
          9.403051376342773,
          7.275931358337402,
          8.928228378295898,
          7.459828853607178,
          7.828321933746338,
          9.202873229980469,
          10.576494216918945,
          9.95108699798584,
          7.591963768005371,
          8.70429515838623,
          7.185436248779297,
          8.464438438415527,
          10.017921447753906,
          7.736727237701416,
          10.005836486816406,
          10.236166000366211,
          9.391400337219238,
          7.872339725494385,
          8.29988956451416,
          10.193432807922363,
          8.16724967956543,
          8.497992515563965,
          10.820481300354004,
          7.6085686683654785,
          11.225851058959961,
          10.493727684020996,
          10.21319580078125,
          9.851099967956543,
          8.92959213256836,
          10.521371841430664,
          9.220135688781738,
          9.505668640136719,
          8.744131088256836,
          9.062960624694824,
          9.386969566345215,
          9.135019302368164,
          9.605016708374023,
          8.052265167236328,
          8.257500648498535
         ],
         "yaxis": "y"
        },
        {
         "customdata": [
          [
           1978,
           "Action,Horror,SciFi,Thriller",
           33831
          ],
          [
           1991,
           "Action,Drama,Horror,SciFi,Thriller",
           34186
          ]
         ],
         "hovertemplate": "<b>%{hovertext}</b><br><br>Franchise=Alien<br>x=%{x}<br>y=%{y}<br>point_size=%{marker.size}<br>franchise_label=%{text}<br>year=%{customdata[0]}<br>genre=%{customdata[1]}<br>script_length=%{customdata[2]}<extra></extra>",
         "hovertext": [
          "Alien",
          "Alien 3"
         ],
         "legendgroup": "Alien",
         "marker": {
          "color": "#EF553B",
          "size": [
           3,
           3
          ],
          "sizemode": "area",
          "sizeref": 0.0075,
          "symbol": "diamond"
         },
         "mode": "markers+text",
         "name": "Alien",
         "orientation": "v",
         "showlegend": true,
         "text": [
          "Alien",
          null
         ],
         "type": "scatter",
         "x": [
          -12.699140548706055,
          -12.953664779663086
         ],
         "xaxis": "x",
         "y": [
          9.305514335632324,
          9.15329360961914
         ],
         "yaxis": "y"
        },
        {
         "customdata": [
          [
           2022,
           "Action,Crime,Drama",
           195691
          ],
          [
           2008,
           "Action,Crime,Drama",
           174351
          ]
         ],
         "hovertemplate": "<b>%{hovertext}</b><br><br>Franchise=Batman<br>x=%{x}<br>y=%{y}<br>point_size=%{marker.size}<br>franchise_label=%{text}<br>year=%{customdata[0]}<br>genre=%{customdata[1]}<br>script_length=%{customdata[2]}<extra></extra>",
         "hovertext": [
          "The Batman",
          "The Dark Knight"
         ],
         "legendgroup": "Batman",
         "marker": {
          "color": "#00cc96",
          "size": [
           3,
           3
          ],
          "sizemode": "area",
          "sizeref": 0.0075,
          "symbol": "square"
         },
         "mode": "markers+text",
         "name": "Batman",
         "orientation": "v",
         "showlegend": true,
         "text": [
          "Batman",
          null
         ],
         "type": "scatter",
         "x": [
          -15.07606315612793,
          -15.22149658203125
         ],
         "xaxis": "x",
         "y": [
          11.403482437133789,
          11.388779640197754
         ],
         "yaxis": "y"
        },
        {
         "customdata": [
          [
           2002,
           "Action,Adventure,Drama,Mystery,Thriller",
           33575
          ],
          [
           2004,
           "Action,Adventure,Drama,Mystery,Thriller",
           34348
          ],
          [
           2007,
           "Action,Adventure,Mystery,Thriller",
           33946
          ]
         ],
         "hovertemplate": "<b>%{hovertext}</b><br><br>Franchise=Bourne<br>x=%{x}<br>y=%{y}<br>point_size=%{marker.size}<br>franchise_label=%{text}<br>year=%{customdata[0]}<br>genre=%{customdata[1]}<br>script_length=%{customdata[2]}<extra></extra>",
         "hovertext": [
          "The Bourne Identity",
          "The Bourne Supremacy",
          "The Bourne Ultimatum"
         ],
         "legendgroup": "Bourne",
         "marker": {
          "color": "#ab63fa",
          "size": [
           3,
           3,
           3
          ],
          "sizemode": "area",
          "sizeref": 0.0075,
          "symbol": "x"
         },
         "mode": "markers+text",
         "name": "Bourne",
         "orientation": "v",
         "showlegend": true,
         "text": [
          "Bourne",
          null,
          null
         ],
         "type": "scatter",
         "x": [
          -14.516276359558105,
          -14.300790786743164,
          -14.551375389099121
         ],
         "xaxis": "x",
         "y": [
          11.212602615356445,
          11.02058219909668,
          11.141373634338379
         ],
         "yaxis": "y"
        },
        {
         "customdata": [
          [
           1974,
           "Crime,Drama",
           255596
          ],
          [
           1972,
           "Crime,Drama",
           125470
          ]
         ],
         "hovertemplate": "<b>%{hovertext}</b><br><br>Franchise=Godfather<br>x=%{x}<br>y=%{y}<br>point_size=%{marker.size}<br>franchise_label=%{text}<br>year=%{customdata[0]}<br>genre=%{customdata[1]}<br>script_length=%{customdata[2]}<extra></extra>",
         "hovertext": [
          "The Godfather Part II",
          "The Godfather"
         ],
         "legendgroup": "Godfather",
         "marker": {
          "color": "#FFA15A",
          "size": [
           3,
           3
          ],
          "sizemode": "area",
          "sizeref": 0.0075,
          "symbol": "cross"
         },
         "mode": "markers+text",
         "name": "Godfather",
         "orientation": "v",
         "showlegend": true,
         "text": [
          "Godfather",
          null
         ],
         "type": "scatter",
         "x": [
          -15.226385116577148,
          -15.602836608886719
         ],
         "xaxis": "x",
         "y": [
          11.062382698059082,
          11.031532287597656
         ],
         "yaxis": "y"
        },
        {
         "customdata": [
          [
           2015,
           "Adventure,Animation,Comedy",
           112584
          ],
          [
           2024,
           "Adventure,Animation,Comedy",
           138010
          ]
         ],
         "hovertemplate": "<b>%{hovertext}</b><br><br>Franchise=Inside Out<br>x=%{x}<br>y=%{y}<br>point_size=%{marker.size}<br>franchise_label=%{text}<br>year=%{customdata[0]}<br>genre=%{customdata[1]}<br>script_length=%{customdata[2]}<extra></extra>",
         "hovertext": [
          "Inside Out",
          "Inside Out 2"
         ],
         "legendgroup": "Inside Out",
         "marker": {
          "color": "#19d3f3",
          "size": [
           3,
           3
          ],
          "sizemode": "area",
          "sizeref": 0.0075,
          "symbol": "circle"
         },
         "mode": "markers+text",
         "name": "Inside Out",
         "orientation": "v",
         "showlegend": true,
         "text": [
          "Inside Out",
          null
         ],
         "type": "scatter",
         "x": [
          -14.458280563354492,
          -14.609700202941895
         ],
         "xaxis": "x",
         "y": [
          9.079556465148926,
          9.2901611328125
         ],
         "yaxis": "y"
        },
        {
         "customdata": [
          [
           2001,
           "Adventure,Drama,Fantasy",
           211223
          ],
          [
           2003,
           null,
           175476
          ]
         ],
         "hovertemplate": "<b>%{hovertext}</b><br><br>Franchise=Lord of the Rings<br>x=%{x}<br>y=%{y}<br>point_size=%{marker.size}<br>franchise_label=%{text}<br>year=%{customdata[0]}<br>genre=%{customdata[1]}<br>script_length=%{customdata[2]}<extra></extra>",
         "hovertext": [
          "The Lord of the Rings The Fellowship of the Ring",
          "The Lord of the Rings The Return of the King"
         ],
         "legendgroup": "Lord of the Rings",
         "marker": {
          "color": "#FF6692",
          "size": [
           3,
           3
          ],
          "sizemode": "area",
          "sizeref": 0.0075,
          "symbol": "diamond"
         },
         "mode": "markers+text",
         "name": "Lord of the Rings",
         "orientation": "v",
         "showlegend": true,
         "text": [
          "Lord of the Rings",
          null
         ],
         "type": "scatter",
         "x": [
          -12.38392448425293,
          -12.330732345581055
         ],
         "xaxis": "x",
         "y": [
          7.788363456726074,
          7.809981346130371
         ],
         "yaxis": "y"
        },
        {
         "customdata": [
          [
           2001,
           "Adventure,Animation,Comedy,Family,Fantasy,Romance",
           33552
          ],
          [
           2007,
           "Adventure,Animation,Comedy",
           33628
          ]
         ],
         "hovertemplate": "<b>%{hovertext}</b><br><br>Franchise=Shrek<br>x=%{x}<br>y=%{y}<br>point_size=%{marker.size}<br>franchise_label=%{text}<br>year=%{customdata[0]}<br>genre=%{customdata[1]}<br>script_length=%{customdata[2]}<extra></extra>",
         "hovertext": [
          "Shrek",
          "Shrek the Third"
         ],
         "legendgroup": "Shrek",
         "marker": {
          "color": "#B6E880",
          "size": [
           3,
           3
          ],
          "sizemode": "area",
          "sizeref": 0.0075,
          "symbol": "square"
         },
         "mode": "markers+text",
         "name": "Shrek",
         "orientation": "v",
         "showlegend": true,
         "text": [
          "Shrek",
          null
         ],
         "type": "scatter",
         "x": [
          -15.030633926391602,
          -14.874650955200195
         ],
         "xaxis": "x",
         "y": [
          7.576600551605225,
          7.6049628257751465
         ],
         "yaxis": "y"
        },
        {
         "customdata": [
          [
           1986,
           "Action,Drama",
           125827
          ],
          [
           2022,
           "Action,Drama",
           182516
          ]
         ],
         "hovertemplate": "<b>%{hovertext}</b><br><br>Franchise=Top Gun<br>x=%{x}<br>y=%{y}<br>point_size=%{marker.size}<br>franchise_label=%{text}<br>year=%{customdata[0]}<br>genre=%{customdata[1]}<br>script_length=%{customdata[2]}<extra></extra>",
         "hovertext": [
          "Top Gun",
          "Top Gun Maverick"
         ],
         "legendgroup": "Top Gun",
         "marker": {
          "color": "#FF97FF",
          "size": [
           3,
           3
          ],
          "sizemode": "area",
          "sizeref": 0.0075,
          "symbol": "x"
         },
         "mode": "markers+text",
         "name": "Top Gun",
         "orientation": "v",
         "showlegend": true,
         "text": [
          "Top Gun",
          null
         ],
         "type": "scatter",
         "x": [
          -12.033132553100586,
          -12.083893775939941
         ],
         "xaxis": "x",
         "y": [
          9.431357383728027,
          9.242786407470703
         ],
         "yaxis": "y"
        }
       ],
       "layout": {
        "height": 650,
        "legend": {
         "itemsizing": "constant",
         "title": {
          "text": "Franchise"
         },
         "tracegroupgap": 0
        },
        "template": {
         "data": {
          "bar": [
           {
            "error_x": {
             "color": "#2a3f5f"
            },
            "error_y": {
             "color": "#2a3f5f"
            },
            "marker": {
             "line": {
              "color": "#E5ECF6",
              "width": 0.5
             },
             "pattern": {
              "fillmode": "overlay",
              "size": 10,
              "solidity": 0.2
             }
            },
            "type": "bar"
           }
          ],
          "barpolar": [
           {
            "marker": {
             "line": {
              "color": "#E5ECF6",
              "width": 0.5
             },
             "pattern": {
              "fillmode": "overlay",
              "size": 10,
              "solidity": 0.2
             }
            },
            "type": "barpolar"
           }
          ],
          "carpet": [
           {
            "aaxis": {
             "endlinecolor": "#2a3f5f",
             "gridcolor": "white",
             "linecolor": "white",
             "minorgridcolor": "white",
             "startlinecolor": "#2a3f5f"
            },
            "baxis": {
             "endlinecolor": "#2a3f5f",
             "gridcolor": "white",
             "linecolor": "white",
             "minorgridcolor": "white",
             "startlinecolor": "#2a3f5f"
            },
            "type": "carpet"
           }
          ],
          "choropleth": [
           {
            "colorbar": {
             "outlinewidth": 0,
             "ticks": ""
            },
            "type": "choropleth"
           }
          ],
          "contour": [
           {
            "colorbar": {
             "outlinewidth": 0,
             "ticks": ""
            },
            "colorscale": [
             [
              0,
              "#0d0887"
             ],
             [
              0.1111111111111111,
              "#46039f"
             ],
             [
              0.2222222222222222,
              "#7201a8"
             ],
             [
              0.3333333333333333,
              "#9c179e"
             ],
             [
              0.4444444444444444,
              "#bd3786"
             ],
             [
              0.5555555555555556,
              "#d8576b"
             ],
             [
              0.6666666666666666,
              "#ed7953"
             ],
             [
              0.7777777777777778,
              "#fb9f3a"
             ],
             [
              0.8888888888888888,
              "#fdca26"
             ],
             [
              1,
              "#f0f921"
             ]
            ],
            "type": "contour"
           }
          ],
          "contourcarpet": [
           {
            "colorbar": {
             "outlinewidth": 0,
             "ticks": ""
            },
            "type": "contourcarpet"
           }
          ],
          "heatmap": [
           {
            "colorbar": {
             "outlinewidth": 0,
             "ticks": ""
            },
            "colorscale": [
             [
              0,
              "#0d0887"
             ],
             [
              0.1111111111111111,
              "#46039f"
             ],
             [
              0.2222222222222222,
              "#7201a8"
             ],
             [
              0.3333333333333333,
              "#9c179e"
             ],
             [
              0.4444444444444444,
              "#bd3786"
             ],
             [
              0.5555555555555556,
              "#d8576b"
             ],
             [
              0.6666666666666666,
              "#ed7953"
             ],
             [
              0.7777777777777778,
              "#fb9f3a"
             ],
             [
              0.8888888888888888,
              "#fdca26"
             ],
             [
              1,
              "#f0f921"
             ]
            ],
            "type": "heatmap"
           }
          ],
          "heatmapgl": [
           {
            "colorbar": {
             "outlinewidth": 0,
             "ticks": ""
            },
            "colorscale": [
             [
              0,
              "#0d0887"
             ],
             [
              0.1111111111111111,
              "#46039f"
             ],
             [
              0.2222222222222222,
              "#7201a8"
             ],
             [
              0.3333333333333333,
              "#9c179e"
             ],
             [
              0.4444444444444444,
              "#bd3786"
             ],
             [
              0.5555555555555556,
              "#d8576b"
             ],
             [
              0.6666666666666666,
              "#ed7953"
             ],
             [
              0.7777777777777778,
              "#fb9f3a"
             ],
             [
              0.8888888888888888,
              "#fdca26"
             ],
             [
              1,
              "#f0f921"
             ]
            ],
            "type": "heatmapgl"
           }
          ],
          "histogram": [
           {
            "marker": {
             "pattern": {
              "fillmode": "overlay",
              "size": 10,
              "solidity": 0.2
             }
            },
            "type": "histogram"
           }
          ],
          "histogram2d": [
           {
            "colorbar": {
             "outlinewidth": 0,
             "ticks": ""
            },
            "colorscale": [
             [
              0,
              "#0d0887"
             ],
             [
              0.1111111111111111,
              "#46039f"
             ],
             [
              0.2222222222222222,
              "#7201a8"
             ],
             [
              0.3333333333333333,
              "#9c179e"
             ],
             [
              0.4444444444444444,
              "#bd3786"
             ],
             [
              0.5555555555555556,
              "#d8576b"
             ],
             [
              0.6666666666666666,
              "#ed7953"
             ],
             [
              0.7777777777777778,
              "#fb9f3a"
             ],
             [
              0.8888888888888888,
              "#fdca26"
             ],
             [
              1,
              "#f0f921"
             ]
            ],
            "type": "histogram2d"
           }
          ],
          "histogram2dcontour": [
           {
            "colorbar": {
             "outlinewidth": 0,
             "ticks": ""
            },
            "colorscale": [
             [
              0,
              "#0d0887"
             ],
             [
              0.1111111111111111,
              "#46039f"
             ],
             [
              0.2222222222222222,
              "#7201a8"
             ],
             [
              0.3333333333333333,
              "#9c179e"
             ],
             [
              0.4444444444444444,
              "#bd3786"
             ],
             [
              0.5555555555555556,
              "#d8576b"
             ],
             [
              0.6666666666666666,
              "#ed7953"
             ],
             [
              0.7777777777777778,
              "#fb9f3a"
             ],
             [
              0.8888888888888888,
              "#fdca26"
             ],
             [
              1,
              "#f0f921"
             ]
            ],
            "type": "histogram2dcontour"
           }
          ],
          "mesh3d": [
           {
            "colorbar": {
             "outlinewidth": 0,
             "ticks": ""
            },
            "type": "mesh3d"
           }
          ],
          "parcoords": [
           {
            "line": {
             "colorbar": {
              "outlinewidth": 0,
              "ticks": ""
             }
            },
            "type": "parcoords"
           }
          ],
          "pie": [
           {
            "automargin": true,
            "type": "pie"
           }
          ],
          "scatter": [
           {
            "fillpattern": {
             "fillmode": "overlay",
             "size": 10,
             "solidity": 0.2
            },
            "type": "scatter"
           }
          ],
          "scatter3d": [
           {
            "line": {
             "colorbar": {
              "outlinewidth": 0,
              "ticks": ""
             }
            },
            "marker": {
             "colorbar": {
              "outlinewidth": 0,
              "ticks": ""
             }
            },
            "type": "scatter3d"
           }
          ],
          "scattercarpet": [
           {
            "marker": {
             "colorbar": {
              "outlinewidth": 0,
              "ticks": ""
             }
            },
            "type": "scattercarpet"
           }
          ],
          "scattergeo": [
           {
            "marker": {
             "colorbar": {
              "outlinewidth": 0,
              "ticks": ""
             }
            },
            "type": "scattergeo"
           }
          ],
          "scattergl": [
           {
            "marker": {
             "colorbar": {
              "outlinewidth": 0,
              "ticks": ""
             }
            },
            "type": "scattergl"
           }
          ],
          "scattermapbox": [
           {
            "marker": {
             "colorbar": {
              "outlinewidth": 0,
              "ticks": ""
             }
            },
            "type": "scattermapbox"
           }
          ],
          "scatterpolar": [
           {
            "marker": {
             "colorbar": {
              "outlinewidth": 0,
              "ticks": ""
             }
            },
            "type": "scatterpolar"
           }
          ],
          "scatterpolargl": [
           {
            "marker": {
             "colorbar": {
              "outlinewidth": 0,
              "ticks": ""
             }
            },
            "type": "scatterpolargl"
           }
          ],
          "scatterternary": [
           {
            "marker": {
             "colorbar": {
              "outlinewidth": 0,
              "ticks": ""
             }
            },
            "type": "scatterternary"
           }
          ],
          "surface": [
           {
            "colorbar": {
             "outlinewidth": 0,
             "ticks": ""
            },
            "colorscale": [
             [
              0,
              "#0d0887"
             ],
             [
              0.1111111111111111,
              "#46039f"
             ],
             [
              0.2222222222222222,
              "#7201a8"
             ],
             [
              0.3333333333333333,
              "#9c179e"
             ],
             [
              0.4444444444444444,
              "#bd3786"
             ],
             [
              0.5555555555555556,
              "#d8576b"
             ],
             [
              0.6666666666666666,
              "#ed7953"
             ],
             [
              0.7777777777777778,
              "#fb9f3a"
             ],
             [
              0.8888888888888888,
              "#fdca26"
             ],
             [
              1,
              "#f0f921"
             ]
            ],
            "type": "surface"
           }
          ],
          "table": [
           {
            "cells": {
             "fill": {
              "color": "#EBF0F8"
             },
             "line": {
              "color": "white"
             }
            },
            "header": {
             "fill": {
              "color": "#C8D4E3"
             },
             "line": {
              "color": "white"
             }
            },
            "type": "table"
           }
          ]
         },
         "layout": {
          "annotationdefaults": {
           "arrowcolor": "#2a3f5f",
           "arrowhead": 0,
           "arrowwidth": 1
          },
          "autotypenumbers": "strict",
          "coloraxis": {
           "colorbar": {
            "outlinewidth": 0,
            "ticks": ""
           }
          },
          "colorscale": {
           "diverging": [
            [
             0,
             "#8e0152"
            ],
            [
             0.1,
             "#c51b7d"
            ],
            [
             0.2,
             "#de77ae"
            ],
            [
             0.3,
             "#f1b6da"
            ],
            [
             0.4,
             "#fde0ef"
            ],
            [
             0.5,
             "#f7f7f7"
            ],
            [
             0.6,
             "#e6f5d0"
            ],
            [
             0.7,
             "#b8e186"
            ],
            [
             0.8,
             "#7fbc41"
            ],
            [
             0.9,
             "#4d9221"
            ],
            [
             1,
             "#276419"
            ]
           ],
           "sequential": [
            [
             0,
             "#0d0887"
            ],
            [
             0.1111111111111111,
             "#46039f"
            ],
            [
             0.2222222222222222,
             "#7201a8"
            ],
            [
             0.3333333333333333,
             "#9c179e"
            ],
            [
             0.4444444444444444,
             "#bd3786"
            ],
            [
             0.5555555555555556,
             "#d8576b"
            ],
            [
             0.6666666666666666,
             "#ed7953"
            ],
            [
             0.7777777777777778,
             "#fb9f3a"
            ],
            [
             0.8888888888888888,
             "#fdca26"
            ],
            [
             1,
             "#f0f921"
            ]
           ],
           "sequentialminus": [
            [
             0,
             "#0d0887"
            ],
            [
             0.1111111111111111,
             "#46039f"
            ],
            [
             0.2222222222222222,
             "#7201a8"
            ],
            [
             0.3333333333333333,
             "#9c179e"
            ],
            [
             0.4444444444444444,
             "#bd3786"
            ],
            [
             0.5555555555555556,
             "#d8576b"
            ],
            [
             0.6666666666666666,
             "#ed7953"
            ],
            [
             0.7777777777777778,
             "#fb9f3a"
            ],
            [
             0.8888888888888888,
             "#fdca26"
            ],
            [
             1,
             "#f0f921"
            ]
           ]
          },
          "colorway": [
           "#636efa",
           "#EF553B",
           "#00cc96",
           "#ab63fa",
           "#FFA15A",
           "#19d3f3",
           "#FF6692",
           "#B6E880",
           "#FF97FF",
           "#FECB52"
          ],
          "font": {
           "color": "#2a3f5f"
          },
          "geo": {
           "bgcolor": "white",
           "lakecolor": "white",
           "landcolor": "#E5ECF6",
           "showlakes": true,
           "showland": true,
           "subunitcolor": "white"
          },
          "hoverlabel": {
           "align": "left"
          },
          "hovermode": "closest",
          "mapbox": {
           "style": "light"
          },
          "paper_bgcolor": "white",
          "plot_bgcolor": "#E5ECF6",
          "polar": {
           "angularaxis": {
            "gridcolor": "white",
            "linecolor": "white",
            "ticks": ""
           },
           "bgcolor": "#E5ECF6",
           "radialaxis": {
            "gridcolor": "white",
            "linecolor": "white",
            "ticks": ""
           }
          },
          "scene": {
           "xaxis": {
            "backgroundcolor": "#E5ECF6",
            "gridcolor": "white",
            "gridwidth": 2,
            "linecolor": "white",
            "showbackground": true,
            "ticks": "",
            "zerolinecolor": "white"
           },
           "yaxis": {
            "backgroundcolor": "#E5ECF6",
            "gridcolor": "white",
            "gridwidth": 2,
            "linecolor": "white",
            "showbackground": true,
            "ticks": "",
            "zerolinecolor": "white"
           },
           "zaxis": {
            "backgroundcolor": "#E5ECF6",
            "gridcolor": "white",
            "gridwidth": 2,
            "linecolor": "white",
            "showbackground": true,
            "ticks": "",
            "zerolinecolor": "white"
           }
          },
          "shapedefaults": {
           "line": {
            "color": "#2a3f5f"
           }
          },
          "ternary": {
           "aaxis": {
            "gridcolor": "white",
            "linecolor": "white",
            "ticks": ""
           },
           "baxis": {
            "gridcolor": "white",
            "linecolor": "white",
            "ticks": ""
           },
           "bgcolor": "#E5ECF6",
           "caxis": {
            "gridcolor": "white",
            "linecolor": "white",
            "ticks": ""
           }
          },
          "title": {
           "x": 0.05
          },
          "xaxis": {
           "automargin": true,
           "gridcolor": "white",
           "linecolor": "white",
           "ticks": "",
           "title": {
            "standoff": 15
           },
           "zerolinecolor": "white",
           "zerolinewidth": 2
          },
          "yaxis": {
           "automargin": true,
           "gridcolor": "white",
           "linecolor": "white",
           "ticks": "",
           "title": {
            "standoff": 15
           },
           "zerolinecolor": "white",
           "zerolinewidth": 2
          }
         }
        },
        "title": {
         "text": "Low Dimensional Visualization of Movie Script Embeddings"
        },
        "width": 1250,
        "xaxis": {
         "anchor": "y",
         "domain": [
          0,
          1
         ],
         "title": {
          "text": "x"
         }
        },
        "yaxis": {
         "anchor": "x",
         "domain": [
          0,
          1
         ],
         "title": {
          "text": "y"
         }
        }
       }
      }
     },
     "metadata": {},
     "output_type": "display_data"
    }
   ],
   "source": [
    "fig = px.scatter(\n",
    "    emblow,\n",
    "    x='x',\n",
    "    y='y',\n",
    "    color='Franchise',\n",
    "    symbol='Franchise',\n",
    "    size = 'point_size',\n",
    "    text='franchise_label',\n",
    "    hover_name = \"movie_title\",\n",
    "    hover_data =[\"year\", \"genre\", \"script_length\"],\n",
    "    title = \"Low Dimensional Visualization of Movie Script Embeddings\",\n",
    "    width = int(1.25e3),\n",
    "    height = int(0.65e3)\n",
    ")\n",
    "\n",
    "fig.show()"
   ]
  },
  {
   "cell_type": "code",
   "execution_count": 28,
   "metadata": {},
   "outputs": [],
   "source": [
    "emblow = emblow.with_columns(\n",
    "        (\n",
    "            pl.col(\"genre\").str.to_lowercase().str.contains(focus.lower(), literal=True)\n",
    "                    .alias(focus)\n",
    "            for focus in emblow.select(pl.col(\"genre\").str.split(\",\").flatten()).unique()[\"genre\"]\n",
    "            if len(focus or \"\") > 0\n",
    "        )\n",
    "    )"
   ]
  },
  {
   "cell_type": "code",
   "execution_count": 29,
   "metadata": {},
   "outputs": [
    {
     "name": "stdout",
     "output_type": "stream",
     "text": [
      "Action\n"
     ]
    },
    {
     "data": {
      "application/vnd.plotly.v1+json": {
       "config": {
        "plotlyServerURL": "https://plot.ly"
       },
       "data": [
        {
         "customdata": [
          [
           1957,
           "Crime,Drama",
           false
          ],
          [
           2009,
           "Adventure,Animation,Drama,Fantasy,SciFi",
           false
          ],
          [
           1992,
           "Crime,Drama,Mystery,Thriller",
           false
          ],
          [
           2006,
           "Animation,Crime,Drama",
           false
          ],
          [
           1992,
           "Animation,Comedy,Family,Fantasy,Musical",
           false
          ],
          [
           2022,
           "Drama,History,War",
           false
          ],
          [
           2022,
           "Comedy,Drama,History",
           false
          ],
          [
           1997,
           "Animation,Family,Musical",
           false
          ],
          [
           1998,
           "Adventure,Animation,Comedy,Fantasy",
           false
          ],
          [
           2023,
           "Adventure,Comedy,Fantasy",
           false
          ],
          [
           1992,
           "Crime,Drama,Mystery,Thriller",
           false
          ],
          [
           1996,
           "Adventure,Animation,Comedy",
           false
          ],
          [
           2014,
           "Adventure,Animation,Comedy",
           false
          ],
          [
           2022,
           "Comedy,Romance",
           false
          ],
          [
           2002,
           null,
           false
          ],
          [
           2017,
           "Adventure,Animation,Comedy",
           false
          ],
          [
           2009,
           "Adventure,Animation,Family,Fantasy",
           false
          ],
          [
           2012,
           "Adventure,Animation,Comedy",
           false
          ],
          [
           2008,
           "Drama,Fantasy,Mystery,Romance",
           false
          ],
          [
           2013,
           "Adventure,Animation,Comedy",
           false
          ],
          [
           2023,
           "Adventure,Animation,Comedy",
           false
          ],
          [
           2022,
           "Biography,Drama,Music",
           false
          ],
          [
           2021,
           "Animation,Comedy,Family",
           false
          ],
          [
           2007,
           "Adventure,Animation,Comedy,Family",
           false
          ],
          [
           1999,
           "Drama",
           false
          ],
          [
           2003,
           "Adventure,Animation,Comedy,Family",
           false
          ],
          [
           1994,
           "Drama,Romance",
           false
          ],
          [
           2013,
           "Adventure,Animation,Comedy",
           false
          ],
          [
           2024,
           null,
           false
          ],
          [
           2022,
           "Comedy,Crime,Drama",
           false
          ],
          [
           1974,
           "Crime,Drama",
           false
          ],
          [
           1972,
           "Crime,Drama",
           false
          ],
          [
           1990,
           "Biography,Crime,Drama",
           false
          ],
          [
           2006,
           "Animation,Comedy,Family",
           false
          ],
          [
           2023,
           "Comedy,Drama",
           false
          ],
          [
           2010,
           "Adventure,Animation,Comedy",
           false
          ],
          [
           2015,
           "Adventure,Animation,Comedy",
           false
          ],
          [
           2024,
           "Adventure,Animation,Comedy",
           false
          ],
          [
           2014,
           "Adventure,Drama,SciFi",
           false
          ],
          [
           1946,
           "Drama,Family,Fantasy",
           false
          ],
          [
           1989,
           "Animation,Comedy,Family,Fantasy,Musical,Romance",
           false
          ],
          [
           2001,
           "Adventure,Drama,Fantasy",
           false
          ],
          [
           2003,
           null,
           false
          ],
          [
           2021,
           "Adventure,Animation,Comedy",
           false
          ],
          [
           1964,
           "Animation,Comedy,Drama,Family,Fantasy,Musical",
           false
          ],
          [
           2024,
           "Adventure,Animation,Comedy",
           false
          ],
          [
           1999,
           "Animation,Comedy,Fantasy",
           false
          ],
          [
           1998,
           "Adventure,Animation,Comedy,Family,Musical",
           false
          ],
          [
           1991,
           "Animation,Comedy,Fantasy,Horror,Musical",
           false
          ],
          [
           2022,
           "Horror,Mystery,SciFi",
           false
          ],
          [
           1975,
           "Drama",
           false
          ],
          [
           2023,
           "Biography,Drama,History",
           false
          ],
          [
           2012,
           "Adventure,Animation,Comedy",
           false
          ],
          [
           2022,
           "Adventure,Comedy,Drama",
           false
          ],
          [
           2000,
           "Adventure,Animation,Family,Fantasy",
           false
          ],
          [
           1994,
           "Crime,Drama",
           false
          ],
          [
           1990,
           "Adventure,Animation,Family",
           false
          ],
          [
           2012,
           "Adventure,Animation,Family",
           false
          ],
          [
           1998,
           "Drama,War",
           false
          ],
          [
           1993,
           "Biography,Drama,History",
           false
          ],
          [
           1995,
           "Crime,Drama,Mystery",
           false
          ],
          [
           1994,
           "Drama",
           false
          ],
          [
           2001,
           "Adventure,Animation,Comedy,Family,Fantasy,Romance",
           false
          ],
          [
           2007,
           "Adventure,Animation,Comedy",
           false
          ],
          [
           1991,
           "Crime,Drama,Thriller",
           false
          ],
          [
           1999,
           "Animation,Comedy,Musical",
           false
          ],
          [
           1995,
           "Animation,Comedy,Family,Fantasy",
           false
          ],
          [
           2009,
           ",Adventure,Animation,Comedy,Drama,Family",
           false
          ],
          [
           2008,
           "Adventure,Animation,Comedy,Drama,Family,Romance,SciFi",
           false
          ],
          [
           2023,
           "Adventure,Comedy,Family",
           false
          ],
          [
           2016,
           "Adventure,Animation,Comedy",
           false
          ]
         ],
         "hovertemplate": "<b>%{hovertext}</b><br><br>Action=%{customdata[2]}<br>x=%{x}<br>y=%{y}<br>size=%{marker.size}<br>year=%{customdata[0]}<br>genre=%{customdata[1]}<extra></extra>",
         "hovertext": [
          "12 Angry Men",
          "9",
          "A Few Good Men Script",
          "A Scanner Darkly",
          "Aladdin",
          "All Quiet On The Western Front",
          "Amsterdam",
          "Anastasia",
          "Antz",
          "Barbie",
          "Basic Instinct",
          "Beavis and Butt-head Do America",
          "The Boxtrolls",
          "Bros",
          "Cidade de Deus (City of God)",
          "Coco",
          "Coraline",
          "The Croods",
          "The Curious Case of Benjamin Button",
          "Despicable Me 2",
          "Elemental",
          "Elvis",
          "Encanto",
          "Fantastic Mr Fox",
          "Fight Club",
          "Finding Nemo",
          "Forrest Gump",
          "Frozen (Disney)",
          "Gladiator 2",
          "Glass Onion",
          "The Godfather Part II",
          "The Godfather",
          "Goodfellas",
          "Happy Feet",
          "The Holdovers",
          "How to Train Your Dragon",
          "Inside Out",
          "Inside Out 2",
          "Interstellar",
          "It's a Wonderful Life",
          "The Little Mermaid",
          "The Lord of the Rings The Fellowship of the Ring",
          "The Lord of the Rings The Return of the King",
          "Luca",
          "Mary Poppins",
          "Moana 2",
          "Monkeybone",
          "Mulan",
          "The Nightmare Before Christmas",
          "Nope",
          "One Flew Over the Cuckoo's Nest",
          "Oppenheimer",
          "ParaNorman",
          "Pinocchio",
          "Pokemon: Mewtwo Returns",
          "Pulp Fiction",
          "The Rescuers Down Under",
          "Rise of the Guardians",
          "Saving Private Ryan",
          "Schindler's List",
          "Se7en",
          "The Shawshank Redemption",
          "Shrek",
          "Shrek the Third",
          "The Silence of the Lambs",
          "South Park",
          "Toy Story",
          "Up",
          "Wall-E",
          "Wonka",
          "Zootopia"
         ],
         "legendgroup": "False",
         "marker": {
          "color": "#636efa",
          "size": [
           2,
           2,
           2,
           2,
           2,
           2,
           2,
           2,
           2,
           2,
           2,
           2,
           2,
           2,
           2,
           2,
           2,
           2,
           2,
           2,
           2,
           2,
           2,
           2,
           2,
           2,
           2,
           2,
           2,
           2,
           2,
           2,
           2,
           2,
           2,
           2,
           2,
           2,
           2,
           2,
           2,
           2,
           2,
           2,
           2,
           2,
           2,
           2,
           2,
           2,
           2,
           2,
           2,
           2,
           2,
           2,
           2,
           2,
           2,
           2,
           2,
           2,
           2,
           2,
           2,
           2,
           2,
           2,
           2,
           2,
           2
          ],
          "sizemode": "area",
          "sizeref": 0.005,
          "symbol": "circle"
         },
         "mode": "markers",
         "name": "False",
         "orientation": "v",
         "showlegend": true,
         "type": "scatter",
         "x": [
          -15.260607719421387,
          -13.843493461608887,
          -14.73410415649414,
          -15.451286315917969,
          -14.936163902282715,
          -14.242429733276367,
          -14.878098487854004,
          -15.069559097290039,
          -14.201415061950684,
          -14.679468154907227,
          -16.08670425415039,
          -15.605222702026367,
          -14.716485977172852,
          -15.318350791931152,
          -16.367076873779297,
          -16.450143814086914,
          -14.600915908813477,
          -12.955879211425781,
          -15.949158668518066,
          -14.494641304016113,
          -14.202881813049316,
          -16.13966178894043,
          -16.440431594848633,
          -15.132596015930176,
          -14.84238052368164,
          -13.777441024780273,
          -16.202062606811523,
          -14.0540132522583,
          -15.13592529296875,
          -14.444795608520508,
          -15.226385116577148,
          -15.602836608886719,
          -16.13612174987793,
          -13.437929153442383,
          -15.56311321258545,
          -12.91556167602539,
          -14.458280563354492,
          -14.609700202941895,
          -13.094018936157227,
          -16.148218154907227,
          -13.9109468460083,
          -12.38392448425293,
          -12.330732345581055,
          -14.173064231872559,
          -15.901936531066895,
          -13.615739822387695,
          -15.065096855163574,
          -14.762486457824707,
          -15.320147514343262,
          -15.091761589050293,
          -15.388814926147461,
          -13.972798347473145,
          -15.260421752929688,
          -15.290204048156738,
          -13.58427619934082,
          -15.88263988494873,
          -13.204751014709473,
          -13.4732666015625,
          -14.164673805236816,
          -12.182393074035645,
          -15.847594261169434,
          -16.256032943725586,
          -15.030633926391602,
          -14.874650955200195,
          -14.663045883178711,
          -15.411700248718262,
          -14.905989646911621,
          -14.086064338684082,
          -13.557847023010254,
          -15.549232482910156,
          -14.85650634765625
         ],
         "xaxis": "x",
         "y": [
          10.266021728515625,
          9.51608657836914,
          10.794137001037598,
          10.097387313842773,
          7.612820148468018,
          10.707768440246582,
          10.273910522460938,
          9.278124809265137,
          9.539505958557129,
          9.023250579833984,
          10.993477821350098,
          9.820772171020508,
          8.12282943725586,
          9.715733528137207,
          9.028970718383789,
          9.131133079528809,
          8.6845064163208,
          8.534666061401367,
          9.48115062713623,
          8.464475631713867,
          8.130206108093262,
          9.784256935119629,
          9.13402271270752,
          8.395068168640137,
          10.02974796295166,
          7.8066487312316895,
          9.91814136505127,
          8.485915184020996,
          10.692780494689941,
          10.159164428710938,
          11.062382698059082,
          11.031532287597656,
          10.54879093170166,
          7.906649589538574,
          9.653883934020996,
          7.923015117645264,
          9.079556465148926,
          9.2901611328125,
          9.511560440063477,
          9.403051376342773,
          7.459828853607178,
          7.788363456726074,
          7.809981346130371,
          7.828321933746338,
          9.202873229980469,
          7.591963768005371,
          8.70429515838623,
          7.185436248779297,
          8.464438438415527,
          10.017921447753906,
          10.005836486816406,
          10.236166000366211,
          9.391400337219238,
          7.872339725494385,
          8.29988956451416,
          10.193432807922363,
          8.16724967956543,
          8.497992515563965,
          10.820481300354004,
          7.6085686683654785,
          11.225851058959961,
          10.21319580078125,
          7.576600551605225,
          7.6049628257751465,
          9.851099967956543,
          8.92959213256836,
          8.744131088256836,
          9.135019302368164,
          9.605016708374023,
          8.052265167236328,
          8.257500648498535
         ],
         "yaxis": "y"
        },
        {
         "customdata": [
          [
           2001,
           "Action,Crime,Drama,Thriller",
           true
          ],
          [
           2008,
           "Action,Adventure,Drama,SciFi,Thriller",
           true
          ],
          [
           2009,
           "Action,Adventure,Comedy",
           true
          ],
          [
           1982,
           "Action,Comedy,Thriller",
           true
          ],
          [
           2015,
           "Action,Crime,Drama",
           true
          ],
          [
           1987,
           "Action",
           true
          ],
          [
           1988,
           "Action,Adventure,SciFi,Thriller",
           true
          ],
          [
           1997,
           "Action,Adventure,Crime,Drama,Thriller",
           true
          ],
          [
           1978,
           "Action,Horror,SciFi,Thriller",
           true
          ],
          [
           1991,
           "Action,Drama,Horror,SciFi,Thriller",
           true
          ],
          [
           2009,
           "Action,Adventure,Fantasy",
           true
          ],
          [
           2019,
           "Action,Adventure,Drama",
           true
          ],
          [
           2022,
           "Action,Crime,Drama",
           true
          ],
          [
           2022,
           "Action,Adventure,Drama",
           true
          ],
          [
           2002,
           "Action,Adventure,Drama,Mystery,Thriller",
           true
          ],
          [
           2004,
           "Action,Adventure,Drama,Mystery,Thriller",
           true
          ],
          [
           2007,
           "Action,Adventure,Mystery,Thriller",
           true
          ],
          [
           2011,
           "Action,Adventure,Animation",
           true
          ],
          [
           2008,
           "Action,Crime,Drama",
           true
          ],
          [
           2024,
           "Action,Adventure,Comedy",
           true
          ],
          [
           2008,
           "Action,Mystery,Thriller",
           true
          ],
          [
           2009,
           "Action,Adventure,Family",
           true
          ],
          [
           1980,
           "Action,Adventure,Animation,Fantasy,Horror,SciFi",
           true
          ],
          [
           2014,
           "Action,Adventure,Animation",
           true
          ],
          [
           2010,
           "Action,Adventure,SciFi",
           true
          ],
          [
           2004,
           "Action,Adventure,Animation,Comedy,Family,SciFi",
           true
          ],
          [
           2008,
           "Action,Animation,Comedy,Family",
           true
          ],
          [
           2014,
           "Action,Adventure,Animation",
           true
          ],
          [
           1999,
           "Action,SciFi",
           true
          ],
          [
           2010,
           "Action,Animation,Comedy,Family,SciFi",
           true
          ],
          [
           2022,
           "Action,Adventure,Drama",
           true
          ],
          [
           1954,
           "Action,Drama",
           true
          ],
          [
           2021,
           "Action,Adventure,Fantasy",
           true
          ],
          [
           1980,
           "Action,Adventure,Fantasy",
           true
          ],
          [
           2005,
           "Action,Adventure,Animation,Comedy,Drama,Fantasy",
           true
          ],
          [
           1986,
           "Action,Drama",
           true
          ],
          [
           2022,
           "Action,Drama",
           true
          ],
          [
           1986,
           "Action,Animation,Family,SciFi",
           true
          ],
          [
           2024,
           "Action,Adventure,Thriller",
           true
          ]
         ],
         "hovertemplate": "<b>%{hovertext}</b><br><br>Action=%{customdata[2]}<br>x=%{x}<br>y=%{y}<br>size=%{marker.size}<br>year=%{customdata[0]}<br>genre=%{customdata[1]}<extra></extra>",
         "hovertext": [
          "15 Minutes",
          "2012",
          "30 Minutes or Less",
          "48 Hrs",
          "A Most Violent Year",
          "Above the Law",
          "The Abyss",
          "Air Force One",
          "Alien",
          "Alien 3",
          "Avatar",
          "Avengers: Endgame",
          "The Batman",
          "Black Panther Wakanda Forever",
          "The Bourne Identity",
          "The Bourne Supremacy",
          "The Bourne Ultimatum",
          "Cars 2",
          "The Dark Knight",
          "Deadpool & Wolverine",
          "Eagle Eye",
          "Harry Potter and the Half Blood Prince",
          "Heavy Metal",
          "How to Train Your Dragon 2",
          "Inception",
          "The Incredibles",
          "Kung Fu Panda",
          "The LEGO Movie",
          "The Matrix",
          "Megamind",
          "The Northman",
          "Seven Samurai",
          "Spider Man No Way Home",
          "Star Wars Episode V The Empire Strikes Back",
          "TMNT",
          "Top Gun",
          "Top Gun Maverick",
          "Transformers: The Movie",
          "Twisters"
         ],
         "legendgroup": "True",
         "marker": {
          "color": "#EF553B",
          "size": [
           2,
           2,
           2,
           2,
           2,
           2,
           2,
           2,
           2,
           2,
           2,
           2,
           2,
           2,
           2,
           2,
           2,
           2,
           2,
           2,
           2,
           2,
           2,
           2,
           2,
           2,
           2,
           2,
           2,
           2,
           2,
           2,
           2,
           2,
           2,
           2,
           2,
           2,
           2
          ],
          "sizemode": "area",
          "sizeref": 0.005,
          "symbol": "diamond"
         },
         "mode": "markers",
         "name": "True",
         "orientation": "v",
         "showlegend": true,
         "type": "scatter",
         "x": [
          -15.828104972839355,
          -13.551736831665039,
          -15.699487686157227,
          -15.869125366210938,
          -15.97871208190918,
          -15.409931182861328,
          -12.627243041992188,
          -14.443305969238281,
          -12.699140548706055,
          -12.953664779663086,
          -12.769669532775879,
          -12.77080249786377,
          -15.07606315612793,
          -12.68778133392334,
          -14.516276359558105,
          -14.300790786743164,
          -14.551375389099121,
          -13.527673721313477,
          -15.22149658203125,
          -12.937178611755371,
          -14.397465705871582,
          -15.792186737060547,
          -12.437583923339844,
          -13.104528427124023,
          -13.862975120544434,
          -14.465165138244629,
          -14.672871589660645,
          -13.933062553405762,
          -13.609975814819336,
          -13.722127914428711,
          -12.41926383972168,
          -14.273225784301758,
          -13.097244262695312,
          -12.32160472869873,
          -14.901466369628906,
          -12.033132553100586,
          -12.083893775939941,
          -13.376849174499512,
          -15.489928245544434
         ],
         "xaxis": "x",
         "y": [
          10.937040328979492,
          9.829718589782715,
          10.514915466308594,
          10.543070793151855,
          10.876559257507324,
          10.830350875854492,
          9.131282806396484,
          10.740693092346191,
          9.305514335632324,
          9.15329360961914,
          8.792983055114746,
          10.128278732299805,
          11.403482437133789,
          9.747659683227539,
          11.212602615356445,
          11.02058219909668,
          11.141373634338379,
          8.955886840820312,
          11.388779640197754,
          10.384408950805664,
          9.854084968566895,
          8.681831359863281,
          8.93235969543457,
          8.054367065429688,
          10.388006210327148,
          9.501590728759766,
          7.275931358337402,
          8.928228378295898,
          10.576494216918945,
          9.95108699798584,
          7.736727237701416,
          10.493727684020996,
          10.521371841430664,
          9.220135688781738,
          9.505668640136719,
          9.431357383728027,
          9.242786407470703,
          9.062960624694824,
          9.386969566345215
         ],
         "yaxis": "y"
        }
       ],
       "layout": {
        "font": {
         "family": "Arial Black",
         "size": 14
        },
        "height": 650,
        "legend": {
         "itemsizing": "constant",
         "title": {
          "text": "Action"
         },
         "tracegroupgap": 0
        },
        "template": {
         "data": {
          "bar": [
           {
            "error_x": {
             "color": "#2a3f5f"
            },
            "error_y": {
             "color": "#2a3f5f"
            },
            "marker": {
             "line": {
              "color": "#E5ECF6",
              "width": 0.5
             },
             "pattern": {
              "fillmode": "overlay",
              "size": 10,
              "solidity": 0.2
             }
            },
            "type": "bar"
           }
          ],
          "barpolar": [
           {
            "marker": {
             "line": {
              "color": "#E5ECF6",
              "width": 0.5
             },
             "pattern": {
              "fillmode": "overlay",
              "size": 10,
              "solidity": 0.2
             }
            },
            "type": "barpolar"
           }
          ],
          "carpet": [
           {
            "aaxis": {
             "endlinecolor": "#2a3f5f",
             "gridcolor": "white",
             "linecolor": "white",
             "minorgridcolor": "white",
             "startlinecolor": "#2a3f5f"
            },
            "baxis": {
             "endlinecolor": "#2a3f5f",
             "gridcolor": "white",
             "linecolor": "white",
             "minorgridcolor": "white",
             "startlinecolor": "#2a3f5f"
            },
            "type": "carpet"
           }
          ],
          "choropleth": [
           {
            "colorbar": {
             "outlinewidth": 0,
             "ticks": ""
            },
            "type": "choropleth"
           }
          ],
          "contour": [
           {
            "colorbar": {
             "outlinewidth": 0,
             "ticks": ""
            },
            "colorscale": [
             [
              0,
              "#0d0887"
             ],
             [
              0.1111111111111111,
              "#46039f"
             ],
             [
              0.2222222222222222,
              "#7201a8"
             ],
             [
              0.3333333333333333,
              "#9c179e"
             ],
             [
              0.4444444444444444,
              "#bd3786"
             ],
             [
              0.5555555555555556,
              "#d8576b"
             ],
             [
              0.6666666666666666,
              "#ed7953"
             ],
             [
              0.7777777777777778,
              "#fb9f3a"
             ],
             [
              0.8888888888888888,
              "#fdca26"
             ],
             [
              1,
              "#f0f921"
             ]
            ],
            "type": "contour"
           }
          ],
          "contourcarpet": [
           {
            "colorbar": {
             "outlinewidth": 0,
             "ticks": ""
            },
            "type": "contourcarpet"
           }
          ],
          "heatmap": [
           {
            "colorbar": {
             "outlinewidth": 0,
             "ticks": ""
            },
            "colorscale": [
             [
              0,
              "#0d0887"
             ],
             [
              0.1111111111111111,
              "#46039f"
             ],
             [
              0.2222222222222222,
              "#7201a8"
             ],
             [
              0.3333333333333333,
              "#9c179e"
             ],
             [
              0.4444444444444444,
              "#bd3786"
             ],
             [
              0.5555555555555556,
              "#d8576b"
             ],
             [
              0.6666666666666666,
              "#ed7953"
             ],
             [
              0.7777777777777778,
              "#fb9f3a"
             ],
             [
              0.8888888888888888,
              "#fdca26"
             ],
             [
              1,
              "#f0f921"
             ]
            ],
            "type": "heatmap"
           }
          ],
          "heatmapgl": [
           {
            "colorbar": {
             "outlinewidth": 0,
             "ticks": ""
            },
            "colorscale": [
             [
              0,
              "#0d0887"
             ],
             [
              0.1111111111111111,
              "#46039f"
             ],
             [
              0.2222222222222222,
              "#7201a8"
             ],
             [
              0.3333333333333333,
              "#9c179e"
             ],
             [
              0.4444444444444444,
              "#bd3786"
             ],
             [
              0.5555555555555556,
              "#d8576b"
             ],
             [
              0.6666666666666666,
              "#ed7953"
             ],
             [
              0.7777777777777778,
              "#fb9f3a"
             ],
             [
              0.8888888888888888,
              "#fdca26"
             ],
             [
              1,
              "#f0f921"
             ]
            ],
            "type": "heatmapgl"
           }
          ],
          "histogram": [
           {
            "marker": {
             "pattern": {
              "fillmode": "overlay",
              "size": 10,
              "solidity": 0.2
             }
            },
            "type": "histogram"
           }
          ],
          "histogram2d": [
           {
            "colorbar": {
             "outlinewidth": 0,
             "ticks": ""
            },
            "colorscale": [
             [
              0,
              "#0d0887"
             ],
             [
              0.1111111111111111,
              "#46039f"
             ],
             [
              0.2222222222222222,
              "#7201a8"
             ],
             [
              0.3333333333333333,
              "#9c179e"
             ],
             [
              0.4444444444444444,
              "#bd3786"
             ],
             [
              0.5555555555555556,
              "#d8576b"
             ],
             [
              0.6666666666666666,
              "#ed7953"
             ],
             [
              0.7777777777777778,
              "#fb9f3a"
             ],
             [
              0.8888888888888888,
              "#fdca26"
             ],
             [
              1,
              "#f0f921"
             ]
            ],
            "type": "histogram2d"
           }
          ],
          "histogram2dcontour": [
           {
            "colorbar": {
             "outlinewidth": 0,
             "ticks": ""
            },
            "colorscale": [
             [
              0,
              "#0d0887"
             ],
             [
              0.1111111111111111,
              "#46039f"
             ],
             [
              0.2222222222222222,
              "#7201a8"
             ],
             [
              0.3333333333333333,
              "#9c179e"
             ],
             [
              0.4444444444444444,
              "#bd3786"
             ],
             [
              0.5555555555555556,
              "#d8576b"
             ],
             [
              0.6666666666666666,
              "#ed7953"
             ],
             [
              0.7777777777777778,
              "#fb9f3a"
             ],
             [
              0.8888888888888888,
              "#fdca26"
             ],
             [
              1,
              "#f0f921"
             ]
            ],
            "type": "histogram2dcontour"
           }
          ],
          "mesh3d": [
           {
            "colorbar": {
             "outlinewidth": 0,
             "ticks": ""
            },
            "type": "mesh3d"
           }
          ],
          "parcoords": [
           {
            "line": {
             "colorbar": {
              "outlinewidth": 0,
              "ticks": ""
             }
            },
            "type": "parcoords"
           }
          ],
          "pie": [
           {
            "automargin": true,
            "type": "pie"
           }
          ],
          "scatter": [
           {
            "fillpattern": {
             "fillmode": "overlay",
             "size": 10,
             "solidity": 0.2
            },
            "type": "scatter"
           }
          ],
          "scatter3d": [
           {
            "line": {
             "colorbar": {
              "outlinewidth": 0,
              "ticks": ""
             }
            },
            "marker": {
             "colorbar": {
              "outlinewidth": 0,
              "ticks": ""
             }
            },
            "type": "scatter3d"
           }
          ],
          "scattercarpet": [
           {
            "marker": {
             "colorbar": {
              "outlinewidth": 0,
              "ticks": ""
             }
            },
            "type": "scattercarpet"
           }
          ],
          "scattergeo": [
           {
            "marker": {
             "colorbar": {
              "outlinewidth": 0,
              "ticks": ""
             }
            },
            "type": "scattergeo"
           }
          ],
          "scattergl": [
           {
            "marker": {
             "colorbar": {
              "outlinewidth": 0,
              "ticks": ""
             }
            },
            "type": "scattergl"
           }
          ],
          "scattermapbox": [
           {
            "marker": {
             "colorbar": {
              "outlinewidth": 0,
              "ticks": ""
             }
            },
            "type": "scattermapbox"
           }
          ],
          "scatterpolar": [
           {
            "marker": {
             "colorbar": {
              "outlinewidth": 0,
              "ticks": ""
             }
            },
            "type": "scatterpolar"
           }
          ],
          "scatterpolargl": [
           {
            "marker": {
             "colorbar": {
              "outlinewidth": 0,
              "ticks": ""
             }
            },
            "type": "scatterpolargl"
           }
          ],
          "scatterternary": [
           {
            "marker": {
             "colorbar": {
              "outlinewidth": 0,
              "ticks": ""
             }
            },
            "type": "scatterternary"
           }
          ],
          "surface": [
           {
            "colorbar": {
             "outlinewidth": 0,
             "ticks": ""
            },
            "colorscale": [
             [
              0,
              "#0d0887"
             ],
             [
              0.1111111111111111,
              "#46039f"
             ],
             [
              0.2222222222222222,
              "#7201a8"
             ],
             [
              0.3333333333333333,
              "#9c179e"
             ],
             [
              0.4444444444444444,
              "#bd3786"
             ],
             [
              0.5555555555555556,
              "#d8576b"
             ],
             [
              0.6666666666666666,
              "#ed7953"
             ],
             [
              0.7777777777777778,
              "#fb9f3a"
             ],
             [
              0.8888888888888888,
              "#fdca26"
             ],
             [
              1,
              "#f0f921"
             ]
            ],
            "type": "surface"
           }
          ],
          "table": [
           {
            "cells": {
             "fill": {
              "color": "#EBF0F8"
             },
             "line": {
              "color": "white"
             }
            },
            "header": {
             "fill": {
              "color": "#C8D4E3"
             },
             "line": {
              "color": "white"
             }
            },
            "type": "table"
           }
          ]
         },
         "layout": {
          "annotationdefaults": {
           "arrowcolor": "#2a3f5f",
           "arrowhead": 0,
           "arrowwidth": 1
          },
          "autotypenumbers": "strict",
          "coloraxis": {
           "colorbar": {
            "outlinewidth": 0,
            "ticks": ""
           }
          },
          "colorscale": {
           "diverging": [
            [
             0,
             "#8e0152"
            ],
            [
             0.1,
             "#c51b7d"
            ],
            [
             0.2,
             "#de77ae"
            ],
            [
             0.3,
             "#f1b6da"
            ],
            [
             0.4,
             "#fde0ef"
            ],
            [
             0.5,
             "#f7f7f7"
            ],
            [
             0.6,
             "#e6f5d0"
            ],
            [
             0.7,
             "#b8e186"
            ],
            [
             0.8,
             "#7fbc41"
            ],
            [
             0.9,
             "#4d9221"
            ],
            [
             1,
             "#276419"
            ]
           ],
           "sequential": [
            [
             0,
             "#0d0887"
            ],
            [
             0.1111111111111111,
             "#46039f"
            ],
            [
             0.2222222222222222,
             "#7201a8"
            ],
            [
             0.3333333333333333,
             "#9c179e"
            ],
            [
             0.4444444444444444,
             "#bd3786"
            ],
            [
             0.5555555555555556,
             "#d8576b"
            ],
            [
             0.6666666666666666,
             "#ed7953"
            ],
            [
             0.7777777777777778,
             "#fb9f3a"
            ],
            [
             0.8888888888888888,
             "#fdca26"
            ],
            [
             1,
             "#f0f921"
            ]
           ],
           "sequentialminus": [
            [
             0,
             "#0d0887"
            ],
            [
             0.1111111111111111,
             "#46039f"
            ],
            [
             0.2222222222222222,
             "#7201a8"
            ],
            [
             0.3333333333333333,
             "#9c179e"
            ],
            [
             0.4444444444444444,
             "#bd3786"
            ],
            [
             0.5555555555555556,
             "#d8576b"
            ],
            [
             0.6666666666666666,
             "#ed7953"
            ],
            [
             0.7777777777777778,
             "#fb9f3a"
            ],
            [
             0.8888888888888888,
             "#fdca26"
            ],
            [
             1,
             "#f0f921"
            ]
           ]
          },
          "colorway": [
           "#636efa",
           "#EF553B",
           "#00cc96",
           "#ab63fa",
           "#FFA15A",
           "#19d3f3",
           "#FF6692",
           "#B6E880",
           "#FF97FF",
           "#FECB52"
          ],
          "font": {
           "color": "#2a3f5f"
          },
          "geo": {
           "bgcolor": "white",
           "lakecolor": "white",
           "landcolor": "#E5ECF6",
           "showlakes": true,
           "showland": true,
           "subunitcolor": "white"
          },
          "hoverlabel": {
           "align": "left"
          },
          "hovermode": "closest",
          "mapbox": {
           "style": "light"
          },
          "paper_bgcolor": "white",
          "plot_bgcolor": "#E5ECF6",
          "polar": {
           "angularaxis": {
            "gridcolor": "white",
            "linecolor": "white",
            "ticks": ""
           },
           "bgcolor": "#E5ECF6",
           "radialaxis": {
            "gridcolor": "white",
            "linecolor": "white",
            "ticks": ""
           }
          },
          "scene": {
           "xaxis": {
            "backgroundcolor": "#E5ECF6",
            "gridcolor": "white",
            "gridwidth": 2,
            "linecolor": "white",
            "showbackground": true,
            "ticks": "",
            "zerolinecolor": "white"
           },
           "yaxis": {
            "backgroundcolor": "#E5ECF6",
            "gridcolor": "white",
            "gridwidth": 2,
            "linecolor": "white",
            "showbackground": true,
            "ticks": "",
            "zerolinecolor": "white"
           },
           "zaxis": {
            "backgroundcolor": "#E5ECF6",
            "gridcolor": "white",
            "gridwidth": 2,
            "linecolor": "white",
            "showbackground": true,
            "ticks": "",
            "zerolinecolor": "white"
           }
          },
          "shapedefaults": {
           "line": {
            "color": "#2a3f5f"
           }
          },
          "ternary": {
           "aaxis": {
            "gridcolor": "white",
            "linecolor": "white",
            "ticks": ""
           },
           "baxis": {
            "gridcolor": "white",
            "linecolor": "white",
            "ticks": ""
           },
           "bgcolor": "#E5ECF6",
           "caxis": {
            "gridcolor": "white",
            "linecolor": "white",
            "ticks": ""
           }
          },
          "title": {
           "x": 0.05
          },
          "xaxis": {
           "automargin": true,
           "gridcolor": "white",
           "linecolor": "white",
           "ticks": "",
           "title": {
            "standoff": 15
           },
           "zerolinecolor": "white",
           "zerolinewidth": 2
          },
          "yaxis": {
           "automargin": true,
           "gridcolor": "white",
           "linecolor": "white",
           "ticks": "",
           "title": {
            "standoff": 15
           },
           "zerolinecolor": "white",
           "zerolinewidth": 2
          }
         }
        },
        "title": {
         "font": {
          "family": "Arial Black",
          "size": 24
         },
         "text": "Low Dimensional Visualization of Movie Script Embeddings"
        },
        "width": 1250,
        "xaxis": {
         "anchor": "y",
         "domain": [
          0,
          1
         ],
         "title": {
          "text": "x"
         }
        },
        "yaxis": {
         "anchor": "x",
         "domain": [
          0,
          1
         ],
         "title": {
          "text": "y"
         }
        }
       }
      }
     },
     "metadata": {},
     "output_type": "display_data"
    }
   ],
   "source": [
    "focus = emblow.sample(1)[0, \"genre\"].split(\",\")\n",
    "focus = focus[random.randint(0, len(focus))]\n",
    "print(focus)\n",
    "\n",
    "fig = px.scatter(\n",
    "    emblow.with_columns(\n",
    "        pl.col(\"genre\").str.to_lowercase().str.contains(focus.lower(), literal=True)\n",
    "        .alias(focus)\n",
    "    ).with_columns(\n",
    "        pl.when(pl.col(focus))\n",
    "        .then(1.25)\n",
    "        .otherwise(1)\n",
    "        .alias(focus + \"size\")\n",
    "    ),\n",
    "    x='x',\n",
    "    y='y',\n",
    "    color=focus,\n",
    "    symbol=focus,\n",
    "    size = [2]*len(emblow), # focus + \"size\",\n",
    "    # text = f'{focus}_label',\n",
    "    hover_name = \"movie_title\",\n",
    "    hover_data =[\"year\", \"genre\", focus],\n",
    "    title = \"Low Dimensional Visualization of Movie Script Embeddings\",\n",
    "    width = int(1.25e3),\n",
    "    height = int(0.65e3)\n",
    ")\n",
    "\n",
    "fig.update_layout(\n",
    "    font=dict(\n",
    "        family='Arial Black', \n",
    "        size=14\n",
    "    ),\n",
    "    title_font = dict(\n",
    "        family='Arial Black', \n",
    "        size=24\n",
    "    )\n",
    ")\n",
    "\n",
    "fig.show()"
   ]
  },
  {
   "cell_type": "code",
   "execution_count": null,
   "metadata": {},
   "outputs": [],
   "source": [
    "fig = px.scatter(\n",
    "    emblow.with_columns(\n",
    "        pl.col(\"script_length\").cast(pl.Float32),\n",
    "        pl.when(\n",
    "            (pl.col(\"script_length\") > pl.col(\"script_length\").quantile(0.95)) \\\n",
    "            | (pl.col(\"script_length\") < pl.col(\"script_length\").quantile(0.05)) \\\n",
    "            | (pl.col(\"script_length\") == pl.col(\"script_length\").median())\n",
    "        \n",
    "        .then(\"movie_title\")\n",
    "        .alias(\"script_length_label\")\n",
    "    ),\n",
    "    x='x',\n",
    "    y='y',\n",
    "    color='script_length',\n",
    "    color_continuous_scale='Plotly3',\n",
    "    size = \"script_length\",\n",
    "    text = 'script_length_label',\n",
    "    hover_name = \"movie_title\",\n",
    "    hover_data =[\"year\", \"genre\", \"script_length\"],\n",
    "    title = \"Low Dimensional Visualization of Movie Script Embeddings\",\n",
    "    width = int(1.25e3),\n",
    "    height = int(0.65e3)\n",
    ")\n",
    ")\n",
    "fig.update_layout(\n",
    "    font=dict(\n",
    "        family='Arial Black', \n",
    "        size=14\n",
    "    ),\n",
    "    title_font = dict(\n",
    "        family='Arial Black', \n",
    "        size=24\n",
    "    )\n",
    ")\n",
    "\n",
    "fig.show()"
   ]
  },
  {
   "cell_type": "code",
   "execution_count": null,
   "metadata": {},
   "outputs": [],
   "source": [
    "fig, axes = plt.subplots(1, 1, figsize=(10, 8), dpi=200)\n",
    "fig.suptitle(\"Low Dimensional Position by Franchise\")\n",
    "\n",
    "# Scatter plot on the bottom axis\n",
    "g = sns.scatterplot(\n",
    "    data=emblow,\n",
    "    x='x',\n",
    "    y='y',\n",
    "    hue=\"Franchise\",\n",
    "    style=\"Franchise\",\n",
    "    s=100,\n",
    "    ax=axes\n",
    ")\n",
    "\n",
    "# Move the legend outside to the right\n",
    "sns.move_legend(\n",
    "    g,\n",
    "    loc=\"upper left\",       # position relative to bbox\n",
    "    bbox_to_anchor=(1.02, 1)  # (x, y) offset\n",
    ")\n",
    "\n",
    "# Make room on the right for the legend\n",
    "plt.subplots_adjust(right=0.8)\n",
    "\n",
    "movies_to_label_on_plot = emblow.sort(\"Franchise\").filter(~pl.col(\"Franchise\").str.contains('.', literal=True))\n",
    "\n",
    "alternating = True\n",
    "for i in range(movies_to_label_on_plot.shape[0]):\n",
    "    if alternating is True:\n",
    "        yplus = 0.13\n",
    "    alternating = not alternating\n",
    "    axes.text(\n",
    "        movies_to_label_on_plot[i, 'x'] + 0.02,            # small offset in x\n",
    "        movies_to_label_on_plot[i, 'y'] + 0.02 + yplus,            # small offset in y\n",
    "        movies_to_label_on_plot[i, 'movie_title'], \n",
    "        fontsize=8, \n",
    "        weight='bold'\n",
    "    )\n",
    "    yplus = 0\n",
    "\n",
    "plt.show()\n"
   ]
  },
  {
   "cell_type": "code",
   "execution_count": null,
   "metadata": {},
   "outputs": [],
   "source": [
    "movies_to_label_on_plot = emblow.filter(pl.col(\"movie_title\").is_in(label_movies))\n",
    "# feel free to use emblow.to_pandas() if you\n",
    "# are more comfortable with that package\n",
    "\n",
    "fig, ax = plt.subplots( figsize=(10,8), dpi=200)\n",
    "\n",
    "ax.set_title(\"Low Dimensional Visualization of Movie Script Embeddings\\nSelected Titles Labeled\")\n",
    "\n",
    "sns.scatterplot(\n",
    "    emblow,\n",
    "    x='x',\n",
    "    y='y'\n",
    ")\n",
    "\n",
    "ax.set_xlabel(\"UMAP dim 1\")\n",
    "ax.set_ylabel(\"UMAP dim 2\")\n",
    "\n",
    "for i in range(movies_to_label_on_plot.shape[0]):\n",
    "    ax.text(\n",
    "        movies_to_label_on_plot[i, 'x'] + 0.02,            # small offset in x\n",
    "        movies_to_label_on_plot[i, 'y'] + 0.02,            # small offset in y\n",
    "        movies_to_label_on_plot[i, 'movie_title'], \n",
    "        fontsize=8\n",
    "    )\n",
    "plt.show()\n"
   ]
  },
  {
   "cell_type": "code",
   "execution_count": null,
   "metadata": {},
   "outputs": [],
   "source": [
    "\n",
    "franchises = [\n",
    "    \"Bourne\",\n",
    "    \"Alien\",\n",
    "    \"Batman\",\n",
    "    \"Lord of the Rings\",\n",
    "    \"Godfather\",\n",
    "    \"Inside Out\",\n",
    "    \"Shrek\",\n",
    "    \"Top Gun\"\n",
    "]\n",
    "\n",
    "emblow = emblow.with_columns(\n",
    "    pl.col(\"movie_title\").str.replace(\"The Dark Knight\", \"Batman\")\n",
    "    .map_elements(lambda x: max([f if (f in x) else \".No sequels included\" for f in franchises]), return_dtype=pl.String)\n",
    "    .alias(\"Franchise\")\n",
    ")"
   ]
  },
  {
   "cell_type": "code",
   "execution_count": null,
   "metadata": {},
   "outputs": [],
   "source": [
    "fig, axes = plt.subplots(1, 1, figsize=(10, 8), dpi=200)\n",
    "fig.suptitle(\"Low Dimensional Position by Franchise\")\n",
    "\n",
    "# Scatter plot on the bottom axis\n",
    "g = sns.scatterplot(\n",
    "    data=emblow,\n",
    "    x='x',\n",
    "    y='y',\n",
    "    hue=\"Franchise\",\n",
    "    style=\"Franchise\",\n",
    "    s=100,\n",
    "    ax=axes\n",
    ")\n",
    "\n",
    "# Move the legend outside to the right\n",
    "sns.move_legend(\n",
    "    g,\n",
    "    loc=\"upper left\",       # position relative to bbox\n",
    "    bbox_to_anchor=(1.02, 1)  # (x, y) offset\n",
    ")\n",
    "\n",
    "# Make room on the right for the legend\n",
    "plt.subplots_adjust(right=0.8)\n",
    "\n",
    "movies_to_label_on_plot = emblow.sort(\"Franchise\").filter(~pl.col(\"Franchise\").str.contains('.', literal=True))\n",
    "\n",
    "alternating = True\n",
    "for i in range(movies_to_label_on_plot.shape[0]):\n",
    "    if alternating is True:\n",
    "        yplus = 0.13\n",
    "    alternating = not alternating\n",
    "    axes.text(\n",
    "        movies_to_label_on_plot[i, 'x'] + 0.02,            # small offset in x\n",
    "        movies_to_label_on_plot[i, 'y'] + 0.02 + yplus,            # small offset in y\n",
    "        movies_to_label_on_plot[i, 'movie_title'], \n",
    "        fontsize=8, \n",
    "        weight='bold'\n",
    "    )\n",
    "    yplus = 0\n",
    "\n",
    "plt.show()\n"
   ]
  },
  {
   "cell_type": "code",
   "execution_count": null,
   "metadata": {},
   "outputs": [],
   "source": [
    "df = df.with_columns(\n",
    "    main_genre = \\\n",
    "    pl.when(pl.col(\"genre\").str.contains('Fantasy'))\n",
    "    .then(pl.lit(\"Fantasy\"))\n",
    "    .when(pl.col(\"genre\").str.contains('Crime'))\n",
    "    .then(pl.lit(\"Crime\"))\n",
    "    .when(pl.col(\"genre\").str.contains('Musical'))\n",
    "    .then(pl.lit(\"Musical\"))\n",
    "    .when(pl.col(\"genre\").str.contains('Horror'))\n",
    "    .then(pl.lit(\"Horror\"))\n",
    "    .when(pl.col(\"genre\").str.contains('SciFi'))\n",
    "    .then(pl.lit(\"SciFi\"))\n",
    "    .when(pl.col(\"genre\").str.contains('Thriller'))\n",
    "    .then(pl.lit(\"Thriller\"))\n",
    "    .when(\n",
    "        pl.col(\"genre\").str.contains('Animation') & \n",
    "        pl.col(\"genre\").str.contains(\"Comedy\")\n",
    "    )\n",
    "    .then(pl.lit(\"Comedy\"))\n",
    "    .when(pl.col(\"genre\").str.contains(\"Adventure\"))\n",
    "    .then(\n",
    "        pl.when(pl.col(\"genre\").str.contains(\"Animation\"))\n",
    "        .then(pl.lit(\"Animation\"))\n",
    "        .when(pl.col(\"genre\").str.contains(\"Comedy\"))\n",
    "        .then(pl.lit(\"Adventure\"))\n",
    "        .when(pl.col(\"genre\").str.contains(\"Action\"))\n",
    "        .then(pl.lit(\"Action\"))\n",
    "        .otherwise(pl.lit(\"Adventure\"))\n",
    "    )\n",
    "    .when(pl.col(\"genre\").str.contains(\"Comedy\"))\n",
    "    .then(pl.lit(\"Comedy\"))\n",
    "    .when(pl.col(\"genre\").str.contains(\"Drama\"))\n",
    "    .then(pl.lit(\"Drama\"))\n",
    "    .when(pl.col(\"genre\").str.contains(\"Action\"))\n",
    "    .then(pl.lit(\"Action\"))\n",
    "    .when(pl.col(\"genre\").str.contains(\"Animation\"))\n",
    "    .then(pl.lit(\"Animation\"))\n",
    "    .when(pl.col(\"genre\").is_null())\n",
    "    .then(pl.lit(None))\n",
    "    .otherwise(pl.lit(\"Other\"))\n",
    "\n",
    "    ,is_animated = pl.col(\"genre\").str.contains(\"Animation\")\n",
    ")\n",
    "df.select(pl.col(\"movie_title\", \"genre\", \"main_genre\", \"is_animated\")).head()"
   ]
  },
  {
   "cell_type": "code",
   "execution_count": null,
   "metadata": {},
   "outputs": [],
   "source": [
    "emblow = pd.DataFrame(embeddings_lowdim, columns = ['x', 'y'])\n",
    "emblow = pl.from_pandas(emblow).with_row_index().join(\n",
    "    df.with_columns(\n",
    "        script_length = pl.col(\"script\").str.len_chars()\n",
    "    ).select(pl.col(\"index\", \"movie_title\", \"year\", \"genre\", \"main_genre\", \"script_length\")),\n",
    "    on = 'index',\n",
    "    how = 'inner'\n",
    ")\n",
    "\n",
    "fig, ax = plt.subplots(figsize=(10,6))\n",
    "\n",
    "sns.scatterplot(\n",
    "    emblow,\n",
    "    x='x',\n",
    "    y='y',\n",
    "    hue='year',\n",
    "    palette='coolwarm'\n",
    ")\n",
    "\n",
    "plt.show()"
   ]
  },
  {
   "cell_type": "code",
   "execution_count": null,
   "metadata": {},
   "outputs": [],
   "source": [
    "import itertools\n",
    "\n",
    "df = df.with_columns(\n",
    "    # genre is a comma separated string with no spaces, and no duplicates within the same string\n",
    "    pl.col(\"genre\").str.split(\",\")\n",
    "    .map_elements(lambda x: [i for i in x if i != \"\"])\n",
    "    .map_elements(lambda genres: list(itertools.combinations(sorted(genres), 2)))\n",
    "    .alias(\"genre_combinations\")\n",
    ")\n",
    "\n",
    "df[\"genre_combinations\"].explode().value_counts(sort=True).head(1)"
   ]
  },
  {
   "cell_type": "code",
   "execution_count": null,
   "metadata": {},
   "outputs": [],
   "source": [
    "genre_counts = df[\"genre\"].str.replace_all(r'[\\s]', '')\\\n",
    "    .str.replace_all(r'[,]+', ',')\\\n",
    "    .str.split(\",\").explode().value_counts()\\\n",
    "    .sort(pl.col(\"count\"), descending=True)\n",
    "\n",
    "nplots = 10\n",
    "\n",
    "fig, axes = plt.subplots(nplots,1,figsize=(10,6*nplots))\n",
    "fig.suptitle(\"Low Dimensional Visualization by Genre\")\n",
    "\n",
    "for i in range(nplots):\n",
    "\n",
    "    sns.scatterplot(\n",
    "        emblow.with_columns(\n",
    "            pl.col(\"genre\").str.contains(genre_counts[i, \"genre\"])\n",
    "            .alias(genre_counts[i, \"genre\"])\n",
    "        ),\n",
    "        x='x',\n",
    "        y='y',\n",
    "        hue=genre_counts[i, \"genre\"],\n",
    "        ax=axes[i],\n",
    "        palette=[\"k\", \"darkorange\"]\n",
    "    )\n",
    "    axes[i].set_title(genre_counts[i, \"genre\"])\n",
    "\n",
    "plt.show()"
   ]
  },
  {
   "cell_type": "code",
   "execution_count": 41,
   "metadata": {},
   "outputs": [],
   "source": [
    "\n",
    "franchises = [\n",
    "    \"Bourne\",\n",
    "    \"Alien\",\n",
    "    \"Batman\",\n",
    "    \"Lord of the Rings\",\n",
    "    \"Godfather\",\n",
    "    \"Inside Out\",\n",
    "    \"Shrek\",\n",
    "    \"Top Gun\"\n",
    "]\n",
    "\n",
    "emblow = emblow.with_columns(\n",
    "    pl.col(\"movie_title\").str.replace(\"The Dark Knight\", \"Batman\")\n",
    "    .map_elements(lambda x: max([f if (f in x) else \".No sequels included\" for f in franchises]), return_dtype=pl.String)\n",
    "    .alias(\"Franchise\")\n",
    ")"
   ]
  },
  {
   "cell_type": "code",
   "execution_count": null,
   "metadata": {},
   "outputs": [],
   "source": [
    "\n",
    "plt.show()\n"
   ]
  },
  {
   "cell_type": "code",
   "execution_count": null,
   "metadata": {},
   "outputs": [],
   "source": [
    "fig, axes = plt.subplots(1, 1, figsize=(10, 8), dpi=200)\n",
    "fig.suptitle(\"Low Dimensional Position by Franchise\")\n",
    "\n",
    "# Scatter plot on the bottom axis\n",
    "g = sns.scatterplot(\n",
    "    data=emblow,\n",
    "    x='x',\n",
    "    y='y',\n",
    "    hue=\"Franchise\",\n",
    "    style=\"Franchise\",\n",
    "    s=100,\n",
    "    ax=axes\n",
    ")\n",
    "\n",
    "# Move the legend outside to the right\n",
    "sns.move_legend(\n",
    "    g,\n",
    "    loc=\"upper left\",       # position relative to bbox\n",
    "    bbox_to_anchor=(1.02, 1)  # (x, y) offset\n",
    ")\n",
    "\n",
    "# Make room on the right for the legend\n",
    "plt.subplots_adjust(right=0.8)\n",
    "\n",
    "movies_to_label_on_plot = emblow.sort(\"Franchise\").filter(~pl.col(\"Franchise\").str.contains('.', literal=True))\n",
    "\n",
    "alternating = True\n",
    "for i in range(movies_to_label_on_plot.shape[0]):\n",
    "    if alternating is True:\n",
    "        yplus = 0.13\n",
    "    alternating = not alternating\n",
    "    axes.text(\n",
    "        movies_to_label_on_plot[i, 'x'] + 0.02,            # small offset in x\n",
    "        movies_to_label_on_plot[i, 'y'] + 0.02 + yplus,            # small offset in y\n",
    "        movies_to_label_on_plot[i, 'movie_title'], \n",
    "        fontsize=8, \n",
    "        weight='bold'\n",
    "    )\n",
    "    yplus = 0\n",
    "\n",
    "plt.show()\n"
   ]
  },
  {
   "cell_type": "code",
   "execution_count": null,
   "metadata": {},
   "outputs": [],
   "source": [
    "movies_to_label_on_plot"
   ]
  },
  {
   "cell_type": "code",
   "execution_count": null,
   "metadata": {},
   "outputs": [],
   "source": [
    "fig, ax = plt.subplots(figsize=(10,6))\n",
    "\n",
    "sns.scatterplot(\n",
    "    emblow,\n",
    "    x='x',\n",
    "    y='y',\n",
    "    hue='script_length',\n",
    "    palette='coolwarm'\n",
    ")\n",
    "\n",
    "plt.show()"
   ]
  },
  {
   "cell_type": "code",
   "execution_count": null,
   "metadata": {},
   "outputs": [],
   "source": [
    "fig, ax = plt.subplots(figsize=(10,6))\n",
    "\n",
    "sns.scatterplot(\n",
    "    emblow.with_columns(\n",
    "        pl.col(\"genre\").str.contains(\"Animation\").alias(\"Action_Movie\")\n",
    "    ),\n",
    "    x='x',\n",
    "    y='y',\n",
    "    hue='main_genre'\n",
    ")\n",
    "\n",
    "plt.show()"
   ]
  }
 ],
 "metadata": {
  "kernelspec": {
   "display_name": "venv",
   "language": "python",
   "name": "python3"
  },
  "language_info": {
   "codemirror_mode": {
    "name": "ipython",
    "version": 3
   },
   "file_extension": ".py",
   "mimetype": "text/x-python",
   "name": "python",
   "nbconvert_exporter": "python",
   "pygments_lexer": "ipython3",
   "version": "3.12.8"
  }
 },
 "nbformat": 4,
 "nbformat_minor": 2
}
