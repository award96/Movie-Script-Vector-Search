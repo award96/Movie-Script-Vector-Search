{
 "cells": [
  {
   "cell_type": "code",
   "execution_count": 83,
   "metadata": {},
   "outputs": [],
   "source": [
    "from pathlib import Path\n",
    "from pypdf import PdfReader\n",
    "import polars as pl\n",
    "import matplotlib.pyplot as plt\n",
    "import seaborn as sns\n",
    "\n",
    "pl_cfg = pl.Config()"
   ]
  },
  {
   "cell_type": "code",
   "execution_count": 2,
   "metadata": {},
   "outputs": [],
   "source": [
    "# data I already have from the kaggle internet-movie-script dataset\n",
    "df = pl.read_parquet(\"data/out/internet-movie-script.parquet\")"
   ]
  },
  {
   "cell_type": "markdown",
   "metadata": {},
   "source": [
    "### Load Data In"
   ]
  },
  {
   "cell_type": "code",
   "execution_count": 3,
   "metadata": {},
   "outputs": [
    {
     "name": "stdout",
     "output_type": "stream",
     "text": [
      "52  new scripts.\n",
      "\n",
      "It's a Wonderful Life.pdf\n",
      "Oppenheimer.pdf\n",
      "All Quiet On The Western Front.pdf\n",
      "Seven Samurai.pdf\n",
      "Gladiator 2.pdf\n",
      "The Northman.pdf\n",
      "The-Batman.pdf\n",
      "Wonka.pdf\n",
      "Moana 2.pdf\n",
      "The Silence of the Lambs.pdf\n",
      "Twisters.pdf\n",
      "12 Angry Men.pdf\n",
      "The Shawshank Redemption.pdf\n",
      "Avengers Endgame.pdf\n",
      "The Matrix.pdf\n",
      "Inside Out 2.pdf\n",
      "The Godfather Part II.pdf\n",
      "Deadpool & Wolverine.pdf\n",
      "Star Wars- Episode V - The Empire Strikes Back.pdf\n",
      "The Godfather.pdf\n",
      "Goodfellas.pdf\n",
      "Harry Potter and the Half-Blood Prince.pdf\n",
      "Encanto.pdf\n",
      "The Lord of the Rings- The Return of the King.pdf\n",
      "Saving Private Ryan.pdf\n",
      "Inside Out.pdf\n",
      "Top Gun Maverick.pdf\n",
      "Fight Club.pdf\n",
      "Avatar.pdf\n",
      "Amsterdam.pdf\n",
      "Pulp Fiction.pdf\n",
      "Luca.pdf\n",
      "Schindler's List.pdf\n",
      "Nope.pdf\n",
      "Barbie.pdf\n",
      "Elvis.pdf\n",
      "Se7en.pdf\n",
      "The Holdovers.pdf\n",
      "Bros.pdf\n",
      "The Dark Knight.pdf\n",
      "Forrest Gump.pdf\n",
      "Pinocchio.pdf\n",
      "Elemental.pdf\n",
      "The Lord of the Rings- The Fellowship of the Ring.pdf\n",
      "Cidade de Deus (City of God).pdf\n",
      "Spider-Man No Way Home.pdf\n",
      "One Flew Over the Cuckoo's Nest.pdf\n",
      "Black-Panther-Wakanda-Forever.pdf\n",
      "Interstellar.pdf\n",
      "Glass Onion.pdf\n",
      "Top Gun.pdf\n",
      "Inception.pdf\n"
     ]
    }
   ],
   "source": [
    "additional_script_pdfs = list(Path(\"data/in/\").glob(\"*.pdf\"))\n",
    "print(len(additional_script_pdfs), \" new scripts.\\n\")\n",
    "print(\"\\n\".join([p.name for p in additional_script_pdfs]))"
   ]
  },
  {
   "cell_type": "markdown",
   "metadata": {},
   "source": [
    "Open PDF and extract text"
   ]
  },
  {
   "cell_type": "code",
   "execution_count": 4,
   "metadata": {},
   "outputs": [],
   "source": [
    "def read_script_from_pdf(pdf_filepath: str | Path) -> str:\n",
    "    reader = PdfReader(pdf_filepath)\n",
    "    return \"\\n\".join( [page.extract_text() for page in reader.pages] )"
   ]
  },
  {
   "cell_type": "code",
   "execution_count": 5,
   "metadata": {},
   "outputs": [],
   "source": [
    "add = pl.DataFrame({\"filepath\": additional_script_pdfs})\\\n",
    "    .with_columns(\n",
    "        # get movie title from filename\n",
    "        movie_title = pl.col(\"filepath\").map_elements(lambda x: x.stem, return_dtype=pl.String)\\\n",
    "            # remove dashes and underscores\n",
    "            # replace multiple whitespace with singular\n",
    "            .str.replace_all(r'[-_\\s]+', \" \",) \\\n",
    "            # remove trailing and leading whitespace\n",
    "            .str.replace_all(r'^\\s+|\\s+$', \"\"),\n",
    "        # open PDF and read extract the text\n",
    "        script = pl.col(\"filepath\").map_elements(read_script_from_pdf, return_dtype=pl.String)\n",
    "    )"
   ]
  },
  {
   "cell_type": "markdown",
   "metadata": {},
   "source": [
    "# Data Validation\n",
    "\n",
    "Check for issues loading text from PDF\n",
    "\n",
    "## 1. Script Length"
   ]
  },
  {
   "cell_type": "code",
   "execution_count": 9,
   "metadata": {},
   "outputs": [
    {
     "data": {
      "image/png": "[encoded data removed]",
      "text/plain": [
       "<Figure size 640x480 with 1 Axes>"
      ]
     },
     "metadata": {},
     "output_type": "display_data"
    },
    {
     "data": {
      "text/html": [
       "<div><style>\n",
       ".dataframe > thead > tr,\n",
       ".dataframe > tbody > tr {\n",
       "  text-align: right;\n",
       "  white-space: pre-wrap;\n",
       "}\n",
       "</style>\n",
       "<small>shape: (3, 5)</small><table border=\"1\" class=\"dataframe\"><thead><tr><th>index</th><th>filepath</th><th>movie_title</th><th>script</th><th>script_length</th></tr><tr><td>u32</td><td>object</td><td>str</td><td>str</td><td>u32</td></tr></thead><tbody><tr><td>10</td><td>data/in/Twisters.pdf</td><td>&quot;Twisters&quot;</td><td>&quot;Twisters\n",
       "Screenplay by\n",
       "Noah Pf…</td><td>28388</td></tr><tr><td>25</td><td>data/in/Inside Out.pdf</td><td>&quot;Inside Out&quot;</td><td>&quot;INSIDE OUT\n",
       "original story by\n",
       "P…</td><td>112584</td></tr><tr><td>4</td><td>data/in/Gladiator 2.pdf</td><td>&quot;Gladiator 2&quot;</td><td>&quot;GLADIATOR 2 \n",
       "by \n",
       "Nick Cave \n",
       "\n",
       "G…</td><td>112925</td></tr></tbody></table></div>"
      ],
      "text/plain": [
       "shape: (3, 5)\n",
       "┌───────┬─────────────────────────┬─────────────┬───────────────────┬───────────────┐\n",
       "│ index ┆ filepath                ┆ movie_title ┆ script            ┆ script_length │\n",
       "│ ---   ┆ ---                     ┆ ---         ┆ ---               ┆ ---           │\n",
       "│ u32   ┆ object                  ┆ str         ┆ str               ┆ u32           │\n",
       "╞═══════╪═════════════════════════╪═════════════╪═══════════════════╪═══════════════╡\n",
       "│ 10    ┆ data/in/Twisters.pdf    ┆ Twisters    ┆ Twisters          ┆ 28388         │\n",
       "│       ┆                         ┆             ┆ Screenplay by     ┆               │\n",
       "│       ┆                         ┆             ┆ Noah Pf…          ┆               │\n",
       "│ 25    ┆ data/in/Inside Out.pdf  ┆ Inside Out  ┆ INSIDE OUT        ┆ 112584        │\n",
       "│       ┆                         ┆             ┆ original story by ┆               │\n",
       "│       ┆                         ┆             ┆ P…                ┆               │\n",
       "│ 4     ┆ data/in/Gladiator 2.pdf ┆ Gladiator 2 ┆ GLADIATOR 2       ┆ 112925        │\n",
       "│       ┆                         ┆             ┆ by                ┆               │\n",
       "│       ┆                         ┆             ┆ Nick Cave         ┆               │\n",
       "│       ┆                         ┆             ┆                   ┆               │\n",
       "│       ┆                         ┆             ┆ G…                ┆               │\n",
       "└───────┴─────────────────────────┴─────────────┴───────────────────┴───────────────┘"
      ]
     },
     "metadata": {},
     "output_type": "display_data"
    },
    {
     "name": "stdout",
     "output_type": "stream",
     "text": [
      "...\n"
     ]
    },
    {
     "data": {
      "text/html": [
       "<div><style>\n",
       ".dataframe > thead > tr,\n",
       ".dataframe > tbody > tr {\n",
       "  text-align: right;\n",
       "  white-space: pre-wrap;\n",
       "}\n",
       "</style>\n",
       "<small>shape: (3, 5)</small><table border=\"1\" class=\"dataframe\"><thead><tr><th>index</th><th>filepath</th><th>movie_title</th><th>script</th><th>script_length</th></tr><tr><td>u32</td><td>object</td><td>str</td><td>str</td><td>u32</td></tr></thead><tbody><tr><td>40</td><td>data/in/Forrest Gump.pdf</td><td>&quot;Forrest Gump&quot;</td><td>&quot;&nbsp;&nbsp;&nbsp;&nbsp;&nbsp;&nbsp;&nbsp;&nbsp;&nbsp;&nbsp;&nbsp;&nbsp;&nbsp;&nbsp;&nbsp;&nbsp;&nbsp;&nbsp;&nbsp;&nbsp;&nbsp;&nbsp;&nbsp;&nbsp;&nbsp;&nbsp;&nbsp;&nbsp;&nbsp;&nbsp;…</td><td>283204</td></tr><tr><td>3</td><td>data/in/Seven Samurai.pdf</td><td>&quot;Seven Samurai&quot;</td><td>&quot;SEVEN SAMURAI\n",
       "Written by\n",
       "Akira…</td><td>329726</td></tr><tr><td>9</td><td>data/in/The Silence of the Lambs.pdf</td><td>&quot;The Silence of the Lambs&quot;</td><td>&quot;THE SILENCE OF THE LAMBS\n",
       "by\n",
       "Te…</td><td>352653</td></tr></tbody></table></div>"
      ],
      "text/plain": [
       "shape: (3, 5)\n",
       "┌───────┬──────────────────────────┬────────────────────┬──────────────────────────┬───────────────┐\n",
       "│ index ┆ filepath                 ┆ movie_title        ┆ script                   ┆ script_length │\n",
       "│ ---   ┆ ---                      ┆ ---                ┆ ---                      ┆ ---           │\n",
       "│ u32   ┆ object                   ┆ str                ┆ str                      ┆ u32           │\n",
       "╞═══════╪══════════════════════════╪════════════════════╪══════════════════════════╪═══════════════╡\n",
       "│ 40    ┆ data/in/Forrest Gump.pdf ┆ Forrest Gump       ┆ …                        ┆ 283204        │\n",
       "│ 3     ┆ data/in/Seven            ┆ Seven Samurai      ┆ SEVEN SAMURAI            ┆ 329726        │\n",
       "│       ┆ Samurai.pdf              ┆                    ┆ Written by               ┆               │\n",
       "│       ┆                          ┆                    ┆ Akira…                   ┆               │\n",
       "│ 9     ┆ data/in/The Silence of   ┆ The Silence of the ┆ THE SILENCE OF THE LAMBS ┆ 352653        │\n",
       "│       ┆ the Lam…                 ┆ Lambs              ┆ by                       ┆               │\n",
       "│       ┆                          ┆                    ┆ Te…                      ┆               │\n",
       "└───────┴──────────────────────────┴────────────────────┴──────────────────────────┴───────────────┘"
      ]
     },
     "metadata": {},
     "output_type": "display_data"
    }
   ],
   "source": [
    "# is the script a strange length?\n",
    "\n",
    "add = add.with_columns(\n",
    "    pl.col(\"script\").str.len_chars().alias(\"script_length\")\n",
    ")\n",
    "sns.boxplot(\n",
    "    x = add[\"script_length\"]\n",
    ")\n",
    "plt.show()\n",
    "\n",
    "display(\n",
    "    add.with_row_index().sort(\"script_length\").head(3)\n",
    ")\n",
    "print(\"...\")\n",
    "display(\n",
    "    add.with_row_index().sort(\"script_length\").tail(3)\n",
    ")"
   ]
  },
  {
   "cell_type": "markdown",
   "metadata": {},
   "source": [
    "Let's check the shortest script in the dataset\n",
    "\n",
    "Looks fine to me"
   ]
  },
  {
   "cell_type": "code",
   "execution_count": 16,
   "metadata": {},
   "outputs": [
    {
     "name": "stdout",
     "output_type": "stream",
     "text": [
      "Twisters\n",
      "Screenplay by\n",
      "Noah Pfister\n",
      "Story by\n",
      "Ryan Bleau & Alex Ross & Colin Kegliarty\n",
      "and\n",
      "Noah Pfister & Donald Pfister\n",
      "Opening Credits\n",
      "TITLE CARD: TWISTERS\n",
      "BLACKNESS\n",
      "TRISTAN (V.O.)\n",
      "What happened to us? Where did we\n",
      "go wrong.\n",
      "SLOWLY OPEN TO:\n",
      "INT. ABANDONED HOUSE - NIGHT\n",
      "Tristan is sitting on the flo\n",
      "...\n",
      "ow that we have that settled,\n",
      "let’s go enjoy our new home.\n",
      "Tristan picks up all of his gear and makes his way forward.\n",
      "Julia picks up her things and follows Tristan.\n",
      "As they walk away, a big building can be seen in the\n",
      "distance. It looks almost like...\n",
      "A mall.\n",
      "CUT TO BLACK.\n",
      "Roll ending credits.\n",
      "End.\n"
     ]
    }
   ],
   "source": [
    "shortest_script = add.filter(pl.col(\"script_length\") == add[\"script_length\"].min())[0, \"script\"]\n",
    "print(shortest_script[:300])\n",
    "print(\"...\")\n",
    "print(shortest_script[-300:])"
   ]
  },
  {
   "cell_type": "markdown",
   "metadata": {},
   "source": [
    "Now the longest\n",
    "\n",
    "Looks normal"
   ]
  },
  {
   "cell_type": "code",
   "execution_count": 10,
   "metadata": {},
   "outputs": [
    {
     "name": "stdout",
     "output_type": "stream",
     "text": [
      "THE SILENCE OF THE LAMBS\n",
      "by\n",
      "Ted Tally\n",
      "Based on the novel by\n",
      "Thomas Harris\n",
      "This screenplay has been converted to a PDF file by ScreenTalk™\n",
      "http://www.screentalk.org\n",
      "FADE IN:FADE IN:\n",
      "INT. GRUBBY HOTEL CORRIDOR - DAY (DIMLY LIT)INT. GRUBBY HOTEL CORRIDOR - DAY (DIMLY LIT)\n",
      "A woman's face BACKS INTO SHOT\n",
      "...\n",
      "ders him for a genial moment, then raises the littleConsiders him for a genial moment, then raises the little\n",
      "pen-knife. His eyes are twinkling.pen-knife. His eyes are twinkling.\n",
      "DR. LECTERDR. LECTER\n",
      "Well, Dr. Chilton. Shall we begin?Well, Dr. Chilton. Shall we begin?\n",
      "FADE OUTFADE OUT\n",
      "THE ENDTHE END\n"
     ]
    }
   ],
   "source": [
    "longest_script = add.filter(pl.col(\"script_length\") == add[\"script_length\"].max())[0, \"script\"]\n",
    "print(longest_script[:300])\n",
    "print(\"...\")\n",
    "print(longest_script[-300:])"
   ]
  },
  {
   "cell_type": "markdown",
   "metadata": {},
   "source": [
    "## 2. Non Alphanumeric Characters\n",
    "\n",
    "Let's make sure none of the scripts are filled with pdf relics"
   ]
  },
  {
   "cell_type": "code",
   "execution_count": 11,
   "metadata": {},
   "outputs": [
    {
     "data": {
      "image/png": "[encoded data removed]",
      "text/plain": [
       "<Figure size 640x480 with 1 Axes>"
      ]
     },
     "metadata": {},
     "output_type": "display_data"
    },
    {
     "data": {
      "text/html": [
       "<div><style>\n",
       ".dataframe > thead > tr,\n",
       ".dataframe > tbody > tr {\n",
       "  text-align: right;\n",
       "  white-space: pre-wrap;\n",
       "}\n",
       "</style>\n",
       "<small>shape: (5, 6)</small><table border=\"1\" class=\"dataframe\"><thead><tr><th>index</th><th>filepath</th><th>movie_title</th><th>script</th><th>script_length</th><th>number_non_alphanumeric_chars</th></tr><tr><td>u32</td><td>object</td><td>str</td><td>str</td><td>u32</td><td>u32</td></tr></thead><tbody><tr><td>9</td><td>data/in/The Silence of the Lambs.pdf</td><td>&quot;The Silence of the Lambs&quot;</td><td>&quot;THE SILENCE OF THE LAMBS\n",
       "by\n",
       "Te…</td><td>352653</td><td>21078</td></tr><tr><td>6</td><td>data/in/The-Batman.pdf</td><td>&quot;The Batman&quot;</td><td>&quot;Rev. 12/17/20 (Blue) \n",
       "THE BATM…</td><td>195691</td><td>14096</td></tr><tr><td>45</td><td>data/in/Spider-Man No Way Home.pdf</td><td>&quot;Spider Man No Way Home&quot;</td><td>&quot;Written as\n",
       "Written by\n",
       "Chris Mc…</td><td>205954</td><td>13349</td></tr><tr><td>47</td><td>data/in/Black-Panther-Wakanda-Forever.pdf</td><td>&quot;Black Panther Wakanda Forever&quot;</td><td>&quot;SUMMER BREAK\n",
       "Written by\n",
       "Ryan C…</td><td>236468</td><td>13250</td></tr><tr><td>35</td><td>data/in/Elvis.pdf</td><td>&quot;Elvis&quot;</td><td>&quot;ELVIS\n",
       "Screenplay by\n",
       "BAZ LUHRMA…</td><td>218351</td><td>12944</td></tr></tbody></table></div>"
      ],
      "text/plain": [
       "shape: (5, 6)\n",
       "┌───────┬──────────────────┬──────────────────┬──────────────────┬───────────────┬─────────────────┐\n",
       "│ index ┆ filepath         ┆ movie_title      ┆ script           ┆ script_length ┆ number_non_alph │\n",
       "│ ---   ┆ ---              ┆ ---              ┆ ---              ┆ ---           ┆ anumeric_chars  │\n",
       "│ u32   ┆ object           ┆ str              ┆ str              ┆ u32           ┆ ---             │\n",
       "│       ┆                  ┆                  ┆                  ┆               ┆ u32             │\n",
       "╞═══════╪══════════════════╪══════════════════╪══════════════════╪═══════════════╪═════════════════╡\n",
       "│ 9     ┆ data/in/The      ┆ The Silence of   ┆ THE SILENCE OF   ┆ 352653        ┆ 21078           │\n",
       "│       ┆ Silence of the   ┆ the Lambs        ┆ THE LAMBS        ┆               ┆                 │\n",
       "│       ┆ Lam…             ┆                  ┆ by               ┆               ┆                 │\n",
       "│       ┆                  ┆                  ┆ Te…              ┆               ┆                 │\n",
       "│ 6     ┆ data/in/The-Batm ┆ The Batman       ┆ Rev. 12/17/20    ┆ 195691        ┆ 14096           │\n",
       "│       ┆ an.pdf           ┆                  ┆ (Blue)           ┆               ┆                 │\n",
       "│       ┆                  ┆                  ┆ THE BATM…        ┆               ┆                 │\n",
       "│ 45    ┆ data/in/Spider-M ┆ Spider Man No    ┆ Written as       ┆ 205954        ┆ 13349           │\n",
       "│       ┆ an No Way Home…  ┆ Way Home         ┆ Written by       ┆               ┆                 │\n",
       "│       ┆                  ┆                  ┆ Chris Mc…        ┆               ┆                 │\n",
       "│ 47    ┆ data/in/Black-Pa ┆ Black Panther    ┆ SUMMER BREAK     ┆ 236468        ┆ 13250           │\n",
       "│       ┆ nther-Wakanda-…  ┆ Wakanda Forever  ┆ Written by       ┆               ┆                 │\n",
       "│       ┆                  ┆                  ┆ Ryan C…          ┆               ┆                 │\n",
       "│ 35    ┆ data/in/Elvis.pd ┆ Elvis            ┆ ELVIS            ┆ 218351        ┆ 12944           │\n",
       "│       ┆ f                ┆                  ┆ Screenplay by    ┆               ┆                 │\n",
       "│       ┆                  ┆                  ┆ BAZ LUHRMA…      ┆               ┆                 │\n",
       "└───────┴──────────────────┴──────────────────┴──────────────────┴───────────────┴─────────────────┘"
      ]
     },
     "execution_count": 11,
     "metadata": {},
     "output_type": "execute_result"
    }
   ],
   "source": [
    "add = add.with_columns(\n",
    "    pl.col(\"script\").str.count_matches(r'[^A-z0-9\\s]')\n",
    "    .alias(\"number_non_alphanumeric_chars\")\n",
    ")\n",
    "\n",
    "sns.boxplot(\n",
    "    x = add[\"number_non_alphanumeric_chars\"]\n",
    ")\n",
    "plt.show()\n",
    "\n",
    "add.with_row_index().sort(\"number_non_alphanumeric_chars\", descending=True)\\\n",
    "    .head()"
   ]
  },
  {
   "cell_type": "markdown",
   "metadata": {},
   "source": [
    "The script doesn't look damaged to me"
   ]
  },
  {
   "cell_type": "code",
   "execution_count": 12,
   "metadata": {},
   "outputs": [
    {
     "name": "stdout",
     "output_type": "stream",
     "text": [
      "THE SILENCE OF THE LAMBS\n",
      "by\n",
      "Ted Tally\n",
      "Based on the novel by\n",
      "Thomas Harris\n",
      "This screenplay has been converted to a PDF file by ScreenTalk™\n",
      "http://www.screentalk.org\n",
      "FADE IN:FADE IN:\n",
      "INT. GRUBBY HOTEL CORRIDOR - DAY (DIMLY LIT)INT. GRUBBY HOTEL CORRIDOR - DAY (DIMLY LIT)\n",
      "A woman's face BACKS INTO SHOT\n",
      "...\n",
      "ders him for a genial moment, then raises the littleConsiders him for a genial moment, then raises the little\n",
      "pen-knife. His eyes are twinkling.pen-knife. His eyes are twinkling.\n",
      "DR. LECTERDR. LECTER\n",
      "Well, Dr. Chilton. Shall we begin?Well, Dr. Chilton. Shall we begin?\n",
      "FADE OUTFADE OUT\n",
      "THE ENDTHE END\n"
     ]
    }
   ],
   "source": [
    "most_punctuation_chars = add.filter(pl.col(\"number_non_alphanumeric_chars\") == add[\"number_non_alphanumeric_chars\"].max())[0, \"script\"]\n",
    "print(most_punctuation_chars[:300])\n",
    "print(\"...\")\n",
    "print(most_punctuation_chars[-300:])"
   ]
  },
  {
   "cell_type": "markdown",
   "metadata": {},
   "source": [
    "Very reasonable punctuation characters"
   ]
  },
  {
   "cell_type": "code",
   "execution_count": 13,
   "metadata": {},
   "outputs": [
    {
     "data": {
      "text/plain": [
       "Counter({'.': 9322,\n",
       "         ',': 5326,\n",
       "         \"'\": 1910,\n",
       "         '-': 1514,\n",
       "         '(': 730,\n",
       "         ')': 730,\n",
       "         '?': 662,\n",
       "         ':': 309,\n",
       "         '\"': 224,\n",
       "         '!': 206,\n",
       "         ';': 128,\n",
       "         '/': 8,\n",
       "         '&': 6,\n",
       "         '$': 2,\n",
       "         '™': 1})"
      ]
     },
     "execution_count": 13,
     "metadata": {},
     "output_type": "execute_result"
    }
   ],
   "source": [
    "import re\n",
    "from collections import Counter\n",
    "\n",
    "matches = re.findall(r'[^A-z0-9\\s]', most_punctuation_chars)\n",
    "\n",
    "non_alphanumeric_counts_sotl = Counter(matches)\n",
    "\n",
    "non_alphanumeric_counts_sotl"
   ]
  },
  {
   "cell_type": "code",
   "execution_count": 14,
   "metadata": {},
   "outputs": [
    {
     "data": {
      "image/png": "[encoded data removed]",
      "text/plain": [
       "<Figure size 640x480 with 1 Axes>"
      ]
     },
     "metadata": {},
     "output_type": "display_data"
    },
    {
     "data": {
      "text/html": [
       "<div><style>\n",
       ".dataframe > thead > tr,\n",
       ".dataframe > tbody > tr {\n",
       "  text-align: right;\n",
       "  white-space: pre-wrap;\n",
       "}\n",
       "</style>\n",
       "<small>shape: (5, 7)</small><table border=\"1\" class=\"dataframe\"><thead><tr><th>index</th><th>filepath</th><th>movie_title</th><th>script</th><th>script_length</th><th>number_non_alphanumeric_chars</th><th>number_rare_chars</th></tr><tr><td>u32</td><td>object</td><td>str</td><td>str</td><td>u32</td><td>u32</td><td>u32</td></tr></thead><tbody><tr><td>47</td><td>data/in/Black-Panther-Wakanda-Forever.pdf</td><td>&quot;Black Panther Wakanda Forever&quot;</td><td>&quot;SUMMER BREAK\n",
       "Written by\n",
       "Ryan C…</td><td>236468</td><td>13250</td><td>3611</td></tr><tr><td>17</td><td>data/in/Deadpool &amp; Wolverine.pdf</td><td>&quot;Deadpool &amp; Wolverine&quot;</td><td>&quot;TIDAL WAVE\n",
       "Ryan Reynolds &amp; Zeb…</td><td>174684</td><td>12176</td><td>3471</td></tr><tr><td>11</td><td>data/in/12 Angry Men.pdf</td><td>&quot;12 Angry Men&quot;</td><td>&quot;1.\n",
       "NOTE: The notes on characte…</td><td>157913</td><td>10495</td><td>3200</td></tr><tr><td>38</td><td>data/in/Bros.pdf</td><td>&quot;Bros&quot;</td><td>&quot; \n",
       " \n",
       " \n",
       " \n",
       " \n",
       " \n",
       " \n",
       " \n",
       "BROS \n",
       " \n",
       "Writte…</td><td>155965</td><td>8143</td><td>3089</td></tr><tr><td>31</td><td>data/in/Luca.pdf</td><td>&quot;Luca&quot;</td><td>&quot;LUCA\n",
       "Original Screenplay by\n",
       "Je…</td><td>132094</td><td>8683</td><td>2788</td></tr></tbody></table></div>"
      ],
      "text/plain": [
       "shape: (5, 7)\n",
       "┌───────┬───────────────┬──────────────┬──────────────┬──────────────┬──────────────┬──────────────┐\n",
       "│ index ┆ filepath      ┆ movie_title  ┆ script       ┆ script_lengt ┆ number_non_a ┆ number_rare_ │\n",
       "│ ---   ┆ ---           ┆ ---          ┆ ---          ┆ h            ┆ lphanumeric_ ┆ chars        │\n",
       "│ u32   ┆ object        ┆ str          ┆ str          ┆ ---          ┆ chars        ┆ ---          │\n",
       "│       ┆               ┆              ┆              ┆ u32          ┆ ---          ┆ u32          │\n",
       "│       ┆               ┆              ┆              ┆              ┆ u32          ┆              │\n",
       "╞═══════╪═══════════════╪══════════════╪══════════════╪══════════════╪══════════════╪══════════════╡\n",
       "│ 47    ┆ data/in/Black ┆ Black        ┆ SUMMER BREAK ┆ 236468       ┆ 13250        ┆ 3611         │\n",
       "│       ┆ -Panther-Waka ┆ Panther      ┆ Written by   ┆              ┆              ┆              │\n",
       "│       ┆ nda-…         ┆ Wakanda      ┆ Ryan C…      ┆              ┆              ┆              │\n",
       "│       ┆               ┆ Forever      ┆              ┆              ┆              ┆              │\n",
       "│ 17    ┆ data/in/Deadp ┆ Deadpool &   ┆ TIDAL WAVE   ┆ 174684       ┆ 12176        ┆ 3471         │\n",
       "│       ┆ ool &         ┆ Wolverine    ┆ Ryan         ┆              ┆              ┆              │\n",
       "│       ┆ Wolverine.p…  ┆              ┆ Reynolds &   ┆              ┆              ┆              │\n",
       "│       ┆               ┆              ┆ Zeb…         ┆              ┆              ┆              │\n",
       "│ 11    ┆ data/in/12    ┆ 12 Angry Men ┆ 1.           ┆ 157913       ┆ 10495        ┆ 3200         │\n",
       "│       ┆ Angry Men.pdf ┆              ┆ NOTE: The    ┆              ┆              ┆              │\n",
       "│       ┆               ┆              ┆ notes on     ┆              ┆              ┆              │\n",
       "│       ┆               ┆              ┆ characte…    ┆              ┆              ┆              │\n",
       "│ 38    ┆ data/in/Bros. ┆ Bros         ┆              ┆ 155965       ┆ 8143         ┆ 3089         │\n",
       "│       ┆ pdf           ┆              ┆              ┆              ┆              ┆              │\n",
       "│       ┆               ┆              ┆              ┆              ┆              ┆              │\n",
       "│       ┆               ┆              ┆              ┆              ┆              ┆              │\n",
       "│       ┆               ┆              ┆              ┆              ┆              ┆              │\n",
       "│       ┆               ┆              ┆              ┆              ┆              ┆              │\n",
       "│       ┆               ┆              ┆              ┆              ┆              ┆              │\n",
       "│       ┆               ┆              ┆              ┆              ┆              ┆              │\n",
       "│       ┆               ┆              ┆ BROS         ┆              ┆              ┆              │\n",
       "│       ┆               ┆              ┆              ┆              ┆              ┆              │\n",
       "│       ┆               ┆              ┆ Writte…      ┆              ┆              ┆              │\n",
       "│ 31    ┆ data/in/Luca. ┆ Luca         ┆ LUCA         ┆ 132094       ┆ 8683         ┆ 2788         │\n",
       "│       ┆ pdf           ┆              ┆ Original     ┆              ┆              ┆              │\n",
       "│       ┆               ┆              ┆ Screenplay   ┆              ┆              ┆              │\n",
       "│       ┆               ┆              ┆ by           ┆              ┆              ┆              │\n",
       "│       ┆               ┆              ┆ Je…          ┆              ┆              ┆              │\n",
       "└───────┴───────────────┴──────────────┴──────────────┴──────────────┴──────────────┴──────────────┘"
      ]
     },
     "execution_count": 14,
     "metadata": {},
     "output_type": "execute_result"
    }
   ],
   "source": [
    "rare_chars_regex = r'[^A-Za-zÀ-ÖØ-öø-ÿ0-9\\s\\.\\,\\;\\'\\\"\\-\\_\\(\\)]'\n",
    "\n",
    "add = add.with_columns(\n",
    "    pl.col(\"script\").str.count_matches(rare_chars_regex)\n",
    "    .alias(\"number_rare_chars\")\n",
    ")\n",
    "\n",
    "sns.boxplot(\n",
    "    x = add[\"number_rare_chars\"]\n",
    ")\n",
    "plt.show()\n",
    "\n",
    "add.with_row_index().sort(\"number_rare_chars\", descending=True)\\\n",
    "    .head()"
   ]
  },
  {
   "cell_type": "markdown",
   "metadata": {},
   "source": [
    "No issues here, looks like Wakanda Forever had a lot of revisions probably\n",
    "\n",
    "(The script was titled \"Summer Break\" by the author for secrecy)"
   ]
  },
  {
   "cell_type": "code",
   "execution_count": 15,
   "metadata": {},
   "outputs": [
    {
     "data": {
      "text/plain": [
       "Counter({'’': 1109,\n",
       "         '/': 1055,\n",
       "         '*': 810,\n",
       "         '?': 394,\n",
       "         '!': 160,\n",
       "         '“': 22,\n",
       "         '”': 21,\n",
       "         ':': 19,\n",
       "         '#': 10,\n",
       "         '%': 4,\n",
       "         '$': 4,\n",
       "         '–': 2,\n",
       "         '…': 1})"
      ]
     },
     "metadata": {},
     "output_type": "display_data"
    },
    {
     "name": "stdout",
     "output_type": "stream",
     "text": [
      "SUMMER BREAK\n",
      "Written by\n",
      "Ryan Coogler and Joe Robert Cole\n",
      "Based on, Characters Created by Stan Lee and Jack Kirby\n",
      "May 8, 2021\n",
      "PROLOGUE\n",
      "INT. SHURI’S LAB - WDG - 2025 (ONE YEAR AFTER ENDGAME)1 1\n",
      "SHURI (20s) storms into her lab moving with frantic urgency. \n",
      "LIGHT PROJECTIONS of several DOUBLE HELIX DNA \n",
      "...\n",
      "NT\n",
      "My name is Prince T’Challa, son of \n",
      "King T’Challa. \n",
      "Shuri looks back at young T’Challa, her eyes welling with \n",
      "tearful joy as a gentle breeze passes. \n",
      "Taking it in, Shuri closes her eyes and sees her brother \n",
      "T’CHALLA, smiling at her, she smiles back as we. \n",
      "CUT TO BLACK.\n",
      "Tan Rev. (02/23/22) 161.\n"
     ]
    }
   ],
   "source": [
    "most_rare_chars = add.filter(pl.col(\"number_rare_chars\") == add[\"number_rare_chars\"].max())[0, \"script\"]\n",
    "\n",
    "matches = re.findall(rare_chars_regex, most_rare_chars)\n",
    "\n",
    "rare_counts = Counter(matches)\n",
    "\n",
    "display(rare_counts)\n",
    "\n",
    "print(most_rare_chars[:300])\n",
    "print(\"...\")\n",
    "print(most_rare_chars[-300:])"
   ]
  },
  {
   "cell_type": "markdown",
   "metadata": {},
   "source": [
    "# Combining Data into Final Dataset\n",
    "\n",
    "1. Add alphabetized movie title"
   ]
  },
  {
   "cell_type": "code",
   "execution_count": 16,
   "metadata": {},
   "outputs": [
    {
     "data": {
      "text/html": [
       "<div><style>\n",
       ".dataframe > thead > tr,\n",
       ".dataframe > tbody > tr {\n",
       "  text-align: right;\n",
       "  white-space: pre-wrap;\n",
       "}\n",
       "</style>\n",
       "<small>shape: (5, 2)</small><table border=\"1\" class=\"dataframe\"><thead><tr><th>movie_title</th><th>movie_title_alphabetical</th></tr><tr><td>str</td><td>str</td></tr></thead><tbody><tr><td>&quot;All Quiet On The Western Front&quot;</td><td>&quot;All Quiet On The Western Front&quot;</td></tr><tr><td>&quot;The Northman&quot;</td><td>&quot;Northman The&quot;</td></tr><tr><td>&quot;The Batman&quot;</td><td>&quot;Batman The&quot;</td></tr><tr><td>&quot;The Silence of the Lambs&quot;</td><td>&quot;Silence of the Lambs The&quot;</td></tr><tr><td>&quot;The Shawshank Redemption&quot;</td><td>&quot;Shawshank Redemption The&quot;</td></tr></tbody></table></div>"
      ],
      "text/plain": [
       "shape: (5, 2)\n",
       "┌────────────────────────────────┬────────────────────────────────┐\n",
       "│ movie_title                    ┆ movie_title_alphabetical       │\n",
       "│ ---                            ┆ ---                            │\n",
       "│ str                            ┆ str                            │\n",
       "╞════════════════════════════════╪════════════════════════════════╡\n",
       "│ All Quiet On The Western Front ┆ All Quiet On The Western Front │\n",
       "│ The Northman                   ┆ Northman The                   │\n",
       "│ The Batman                     ┆ Batman The                     │\n",
       "│ The Silence of the Lambs       ┆ Silence of the Lambs The       │\n",
       "│ The Shawshank Redemption       ┆ Shawshank Redemption The       │\n",
       "└────────────────────────────────┴────────────────────────────────┘"
      ]
     },
     "execution_count": 16,
     "metadata": {},
     "output_type": "execute_result"
    }
   ],
   "source": [
    "# create alphabetized movie title\n",
    "add = add.with_columns(\n",
    "    movie_title_alphabetical = pl.when(\n",
    "        # when the movie title starts with 'The'\n",
    "        pl.col(\"movie_title\").str.contains(r'(?i)^the')\n",
    "    )\n",
    "    # move 'The' to the end\n",
    "    # (remove whitespace in the interim)\n",
    "    .then(pl.col(\"movie_title\").str.replace(r'(?i)^the', '').str.replace_all(r'^\\s+|\\s+$', \"\") + pl.lit(\" The\"))\n",
    "    .otherwise(pl.col(\"movie_title\"))\n",
    ")\n",
    "\n",
    "add.filter(pl.col(\"movie_title\").str.contains(\"The\", literal=True))\\\n",
    "    .select(pl.col(\"movie_title\", \"movie_title_alphabetical\")).head()"
   ]
  },
  {
   "cell_type": "markdown",
   "metadata": {},
   "source": [
    "2. Concatenate with kaggle internet-movie-script dataset"
   ]
  },
  {
   "cell_type": "code",
   "execution_count": 17,
   "metadata": {},
   "outputs": [
    {
     "data": {
      "text/html": [
       "<div><style>\n",
       ".dataframe > thead > tr,\n",
       ".dataframe > tbody > tr {\n",
       "  text-align: right;\n",
       "  white-space: pre-wrap;\n",
       "}\n",
       "</style>\n",
       "<small>shape: (5, 8)</small><table border=\"1\" class=\"dataframe\"><thead><tr><th>index</th><th>movie_title</th><th>date</th><th>script</th><th>genre</th><th>writers</th><th>movie_title_alphabetical</th><th>dataset</th></tr><tr><td>u32</td><td>str</td><td>date</td><td>str</td><td>str</td><td>str</td><td>str</td><td>str</td></tr></thead><tbody><tr><td>0</td><td>&quot;12 Angry Men&quot;</td><td>null</td><td>&quot;1.\n",
       "NOTE: The notes on characte…</td><td>null</td><td>null</td><td>&quot;12 Angry Men&quot;</td><td>&quot;Google Search&quot;</td></tr><tr><td>1</td><td>&quot;15 Minutes&quot;</td><td>null</td><td>&quot;FADE IN\r\n",
       "\r\n",
       "\ton the words CZECH…</td><td>&quot;Action,Crime,Thriller&quot;</td><td>&quot;John Hertzfield&quot;</td><td>&quot;15 Minutes&quot;</td><td>&quot;https://www.kaggle.com/dataset…</td></tr><tr><td>2</td><td>&quot;2012&quot;</td><td>2008-02-01</td><td>&quot;OVER BLACK\r\n",
       "&nbsp;&nbsp;&nbsp;&nbsp;&nbsp;&nbsp;&nbsp;&nbsp;&nbsp;&nbsp;\r\n",
       "&nbsp;&nbsp;&nbsp;&nbsp;&nbsp;&nbsp;…</td><td>&quot;Action,Adventure,Drama,Sci-Fi,…</td><td>&quot;Roland Emmerich,Harald Kloser&quot;</td><td>&quot;2012&quot;</td><td>&quot;https://www.kaggle.com/dataset…</td></tr><tr><td>3</td><td>&quot;30 Minutes or Less&quot;</td><td>2009-12-01</td><td>&quot;The following is very loosely …</td><td>&quot;Action,Adventure,Comedy&quot;</td><td>&quot;Michael Diliberti,Matthew Sull…</td><td>&quot;30 Minutes or Less&quot;</td><td>&quot;https://www.kaggle.com/dataset…</td></tr><tr><td>4</td><td>&quot;48 Hrs&quot;</td><td>null</td><td>&quot;FADE IN:\r\n",
       "\r\n",
       "&nbsp;&nbsp;&nbsp;&nbsp;&nbsp;&nbsp;&nbsp;&nbsp;&nbsp;&nbsp;&nbsp;&nbsp;&nbsp;&nbsp;OPEN…</td><td>&quot;Action,Comedy,Thriller&quot;</td><td>&quot;Steven E. De Souza,Walter Hill…</td><td>&quot;48 Hrs&quot;</td><td>&quot;https://www.kaggle.com/dataset…</td></tr></tbody></table></div>"
      ],
      "text/plain": [
       "shape: (5, 8)\n",
       "┌───────┬────────────┬────────────┬────────────┬────────────┬────────────┬────────────┬────────────┐\n",
       "│ index ┆ movie_titl ┆ date       ┆ script     ┆ genre      ┆ writers    ┆ movie_titl ┆ dataset    │\n",
       "│ ---   ┆ e          ┆ ---        ┆ ---        ┆ ---        ┆ ---        ┆ e_alphabet ┆ ---        │\n",
       "│ u32   ┆ ---        ┆ date       ┆ str        ┆ str        ┆ str        ┆ ical       ┆ str        │\n",
       "│       ┆ str        ┆            ┆            ┆            ┆            ┆ ---        ┆            │\n",
       "│       ┆            ┆            ┆            ┆            ┆            ┆ str        ┆            │\n",
       "╞═══════╪════════════╪════════════╪════════════╪════════════╪════════════╪════════════╪════════════╡\n",
       "│ 0     ┆ 12 Angry   ┆ null       ┆ 1.         ┆ null       ┆ null       ┆ 12 Angry   ┆ Google     │\n",
       "│       ┆ Men        ┆            ┆ NOTE: The  ┆            ┆            ┆ Men        ┆ Search     │\n",
       "│       ┆            ┆            ┆ notes on   ┆            ┆            ┆            ┆            │\n",
       "│       ┆            ┆            ┆ characte…  ┆            ┆            ┆            ┆            │\n",
       "│ 1     ┆ 15 Minutes ┆ null       ┆ FADE IN\n",
       "   ┆ Action,Cri ┆ John       ┆ 15 Minutes ┆ https://ww │\n",
       "│       ┆            ┆            ┆ \n",
       "          ┆ me,Thrille ┆ Hertzfield ┆            ┆ w.kaggle.c │\n",
       "│       ┆            ┆            ┆ \ton the    ┆ r          ┆            ┆            ┆ om/dataset │\n",
       "│       ┆            ┆            ┆ words      ┆            ┆            ┆            ┆ …          │\n",
       "│       ┆            ┆            ┆ CZECH…     ┆            ┆            ┆            ┆            │\n",
       "│ 2     ┆ 2012       ┆ 2008-02-01 ┆ OVER       ┆ Action,Adv ┆ Roland Emm ┆ 2012       ┆ https://ww │\n",
       "│       ┆            ┆            ┆ BLACK\n",
       "     ┆ enture,Dra ┆ erich,Hara ┆            ┆ w.kaggle.c │\n",
       "│       ┆            ┆            ┆ \n",
       "          ┆ ma,Sci-Fi, ┆ ld Kloser  ┆            ┆ om/dataset │\n",
       "│       ┆            ┆            ┆       …    ┆ …          ┆            ┆            ┆ …          │\n",
       "│ 3     ┆ 30 Minutes ┆ 2009-12-01 ┆ The        ┆ Action,Adv ┆ Michael    ┆ 30 Minutes ┆ https://ww │\n",
       "│       ┆ or Less    ┆            ┆ following  ┆ enture,Com ┆ Diliberti, ┆ or Less    ┆ w.kaggle.c │\n",
       "│       ┆            ┆            ┆ is very    ┆ edy        ┆ Matthew    ┆            ┆ om/dataset │\n",
       "│       ┆            ┆            ┆ loosely …  ┆            ┆ Sull…      ┆            ┆ …          │\n",
       "│ 4     ┆ 48 Hrs     ┆ null       ┆ FADE IN:\n",
       "  ┆ Action,Com ┆ Steven E.  ┆ 48 Hrs     ┆ https://ww │\n",
       "│       ┆            ┆            ┆ \n",
       "          ┆ edy,Thrill ┆ De Souza,W ┆            ┆ w.kaggle.c │\n",
       "│       ┆            ┆            ┆ OPEN…      ┆ er         ┆ alter      ┆            ┆ om/dataset │\n",
       "│       ┆            ┆            ┆            ┆            ┆ Hill…      ┆            ┆ …          │\n",
       "└───────┴────────────┴────────────┴────────────┴────────────┴────────────┴────────────┴────────────┘"
      ]
     },
     "execution_count": 17,
     "metadata": {},
     "output_type": "execute_result"
    }
   ],
   "source": [
    "df_dropped = df.drop(pl.col(\n",
    "    \"sr.no\", \n",
    "    \"comma_count\", \n",
    "    \"script_length\", \n",
    "    \"fraction_commas\",\n",
    "    \"script_original\",\n",
    "    \"date_original\"\n",
    ")).with_columns(\n",
    "    dataset = pl.lit(\"https://www.kaggle.com/datasets/prasad22/the-internet-movie-script-dataset\")\n",
    ")\n",
    "add_out = add.drop(pl.col(\n",
    "    \"filepath\",\n",
    "    \"script_length\",\n",
    "    \"number_non_alphanumeric_chars\",\n",
    "    \"number_rare_chars\"\n",
    ")).with_columns(\n",
    "    writers = pl.lit(None).cast(pl.String),\n",
    "    genre = pl.lit(None).cast(pl.String),\n",
    "    date = pl.lit(None).cast(pl.Date),\n",
    "    dataset = pl.lit(\"Google Search\")\n",
    ").select(pl.col(df_dropped.columns))\n",
    "\n",
    "dfout = pl.concat([df_dropped, add_out])\\\n",
    "    .select(pl.col(\"movie_title\", \"date\", \"script\", \"genre\", \"writers\", \"movie_title_alphabetical\", \"dataset\"))\\\n",
    "    .sort(pl.col(\"movie_title_alphabetical\"))\\\n",
    "    .with_row_index()\n",
    "dfout.head()"
   ]
  },
  {
   "cell_type": "markdown",
   "metadata": {},
   "source": [
    "Check for duplicates\n",
    "\n",
    "**1 duplicate!**"
   ]
  },
  {
   "cell_type": "code",
   "execution_count": 18,
   "metadata": {},
   "outputs": [
    {
     "data": {
      "text/html": [
       "<div><style>\n",
       ".dataframe > thead > tr,\n",
       ".dataframe > tbody > tr {\n",
       "  text-align: right;\n",
       "  white-space: pre-wrap;\n",
       "}\n",
       "</style>\n",
       "<small>shape: (2, 9)</small><table border=\"1\" class=\"dataframe\"><thead><tr><th>index</th><th>movie_title</th><th>date</th><th>script</th><th>genre</th><th>writers</th><th>movie_title_alphabetical</th><th>dataset</th><th>collapsed_movie_title</th></tr><tr><td>u32</td><td>str</td><td>date</td><td>str</td><td>str</td><td>str</td><td>str</td><td>str</td><td>str</td></tr></thead><tbody><tr><td>20</td><td>&quot;Avengers Endgame&quot;</td><td>null</td><td>&quot;FOR YOUR CONSIDERATION\n",
       "BEST AD…</td><td>null</td><td>null</td><td>&quot;Avengers Endgame&quot;</td><td>&quot;Google Search&quot;</td><td>&quot;avengersendgame&quot;</td></tr><tr><td>21</td><td>&quot;Avengers: Endgame&quot;</td><td>2019-04-01</td><td>&quot;AVENGERS: ENDGAME\r\n",
       "\r\n",
       "\r\n",
       "\r\n",
       "\r\n",
       "&nbsp;&nbsp;&nbsp;…</td><td>&quot;Action,Adventure,Drama&quot;</td><td>&quot;Christopher Markus,Stephen McF…</td><td>&quot;Avengers: Endgame&quot;</td><td>&quot;https://www.kaggle.com/dataset…</td><td>&quot;avengersendgame&quot;</td></tr></tbody></table></div>"
      ],
      "text/plain": [
       "shape: (2, 9)\n",
       "┌───────┬────────────┬────────────┬────────────┬───┬───────────┬───────────┬───────────┬───────────┐\n",
       "│ index ┆ movie_titl ┆ date       ┆ script     ┆ … ┆ writers   ┆ movie_tit ┆ dataset   ┆ collapsed │\n",
       "│ ---   ┆ e          ┆ ---        ┆ ---        ┆   ┆ ---       ┆ le_alphab ┆ ---       ┆ _movie_ti │\n",
       "│ u32   ┆ ---        ┆ date       ┆ str        ┆   ┆ str       ┆ etical    ┆ str       ┆ tle       │\n",
       "│       ┆ str        ┆            ┆            ┆   ┆           ┆ ---       ┆           ┆ ---       │\n",
       "│       ┆            ┆            ┆            ┆   ┆           ┆ str       ┆           ┆ str       │\n",
       "╞═══════╪════════════╪════════════╪════════════╪═══╪═══════════╪═══════════╪═══════════╪═══════════╡\n",
       "│ 20    ┆ Avengers   ┆ null       ┆ FOR YOUR   ┆ … ┆ null      ┆ Avengers  ┆ Google    ┆ avengerse │\n",
       "│       ┆ Endgame    ┆            ┆ CONSIDERAT ┆   ┆           ┆ Endgame   ┆ Search    ┆ ndgame    │\n",
       "│       ┆            ┆            ┆ ION        ┆   ┆           ┆           ┆           ┆           │\n",
       "│       ┆            ┆            ┆ BEST AD…   ┆   ┆           ┆           ┆           ┆           │\n",
       "│ 21    ┆ Avengers:  ┆ 2019-04-01 ┆ AVENGERS:  ┆ … ┆ Christoph ┆ Avengers: ┆ https://w ┆ avengerse │\n",
       "│       ┆ Endgame    ┆            ┆ ENDGAME\n",
       "   ┆   ┆ er Markus ┆ Endgame   ┆ ww.kaggle ┆ ndgame    │\n",
       "│       ┆            ┆            ┆ \n",
       "          ┆   ┆ ,Stephen  ┆           ┆ .com/data ┆           │\n",
       "│       ┆            ┆            ┆ \n",
       "          ┆   ┆ McF…      ┆           ┆ set…      ┆           │\n",
       "│       ┆            ┆            ┆ \n",
       "          ┆   ┆           ┆           ┆           ┆           │\n",
       "│       ┆            ┆            ┆ \n",
       "          ┆   ┆           ┆           ┆           ┆           │\n",
       "│       ┆            ┆            ┆    …       ┆   ┆           ┆           ┆           ┆           │\n",
       "└───────┴────────────┴────────────┴────────────┴───┴───────────┴───────────┴───────────┴───────────┘"
      ]
     },
     "execution_count": 18,
     "metadata": {},
     "output_type": "execute_result"
    }
   ],
   "source": [
    "dfout = dfout.with_columns(\n",
    "    pl.col(\"movie_title\").str.to_lowercase().str.replace_all(r'[^a-z0-9]', \"\")\\\n",
    "        .alias(\"collapsed_movie_title\")\n",
    ")\n",
    "dfout.filter(pl.col(\"collapsed_movie_title\").is_duplicated())"
   ]
  },
  {
   "cell_type": "markdown",
   "metadata": {},
   "source": [
    "Let's keep the script from the google search, but the metadata of the kaggle dataset"
   ]
  },
  {
   "cell_type": "code",
   "execution_count": 19,
   "metadata": {},
   "outputs": [
    {
     "name": "stdout",
     "output_type": "stream",
     "text": [
      "153381\n",
      "34014\n"
     ]
    }
   ],
   "source": [
    "print(len(dfout[20, \"script\"]))\n",
    "print(len(dfout[21, \"script\"]))\n"
   ]
  },
  {
   "cell_type": "code",
   "execution_count": 20,
   "metadata": {},
   "outputs": [],
   "source": [
    "for column in [\"movie_title\", \"date\", \"genre\", \"writers\"]:\n",
    "    # copy over data\n",
    "    dfout[20, column] = dfout[21, column]\n",
    "\n",
    "# filter out the duplicate then reset row index\n",
    "dfout = dfout.filter(pl.col(\"index\") != 21).drop(pl.col(\"index\")).with_row_index()"
   ]
  },
  {
   "cell_type": "markdown",
   "metadata": {},
   "source": [
    "# Add Release Year\n",
    "\n",
    "We bring in an alternate data source to add the release year and genres to the rows where we are missing those values."
   ]
  },
  {
   "cell_type": "code",
   "execution_count": 21,
   "metadata": {},
   "outputs": [
    {
     "name": "stdout",
     "output_type": "stream",
     "text": [
      "4 movies still missing release year\n"
     ]
    }
   ],
   "source": [
    "imdb = pl.scan_csv(\"data/in/imdb-movie-dataset-title-basics.tsv\", \n",
    "    separator='\\t',\n",
    "    null_values = {\"startYear\": '\\\\N', \"endYear\": '\\\\N'},\n",
    "    quote_char=None,\n",
    "    schema_overrides={\n",
    "        \"titleType\": pl.String,\n",
    "        \"primaryTitle\": pl.String,\n",
    "        \"originalTitle\": pl.String,\n",
    "        \"startYear\": pl.Int16,\n",
    "        \"endYear\": pl.Int16,\n",
    "        \"genres\": pl.String,\n",
    "        \"runtimeMinutes\": pl.Int32\n",
    "    },\n",
    "    ignore_errors=True\n",
    ")\n",
    "\n",
    "imdb_filtered_joinable = imdb.filter(\n",
    "    (pl.col(\"titleType\").str.to_lowercase() == pl.lit(\"movie\")) & \\\n",
    "    (pl.col(\"startYear\").is_not_null())\n",
    ").with_columns(\n",
    "    pl.col(\"primaryTitle\").cast(pl.String, strict=False).str.to_lowercase()\n",
    "    .str.replace_all(r'[\\.\\:\\-\\_\\(\\)]', ' ').str.replace_all(r'\\s+', ' ')\n",
    "    .alias(\"join_movie_title\")\n",
    ").collect()\n",
    "\n",
    "dfx = dfout.filter(pl.col(\"date\").is_null() | pl.col(\"genre\").is_null())\\\n",
    "    .with_columns(\n",
    "        pl.col(\"movie_title\").str.to_lowercase()\n",
    "        .str.replace_all(r'[\\.\\:\\-\\_\\(\\)]', ' ').str.replace_all(r'\\s+', ' ')\n",
    "        .alias(\"join_movie_title\")\n",
    "    ).join(\n",
    "        imdb_filtered_joinable,\n",
    "        on = \"join_movie_title\",\n",
    "        how=\"left\"\n",
    "    )\n",
    "\n",
    "print(\n",
    "    dfx[\"startYear\"].is_null().sum(),\n",
    "    \"movies still missing release year\"\n",
    ")"
   ]
  },
  {
   "cell_type": "code",
   "execution_count": 31,
   "metadata": {},
   "outputs": [
    {
     "name": "stdout",
     "output_type": "stream",
     "text": [
      "18  individual movies with duplicate joins\n",
      "67  total duplicates\n"
     ]
    },
    {
     "data": {
      "text/html": [
       "<div><style>\n",
       ".dataframe > thead > tr,\n",
       ".dataframe > tbody > tr {\n",
       "  text-align: right;\n",
       "  white-space: pre-wrap;\n",
       "}\n",
       "</style>\n",
       "<small>shape: (5, 7)</small><table border=\"1\" class=\"dataframe\"><thead><tr><th>movie_title</th><th>primaryTitle</th><th>startYear</th><th>date</th><th>titleType</th><th>genres</th><th>dataset</th></tr><tr><td>str</td><td>str</td><td>i16</td><td>date</td><td>str</td><td>str</td><td>str</td></tr></thead><tbody><tr><td>&quot;15 Minutes&quot;</td><td>&quot;15 Minutes&quot;</td><td>1997</td><td>null</td><td>&quot;movie&quot;</td><td>&quot;\\N&quot;</td><td>&quot;https://www.kaggle.com/dataset…</td></tr><tr><td>&quot;15 Minutes&quot;</td><td>&quot;15 Minutes&quot;</td><td>2001</td><td>null</td><td>&quot;movie&quot;</td><td>&quot;Action,Crime,Drama&quot;</td><td>&quot;https://www.kaggle.com/dataset…</td></tr><tr><td>&quot;All Quiet On The Western Front&quot;</td><td>&quot;All Quiet on the Western Front&quot;</td><td>1930</td><td>null</td><td>&quot;movie&quot;</td><td>&quot;Drama,War&quot;</td><td>&quot;Google Search&quot;</td></tr><tr><td>&quot;All Quiet On The Western Front&quot;</td><td>&quot;All Quiet on the Western Front&quot;</td><td>2022</td><td>null</td><td>&quot;movie&quot;</td><td>&quot;Drama,History,War&quot;</td><td>&quot;Google Search&quot;</td></tr><tr><td>&quot;Amsterdam&quot;</td><td>&quot;Amsterdam&quot;</td><td>2013</td><td>null</td><td>&quot;movie&quot;</td><td>&quot;Thriller&quot;</td><td>&quot;Google Search&quot;</td></tr></tbody></table></div>"
      ],
      "text/plain": [
       "shape: (5, 7)\n",
       "┌────────────────┬────────────────┬───────────┬──────┬───────────┬────────────────┬────────────────┐\n",
       "│ movie_title    ┆ primaryTitle   ┆ startYear ┆ date ┆ titleType ┆ genres         ┆ dataset        │\n",
       "│ ---            ┆ ---            ┆ ---       ┆ ---  ┆ ---       ┆ ---            ┆ ---            │\n",
       "│ str            ┆ str            ┆ i16       ┆ date ┆ str       ┆ str            ┆ str            │\n",
       "╞════════════════╪════════════════╪═══════════╪══════╪═══════════╪════════════════╪════════════════╡\n",
       "│ 15 Minutes     ┆ 15 Minutes     ┆ 1997      ┆ null ┆ movie     ┆ \\N             ┆ https://www.ka │\n",
       "│                ┆                ┆           ┆      ┆           ┆                ┆ ggle.com/datas │\n",
       "│                ┆                ┆           ┆      ┆           ┆                ┆ et…            │\n",
       "│ 15 Minutes     ┆ 15 Minutes     ┆ 2001      ┆ null ┆ movie     ┆ Action,Crime,D ┆ https://www.ka │\n",
       "│                ┆                ┆           ┆      ┆           ┆ rama           ┆ ggle.com/datas │\n",
       "│                ┆                ┆           ┆      ┆           ┆                ┆ et…            │\n",
       "│ All Quiet On   ┆ All Quiet on   ┆ 1930      ┆ null ┆ movie     ┆ Drama,War      ┆ Google Search  │\n",
       "│ The Western    ┆ the Western    ┆           ┆      ┆           ┆                ┆                │\n",
       "│ Front          ┆ Front          ┆           ┆      ┆           ┆                ┆                │\n",
       "│ All Quiet On   ┆ All Quiet on   ┆ 2022      ┆ null ┆ movie     ┆ Drama,History, ┆ Google Search  │\n",
       "│ The Western    ┆ the Western    ┆           ┆      ┆           ┆ War            ┆                │\n",
       "│ Front          ┆ Front          ┆           ┆      ┆           ┆                ┆                │\n",
       "│ Amsterdam      ┆ Amsterdam      ┆ 2013      ┆ null ┆ movie     ┆ Thriller       ┆ Google Search  │\n",
       "└────────────────┴────────────────┴───────────┴──────┴───────────┴────────────────┴────────────────┘"
      ]
     },
     "metadata": {},
     "output_type": "display_data"
    }
   ],
   "source": [
    "dupd = dfx.filter(pl.col(\"index\").is_duplicated()).sort(pl.col(\"index\", \"startYear\"))\n",
    "\n",
    "print(len(set(dupd[\"index\"])), \" individual movies with duplicate joins\")\n",
    "\n",
    "print(dupd.shape[0], \" total duplicates\")\n",
    "\n",
    "display(\n",
    "    dupd.select(pl.col(\"movie_title\", \"primaryTitle\", \"startYear\", \"date\", \"titleType\", \"genres\", \"dataset\")).head()\n",
    ")"
   ]
  },
  {
   "cell_type": "code",
   "execution_count": 32,
   "metadata": {},
   "outputs": [
    {
     "data": {
      "text/plain": [
       "(57, 20)"
      ]
     },
     "execution_count": 32,
     "metadata": {},
     "output_type": "execute_result"
    }
   ],
   "source": [
    "correct = {\n",
    "    \"All Quiet On The Western Front\": 2022,\n",
    "    \"Amsterdam\": 2022,\n",
    "    \"15 Minutes\": 2001,\n",
    "    \"Avatar\": 2009,\n",
    "    \"Barbie\": 2023,\n",
    "    \"Elemental\": 2023,\n",
    "    \"Elvis\": 2022,\n",
    "    \"Fight Club\": 1999,\n",
    "    \"Harry Potter and the Half Blood Prince\": 2009,\n",
    "    \"Inception\": 2010,\n",
    "    \"Inside Out\": 2015,\n",
    "    \"It's a Wonderful Life\": 1946,\n",
    "    \"The Lord of the Rings The Fellowship of the Ring\": 2001,\n",
    "    \"Luca\": 2021,\n",
    "    \"Pinocchio\": 2022,\n",
    "    \"Star Wars Episode V The Empire Strikes Back\": 1980,\n",
    "    \"Top Gun\": 1986\n",
    "}\n",
    "\n",
    "dfxc = dfx.with_columns(\n",
    "    correct = pl.col(\"movie_title\").replace_strict(correct, default=-1) \\\n",
    "        == pl.col(\"startYear\")\n",
    ").filter(\n",
    "    ~pl.col(\"index\").is_duplicated() | pl.col(\"correct\")\n",
    ")\n",
    "dfxc.shape"
   ]
  },
  {
   "cell_type": "code",
   "execution_count": 46,
   "metadata": {},
   "outputs": [],
   "source": [
    "dfoutx = dfout.join(\n",
    "    dfxc.select(\"index\", \"startYear\", \"genres\"),\n",
    "    how=\"left\",\n",
    "    on=\"index\"\n",
    ").with_columns(\n",
    "    year_from_date = pl.col(\"date\").dt.year()\n",
    ").with_columns(\n",
    "    year = pl.coalesce([\"year_from_date\", \"startYear\"])\n",
    ").drop(pl.col(\"year_from_date\", \"startYear\"))"
   ]
  },
  {
   "cell_type": "code",
   "execution_count": 53,
   "metadata": {},
   "outputs": [
    {
     "data": {
      "text/html": [
       "<div><style>\n",
       ".dataframe > thead > tr,\n",
       ".dataframe > tbody > tr {\n",
       "  text-align: right;\n",
       "  white-space: pre-wrap;\n",
       "}\n",
       "</style>\n",
       "<small>shape: (5, 2)</small><table border=\"1\" class=\"dataframe\"><thead><tr><th>index</th><th>movie_title</th></tr><tr><td>u32</td><td>str</td></tr></thead><tbody><tr><td>4</td><td>&quot;48 Hrs&quot;</td></tr><tr><td>32</td><td>&quot;Cidade de Deus (City of God)&quot;</td></tr><tr><td>49</td><td>&quot;Gladiator 2&quot;</td></tr><tr><td>70</td><td>&quot;The Lord of the Rings The Retu…</td></tr><tr><td>104</td><td>&quot;Transformers: The Movie&quot;</td></tr></tbody></table></div>"
      ],
      "text/plain": [
       "shape: (5, 2)\n",
       "┌───────┬─────────────────────────────────┐\n",
       "│ index ┆ movie_title                     │\n",
       "│ ---   ┆ ---                             │\n",
       "│ u32   ┆ str                             │\n",
       "╞═══════╪═════════════════════════════════╡\n",
       "│ 4     ┆ 48 Hrs                          │\n",
       "│ 32    ┆ Cidade de Deus (City of God)    │\n",
       "│ 49    ┆ Gladiator 2                     │\n",
       "│ 70    ┆ The Lord of the Rings The Retu… │\n",
       "│ 104   ┆ Transformers: The Movie         │\n",
       "└───────┴─────────────────────────────────┘"
      ]
     },
     "metadata": {},
     "output_type": "display_data"
    }
   ],
   "source": [
    "display(\n",
    "    dfoutx.filter(pl.col(\"year\").is_null()).select(pl.col(\"index\", \"movie_title\"))\n",
    ")\n",
    "\n",
    "manual_additions = [\n",
    "    (4, 1982),\n",
    "    (32, 2002),\n",
    "    (49, 2024),\n",
    "    (70, 2003),\n",
    "    (104, 1986),\n",
    "]\n",
    "\n",
    "for idx, year in manual_additions:\n",
    "    dfoutx[idx, \"year\"] = year"
   ]
  },
  {
   "cell_type": "code",
   "execution_count": 91,
   "metadata": {},
   "outputs": [
    {
     "name": "stderr",
     "output_type": "stream",
     "text": [
      "sys:1: MapWithoutReturnDtypeWarning: Calling `map_elements` without specifying `return_dtype` can lead to unpredictable results. Specify `return_dtype` to silence this warning.\n"
     ]
    }
   ],
   "source": [
    "dfoutx = dfoutx.with_columns(\n",
    "    pl.concat_str([pl.col(\"genre\"), pl.lit(\",\"), pl.col(\"genres\")], ignore_nulls=True)\n",
    "    .str.replace_all(r'[^A-z\\,]', \"\")\n",
    "    .str.replace_all(r'^,|,$', \"\")\n",
    "    .str.split(\",\").map_elements(lambda x: list(set(x)))\n",
    "    .list.sort()\n",
    "    .list.join(\",\")\n",
    "    .replace(\"\", None)\n",
    "    .alias(\"genre\")\n",
    ")\\\n",
    "    .drop(\"genres\")"
   ]
  },
  {
   "cell_type": "code",
   "execution_count": 94,
   "metadata": {},
   "outputs": [],
   "source": [
    "dfoutx.write_parquet(\"data/out/movie-script-dataset.parquet\")"
   ]
  }
 ],
 "metadata": {
  "kernelspec": {
   "display_name": "venv",
   "language": "python",
   "name": "python3"
  },
  "language_info": {
   "codemirror_mode": {
    "name": "ipython",
    "version": 3
   },
   "file_extension": ".py",
   "mimetype": "text/x-python",
   "name": "python",
   "nbconvert_exporter": "python",
   "pygments_lexer": "ipython3",
   "version": "3.12.8"
  }
 },
 "nbformat": 4,
 "nbformat_minor": 2
}
